{
 "cells": [
  {
   "cell_type": "markdown",
   "metadata": {
    "colab_type": "text",
    "id": "view-in-github"
   },
   "source": [
    "<a href=\"https://colab.research.google.com/github/Alphaomegainfinity/Project-4_Car_Price_Predictor/blob/main/car_price_predictor_test7.ipynb\" target=\"_parent\"><img src=\"https://colab.research.google.com/assets/colab-badge.svg\" alt=\"Open In Colab\"/></a>"
   ]
  },
  {
   "cell_type": "markdown",
   "metadata": {
    "id": "Aj9rl3NI71qg"
   },
   "source": [
    "## **Import and Cleaning Data**"
   ]
  },
  {
   "cell_type": "code",
   "execution_count": 2,
   "metadata": {
    "colab": {
     "base_uri": "https://localhost:8080/"
    },
    "id": "JZ3jhZ-odx1S",
    "outputId": "715340fa-4c08-4190-899f-18e6eceaa8c7"
   },
   "outputs": [
    {
     "name": "stdout",
     "output_type": "stream",
     "text": [
      "Requirement already satisfied: tensorflow in /usr/local/python/3.10.4/lib/python3.10/site-packages (2.11.0)\n",
      "Requirement already satisfied: absl-py>=1.0.0 in /usr/local/python/3.10.4/lib/python3.10/site-packages (from tensorflow) (1.4.0)\n",
      "Requirement already satisfied: wrapt>=1.11.0 in /usr/local/python/3.10.4/lib/python3.10/site-packages (from tensorflow) (1.14.1)\n",
      "Requirement already satisfied: opt-einsum>=2.3.2 in /usr/local/python/3.10.4/lib/python3.10/site-packages (from tensorflow) (3.3.0)\n",
      "Requirement already satisfied: six>=1.12.0 in /home/codespace/.local/lib/python3.10/site-packages (from tensorflow) (1.16.0)\n",
      "Requirement already satisfied: tensorboard<2.12,>=2.11 in /usr/local/python/3.10.4/lib/python3.10/site-packages (from tensorflow) (2.11.2)\n",
      "Requirement already satisfied: protobuf<3.20,>=3.9.2 in /usr/local/python/3.10.4/lib/python3.10/site-packages (from tensorflow) (3.19.6)\n",
      "Requirement already satisfied: keras<2.12,>=2.11.0 in /usr/local/python/3.10.4/lib/python3.10/site-packages (from tensorflow) (2.11.0)\n",
      "Requirement already satisfied: numpy>=1.20 in /home/codespace/.local/lib/python3.10/site-packages (from tensorflow) (1.24.1)\n",
      "Requirement already satisfied: gast<=0.4.0,>=0.2.1 in /usr/local/python/3.10.4/lib/python3.10/site-packages (from tensorflow) (0.4.0)\n",
      "Requirement already satisfied: typing-extensions>=3.6.6 in /home/codespace/.local/lib/python3.10/site-packages (from tensorflow) (4.4.0)\n",
      "Requirement already satisfied: tensorflow-estimator<2.12,>=2.11.0 in /usr/local/python/3.10.4/lib/python3.10/site-packages (from tensorflow) (2.11.0)\n",
      "Requirement already satisfied: setuptools in /usr/local/python/3.10.4/lib/python3.10/site-packages (from tensorflow) (58.1.0)\n",
      "Requirement already satisfied: flatbuffers>=2.0 in /usr/local/python/3.10.4/lib/python3.10/site-packages (from tensorflow) (23.1.21)\n",
      "Requirement already satisfied: tensorflow-io-gcs-filesystem>=0.23.1 in /usr/local/python/3.10.4/lib/python3.10/site-packages (from tensorflow) (0.30.0)\n",
      "Requirement already satisfied: astunparse>=1.6.0 in /usr/local/python/3.10.4/lib/python3.10/site-packages (from tensorflow) (1.6.3)\n",
      "Requirement already satisfied: google-pasta>=0.1.1 in /usr/local/python/3.10.4/lib/python3.10/site-packages (from tensorflow) (0.2.0)\n",
      "Requirement already satisfied: h5py>=2.9.0 in /usr/local/python/3.10.4/lib/python3.10/site-packages (from tensorflow) (3.8.0)\n",
      "Requirement already satisfied: packaging in /home/codespace/.local/lib/python3.10/site-packages (from tensorflow) (23.0)\n",
      "Requirement already satisfied: termcolor>=1.1.0 in /usr/local/python/3.10.4/lib/python3.10/site-packages (from tensorflow) (2.2.0)\n",
      "Requirement already satisfied: grpcio<2.0,>=1.24.3 in /usr/local/python/3.10.4/lib/python3.10/site-packages (from tensorflow) (1.51.1)\n",
      "Requirement already satisfied: libclang>=13.0.0 in /usr/local/python/3.10.4/lib/python3.10/site-packages (from tensorflow) (15.0.6.1)\n",
      "Requirement already satisfied: wheel<1.0,>=0.23.0 in /home/codespace/.local/lib/python3.10/site-packages (from astunparse>=1.6.0->tensorflow) (0.38.4)\n",
      "Requirement already satisfied: google-auth-oauthlib<0.5,>=0.4.1 in /usr/local/python/3.10.4/lib/python3.10/site-packages (from tensorboard<2.12,>=2.11->tensorflow) (0.4.6)\n",
      "Requirement already satisfied: tensorboard-plugin-wit>=1.6.0 in /usr/local/python/3.10.4/lib/python3.10/site-packages (from tensorboard<2.12,>=2.11->tensorflow) (1.8.1)\n",
      "Requirement already satisfied: google-auth<3,>=1.6.3 in /usr/local/python/3.10.4/lib/python3.10/site-packages (from tensorboard<2.12,>=2.11->tensorflow) (2.16.0)\n",
      "Requirement already satisfied: tensorboard-data-server<0.7.0,>=0.6.0 in /usr/local/python/3.10.4/lib/python3.10/site-packages (from tensorboard<2.12,>=2.11->tensorflow) (0.6.1)\n",
      "Requirement already satisfied: werkzeug>=1.0.1 in /usr/local/python/3.10.4/lib/python3.10/site-packages (from tensorboard<2.12,>=2.11->tensorflow) (2.2.2)\n",
      "Requirement already satisfied: markdown>=2.6.8 in /usr/local/python/3.10.4/lib/python3.10/site-packages (from tensorboard<2.12,>=2.11->tensorflow) (3.4.1)\n",
      "Requirement already satisfied: requests<3,>=2.21.0 in /home/codespace/.local/lib/python3.10/site-packages (from tensorboard<2.12,>=2.11->tensorflow) (2.28.2)\n",
      "Requirement already satisfied: rsa<5,>=3.1.4 in /usr/local/python/3.10.4/lib/python3.10/site-packages (from google-auth<3,>=1.6.3->tensorboard<2.12,>=2.11->tensorflow) (4.9)\n",
      "Requirement already satisfied: pyasn1-modules>=0.2.1 in /usr/local/python/3.10.4/lib/python3.10/site-packages (from google-auth<3,>=1.6.3->tensorboard<2.12,>=2.11->tensorflow) (0.2.8)\n",
      "Requirement already satisfied: cachetools<6.0,>=2.0.0 in /usr/local/python/3.10.4/lib/python3.10/site-packages (from google-auth<3,>=1.6.3->tensorboard<2.12,>=2.11->tensorflow) (5.3.0)\n",
      "Requirement already satisfied: requests-oauthlib>=0.7.0 in /usr/local/python/3.10.4/lib/python3.10/site-packages (from google-auth-oauthlib<0.5,>=0.4.1->tensorboard<2.12,>=2.11->tensorflow) (1.3.1)\n",
      "Requirement already satisfied: certifi>=2017.4.17 in /home/codespace/.local/lib/python3.10/site-packages (from requests<3,>=2.21.0->tensorboard<2.12,>=2.11->tensorflow) (2022.12.7)\n",
      "Requirement already satisfied: charset-normalizer<4,>=2 in /home/codespace/.local/lib/python3.10/site-packages (from requests<3,>=2.21.0->tensorboard<2.12,>=2.11->tensorflow) (3.0.1)\n",
      "Requirement already satisfied: idna<4,>=2.5 in /home/codespace/.local/lib/python3.10/site-packages (from requests<3,>=2.21.0->tensorboard<2.12,>=2.11->tensorflow) (3.4)\n",
      "Requirement already satisfied: urllib3<1.27,>=1.21.1 in /home/codespace/.local/lib/python3.10/site-packages (from requests<3,>=2.21.0->tensorboard<2.12,>=2.11->tensorflow) (1.26.14)\n",
      "Requirement already satisfied: MarkupSafe>=2.1.1 in /home/codespace/.local/lib/python3.10/site-packages (from werkzeug>=1.0.1->tensorboard<2.12,>=2.11->tensorflow) (2.1.2)\n",
      "Requirement already satisfied: pyasn1<0.5.0,>=0.4.6 in /usr/local/python/3.10.4/lib/python3.10/site-packages (from pyasn1-modules>=0.2.1->google-auth<3,>=1.6.3->tensorboard<2.12,>=2.11->tensorflow) (0.4.8)\n",
      "Requirement already satisfied: oauthlib>=3.0.0 in /usr/local/python/3.10.4/lib/python3.10/site-packages (from requests-oauthlib>=0.7.0->google-auth-oauthlib<0.5,>=0.4.1->tensorboard<2.12,>=2.11->tensorflow) (3.2.2)\n"
     ]
    }
   ],
   "source": [
    "!pip install tensorflow"
   ]
  },
  {
   "cell_type": "code",
   "execution_count": 1,
   "metadata": {
    "id": "HeftUoZhK0XH"
   },
   "outputs": [],
   "source": [
    "# Import our dependencies\n",
    "from sklearn.model_selection import train_test_split\n",
    "from sklearn.preprocessing import StandardScaler\n",
    "from sklearn.metrics import accuracy_score\n",
    "from sklearn.ensemble import ExtraTreesClassifier\n",
    "import matplotlib.pyplot as plt\n",
    "import sklearn as skl\n",
    "import pandas as pd\n",
    "import tensorflow as tf\n",
    "import json\n",
    "import seaborn as sns\n",
    "import matplotlib.pyplot as plt\n",
    "\n",
    "# Data preprocessing\n",
    "from sklearn.linear_model import LinearRegression\n",
    "from sklearn.neighbors import KNeighborsRegressor\n",
    "from sklearn.ensemble import RandomForestRegressor, ExtraTreesRegressor, AdaBoostRegressor\n",
    "from sklearn.svm import SVR\n",
    "\n",
    "from sklearn.metrics import mean_absolute_error\n",
    "\n",
    "from sklearn.preprocessing import MinMaxScaler\n",
    "\n",
    "# Neural Net modules\n",
    "from keras.models import Sequential\n",
    "from keras.layers import Dense, Dropout\n",
    "from keras.callbacks import EarlyStopping\n",
    "import numpy as np"
   ]
  },
  {
   "cell_type": "code",
   "execution_count": 2,
   "metadata": {
    "colab": {
     "base_uri": "https://localhost:8080/",
     "height": 206
    },
    "id": "x9z2xRo50UpY",
    "outputId": "83da5292-40d8-4950-8ff0-c7cd7342cf76"
   },
   "outputs": [
    {
     "data": {
      "text/html": [
       "<div>\n",
       "<style scoped>\n",
       "    .dataframe tbody tr th:only-of-type {\n",
       "        vertical-align: middle;\n",
       "    }\n",
       "\n",
       "    .dataframe tbody tr th {\n",
       "        vertical-align: top;\n",
       "    }\n",
       "\n",
       "    .dataframe thead th {\n",
       "        text-align: right;\n",
       "    }\n",
       "</style>\n",
       "<table border=\"1\" class=\"dataframe\">\n",
       "  <thead>\n",
       "    <tr style=\"text-align: right;\">\n",
       "      <th></th>\n",
       "      <th>name</th>\n",
       "      <th>year</th>\n",
       "      <th>selling_price</th>\n",
       "      <th>km_driven</th>\n",
       "      <th>fuel</th>\n",
       "      <th>seller_type</th>\n",
       "      <th>transmission</th>\n",
       "      <th>owner</th>\n",
       "      <th>mileage</th>\n",
       "      <th>engine</th>\n",
       "      <th>max_power</th>\n",
       "      <th>torque</th>\n",
       "      <th>seats</th>\n",
       "    </tr>\n",
       "  </thead>\n",
       "  <tbody>\n",
       "    <tr>\n",
       "      <th>0</th>\n",
       "      <td>Maruti Swift Dzire VDI</td>\n",
       "      <td>2014</td>\n",
       "      <td>450000</td>\n",
       "      <td>145500</td>\n",
       "      <td>Diesel</td>\n",
       "      <td>Individual</td>\n",
       "      <td>Manual</td>\n",
       "      <td>First Owner</td>\n",
       "      <td>23.4 kmpl</td>\n",
       "      <td>1248 CC</td>\n",
       "      <td>74 bhp</td>\n",
       "      <td>190Nm@ 2000rpm</td>\n",
       "      <td>5.0</td>\n",
       "    </tr>\n",
       "    <tr>\n",
       "      <th>1</th>\n",
       "      <td>Skoda Rapid 1.5 TDI Ambition</td>\n",
       "      <td>2014</td>\n",
       "      <td>370000</td>\n",
       "      <td>120000</td>\n",
       "      <td>Diesel</td>\n",
       "      <td>Individual</td>\n",
       "      <td>Manual</td>\n",
       "      <td>Second Owner</td>\n",
       "      <td>21.14 kmpl</td>\n",
       "      <td>1498 CC</td>\n",
       "      <td>103.52 bhp</td>\n",
       "      <td>250Nm@ 1500-2500rpm</td>\n",
       "      <td>5.0</td>\n",
       "    </tr>\n",
       "    <tr>\n",
       "      <th>2</th>\n",
       "      <td>Honda City 2017-2020 EXi</td>\n",
       "      <td>2006</td>\n",
       "      <td>158000</td>\n",
       "      <td>140000</td>\n",
       "      <td>Petrol</td>\n",
       "      <td>Individual</td>\n",
       "      <td>Manual</td>\n",
       "      <td>Third Owner</td>\n",
       "      <td>17.7 kmpl</td>\n",
       "      <td>1497 CC</td>\n",
       "      <td>78 bhp</td>\n",
       "      <td>12.7@ 2,700(kgm@ rpm)</td>\n",
       "      <td>5.0</td>\n",
       "    </tr>\n",
       "    <tr>\n",
       "      <th>3</th>\n",
       "      <td>Hyundai i20 Sportz Diesel</td>\n",
       "      <td>2010</td>\n",
       "      <td>225000</td>\n",
       "      <td>127000</td>\n",
       "      <td>Diesel</td>\n",
       "      <td>Individual</td>\n",
       "      <td>Manual</td>\n",
       "      <td>First Owner</td>\n",
       "      <td>23.0 kmpl</td>\n",
       "      <td>1396 CC</td>\n",
       "      <td>90 bhp</td>\n",
       "      <td>22.4 kgm at 1750-2750rpm</td>\n",
       "      <td>5.0</td>\n",
       "    </tr>\n",
       "    <tr>\n",
       "      <th>4</th>\n",
       "      <td>Maruti Swift VXI BSIII</td>\n",
       "      <td>2007</td>\n",
       "      <td>130000</td>\n",
       "      <td>120000</td>\n",
       "      <td>Petrol</td>\n",
       "      <td>Individual</td>\n",
       "      <td>Manual</td>\n",
       "      <td>First Owner</td>\n",
       "      <td>16.1 kmpl</td>\n",
       "      <td>1298 CC</td>\n",
       "      <td>88.2 bhp</td>\n",
       "      <td>11.5@ 4,500(kgm@ rpm)</td>\n",
       "      <td>5.0</td>\n",
       "    </tr>\n",
       "  </tbody>\n",
       "</table>\n",
       "</div>"
      ],
      "text/plain": [
       "                           name  year  selling_price  km_driven    fuel  \\\n",
       "0        Maruti Swift Dzire VDI  2014         450000     145500  Diesel   \n",
       "1  Skoda Rapid 1.5 TDI Ambition  2014         370000     120000  Diesel   \n",
       "2      Honda City 2017-2020 EXi  2006         158000     140000  Petrol   \n",
       "3     Hyundai i20 Sportz Diesel  2010         225000     127000  Diesel   \n",
       "4        Maruti Swift VXI BSIII  2007         130000     120000  Petrol   \n",
       "\n",
       "  seller_type transmission         owner     mileage   engine   max_power  \\\n",
       "0  Individual       Manual   First Owner   23.4 kmpl  1248 CC      74 bhp   \n",
       "1  Individual       Manual  Second Owner  21.14 kmpl  1498 CC  103.52 bhp   \n",
       "2  Individual       Manual   Third Owner   17.7 kmpl  1497 CC      78 bhp   \n",
       "3  Individual       Manual   First Owner   23.0 kmpl  1396 CC      90 bhp   \n",
       "4  Individual       Manual   First Owner   16.1 kmpl  1298 CC    88.2 bhp   \n",
       "\n",
       "                     torque  seats  \n",
       "0            190Nm@ 2000rpm    5.0  \n",
       "1       250Nm@ 1500-2500rpm    5.0  \n",
       "2     12.7@ 2,700(kgm@ rpm)    5.0  \n",
       "3  22.4 kgm at 1750-2750rpm    5.0  \n",
       "4     11.5@ 4,500(kgm@ rpm)    5.0  "
      ]
     },
     "execution_count": 2,
     "metadata": {},
     "output_type": "execute_result"
    }
   ],
   "source": [
    "# Import our input dataset\n",
    "car_df = pd.read_csv('https://raw.githubusercontent.com/Alphaomegainfinity/Project-4_Car_Price_Predictor/main/Resources/Car%20details%20v3.csv')\n",
    "car_df.head()\n",
    "\n"
   ]
  },
  {
   "cell_type": "code",
   "execution_count": 3,
   "metadata": {
    "colab": {
     "base_uri": "https://localhost:8080/"
    },
    "id": "jQ2u5HIO2LPT",
    "outputId": "a013a1d9-f09f-4405-a4c5-3adce4d773f8"
   },
   "outputs": [
    {
     "data": {
      "text/plain": [
       "(8128, 13)"
      ]
     },
     "execution_count": 3,
     "metadata": {},
     "output_type": "execute_result"
    }
   ],
   "source": [
    "# Check shape of dataframe\n",
    "car_df.shape"
   ]
  },
  {
   "cell_type": "code",
   "execution_count": 4,
   "metadata": {
    "colab": {
     "base_uri": "https://localhost:8080/"
    },
    "id": "fkdxUe413hBK",
    "outputId": "47de4ed9-d21f-4fca-b3c5-125e3cfe6860"
   },
   "outputs": [
    {
     "name": "stdout",
     "output_type": "stream",
     "text": [
      "<class 'pandas.core.frame.DataFrame'>\n",
      "RangeIndex: 8128 entries, 0 to 8127\n",
      "Data columns (total 13 columns):\n",
      " #   Column         Non-Null Count  Dtype  \n",
      "---  ------         --------------  -----  \n",
      " 0   name           8128 non-null   object \n",
      " 1   year           8128 non-null   int64  \n",
      " 2   selling_price  8128 non-null   int64  \n",
      " 3   km_driven      8128 non-null   int64  \n",
      " 4   fuel           8128 non-null   object \n",
      " 5   seller_type    8128 non-null   object \n",
      " 6   transmission   8128 non-null   object \n",
      " 7   owner          8128 non-null   object \n",
      " 8   mileage        7907 non-null   object \n",
      " 9   engine         7907 non-null   object \n",
      " 10  max_power      7913 non-null   object \n",
      " 11  torque         7906 non-null   object \n",
      " 12  seats          7907 non-null   float64\n",
      "dtypes: float64(1), int64(3), object(9)\n",
      "memory usage: 825.6+ KB\n"
     ]
    }
   ],
   "source": [
    "# Check info of dataframe\n",
    "car_df.info()"
   ]
  },
  {
   "cell_type": "code",
   "execution_count": 5,
   "metadata": {
    "colab": {
     "base_uri": "https://localhost:8080/",
     "height": 423
    },
    "id": "8_4QH7MX3-16",
    "outputId": "2ce57e97-72ba-468b-cbe3-106546ba2f45"
   },
   "outputs": [
    {
     "data": {
      "text/html": [
       "<div>\n",
       "<style scoped>\n",
       "    .dataframe tbody tr th:only-of-type {\n",
       "        vertical-align: middle;\n",
       "    }\n",
       "\n",
       "    .dataframe tbody tr th {\n",
       "        vertical-align: top;\n",
       "    }\n",
       "\n",
       "    .dataframe thead th {\n",
       "        text-align: right;\n",
       "    }\n",
       "</style>\n",
       "<table border=\"1\" class=\"dataframe\">\n",
       "  <thead>\n",
       "    <tr style=\"text-align: right;\">\n",
       "      <th></th>\n",
       "      <th>year</th>\n",
       "      <th>selling_price</th>\n",
       "      <th>km_driven</th>\n",
       "      <th>fuel</th>\n",
       "      <th>seller_type</th>\n",
       "      <th>transmission</th>\n",
       "      <th>owner</th>\n",
       "      <th>mileage</th>\n",
       "      <th>engine</th>\n",
       "      <th>max_power</th>\n",
       "      <th>seats</th>\n",
       "    </tr>\n",
       "  </thead>\n",
       "  <tbody>\n",
       "    <tr>\n",
       "      <th>0</th>\n",
       "      <td>2014</td>\n",
       "      <td>450000</td>\n",
       "      <td>145500</td>\n",
       "      <td>Diesel</td>\n",
       "      <td>Individual</td>\n",
       "      <td>Manual</td>\n",
       "      <td>First Owner</td>\n",
       "      <td>23.4 kmpl</td>\n",
       "      <td>1248 CC</td>\n",
       "      <td>74 bhp</td>\n",
       "      <td>5.0</td>\n",
       "    </tr>\n",
       "    <tr>\n",
       "      <th>1</th>\n",
       "      <td>2014</td>\n",
       "      <td>370000</td>\n",
       "      <td>120000</td>\n",
       "      <td>Diesel</td>\n",
       "      <td>Individual</td>\n",
       "      <td>Manual</td>\n",
       "      <td>Second Owner</td>\n",
       "      <td>21.14 kmpl</td>\n",
       "      <td>1498 CC</td>\n",
       "      <td>103.52 bhp</td>\n",
       "      <td>5.0</td>\n",
       "    </tr>\n",
       "    <tr>\n",
       "      <th>2</th>\n",
       "      <td>2006</td>\n",
       "      <td>158000</td>\n",
       "      <td>140000</td>\n",
       "      <td>Petrol</td>\n",
       "      <td>Individual</td>\n",
       "      <td>Manual</td>\n",
       "      <td>Third Owner</td>\n",
       "      <td>17.7 kmpl</td>\n",
       "      <td>1497 CC</td>\n",
       "      <td>78 bhp</td>\n",
       "      <td>5.0</td>\n",
       "    </tr>\n",
       "    <tr>\n",
       "      <th>3</th>\n",
       "      <td>2010</td>\n",
       "      <td>225000</td>\n",
       "      <td>127000</td>\n",
       "      <td>Diesel</td>\n",
       "      <td>Individual</td>\n",
       "      <td>Manual</td>\n",
       "      <td>First Owner</td>\n",
       "      <td>23.0 kmpl</td>\n",
       "      <td>1396 CC</td>\n",
       "      <td>90 bhp</td>\n",
       "      <td>5.0</td>\n",
       "    </tr>\n",
       "    <tr>\n",
       "      <th>4</th>\n",
       "      <td>2007</td>\n",
       "      <td>130000</td>\n",
       "      <td>120000</td>\n",
       "      <td>Petrol</td>\n",
       "      <td>Individual</td>\n",
       "      <td>Manual</td>\n",
       "      <td>First Owner</td>\n",
       "      <td>16.1 kmpl</td>\n",
       "      <td>1298 CC</td>\n",
       "      <td>88.2 bhp</td>\n",
       "      <td>5.0</td>\n",
       "    </tr>\n",
       "    <tr>\n",
       "      <th>...</th>\n",
       "      <td>...</td>\n",
       "      <td>...</td>\n",
       "      <td>...</td>\n",
       "      <td>...</td>\n",
       "      <td>...</td>\n",
       "      <td>...</td>\n",
       "      <td>...</td>\n",
       "      <td>...</td>\n",
       "      <td>...</td>\n",
       "      <td>...</td>\n",
       "      <td>...</td>\n",
       "    </tr>\n",
       "    <tr>\n",
       "      <th>8123</th>\n",
       "      <td>2013</td>\n",
       "      <td>320000</td>\n",
       "      <td>110000</td>\n",
       "      <td>Petrol</td>\n",
       "      <td>Individual</td>\n",
       "      <td>Manual</td>\n",
       "      <td>First Owner</td>\n",
       "      <td>18.5 kmpl</td>\n",
       "      <td>1197 CC</td>\n",
       "      <td>82.85 bhp</td>\n",
       "      <td>5.0</td>\n",
       "    </tr>\n",
       "    <tr>\n",
       "      <th>8124</th>\n",
       "      <td>2007</td>\n",
       "      <td>135000</td>\n",
       "      <td>119000</td>\n",
       "      <td>Diesel</td>\n",
       "      <td>Individual</td>\n",
       "      <td>Manual</td>\n",
       "      <td>Fourth &amp; Above Owner</td>\n",
       "      <td>16.8 kmpl</td>\n",
       "      <td>1493 CC</td>\n",
       "      <td>110 bhp</td>\n",
       "      <td>5.0</td>\n",
       "    </tr>\n",
       "    <tr>\n",
       "      <th>8125</th>\n",
       "      <td>2009</td>\n",
       "      <td>382000</td>\n",
       "      <td>120000</td>\n",
       "      <td>Diesel</td>\n",
       "      <td>Individual</td>\n",
       "      <td>Manual</td>\n",
       "      <td>First Owner</td>\n",
       "      <td>19.3 kmpl</td>\n",
       "      <td>1248 CC</td>\n",
       "      <td>73.9 bhp</td>\n",
       "      <td>5.0</td>\n",
       "    </tr>\n",
       "    <tr>\n",
       "      <th>8126</th>\n",
       "      <td>2013</td>\n",
       "      <td>290000</td>\n",
       "      <td>25000</td>\n",
       "      <td>Diesel</td>\n",
       "      <td>Individual</td>\n",
       "      <td>Manual</td>\n",
       "      <td>First Owner</td>\n",
       "      <td>23.57 kmpl</td>\n",
       "      <td>1396 CC</td>\n",
       "      <td>70 bhp</td>\n",
       "      <td>5.0</td>\n",
       "    </tr>\n",
       "    <tr>\n",
       "      <th>8127</th>\n",
       "      <td>2013</td>\n",
       "      <td>290000</td>\n",
       "      <td>25000</td>\n",
       "      <td>Diesel</td>\n",
       "      <td>Individual</td>\n",
       "      <td>Manual</td>\n",
       "      <td>First Owner</td>\n",
       "      <td>23.57 kmpl</td>\n",
       "      <td>1396 CC</td>\n",
       "      <td>70 bhp</td>\n",
       "      <td>5.0</td>\n",
       "    </tr>\n",
       "  </tbody>\n",
       "</table>\n",
       "<p>8128 rows × 11 columns</p>\n",
       "</div>"
      ],
      "text/plain": [
       "      year  selling_price  km_driven    fuel seller_type transmission  \\\n",
       "0     2014         450000     145500  Diesel  Individual       Manual   \n",
       "1     2014         370000     120000  Diesel  Individual       Manual   \n",
       "2     2006         158000     140000  Petrol  Individual       Manual   \n",
       "3     2010         225000     127000  Diesel  Individual       Manual   \n",
       "4     2007         130000     120000  Petrol  Individual       Manual   \n",
       "...    ...            ...        ...     ...         ...          ...   \n",
       "8123  2013         320000     110000  Petrol  Individual       Manual   \n",
       "8124  2007         135000     119000  Diesel  Individual       Manual   \n",
       "8125  2009         382000     120000  Diesel  Individual       Manual   \n",
       "8126  2013         290000      25000  Diesel  Individual       Manual   \n",
       "8127  2013         290000      25000  Diesel  Individual       Manual   \n",
       "\n",
       "                     owner     mileage   engine   max_power  seats  \n",
       "0              First Owner   23.4 kmpl  1248 CC      74 bhp    5.0  \n",
       "1             Second Owner  21.14 kmpl  1498 CC  103.52 bhp    5.0  \n",
       "2              Third Owner   17.7 kmpl  1497 CC      78 bhp    5.0  \n",
       "3              First Owner   23.0 kmpl  1396 CC      90 bhp    5.0  \n",
       "4              First Owner   16.1 kmpl  1298 CC    88.2 bhp    5.0  \n",
       "...                    ...         ...      ...         ...    ...  \n",
       "8123           First Owner   18.5 kmpl  1197 CC   82.85 bhp    5.0  \n",
       "8124  Fourth & Above Owner   16.8 kmpl  1493 CC     110 bhp    5.0  \n",
       "8125           First Owner   19.3 kmpl  1248 CC    73.9 bhp    5.0  \n",
       "8126           First Owner  23.57 kmpl  1396 CC      70 bhp    5.0  \n",
       "8127           First Owner  23.57 kmpl  1396 CC      70 bhp    5.0  \n",
       "\n",
       "[8128 rows x 11 columns]"
      ]
     },
     "execution_count": 5,
     "metadata": {},
     "output_type": "execute_result"
    }
   ],
   "source": [
    "# Drop unwanted columns \n",
    "car_df.drop(['name', 'torque'], axis=1, inplace=True)\n",
    "car_df"
   ]
  },
  {
   "cell_type": "code",
   "execution_count": 6,
   "metadata": {
    "id": "ilQPipxV_Ewp"
   },
   "outputs": [],
   "source": [
    "# cleaning engine column\n",
    "\n",
    "car_df['engine'] = car_df['engine'].str.rsplit(' ', n=1).str.get(0)\n",
    "car_df.rename(columns={'engine':'engine(CC)'}, inplace=True)\n",
    "car_df['engine(CC)'] = car_df['engine(CC)'].astype(float)"
   ]
  },
  {
   "cell_type": "code",
   "execution_count": 7,
   "metadata": {
    "id": "J_t8DAk18Gcx"
   },
   "outputs": [],
   "source": [
    "# converting mileage column to numeric\n",
    "\n",
    "car_df['mileage'] = car_df['mileage'].str.rsplit(' ', n=1).str.get(0)\n",
    "car_df.rename(columns={'mileage':'mileage_kmpl'}, inplace=True)\n",
    "car_df['mileage_kmpl'] = car_df['mileage_kmpl'].astype(float)\n"
   ]
  },
  {
   "cell_type": "code",
   "execution_count": 8,
   "metadata": {
    "id": "l0WH2IdJ9I-Z"
   },
   "outputs": [],
   "source": [
    "# converting max_power column to numeric\n",
    "\n",
    "car_df['max_power'] = car_df['max_power'].str.rsplit(' ', n=1).str.get(0)\n",
    "car_df.rename(columns={'max_power':'maxpower_bhp'}, inplace=True)\n",
    "car_df['maxpower_bhp'] = pd.to_numeric(car_df['maxpower_bhp'], errors='coerce')"
   ]
  },
  {
   "cell_type": "code",
   "execution_count": 9,
   "metadata": {
    "colab": {
     "base_uri": "https://localhost:8080/"
    },
    "id": "MOHDKXQZ9oxR",
    "outputId": "bf993788-6aad-4e0d-8e62-4de94050bfe7"
   },
   "outputs": [
    {
     "name": "stdout",
     "output_type": "stream",
     "text": [
      "<class 'pandas.core.frame.DataFrame'>\n",
      "RangeIndex: 8128 entries, 0 to 8127\n",
      "Data columns (total 11 columns):\n",
      " #   Column         Non-Null Count  Dtype  \n",
      "---  ------         --------------  -----  \n",
      " 0   year           8128 non-null   int64  \n",
      " 1   selling_price  8128 non-null   int64  \n",
      " 2   km_driven      8128 non-null   int64  \n",
      " 3   fuel           8128 non-null   object \n",
      " 4   seller_type    8128 non-null   object \n",
      " 5   transmission   8128 non-null   object \n",
      " 6   owner          8128 non-null   object \n",
      " 7   mileage_kmpl   7907 non-null   float64\n",
      " 8   engine(CC)     7907 non-null   float64\n",
      " 9   maxpower_bhp   7912 non-null   float64\n",
      " 10  seats          7907 non-null   float64\n",
      "dtypes: float64(4), int64(3), object(4)\n",
      "memory usage: 698.6+ KB\n"
     ]
    }
   ],
   "source": [
    "car_df.info()"
   ]
  },
  {
   "cell_type": "code",
   "execution_count": 10,
   "metadata": {
    "colab": {
     "base_uri": "https://localhost:8080/",
     "height": 206
    },
    "id": "v0Z6cMhj_2ix",
    "outputId": "b0a23a28-120d-4a92-d53c-94853496c442"
   },
   "outputs": [
    {
     "data": {
      "text/html": [
       "<div>\n",
       "<style scoped>\n",
       "    .dataframe tbody tr th:only-of-type {\n",
       "        vertical-align: middle;\n",
       "    }\n",
       "\n",
       "    .dataframe tbody tr th {\n",
       "        vertical-align: top;\n",
       "    }\n",
       "\n",
       "    .dataframe thead th {\n",
       "        text-align: right;\n",
       "    }\n",
       "</style>\n",
       "<table border=\"1\" class=\"dataframe\">\n",
       "  <thead>\n",
       "    <tr style=\"text-align: right;\">\n",
       "      <th></th>\n",
       "      <th>year</th>\n",
       "      <th>selling_price</th>\n",
       "      <th>km_driven</th>\n",
       "      <th>fuel</th>\n",
       "      <th>seller_type</th>\n",
       "      <th>transmission</th>\n",
       "      <th>owner</th>\n",
       "      <th>mileage_kmpl</th>\n",
       "      <th>engine(CC)</th>\n",
       "      <th>maxpower_bhp</th>\n",
       "      <th>seats</th>\n",
       "    </tr>\n",
       "  </thead>\n",
       "  <tbody>\n",
       "    <tr>\n",
       "      <th>0</th>\n",
       "      <td>2014</td>\n",
       "      <td>450000</td>\n",
       "      <td>145500</td>\n",
       "      <td>Diesel</td>\n",
       "      <td>Individual</td>\n",
       "      <td>Manual</td>\n",
       "      <td>First Owner</td>\n",
       "      <td>23.40</td>\n",
       "      <td>1248.0</td>\n",
       "      <td>74.00</td>\n",
       "      <td>5.0</td>\n",
       "    </tr>\n",
       "    <tr>\n",
       "      <th>1</th>\n",
       "      <td>2014</td>\n",
       "      <td>370000</td>\n",
       "      <td>120000</td>\n",
       "      <td>Diesel</td>\n",
       "      <td>Individual</td>\n",
       "      <td>Manual</td>\n",
       "      <td>Second Owner</td>\n",
       "      <td>21.14</td>\n",
       "      <td>1498.0</td>\n",
       "      <td>103.52</td>\n",
       "      <td>5.0</td>\n",
       "    </tr>\n",
       "    <tr>\n",
       "      <th>2</th>\n",
       "      <td>2006</td>\n",
       "      <td>158000</td>\n",
       "      <td>140000</td>\n",
       "      <td>Petrol</td>\n",
       "      <td>Individual</td>\n",
       "      <td>Manual</td>\n",
       "      <td>Third Owner</td>\n",
       "      <td>17.70</td>\n",
       "      <td>1497.0</td>\n",
       "      <td>78.00</td>\n",
       "      <td>5.0</td>\n",
       "    </tr>\n",
       "    <tr>\n",
       "      <th>3</th>\n",
       "      <td>2010</td>\n",
       "      <td>225000</td>\n",
       "      <td>127000</td>\n",
       "      <td>Diesel</td>\n",
       "      <td>Individual</td>\n",
       "      <td>Manual</td>\n",
       "      <td>First Owner</td>\n",
       "      <td>23.00</td>\n",
       "      <td>1396.0</td>\n",
       "      <td>90.00</td>\n",
       "      <td>5.0</td>\n",
       "    </tr>\n",
       "    <tr>\n",
       "      <th>4</th>\n",
       "      <td>2007</td>\n",
       "      <td>130000</td>\n",
       "      <td>120000</td>\n",
       "      <td>Petrol</td>\n",
       "      <td>Individual</td>\n",
       "      <td>Manual</td>\n",
       "      <td>First Owner</td>\n",
       "      <td>16.10</td>\n",
       "      <td>1298.0</td>\n",
       "      <td>88.20</td>\n",
       "      <td>5.0</td>\n",
       "    </tr>\n",
       "  </tbody>\n",
       "</table>\n",
       "</div>"
      ],
      "text/plain": [
       "   year  selling_price  km_driven    fuel seller_type transmission  \\\n",
       "0  2014         450000     145500  Diesel  Individual       Manual   \n",
       "1  2014         370000     120000  Diesel  Individual       Manual   \n",
       "2  2006         158000     140000  Petrol  Individual       Manual   \n",
       "3  2010         225000     127000  Diesel  Individual       Manual   \n",
       "4  2007         130000     120000  Petrol  Individual       Manual   \n",
       "\n",
       "          owner  mileage_kmpl  engine(CC)  maxpower_bhp  seats  \n",
       "0   First Owner         23.40      1248.0         74.00    5.0  \n",
       "1  Second Owner         21.14      1498.0        103.52    5.0  \n",
       "2   Third Owner         17.70      1497.0         78.00    5.0  \n",
       "3   First Owner         23.00      1396.0         90.00    5.0  \n",
       "4   First Owner         16.10      1298.0         88.20    5.0  "
      ]
     },
     "execution_count": 10,
     "metadata": {},
     "output_type": "execute_result"
    }
   ],
   "source": [
    "car_df.head()"
   ]
  },
  {
   "cell_type": "code",
   "execution_count": 11,
   "metadata": {
    "colab": {
     "base_uri": "https://localhost:8080/",
     "height": 470
    },
    "id": "oLfK1bqkAz56",
    "outputId": "1a24e941-317b-455f-b2f0-5b953e3d605a"
   },
   "outputs": [
    {
     "data": {
      "image/png": "[encoded data removed]",
      "text/plain": [
       "<Figure size 1440x360 with 4 Axes>"
      ]
     },
     "metadata": {
      "needs_background": "light"
     },
     "output_type": "display_data"
    }
   ],
   "source": [
    "# Visualisation categorical data\n",
    "%matplotlib inline\n",
    "plt.figure (figsize = (20, 5))\n",
    "\n",
    "plt.subplot(1,4,1)\n",
    "plt1 = car_df.fuel.value_counts().plot (kind ='bar')\n",
    "plt.title (\"Fuel type Frequency\")\n",
    "plt1.set(xlabel = \"Fuel type\", ylabel = \"Frequency\")\n",
    "plt.savefig(\"images/Fuel_type_frequency.png\")\n",
    "\n",
    "plt.subplot(1,4,2)\n",
    "plt2 = car_df.seller_type.value_counts().plot (kind ='bar')\n",
    "plt.title (\"Seller Type Histogram\")\n",
    "plt2.set(xlabel = \"Seller Type\", ylabel = \"Frequency\")\n",
    "plt.savefig(\"images/Seller_type_histogram.png\")\n",
    "\n",
    "plt.subplot(1,4,3)\n",
    "plt3 = car_df.transmission.value_counts().plot (kind='bar')\n",
    "plt.title (\"Transmission Type Histogram\")\n",
    "plt3.set (xlabel = \"Transmission\", ylabel = \"Frequency\")\n",
    "plt.savefig(\"images/transmission_type_histogram.png\")\n",
    "\n",
    "plt.subplot(1,4,4)\n",
    "plt4 = car_df.owner.value_counts().plot (kind='bar')\n",
    "plt.title ('Owner Type Histogram')\n",
    "plt4.set (xlabel = 'Owner Type', ylabel = 'Frequency')\n",
    "plt.savefig(\"images/owner_type_histogram.png\")\n"
   ]
  },
  {
   "cell_type": "code",
   "execution_count": 12,
   "metadata": {
    "colab": {
     "base_uri": "https://localhost:8080/",
     "height": 328
    },
    "id": "FThjhDAbJCKy",
    "outputId": "3c34e70f-b0b3-4e31-ea78-3a0676864614"
   },
   "outputs": [
    {
     "data": {
      "image/png": "[encoded data removed]",
      "text/plain": [
       "<Figure size 432x288 with 1 Axes>"
      ]
     },
     "metadata": {
      "needs_background": "light"
     },
     "output_type": "display_data"
    }
   ],
   "source": [
    "plt5 = car_df.year.value_counts().plot (kind='bar')\n",
    "plt.title ('Year Histogram')\n",
    "plt5.set (xlabel = 'Year', ylabel = 'Frequency')\n",
    "plt.savefig(\"images/year_histogram.png\")\n"
   ]
  },
  {
   "cell_type": "code",
   "execution_count": 13,
   "metadata": {
    "colab": {
     "base_uri": "https://localhost:8080/",
     "height": 1000
    },
    "id": "o-cW6IiMMwLp",
    "outputId": "4f36058d-62fc-40fb-c7a6-e20261cb85b5"
   },
   "outputs": [
    {
     "data": {
      "image/png": "[encoded data removed]",
      "text/plain": [
       "<Figure size 432x288 with 1 Axes>"
      ]
     },
     "metadata": {
      "needs_background": "light"
     },
     "output_type": "display_data"
    },
    {
     "data": {
      "image/png": "[encoded data removed]",
      "text/plain": [
       "<Figure size 432x288 with 1 Axes>"
      ]
     },
     "metadata": {
      "needs_background": "light"
     },
     "output_type": "display_data"
    },
    {
     "data": {
      "image/png": "[encoded data removed]",
      "text/plain": [
       "<Figure size 432x288 with 1 Axes>"
      ]
     },
     "metadata": {
      "needs_background": "light"
     },
     "output_type": "display_data"
    },
    {
     "data": {
      "image/png": "[encoded data removed]",
      "text/plain": [
       "<Figure size 432x288 with 1 Axes>"
      ]
     },
     "metadata": {
      "needs_background": "light"
     },
     "output_type": "display_data"
    },
    {
     "data": {
      "image/png": "[encoded data removed]",
      "text/plain": [
       "<Figure size 432x288 with 1 Axes>"
      ]
     },
     "metadata": {
      "needs_background": "light"
     },
     "output_type": "display_data"
    }
   ],
   "source": [
    "# Visualisation using groupby against average price\n",
    "\n",
    "\n",
    "fuel_df = pd.DataFrame(car_df.groupby(['fuel'])['selling_price'].mean()).plot (kind = 'bar')\n",
    "plt.title (\"Fuel Type vs Average Price\")\n",
    "fuel_df.set (ylabel = 'Average Price')\n",
    "plt.savefig(\"images/fuel_type_vs_averprice.png\")\n",
    "\n",
    "seller_type_df = pd.DataFrame(car_df.groupby(['seller_type'])['selling_price'].mean()).plot (kind = 'bar')\n",
    "plt.title (\"Seller Type vs Average Price\")\n",
    "seller_type_df.set (ylabel = 'Average Price')\n",
    "plt.savefig(\"images/seller_type_vs_averprice.png\")\n",
    "\n",
    "transmission_df = pd.DataFrame(car_df.groupby(['transmission'])['selling_price'].mean()).plot (kind = 'bar')\n",
    "plt.title (\"Transmission Type vs Average Price\")\n",
    "transmission_df.set (ylabel = 'Average Price')\n",
    "plt.savefig(\"images/transmission_type_vs_averprice.png\")\n",
    "\n",
    "owner_df = pd.DataFrame(car_df.groupby(['owner'])['selling_price'].mean()).plot (kind = 'bar')\n",
    "plt.title (\"Owner vs Average Price\")\n",
    "owner_df.set (ylabel = 'Average Price')\n",
    "plt.savefig(\"images/owner_type_vs_averprice.png\")\n",
    "\n",
    "year_df = pd.DataFrame(car_df.groupby(['year'])['selling_price'].mean()).plot (kind = 'bar')\n",
    "plt.title (\"Manufacturing year vs Average Price\")\n",
    "year_df.set (ylabel = 'Average Price')\n",
    "plt.savefig(\"images/manufacturing_year_vs_averprice.png\")"
   ]
  },
  {
   "cell_type": "code",
   "execution_count": 14,
   "metadata": {
    "colab": {
     "base_uri": "https://localhost:8080/",
     "height": 1000
    },
    "id": "hYebssEwJY7R",
    "outputId": "b79680e5-a4dc-4f86-8071-895e8467929f"
   },
   "outputs": [
    {
     "data": {
      "image/png": "[encoded data removed]",
      "text/plain": [
       "<Figure size 432x288 with 1 Axes>"
      ]
     },
     "metadata": {
      "needs_background": "light"
     },
     "output_type": "display_data"
    },
    {
     "data": {
      "image/png": "[encoded data removed]",
      "text/plain": [
       "<Figure size 432x288 with 1 Axes>"
      ]
     },
     "metadata": {
      "needs_background": "light"
     },
     "output_type": "display_data"
    },
    {
     "data": {
      "image/png": "[encoded data removed]",
      "text/plain": [
       "<Figure size 432x288 with 1 Axes>"
      ]
     },
     "metadata": {
      "needs_background": "light"
     },
     "output_type": "display_data"
    },
    {
     "data": {
      "image/png": "[encoded data removed]",
      "text/plain": [
       "<Figure size 432x288 with 1 Axes>"
      ]
     },
     "metadata": {
      "needs_background": "light"
     },
     "output_type": "display_data"
    },
    {
     "data": {
      "image/png": "[encoded data removed]",
      "text/plain": [
       "<Figure size 432x288 with 1 Axes>"
      ]
     },
     "metadata": {
      "needs_background": "light"
     },
     "output_type": "display_data"
    }
   ],
   "source": [
    "# Visualisation numerical data\n",
    "\n",
    "names = ['km_driven', 'mileage_kmpl',\t'engine(CC)',\t'maxpower_bhp',\t'seats']\n",
    "\n",
    "for i in names:\n",
    "  plt.scatter(car_df[i], car_df['selling_price'])\n",
    "  plt.title (i + ' vs selling price')\n",
    "  plt.ylabel (\"Selling Price\")\n",
    "  plt.xlabel (i)\n",
    "  plt.savefig(f\"images/{i}+ _vs_selling_price.png\")\n",
    "  plt.show()"
   ]
  },
  {
   "cell_type": "code",
   "execution_count": 15,
   "metadata": {
    "id": "H9Gec_tJ7MWa"
   },
   "outputs": [
    {
     "data": {
      "image/png": "[encoded data removed]",
      "text/plain": [
       "<Figure size 1260x1260 with 49 Axes>"
      ]
     },
     "metadata": {
      "needs_background": "light"
     },
     "output_type": "display_data"
    }
   ],
   "source": [
    "#Correlation Matrix to make all scatter plots at once\n",
    "#Create a grid of column pairs with scatter plots for non-diagonal(upper portion)\n",
    "sns.PairGrid(car_df).map_upper(plt.scatter)\n",
    "plt.savefig(\"images/correlation_matrix.png\")"
   ]
  },
  {
   "cell_type": "markdown",
   "metadata": {
    "id": "W-DXjUpnmeep"
   },
   "source": [
    "#### Mileage kmpl and km driven seem to have no relationship with the selling price"
   ]
  },
  {
   "cell_type": "code",
   "execution_count": 16,
   "metadata": {
    "id": "mQw05TS3m6-Z"
   },
   "outputs": [],
   "source": [
    "# Choose a cutoff value and create a list of classifications to be replaced\n",
    "# use the variable name `classifications_to_replace`\n",
    "\n",
    "classifications_to_replace = car_df[car_df['year'].isin(car_df['year'].value_counts()[car_df['year'].value_counts()<150].index)]['year']\n",
    "\n",
    "# Replace in dataframe\n",
    "for cls in classifications_to_replace:\n",
    "    car_df['year'] = car_df['year'].replace(cls,\"Other\")\n",
    "    \n",
    "# Check to make sure binning was successful\n",
    "car_df['year'].value_counts()\n",
    "\n",
    "car_df ['year'] = car_df ['year'].astype(str)"
   ]
  },
  {
   "cell_type": "code",
   "execution_count": 17,
   "metadata": {
    "colab": {
     "base_uri": "https://localhost:8080/",
     "height": 423
    },
    "id": "XJoQlf5ityHn",
    "outputId": "fea2becc-ed58-4a57-98c4-532b8303aa16"
   },
   "outputs": [
    {
     "data": {
      "text/html": [
       "<div>\n",
       "<style scoped>\n",
       "    .dataframe tbody tr th:only-of-type {\n",
       "        vertical-align: middle;\n",
       "    }\n",
       "\n",
       "    .dataframe tbody tr th {\n",
       "        vertical-align: top;\n",
       "    }\n",
       "\n",
       "    .dataframe thead th {\n",
       "        text-align: right;\n",
       "    }\n",
       "</style>\n",
       "<table border=\"1\" class=\"dataframe\">\n",
       "  <thead>\n",
       "    <tr style=\"text-align: right;\">\n",
       "      <th></th>\n",
       "      <th>year</th>\n",
       "      <th>selling_price</th>\n",
       "      <th>km_driven</th>\n",
       "      <th>fuel</th>\n",
       "      <th>seller_type</th>\n",
       "      <th>transmission</th>\n",
       "      <th>owner</th>\n",
       "      <th>mileage_kmpl</th>\n",
       "      <th>engine(CC)</th>\n",
       "      <th>maxpower_bhp</th>\n",
       "      <th>seats</th>\n",
       "      <th>engine(CC)_binning</th>\n",
       "    </tr>\n",
       "  </thead>\n",
       "  <tbody>\n",
       "    <tr>\n",
       "      <th>0</th>\n",
       "      <td>2014</td>\n",
       "      <td>450000</td>\n",
       "      <td>145500</td>\n",
       "      <td>Diesel</td>\n",
       "      <td>Individual</td>\n",
       "      <td>Manual</td>\n",
       "      <td>First Owner</td>\n",
       "      <td>23.40</td>\n",
       "      <td>1248.0</td>\n",
       "      <td>74.00</td>\n",
       "      <td>5.0</td>\n",
       "      <td>1</td>\n",
       "    </tr>\n",
       "    <tr>\n",
       "      <th>1</th>\n",
       "      <td>2014</td>\n",
       "      <td>370000</td>\n",
       "      <td>120000</td>\n",
       "      <td>Diesel</td>\n",
       "      <td>Individual</td>\n",
       "      <td>Manual</td>\n",
       "      <td>Second Owner</td>\n",
       "      <td>21.14</td>\n",
       "      <td>1498.0</td>\n",
       "      <td>103.52</td>\n",
       "      <td>5.0</td>\n",
       "      <td>1</td>\n",
       "    </tr>\n",
       "    <tr>\n",
       "      <th>2</th>\n",
       "      <td>Other</td>\n",
       "      <td>158000</td>\n",
       "      <td>140000</td>\n",
       "      <td>Petrol</td>\n",
       "      <td>Individual</td>\n",
       "      <td>Manual</td>\n",
       "      <td>Third Owner</td>\n",
       "      <td>17.70</td>\n",
       "      <td>1497.0</td>\n",
       "      <td>78.00</td>\n",
       "      <td>5.0</td>\n",
       "      <td>1</td>\n",
       "    </tr>\n",
       "    <tr>\n",
       "      <th>3</th>\n",
       "      <td>2010</td>\n",
       "      <td>225000</td>\n",
       "      <td>127000</td>\n",
       "      <td>Diesel</td>\n",
       "      <td>Individual</td>\n",
       "      <td>Manual</td>\n",
       "      <td>First Owner</td>\n",
       "      <td>23.00</td>\n",
       "      <td>1396.0</td>\n",
       "      <td>90.00</td>\n",
       "      <td>5.0</td>\n",
       "      <td>1</td>\n",
       "    </tr>\n",
       "    <tr>\n",
       "      <th>4</th>\n",
       "      <td>2007</td>\n",
       "      <td>130000</td>\n",
       "      <td>120000</td>\n",
       "      <td>Petrol</td>\n",
       "      <td>Individual</td>\n",
       "      <td>Manual</td>\n",
       "      <td>First Owner</td>\n",
       "      <td>16.10</td>\n",
       "      <td>1298.0</td>\n",
       "      <td>88.20</td>\n",
       "      <td>5.0</td>\n",
       "      <td>1</td>\n",
       "    </tr>\n",
       "    <tr>\n",
       "      <th>...</th>\n",
       "      <td>...</td>\n",
       "      <td>...</td>\n",
       "      <td>...</td>\n",
       "      <td>...</td>\n",
       "      <td>...</td>\n",
       "      <td>...</td>\n",
       "      <td>...</td>\n",
       "      <td>...</td>\n",
       "      <td>...</td>\n",
       "      <td>...</td>\n",
       "      <td>...</td>\n",
       "      <td>...</td>\n",
       "    </tr>\n",
       "    <tr>\n",
       "      <th>195</th>\n",
       "      <td>Other</td>\n",
       "      <td>65000</td>\n",
       "      <td>86000</td>\n",
       "      <td>Petrol</td>\n",
       "      <td>Individual</td>\n",
       "      <td>Manual</td>\n",
       "      <td>First Owner</td>\n",
       "      <td>15.30</td>\n",
       "      <td>1341.0</td>\n",
       "      <td>83.00</td>\n",
       "      <td>5.0</td>\n",
       "      <td>1</td>\n",
       "    </tr>\n",
       "    <tr>\n",
       "      <th>196</th>\n",
       "      <td>Other</td>\n",
       "      <td>720000</td>\n",
       "      <td>5000</td>\n",
       "      <td>Petrol</td>\n",
       "      <td>Individual</td>\n",
       "      <td>Manual</td>\n",
       "      <td>First Owner</td>\n",
       "      <td>18.60</td>\n",
       "      <td>1197.0</td>\n",
       "      <td>81.86</td>\n",
       "      <td>5.0</td>\n",
       "      <td>1</td>\n",
       "    </tr>\n",
       "    <tr>\n",
       "      <th>197</th>\n",
       "      <td>2017</td>\n",
       "      <td>800000</td>\n",
       "      <td>37000</td>\n",
       "      <td>Diesel</td>\n",
       "      <td>Individual</td>\n",
       "      <td>Manual</td>\n",
       "      <td>First Owner</td>\n",
       "      <td>28.09</td>\n",
       "      <td>1248.0</td>\n",
       "      <td>88.50</td>\n",
       "      <td>5.0</td>\n",
       "      <td>1</td>\n",
       "    </tr>\n",
       "    <tr>\n",
       "      <th>198</th>\n",
       "      <td>2019</td>\n",
       "      <td>520000</td>\n",
       "      <td>14000</td>\n",
       "      <td>Petrol</td>\n",
       "      <td>Individual</td>\n",
       "      <td>Manual</td>\n",
       "      <td>First Owner</td>\n",
       "      <td>20.30</td>\n",
       "      <td>1199.0</td>\n",
       "      <td>84.00</td>\n",
       "      <td>5.0</td>\n",
       "      <td>1</td>\n",
       "    </tr>\n",
       "    <tr>\n",
       "      <th>199</th>\n",
       "      <td>2015</td>\n",
       "      <td>580000</td>\n",
       "      <td>70000</td>\n",
       "      <td>Diesel</td>\n",
       "      <td>Individual</td>\n",
       "      <td>Manual</td>\n",
       "      <td>First Owner</td>\n",
       "      <td>20.77</td>\n",
       "      <td>1248.0</td>\n",
       "      <td>88.76</td>\n",
       "      <td>7.0</td>\n",
       "      <td>1</td>\n",
       "    </tr>\n",
       "  </tbody>\n",
       "</table>\n",
       "<p>200 rows × 12 columns</p>\n",
       "</div>"
      ],
      "text/plain": [
       "      year  selling_price  km_driven    fuel seller_type transmission  \\\n",
       "0     2014         450000     145500  Diesel  Individual       Manual   \n",
       "1     2014         370000     120000  Diesel  Individual       Manual   \n",
       "2    Other         158000     140000  Petrol  Individual       Manual   \n",
       "3     2010         225000     127000  Diesel  Individual       Manual   \n",
       "4     2007         130000     120000  Petrol  Individual       Manual   \n",
       "..     ...            ...        ...     ...         ...          ...   \n",
       "195  Other          65000      86000  Petrol  Individual       Manual   \n",
       "196  Other         720000       5000  Petrol  Individual       Manual   \n",
       "197   2017         800000      37000  Diesel  Individual       Manual   \n",
       "198   2019         520000      14000  Petrol  Individual       Manual   \n",
       "199   2015         580000      70000  Diesel  Individual       Manual   \n",
       "\n",
       "            owner  mileage_kmpl  engine(CC)  maxpower_bhp  seats  \\\n",
       "0     First Owner         23.40      1248.0         74.00    5.0   \n",
       "1    Second Owner         21.14      1498.0        103.52    5.0   \n",
       "2     Third Owner         17.70      1497.0         78.00    5.0   \n",
       "3     First Owner         23.00      1396.0         90.00    5.0   \n",
       "4     First Owner         16.10      1298.0         88.20    5.0   \n",
       "..            ...           ...         ...           ...    ...   \n",
       "195   First Owner         15.30      1341.0         83.00    5.0   \n",
       "196   First Owner         18.60      1197.0         81.86    5.0   \n",
       "197   First Owner         28.09      1248.0         88.50    5.0   \n",
       "198   First Owner         20.30      1199.0         84.00    5.0   \n",
       "199   First Owner         20.77      1248.0         88.76    7.0   \n",
       "\n",
       "    engine(CC)_binning  \n",
       "0                    1  \n",
       "1                    1  \n",
       "2                    1  \n",
       "3                    1  \n",
       "4                    1  \n",
       "..                 ...  \n",
       "195                  1  \n",
       "196                  1  \n",
       "197                  1  \n",
       "198                  1  \n",
       "199                  1  \n",
       "\n",
       "[200 rows x 12 columns]"
      ]
     },
     "execution_count": 17,
     "metadata": {},
     "output_type": "execute_result"
    }
   ],
   "source": [
    "engine_bin = [1,2,3,4]\n",
    "car_df['engine(CC)_binning'] = pd.cut(car_df['engine(CC)'], [1000, 1999, 2999, 3999, 4000], labels = engine_bin)\n",
    "car_df.head(200)"
   ]
  },
  {
   "cell_type": "code",
   "execution_count": 18,
   "metadata": {
    "id": "_WGSf9lJRbs4"
   },
   "outputs": [],
   "source": [
    "car_df['seats'] = car_df['seats'].astype(str)\n",
    "car_df['engine(CC)_binning'] = car_df['engine(CC)_binning'].astype(str)"
   ]
  },
  {
   "cell_type": "code",
   "execution_count": 19,
   "metadata": {
    "id": "I6Nr7_0GRphk"
   },
   "outputs": [],
   "source": [
    "car_df.dropna(inplace=True)"
   ]
  },
  {
   "cell_type": "code",
   "execution_count": 20,
   "metadata": {
    "colab": {
     "base_uri": "https://localhost:8080/",
     "height": 299
    },
    "id": "alQFUX-GQwxP",
    "outputId": "4c08dcb0-5b09-4a27-8a6b-9d16d66ad4e0"
   },
   "outputs": [
    {
     "data": {
      "text/html": [
       "<div>\n",
       "<style scoped>\n",
       "    .dataframe tbody tr th:only-of-type {\n",
       "        vertical-align: middle;\n",
       "    }\n",
       "\n",
       "    .dataframe tbody tr th {\n",
       "        vertical-align: top;\n",
       "    }\n",
       "\n",
       "    .dataframe thead th {\n",
       "        text-align: right;\n",
       "    }\n",
       "</style>\n",
       "<table border=\"1\" class=\"dataframe\">\n",
       "  <thead>\n",
       "    <tr style=\"text-align: right;\">\n",
       "      <th></th>\n",
       "      <th>selling_price</th>\n",
       "      <th>km_driven</th>\n",
       "      <th>mileage_kmpl</th>\n",
       "      <th>engine(CC)</th>\n",
       "      <th>maxpower_bhp</th>\n",
       "      <th>year_2007</th>\n",
       "      <th>year_2008</th>\n",
       "      <th>year_2009</th>\n",
       "      <th>year_2010</th>\n",
       "      <th>year_2011</th>\n",
       "      <th>...</th>\n",
       "      <th>seats_4.0</th>\n",
       "      <th>seats_5.0</th>\n",
       "      <th>seats_6.0</th>\n",
       "      <th>seats_7.0</th>\n",
       "      <th>seats_8.0</th>\n",
       "      <th>seats_9.0</th>\n",
       "      <th>engine(CC)_binning_1</th>\n",
       "      <th>engine(CC)_binning_2</th>\n",
       "      <th>engine(CC)_binning_3</th>\n",
       "      <th>engine(CC)_binning_nan</th>\n",
       "    </tr>\n",
       "  </thead>\n",
       "  <tbody>\n",
       "    <tr>\n",
       "      <th>0</th>\n",
       "      <td>450000</td>\n",
       "      <td>145500</td>\n",
       "      <td>23.40</td>\n",
       "      <td>1248.0</td>\n",
       "      <td>74.00</td>\n",
       "      <td>0</td>\n",
       "      <td>0</td>\n",
       "      <td>0</td>\n",
       "      <td>0</td>\n",
       "      <td>0</td>\n",
       "      <td>...</td>\n",
       "      <td>0</td>\n",
       "      <td>1</td>\n",
       "      <td>0</td>\n",
       "      <td>0</td>\n",
       "      <td>0</td>\n",
       "      <td>0</td>\n",
       "      <td>1</td>\n",
       "      <td>0</td>\n",
       "      <td>0</td>\n",
       "      <td>0</td>\n",
       "    </tr>\n",
       "    <tr>\n",
       "      <th>1</th>\n",
       "      <td>370000</td>\n",
       "      <td>120000</td>\n",
       "      <td>21.14</td>\n",
       "      <td>1498.0</td>\n",
       "      <td>103.52</td>\n",
       "      <td>0</td>\n",
       "      <td>0</td>\n",
       "      <td>0</td>\n",
       "      <td>0</td>\n",
       "      <td>0</td>\n",
       "      <td>...</td>\n",
       "      <td>0</td>\n",
       "      <td>1</td>\n",
       "      <td>0</td>\n",
       "      <td>0</td>\n",
       "      <td>0</td>\n",
       "      <td>0</td>\n",
       "      <td>1</td>\n",
       "      <td>0</td>\n",
       "      <td>0</td>\n",
       "      <td>0</td>\n",
       "    </tr>\n",
       "    <tr>\n",
       "      <th>2</th>\n",
       "      <td>158000</td>\n",
       "      <td>140000</td>\n",
       "      <td>17.70</td>\n",
       "      <td>1497.0</td>\n",
       "      <td>78.00</td>\n",
       "      <td>0</td>\n",
       "      <td>0</td>\n",
       "      <td>0</td>\n",
       "      <td>0</td>\n",
       "      <td>0</td>\n",
       "      <td>...</td>\n",
       "      <td>0</td>\n",
       "      <td>1</td>\n",
       "      <td>0</td>\n",
       "      <td>0</td>\n",
       "      <td>0</td>\n",
       "      <td>0</td>\n",
       "      <td>1</td>\n",
       "      <td>0</td>\n",
       "      <td>0</td>\n",
       "      <td>0</td>\n",
       "    </tr>\n",
       "    <tr>\n",
       "      <th>3</th>\n",
       "      <td>225000</td>\n",
       "      <td>127000</td>\n",
       "      <td>23.00</td>\n",
       "      <td>1396.0</td>\n",
       "      <td>90.00</td>\n",
       "      <td>0</td>\n",
       "      <td>0</td>\n",
       "      <td>0</td>\n",
       "      <td>1</td>\n",
       "      <td>0</td>\n",
       "      <td>...</td>\n",
       "      <td>0</td>\n",
       "      <td>1</td>\n",
       "      <td>0</td>\n",
       "      <td>0</td>\n",
       "      <td>0</td>\n",
       "      <td>0</td>\n",
       "      <td>1</td>\n",
       "      <td>0</td>\n",
       "      <td>0</td>\n",
       "      <td>0</td>\n",
       "    </tr>\n",
       "    <tr>\n",
       "      <th>4</th>\n",
       "      <td>130000</td>\n",
       "      <td>120000</td>\n",
       "      <td>16.10</td>\n",
       "      <td>1298.0</td>\n",
       "      <td>88.20</td>\n",
       "      <td>1</td>\n",
       "      <td>0</td>\n",
       "      <td>0</td>\n",
       "      <td>0</td>\n",
       "      <td>0</td>\n",
       "      <td>...</td>\n",
       "      <td>0</td>\n",
       "      <td>1</td>\n",
       "      <td>0</td>\n",
       "      <td>0</td>\n",
       "      <td>0</td>\n",
       "      <td>0</td>\n",
       "      <td>1</td>\n",
       "      <td>0</td>\n",
       "      <td>0</td>\n",
       "      <td>0</td>\n",
       "    </tr>\n",
       "  </tbody>\n",
       "</table>\n",
       "<p>5 rows × 46 columns</p>\n",
       "</div>"
      ],
      "text/plain": [
       "   selling_price  km_driven  mileage_kmpl  engine(CC)  maxpower_bhp  \\\n",
       "0         450000     145500         23.40      1248.0         74.00   \n",
       "1         370000     120000         21.14      1498.0        103.52   \n",
       "2         158000     140000         17.70      1497.0         78.00   \n",
       "3         225000     127000         23.00      1396.0         90.00   \n",
       "4         130000     120000         16.10      1298.0         88.20   \n",
       "\n",
       "   year_2007  year_2008  year_2009  year_2010  year_2011  ...  seats_4.0  \\\n",
       "0          0          0          0          0          0  ...          0   \n",
       "1          0          0          0          0          0  ...          0   \n",
       "2          0          0          0          0          0  ...          0   \n",
       "3          0          0          0          1          0  ...          0   \n",
       "4          1          0          0          0          0  ...          0   \n",
       "\n",
       "   seats_5.0  seats_6.0  seats_7.0  seats_8.0  seats_9.0  \\\n",
       "0          1          0          0          0          0   \n",
       "1          1          0          0          0          0   \n",
       "2          1          0          0          0          0   \n",
       "3          1          0          0          0          0   \n",
       "4          1          0          0          0          0   \n",
       "\n",
       "   engine(CC)_binning_1  engine(CC)_binning_2  engine(CC)_binning_3  \\\n",
       "0                     1                     0                     0   \n",
       "1                     1                     0                     0   \n",
       "2                     1                     0                     0   \n",
       "3                     1                     0                     0   \n",
       "4                     1                     0                     0   \n",
       "\n",
       "   engine(CC)_binning_nan  \n",
       "0                       0  \n",
       "1                       0  \n",
       "2                       0  \n",
       "3                       0  \n",
       "4                       0  \n",
       "\n",
       "[5 rows x 46 columns]"
      ]
     },
     "execution_count": 20,
     "metadata": {},
     "output_type": "execute_result"
    }
   ],
   "source": [
    "car_df = pd.get_dummies(car_df)\n",
    "car_df.head()"
   ]
  },
  {
   "cell_type": "code",
   "execution_count": 21,
   "metadata": {
    "colab": {
     "base_uri": "https://localhost:8080/"
    },
    "id": "Df9tWFFrDWG9",
    "outputId": "f8a81188-d366-44d7-83be-a00881b7ed16"
   },
   "outputs": [
    {
     "data": {
      "text/plain": [
       "['selling_price',\n",
       " 'km_driven',\n",
       " 'mileage_kmpl',\n",
       " 'engine(CC)',\n",
       " 'maxpower_bhp',\n",
       " 'year_2007',\n",
       " 'year_2008',\n",
       " 'year_2009',\n",
       " 'year_2010',\n",
       " 'year_2011',\n",
       " 'year_2012',\n",
       " 'year_2013',\n",
       " 'year_2014',\n",
       " 'year_2015',\n",
       " 'year_2016',\n",
       " 'year_2017',\n",
       " 'year_2018',\n",
       " 'year_2019',\n",
       " 'year_Other',\n",
       " 'fuel_CNG',\n",
       " 'fuel_Diesel',\n",
       " 'fuel_LPG',\n",
       " 'fuel_Petrol',\n",
       " 'seller_type_Dealer',\n",
       " 'seller_type_Individual',\n",
       " 'seller_type_Trustmark Dealer',\n",
       " 'transmission_Automatic',\n",
       " 'transmission_Manual',\n",
       " 'owner_First Owner',\n",
       " 'owner_Fourth & Above Owner',\n",
       " 'owner_Second Owner',\n",
       " 'owner_Test Drive Car',\n",
       " 'owner_Third Owner',\n",
       " 'seats_10.0',\n",
       " 'seats_14.0',\n",
       " 'seats_2.0',\n",
       " 'seats_4.0',\n",
       " 'seats_5.0',\n",
       " 'seats_6.0',\n",
       " 'seats_7.0',\n",
       " 'seats_8.0',\n",
       " 'seats_9.0',\n",
       " 'engine(CC)_binning_1',\n",
       " 'engine(CC)_binning_2',\n",
       " 'engine(CC)_binning_3',\n",
       " 'engine(CC)_binning_nan']"
      ]
     },
     "execution_count": 21,
     "metadata": {},
     "output_type": "execute_result"
    }
   ],
   "source": [
    "list(car_df.columns.values)"
   ]
  },
  {
   "cell_type": "code",
   "execution_count": 22,
   "metadata": {
    "id": "Zvww35wdCLT9"
   },
   "outputs": [],
   "source": [
    "# Drop further unwanted columns\n",
    "car_df.drop(['engine(CC)_binning_1', 'engine(CC)_binning_2', 'engine(CC)_binning_3', 'engine(CC)_binning_nan'], axis=1, inplace=True)"
   ]
  },
  {
   "cell_type": "markdown",
   "metadata": {
    "id": "Zm1ZAgZo1cy-"
   },
   "source": [
    "## **Compile, Train and Evaluate the Model**"
   ]
  },
  {
   "cell_type": "code",
   "execution_count": 23,
   "metadata": {
    "id": "da9iSRp8RNUu"
   },
   "outputs": [],
   "source": [
    "# Split our preprocessed data into our features and target arrays\n",
    "\n",
    "y = car_df[\"selling_price\"]\n",
    "X = car_df.drop([\"selling_price\"], axis=1)"
   ]
  },
  {
   "cell_type": "markdown",
   "metadata": {
    "id": "RTylL6Mj_UIK"
   },
   "source": [
    "### *Which Model will be used*\n",
    "\n",
    "We can't use the Logistic Regresssion Model because our target value is price and it is not a binary valueable data"
   ]
  },
  {
   "cell_type": "code",
   "execution_count": 24,
   "metadata": {
    "colab": {
     "base_uri": "https://localhost:8080/",
     "height": 456
    },
    "id": "xb91Y-bddx1W",
    "outputId": "5aa1719d-902c-47b3-94f2-7ec614af98b6"
   },
   "outputs": [
    {
     "name": "stdout",
     "output_type": "stream",
     "text": [
      "[4.11289261e-01 1.53862377e-01 9.82540652e-02 1.42704040e-01\n",
      " 3.17239152e-03 4.12874150e-03 3.99699003e-03 4.39026661e-03\n",
      " 6.22035392e-03 7.21285981e-03 8.95333881e-03 6.89191013e-03\n",
      " 7.35423314e-03 1.04118678e-02 9.47275865e-03 7.41318847e-03\n",
      " 7.36138524e-03 4.48651192e-03 1.35945058e-03 6.52457644e-03\n",
      " 1.05218994e-03 6.43708764e-03 7.16332282e-03 6.91341177e-03\n",
      " 6.84903597e-03 4.81351050e-03 4.82935698e-03 1.03326598e-02\n",
      " 4.15090396e-03 1.16728278e-02 1.42251062e-04 7.03767439e-03\n",
      " 8.01987194e-04 5.06744870e-05 1.07114331e-04 1.68072393e-03\n",
      " 6.95181402e-03 1.45782417e-03 6.16365623e-03 3.99731012e-03\n",
      " 1.93409486e-03]\n"
     ]
    },
    {
     "data": {
      "image/png": "[encoded data removed]",
      "text/plain": [
       "<Figure size 432x288 with 1 Axes>"
      ]
     },
     "metadata": {
      "needs_background": "light"
     },
     "output_type": "display_data"
    }
   ],
   "source": [
    "# Checking which feature is important to the target:\n",
    "important_feature = ExtraTreesClassifier()\n",
    "important_feature.fit(X,y)\n",
    "print(important_feature.feature_importances_)\n",
    "\n",
    "#plot graph of feature importances for better visualization\n",
    "feat_importances = pd.Series(important_feature.feature_importances_, index=X.columns)\n",
    "feat_importances.nlargest(20).plot(kind='barh')\n",
    "plt.savefig(\"images/important_features.png\")\n",
    "plt.show()"
   ]
  },
  {
   "cell_type": "code",
   "execution_count": null,
   "metadata": {
    "id": "pm18kP7uCHx1"
   },
   "outputs": [],
   "source": []
  },
  {
   "cell_type": "code",
   "execution_count": null,
   "metadata": {
    "id": "RQzGpjj8dx1W"
   },
   "outputs": [],
   "source": [
    "# Split the preprocessed data into a training and testing dataset\n",
    "\n",
    "X_train, X_test, y_train, y_test = train_test_split(X, y, random_state = 42) "
   ]
  },
  {
   "cell_type": "code",
   "execution_count": null,
   "metadata": {
    "id": "sdnkjtNr1KiW"
   },
   "outputs": [],
   "source": [
    "# Create a StandardScaler instances\n",
    "scaler = skl.preprocessing.StandardScaler()\n",
    "\n",
    "# Fit the StandardScaler\n",
    "X_scaler = scaler.fit(X_train)\n",
    "\n",
    "# Scale the data\n",
    "X_train_scaled = X_scaler.transform(X_train)\n",
    "X_test_scaled = X_scaler.transform(X_test)"
   ]
  },
  {
   "cell_type": "code",
   "execution_count": null,
   "metadata": {
    "colab": {
     "base_uri": "https://localhost:8080/"
    },
    "id": "4wi1o_f01eLe",
    "outputId": "b007aa73-8ce0-4608-887f-6cbceeab872c"
   },
   "outputs": [
    {
     "data": {
      "text/plain": [
       "41"
      ]
     },
     "execution_count": 29,
     "metadata": {},
     "output_type": "execute_result"
    }
   ],
   "source": [
    "# Checking the number of feature:\n",
    "\n",
    "number_input_feature = X_train.shape[1]\n",
    "number_input_feature"
   ]
  },
  {
   "cell_type": "code",
   "execution_count": null,
   "metadata": {
    "id": "gmq-qiieyXrk"
   },
   "outputs": [],
   "source": [
    "def test_model(model, data):\n",
    "    X_train_scaled, X_test_scaled, y_train, y_test = data\n",
    "    reg = model.fit(X_train_scaled, y_train)\n",
    "    print(f'Model: {type(reg).__name__}')\n",
    "    print(f'Train score: {reg.score(X_train_scaled, y_train)}')\n",
    "    print(f'Test Score: {reg.score(X_test_scaled, y_test)}\\n')\n",
    "    plt.show()    "
   ]
  },
  {
   "cell_type": "code",
   "execution_count": null,
   "metadata": {
    "colab": {
     "base_uri": "https://localhost:8080/"
    },
    "id": "xnh_8RzDxQMJ",
    "outputId": "01464118-4ed6-452c-bc3a-8a4068d599d8"
   },
   "outputs": [
    {
     "name": "stdout",
     "output_type": "stream",
     "text": [
      "Model: LinearRegression\n",
      "Train score: 0.7175961206453741\n",
      "Test Score: -1.4793172609303965e+21\n",
      "\n",
      "Model: KNeighborsRegressor\n",
      "Train score: 0.9412982328171307\n",
      "Test Score: 0.9391421057332895\n",
      "\n",
      "Model: RandomForestRegressor\n",
      "Train score: 0.9923935443592605\n",
      "Test Score: 0.9737395811294922\n",
      "\n",
      "Model: ExtraTreesRegressor\n",
      "Train score: 0.9996080432838397\n",
      "Test Score: 0.9771853708622494\n",
      "\n",
      "Model: AdaBoostRegressor\n",
      "Train score: 0.7951692502478109\n",
      "Test Score: 0.819599235140128\n",
      "\n",
      "Model: SVR\n",
      "Train score: -0.058133227862211534\n",
      "Test Score: -0.05482735791061266\n",
      "\n"
     ]
    }
   ],
   "source": [
    "\n",
    "data = [X_train_scaled, X_test_scaled, y_train, y_test]\n",
    "\n",
    "test_model(LinearRegression(), data)\n",
    "test_model(KNeighborsRegressor(), data)\n",
    "test_model(RandomForestRegressor(), data)\n",
    "test_model(ExtraTreesRegressor(), data)\n",
    "test_model(AdaBoostRegressor(), data)\n",
    "test_model(SVR(C=1.0, epsilon=0.2), data)"
   ]
  },
  {
   "cell_type": "code",
   "execution_count": null,
   "metadata": {
    "colab": {
     "base_uri": "https://localhost:8080/"
    },
    "id": "-VEEmn56_Of0",
    "outputId": "9a026eba-7758-480e-f1e8-2a90ae05a52c"
   },
   "outputs": [
    {
     "name": "stdout",
     "output_type": "stream",
     "text": [
      "<class 'pandas.core.frame.DataFrame'>\n",
      "Int64Index: 7906 entries, 0 to 8127\n",
      "Data columns (total 42 columns):\n",
      " #   Column                        Non-Null Count  Dtype  \n",
      "---  ------                        --------------  -----  \n",
      " 0   selling_price                 7906 non-null   int64  \n",
      " 1   km_driven                     7906 non-null   int64  \n",
      " 2   mileage_kmpl                  7906 non-null   float64\n",
      " 3   engine(CC)                    7906 non-null   float64\n",
      " 4   maxpower_bhp                  7906 non-null   float64\n",
      " 5   year_2007                     7906 non-null   uint8  \n",
      " 6   year_2008                     7906 non-null   uint8  \n",
      " 7   year_2009                     7906 non-null   uint8  \n",
      " 8   year_2010                     7906 non-null   uint8  \n",
      " 9   year_2011                     7906 non-null   uint8  \n",
      " 10  year_2012                     7906 non-null   uint8  \n",
      " 11  year_2013                     7906 non-null   uint8  \n",
      " 12  year_2014                     7906 non-null   uint8  \n",
      " 13  year_2015                     7906 non-null   uint8  \n",
      " 14  year_2016                     7906 non-null   uint8  \n",
      " 15  year_2017                     7906 non-null   uint8  \n",
      " 16  year_2018                     7906 non-null   uint8  \n",
      " 17  year_2019                     7906 non-null   uint8  \n",
      " 18  year_Other                    7906 non-null   uint8  \n",
      " 19  fuel_CNG                      7906 non-null   uint8  \n",
      " 20  fuel_Diesel                   7906 non-null   uint8  \n",
      " 21  fuel_LPG                      7906 non-null   uint8  \n",
      " 22  fuel_Petrol                   7906 non-null   uint8  \n",
      " 23  seller_type_Dealer            7906 non-null   uint8  \n",
      " 24  seller_type_Individual        7906 non-null   uint8  \n",
      " 25  seller_type_Trustmark Dealer  7906 non-null   uint8  \n",
      " 26  transmission_Automatic        7906 non-null   uint8  \n",
      " 27  transmission_Manual           7906 non-null   uint8  \n",
      " 28  owner_First Owner             7906 non-null   uint8  \n",
      " 29  owner_Fourth & Above Owner    7906 non-null   uint8  \n",
      " 30  owner_Second Owner            7906 non-null   uint8  \n",
      " 31  owner_Test Drive Car          7906 non-null   uint8  \n",
      " 32  owner_Third Owner             7906 non-null   uint8  \n",
      " 33  seats_10.0                    7906 non-null   uint8  \n",
      " 34  seats_14.0                    7906 non-null   uint8  \n",
      " 35  seats_2.0                     7906 non-null   uint8  \n",
      " 36  seats_4.0                     7906 non-null   uint8  \n",
      " 37  seats_5.0                     7906 non-null   uint8  \n",
      " 38  seats_6.0                     7906 non-null   uint8  \n",
      " 39  seats_7.0                     7906 non-null   uint8  \n",
      " 40  seats_8.0                     7906 non-null   uint8  \n",
      " 41  seats_9.0                     7906 non-null   uint8  \n",
      "dtypes: float64(3), int64(2), uint8(37)\n",
      "memory usage: 656.3 KB\n"
     ]
    }
   ],
   "source": [
    "car_df.info()"
   ]
  },
  {
   "cell_type": "code",
   "execution_count": null,
   "metadata": {
    "colab": {
     "base_uri": "https://localhost:8080/"
    },
    "id": "IOtYPXSg5ETG",
    "outputId": "01806985-417c-4f34-d7e2-24896c131e06"
   },
   "outputs": [
    {
     "name": "stdout",
     "output_type": "stream",
     "text": [
      "Model: \"sequential\"\n",
      "_________________________________________________________________\n",
      " Layer (type)                Output Shape              Param #   \n",
      "=================================================================\n",
      " dense (Dense)               (None, 1000)              42000     \n",
      "                                                                 \n",
      " dense_1 (Dense)             (None, 500)               500500    \n",
      "                                                                 \n",
      " dense_2 (Dense)             (None, 250)               125250    \n",
      "                                                                 \n",
      " dense_3 (Dense)             (None, 1)                 251       \n",
      "                                                                 \n",
      "=================================================================\n",
      "Total params: 668,001\n",
      "Trainable params: 668,001\n",
      "Non-trainable params: 0\n",
      "_________________________________________________________________\n",
      "Epoch 1/200\n",
      "119/119 [==============================] - 3s 19ms/step - loss: 844685443072.0000 - mae: 482435.3750 - val_loss: 734895276032.0000 - val_mae: 386434.8125\n",
      "Epoch 2/200\n",
      "119/119 [==============================] - 2s 14ms/step - loss: 420578099200.0000 - mae: 338480.3438 - val_loss: 372173963264.0000 - val_mae: 311472.8438\n",
      "Epoch 3/200\n",
      "119/119 [==============================] - 2s 14ms/step - loss: 326198067200.0000 - mae: 333094.6562 - val_loss: 336316563456.0000 - val_mae: 321839.9688\n",
      "Epoch 4/200\n",
      "119/119 [==============================] - 2s 14ms/step - loss: 317563338752.0000 - mae: 327819.8750 - val_loss: 335708848128.0000 - val_mae: 319163.6562\n",
      "Epoch 5/200\n",
      "119/119 [==============================] - 2s 14ms/step - loss: 309128724480.0000 - mae: 323860.4375 - val_loss: 327491846144.0000 - val_mae: 332223.0312\n",
      "Epoch 6/200\n",
      "119/119 [==============================] - 2s 14ms/step - loss: 305793269760.0000 - mae: 319786.7812 - val_loss: 333010239488.0000 - val_mae: 314921.8438\n",
      "Epoch 7/200\n",
      "119/119 [==============================] - 2s 14ms/step - loss: 300866371584.0000 - mae: 317688.2812 - val_loss: 333112770560.0000 - val_mae: 304549.2500\n",
      "Epoch 8/200\n",
      "119/119 [==============================] - 2s 14ms/step - loss: 300271403008.0000 - mae: 315619.4062 - val_loss: 319518703616.0000 - val_mae: 330826.1562\n",
      "Epoch 9/200\n",
      "119/119 [==============================] - 2s 14ms/step - loss: 292581933056.0000 - mae: 314833.5938 - val_loss: 312923029504.0000 - val_mae: 317684.1562\n",
      "Epoch 10/200\n",
      "119/119 [==============================] - 2s 14ms/step - loss: 289059831808.0000 - mae: 312959.1250 - val_loss: 319103533056.0000 - val_mae: 342821.6562\n",
      "Epoch 11/200\n",
      "119/119 [==============================] - 2s 14ms/step - loss: 287090573312.0000 - mae: 312065.1562 - val_loss: 296972615680.0000 - val_mae: 309424.0938\n",
      "Epoch 12/200\n",
      "119/119 [==============================] - 2s 14ms/step - loss: 278777888768.0000 - mae: 310850.5312 - val_loss: 291560816640.0000 - val_mae: 312291.2500\n",
      "Epoch 13/200\n",
      "119/119 [==============================] - 2s 14ms/step - loss: 275378274304.0000 - mae: 307183.9062 - val_loss: 284255158272.0000 - val_mae: 298072.8438\n",
      "Epoch 14/200\n",
      "119/119 [==============================] - 2s 14ms/step - loss: 266552918016.0000 - mae: 305153.5000 - val_loss: 302497497088.0000 - val_mae: 284235.1875\n",
      "Epoch 15/200\n",
      "119/119 [==============================] - 2s 14ms/step - loss: 262571442176.0000 - mae: 302143.2188 - val_loss: 299646844928.0000 - val_mae: 281566.6875\n",
      "Epoch 16/200\n",
      "119/119 [==============================] - 2s 14ms/step - loss: 252132835328.0000 - mae: 297573.0000 - val_loss: 252426174464.0000 - val_mae: 292884.0000\n",
      "Epoch 17/200\n",
      "119/119 [==============================] - 2s 14ms/step - loss: 242375278592.0000 - mae: 293604.8750 - val_loss: 228980572160.0000 - val_mae: 293572.0000\n",
      "Epoch 18/200\n",
      "119/119 [==============================] - 2s 15ms/step - loss: 232571273216.0000 - mae: 287729.3438 - val_loss: 230339624960.0000 - val_mae: 264571.5312\n",
      "Epoch 19/200\n",
      "119/119 [==============================] - 2s 15ms/step - loss: 220099477504.0000 - mae: 282369.2812 - val_loss: 202210033664.0000 - val_mae: 293048.4688\n",
      "Epoch 20/200\n",
      "119/119 [==============================] - 2s 14ms/step - loss: 208790224896.0000 - mae: 276419.6562 - val_loss: 194705948672.0000 - val_mae: 272874.0000\n",
      "Epoch 21/200\n",
      "119/119 [==============================] - 2s 15ms/step - loss: 188759818240.0000 - mae: 265656.8750 - val_loss: 556092555264.0000 - val_mae: 549460.0625\n",
      "Epoch 22/200\n",
      "119/119 [==============================] - 2s 14ms/step - loss: 192687325184.0000 - mae: 265919.3750 - val_loss: 163657056256.0000 - val_mae: 281912.1250\n",
      "Epoch 23/200\n",
      "119/119 [==============================] - 2s 14ms/step - loss: 176390504448.0000 - mae: 257103.5156 - val_loss: 167596212224.0000 - val_mae: 296058.0625\n",
      "Epoch 24/200\n",
      "119/119 [==============================] - 2s 15ms/step - loss: 167369670656.0000 - mae: 250034.7812 - val_loss: 156150235136.0000 - val_mae: 227673.7500\n",
      "Epoch 25/200\n",
      "119/119 [==============================] - 2s 14ms/step - loss: 171939446784.0000 - mae: 248107.7188 - val_loss: 139131912192.0000 - val_mae: 237609.6562\n",
      "Epoch 26/200\n",
      "119/119 [==============================] - 2s 14ms/step - loss: 160664502272.0000 - mae: 242633.9375 - val_loss: 214812557312.0000 - val_mae: 339483.9062\n",
      "Epoch 27/200\n",
      "119/119 [==============================] - 2s 14ms/step - loss: 169179856896.0000 - mae: 249166.9688 - val_loss: 132087906304.0000 - val_mae: 217547.2500\n",
      "Epoch 28/200\n",
      "119/119 [==============================] - 2s 14ms/step - loss: 160953729024.0000 - mae: 244823.0312 - val_loss: 128737492992.0000 - val_mae: 218002.7656\n",
      "Epoch 29/200\n",
      "119/119 [==============================] - 2s 14ms/step - loss: 161547386880.0000 - mae: 241310.3750 - val_loss: 167671611392.0000 - val_mae: 303209.2812\n",
      "Epoch 30/200\n",
      "119/119 [==============================] - 2s 14ms/step - loss: 159027118080.0000 - mae: 240558.3125 - val_loss: 127457353728.0000 - val_mae: 231886.8281\n",
      "Epoch 31/200\n",
      "119/119 [==============================] - 2s 14ms/step - loss: 149134688256.0000 - mae: 235523.7500 - val_loss: 273873354752.0000 - val_mae: 414777.2812\n",
      "Epoch 32/200\n",
      "119/119 [==============================] - 2s 14ms/step - loss: 161675444224.0000 - mae: 243066.4375 - val_loss: 159998672896.0000 - val_mae: 220089.1719\n",
      "Epoch 33/200\n",
      "119/119 [==============================] - 2s 14ms/step - loss: 149293268992.0000 - mae: 237153.4531 - val_loss: 351752290304.0000 - val_mae: 384285.6875\n",
      "Epoch 34/200\n",
      "119/119 [==============================] - 2s 14ms/step - loss: 154409893888.0000 - mae: 235553.5469 - val_loss: 127342886912.0000 - val_mae: 209813.6094\n",
      "Epoch 35/200\n",
      "119/119 [==============================] - 2s 14ms/step - loss: 151841341440.0000 - mae: 235412.9844 - val_loss: 193015545856.0000 - val_mae: 241465.5312\n",
      "Epoch 36/200\n",
      "119/119 [==============================] - 2s 14ms/step - loss: 155069530112.0000 - mae: 239323.7344 - val_loss: 237348241408.0000 - val_mae: 340716.5000\n",
      "Epoch 37/200\n",
      "119/119 [==============================] - 2s 14ms/step - loss: 151240704000.0000 - mae: 233832.9219 - val_loss: 147253985280.0000 - val_mae: 220575.4844\n",
      "Epoch 38/200\n",
      "119/119 [==============================] - 2s 14ms/step - loss: 147406749696.0000 - mae: 231719.6875 - val_loss: 139179409408.0000 - val_mae: 256488.7969\n",
      "Epoch 39/200\n",
      "119/119 [==============================] - 2s 14ms/step - loss: 160012337152.0000 - mae: 239209.4219 - val_loss: 113268826112.0000 - val_mae: 209954.7188\n",
      "Epoch 40/200\n",
      "119/119 [==============================] - 2s 14ms/step - loss: 145176739840.0000 - mae: 233278.8438 - val_loss: 140231098368.0000 - val_mae: 215515.0781\n",
      "Epoch 41/200\n",
      "119/119 [==============================] - 2s 14ms/step - loss: 150674767872.0000 - mae: 234707.8750 - val_loss: 127768952832.0000 - val_mae: 238916.0469\n",
      "Epoch 42/200\n",
      "119/119 [==============================] - 2s 14ms/step - loss: 144624418816.0000 - mae: 233516.1875 - val_loss: 146478333952.0000 - val_mae: 215977.5781\n",
      "Epoch 43/200\n",
      "119/119 [==============================] - 2s 14ms/step - loss: 144311205888.0000 - mae: 231203.2500 - val_loss: 128833110016.0000 - val_mae: 207954.6094\n",
      "Epoch 44/200\n",
      "119/119 [==============================] - 2s 15ms/step - loss: 144717152256.0000 - mae: 232116.0469 - val_loss: 292846764032.0000 - val_mae: 284949.9688\n",
      "Epoch 45/200\n",
      "119/119 [==============================] - 2s 14ms/step - loss: 149633974272.0000 - mae: 234689.7969 - val_loss: 238345781248.0000 - val_mae: 250313.0312\n",
      "Epoch 46/200\n",
      "119/119 [==============================] - 2s 14ms/step - loss: 146119852032.0000 - mae: 231354.7656 - val_loss: 114536955904.0000 - val_mae: 206494.4844\n",
      "Epoch 47/200\n",
      "119/119 [==============================] - 2s 14ms/step - loss: 145059545088.0000 - mae: 231019.5156 - val_loss: 124664406016.0000 - val_mae: 214518.7188\n",
      "Epoch 48/200\n",
      "119/119 [==============================] - 2s 14ms/step - loss: 152453414912.0000 - mae: 234014.9219 - val_loss: 116736901120.0000 - val_mae: 202932.6562\n",
      "Epoch 49/200\n",
      "119/119 [==============================] - 2s 14ms/step - loss: 140426215424.0000 - mae: 228067.8438 - val_loss: 167550926848.0000 - val_mae: 220262.7812\n",
      "Epoch 50/200\n",
      "119/119 [==============================] - 2s 14ms/step - loss: 136973041664.0000 - mae: 227016.5781 - val_loss: 129222418432.0000 - val_mae: 264487.4062\n",
      "Epoch 51/200\n",
      "119/119 [==============================] - 2s 14ms/step - loss: 147350028288.0000 - mae: 230143.4844 - val_loss: 131093184512.0000 - val_mae: 242744.4219\n",
      "Epoch 52/200\n",
      "119/119 [==============================] - 2s 14ms/step - loss: 134992379904.0000 - mae: 226677.5781 - val_loss: 121969082368.0000 - val_mae: 213690.0312\n",
      "Epoch 53/200\n",
      "119/119 [==============================] - 2s 14ms/step - loss: 140407554048.0000 - mae: 229965.6719 - val_loss: 176533635072.0000 - val_mae: 272858.8750\n",
      "Epoch 54/200\n",
      "119/119 [==============================] - 2s 21ms/step - loss: 143369519104.0000 - mae: 229165.3594 - val_loss: 125786759168.0000 - val_mae: 233957.7812\n",
      "Epoch 55/200\n",
      "119/119 [==============================] - 3s 29ms/step - loss: 138963451904.0000 - mae: 226900.3281 - val_loss: 217165905920.0000 - val_mae: 343865.5625\n",
      "Epoch 56/200\n",
      "119/119 [==============================] - 2s 14ms/step - loss: 140295110656.0000 - mae: 229619.2812 - val_loss: 144916021248.0000 - val_mae: 214965.5938\n",
      "Epoch 57/200\n",
      "119/119 [==============================] - 2s 14ms/step - loss: 139136122880.0000 - mae: 223887.2031 - val_loss: 183085350912.0000 - val_mae: 220962.1719\n",
      "Epoch 58/200\n",
      "119/119 [==============================] - 2s 14ms/step - loss: 141256458240.0000 - mae: 229410.7344 - val_loss: 103863238656.0000 - val_mae: 203608.9531\n",
      "Epoch 59/200\n",
      "119/119 [==============================] - 2s 14ms/step - loss: 138086662144.0000 - mae: 227824.1562 - val_loss: 171655004160.0000 - val_mae: 252389.6094\n",
      "Epoch 60/200\n",
      "119/119 [==============================] - 2s 14ms/step - loss: 140832178176.0000 - mae: 225345.9375 - val_loss: 154780598272.0000 - val_mae: 301416.2188\n",
      "Epoch 61/200\n",
      "119/119 [==============================] - 2s 14ms/step - loss: 134287630336.0000 - mae: 225457.1094 - val_loss: 135753015296.0000 - val_mae: 243263.4844\n",
      "Epoch 62/200\n",
      "119/119 [==============================] - 2s 14ms/step - loss: 133307506688.0000 - mae: 222876.0156 - val_loss: 252638019584.0000 - val_mae: 353154.4062\n",
      "Epoch 63/200\n",
      "119/119 [==============================] - 2s 14ms/step - loss: 138409132032.0000 - mae: 225819.8125 - val_loss: 102281388032.0000 - val_mae: 196828.4531\n",
      "Epoch 64/200\n",
      "119/119 [==============================] - 2s 14ms/step - loss: 132993458176.0000 - mae: 225900.7031 - val_loss: 156698198016.0000 - val_mae: 263658.3438\n",
      "Epoch 65/200\n",
      "119/119 [==============================] - 2s 14ms/step - loss: 131454926848.0000 - mae: 223306.7031 - val_loss: 105211658240.0000 - val_mae: 209379.4219\n",
      "Epoch 66/200\n",
      "119/119 [==============================] - 2s 14ms/step - loss: 133312774144.0000 - mae: 223925.1719 - val_loss: 199821377536.0000 - val_mae: 230543.7656\n",
      "Epoch 67/200\n",
      "119/119 [==============================] - 2s 14ms/step - loss: 135604944896.0000 - mae: 224616.8750 - val_loss: 155350056960.0000 - val_mae: 216085.3594\n",
      "Epoch 68/200\n",
      "119/119 [==============================] - 2s 14ms/step - loss: 133034033152.0000 - mae: 223826.2500 - val_loss: 159663046656.0000 - val_mae: 215483.9688\n",
      "Epoch 69/200\n",
      "119/119 [==============================] - 2s 14ms/step - loss: 136156971008.0000 - mae: 225771.0781 - val_loss: 120633843712.0000 - val_mae: 198992.6094\n",
      "Epoch 70/200\n",
      "119/119 [==============================] - 2s 14ms/step - loss: 131055599616.0000 - mae: 220056.0469 - val_loss: 110784118784.0000 - val_mae: 205152.3281\n",
      "Epoch 71/200\n",
      "119/119 [==============================] - 2s 14ms/step - loss: 133004230656.0000 - mae: 222621.8594 - val_loss: 119392370688.0000 - val_mae: 204119.2344\n",
      "Epoch 72/200\n",
      "119/119 [==============================] - 2s 15ms/step - loss: 127186665472.0000 - mae: 221762.5156 - val_loss: 118309634048.0000 - val_mae: 197853.8594\n",
      "Epoch 73/200\n",
      "119/119 [==============================] - 2s 14ms/step - loss: 132084187136.0000 - mae: 223232.2656 - val_loss: 103574913024.0000 - val_mae: 190772.6562\n",
      "Epoch 74/200\n",
      "119/119 [==============================] - 2s 15ms/step - loss: 124283297792.0000 - mae: 219075.0625 - val_loss: 129227251712.0000 - val_mae: 202082.5781\n",
      "Epoch 75/200\n",
      "119/119 [==============================] - 2s 15ms/step - loss: 132629798912.0000 - mae: 220876.5312 - val_loss: 123330191360.0000 - val_mae: 209904.7656\n",
      "Epoch 76/200\n",
      "119/119 [==============================] - 2s 14ms/step - loss: 130542518272.0000 - mae: 220708.3281 - val_loss: 92300500992.0000 - val_mae: 194387.3438\n",
      "Epoch 77/200\n",
      "119/119 [==============================] - 2s 14ms/step - loss: 130467815424.0000 - mae: 219792.2812 - val_loss: 102632620032.0000 - val_mae: 210013.0312\n",
      "Epoch 78/200\n",
      "119/119 [==============================] - 2s 14ms/step - loss: 128899219456.0000 - mae: 219900.1719 - val_loss: 120724062208.0000 - val_mae: 215878.7031\n",
      "Epoch 79/200\n",
      "119/119 [==============================] - 2s 15ms/step - loss: 128311549952.0000 - mae: 220088.0156 - val_loss: 233478864896.0000 - val_mae: 277762.3125\n",
      "Epoch 80/200\n",
      "119/119 [==============================] - 2s 14ms/step - loss: 128618184704.0000 - mae: 220061.2031 - val_loss: 103085613056.0000 - val_mae: 195149.7344\n",
      "Epoch 81/200\n",
      "119/119 [==============================] - 2s 14ms/step - loss: 127951781888.0000 - mae: 217665.3906 - val_loss: 120752791552.0000 - val_mae: 196934.0469\n",
      "Epoch 82/200\n",
      "119/119 [==============================] - 2s 14ms/step - loss: 126365229056.0000 - mae: 215515.1406 - val_loss: 481732558848.0000 - val_mae: 486938.7188\n",
      "Epoch 83/200\n",
      "119/119 [==============================] - 2s 14ms/step - loss: 125399654400.0000 - mae: 216854.1250 - val_loss: 123636473856.0000 - val_mae: 197652.1875\n",
      "Epoch 84/200\n",
      "119/119 [==============================] - 2s 14ms/step - loss: 122316234752.0000 - mae: 215783.5000 - val_loss: 100503896064.0000 - val_mae: 196123.2500\n",
      "Epoch 85/200\n",
      "119/119 [==============================] - 2s 14ms/step - loss: 127084462080.0000 - mae: 217440.3281 - val_loss: 112206667776.0000 - val_mae: 196002.5625\n",
      "Epoch 86/200\n",
      "119/119 [==============================] - 2s 14ms/step - loss: 125738639360.0000 - mae: 218180.3125 - val_loss: 98611167232.0000 - val_mae: 192524.2812\n",
      "Epoch 87/200\n",
      "119/119 [==============================] - 2s 15ms/step - loss: 124692684800.0000 - mae: 216320.1562 - val_loss: 100876222464.0000 - val_mae: 217048.2812\n",
      "Epoch 88/200\n",
      "119/119 [==============================] - 2s 15ms/step - loss: 123831828480.0000 - mae: 215755.3594 - val_loss: 95863906304.0000 - val_mae: 187401.8594\n",
      "Epoch 89/200\n",
      "119/119 [==============================] - 2s 15ms/step - loss: 128178741248.0000 - mae: 219926.6250 - val_loss: 94909808640.0000 - val_mae: 194395.0469\n",
      "Epoch 90/200\n",
      "119/119 [==============================] - 2s 14ms/step - loss: 121412034560.0000 - mae: 216942.1094 - val_loss: 87338491904.0000 - val_mae: 191155.9844\n",
      "Epoch 91/200\n",
      "119/119 [==============================] - 2s 14ms/step - loss: 116433084416.0000 - mae: 212420.2812 - val_loss: 120760188928.0000 - val_mae: 200306.9219\n",
      "Epoch 92/200\n",
      "119/119 [==============================] - 2s 14ms/step - loss: 126401806336.0000 - mae: 216447.3281 - val_loss: 104029552640.0000 - val_mae: 197803.4531\n",
      "Epoch 93/200\n",
      "119/119 [==============================] - 2s 14ms/step - loss: 122668924928.0000 - mae: 214496.7188 - val_loss: 177618452480.0000 - val_mae: 320196.2188\n",
      "Epoch 94/200\n",
      "119/119 [==============================] - 2s 15ms/step - loss: 125853179904.0000 - mae: 216902.4062 - val_loss: 185465585664.0000 - val_mae: 296701.0000\n",
      "Epoch 95/200\n",
      "119/119 [==============================] - 2s 14ms/step - loss: 118995427328.0000 - mae: 213987.0312 - val_loss: 91493113856.0000 - val_mae: 185547.7344\n",
      "Epoch 96/200\n",
      "119/119 [==============================] - 2s 14ms/step - loss: 121832718336.0000 - mae: 214869.7500 - val_loss: 102662529024.0000 - val_mae: 194250.8906\n",
      "Epoch 97/200\n",
      "119/119 [==============================] - 2s 14ms/step - loss: 120547573760.0000 - mae: 215403.6406 - val_loss: 209285627904.0000 - val_mae: 230138.8750\n",
      "Epoch 98/200\n",
      "119/119 [==============================] - 2s 14ms/step - loss: 121182289920.0000 - mae: 213417.1875 - val_loss: 159302172672.0000 - val_mae: 212591.2031\n",
      "Epoch 99/200\n",
      "119/119 [==============================] - 2s 14ms/step - loss: 121667125248.0000 - mae: 214870.6719 - val_loss: 124285419520.0000 - val_mae: 213891.0156\n",
      "Epoch 100/200\n",
      "119/119 [==============================] - 2s 14ms/step - loss: 115715203072.0000 - mae: 211378.0938 - val_loss: 257166786560.0000 - val_mae: 368900.2188\n",
      "Epoch 101/200\n",
      "119/119 [==============================] - 2s 14ms/step - loss: 116733272064.0000 - mae: 211362.5000 - val_loss: 99529498624.0000 - val_mae: 224809.0625\n",
      "Epoch 102/200\n",
      "119/119 [==============================] - 2s 14ms/step - loss: 123110711296.0000 - mae: 216187.6562 - val_loss: 206795128832.0000 - val_mae: 228305.5312\n",
      "Epoch 103/200\n",
      "119/119 [==============================] - 2s 14ms/step - loss: 117076942848.0000 - mae: 213303.4844 - val_loss: 181243461632.0000 - val_mae: 300704.5938\n",
      "Epoch 104/200\n",
      "119/119 [==============================] - 2s 15ms/step - loss: 121989824512.0000 - mae: 212753.8750 - val_loss: 98015723520.0000 - val_mae: 186567.2344\n",
      "Epoch 105/200\n",
      "119/119 [==============================] - 2s 15ms/step - loss: 114295537664.0000 - mae: 210404.6719 - val_loss: 114452783104.0000 - val_mae: 239929.3125\n",
      "Epoch 106/200\n",
      "119/119 [==============================] - 2s 15ms/step - loss: 120839634944.0000 - mae: 212799.7969 - val_loss: 89646366720.0000 - val_mae: 185288.4688\n",
      "Epoch 107/200\n",
      "119/119 [==============================] - 2s 16ms/step - loss: 121869279232.0000 - mae: 213371.4375 - val_loss: 156734013440.0000 - val_mae: 231819.4688\n",
      "Epoch 108/200\n",
      "119/119 [==============================] - 2s 15ms/step - loss: 116738760704.0000 - mae: 212868.7344 - val_loss: 104602304512.0000 - val_mae: 190160.4375\n",
      "Epoch 109/200\n",
      "119/119 [==============================] - 2s 15ms/step - loss: 114275655680.0000 - mae: 209621.1719 - val_loss: 95047655424.0000 - val_mae: 196133.4375\n",
      "Epoch 110/200\n",
      "119/119 [==============================] - 2s 15ms/step - loss: 118133080064.0000 - mae: 211221.2812 - val_loss: 156744253440.0000 - val_mae: 209898.7656\n",
      "Epoch 111/200\n",
      "119/119 [==============================] - 2s 14ms/step - loss: 117889810432.0000 - mae: 210369.9688 - val_loss: 87693254656.0000 - val_mae: 181715.4219\n",
      "Epoch 112/200\n",
      "119/119 [==============================] - 2s 21ms/step - loss: 119658274816.0000 - mae: 215019.9219 - val_loss: 85224636416.0000 - val_mae: 186623.4844\n",
      "Epoch 113/200\n",
      "119/119 [==============================] - 2s 18ms/step - loss: 116788215808.0000 - mae: 211613.0000 - val_loss: 214583869440.0000 - val_mae: 245204.6250\n",
      "Epoch 114/200\n",
      "119/119 [==============================] - 2s 14ms/step - loss: 116003823616.0000 - mae: 209964.7031 - val_loss: 97979858944.0000 - val_mae: 185130.1250\n",
      "Epoch 115/200\n",
      "119/119 [==============================] - 2s 14ms/step - loss: 116294500352.0000 - mae: 208787.2188 - val_loss: 89132015616.0000 - val_mae: 187011.2188\n",
      "Epoch 116/200\n",
      "119/119 [==============================] - 2s 14ms/step - loss: 116023492608.0000 - mae: 209704.5156 - val_loss: 106351771648.0000 - val_mae: 187166.0156\n",
      "Epoch 117/200\n",
      "119/119 [==============================] - 2s 15ms/step - loss: 118809165824.0000 - mae: 211951.7656 - val_loss: 91011833856.0000 - val_mae: 198921.6250\n",
      "Epoch 118/200\n",
      "119/119 [==============================] - 2s 15ms/step - loss: 115812040704.0000 - mae: 210791.1250 - val_loss: 89928466432.0000 - val_mae: 211746.0938\n",
      "Epoch 119/200\n",
      "119/119 [==============================] - 2s 15ms/step - loss: 115508355072.0000 - mae: 211395.8750 - val_loss: 175843688448.0000 - val_mae: 302023.6875\n",
      "Epoch 120/200\n",
      "119/119 [==============================] - 2s 14ms/step - loss: 112111689728.0000 - mae: 209934.0938 - val_loss: 138490019840.0000 - val_mae: 206324.3594\n",
      "Epoch 121/200\n",
      "119/119 [==============================] - 2s 14ms/step - loss: 118790111232.0000 - mae: 211541.0000 - val_loss: 93850140672.0000 - val_mae: 184019.8750\n",
      "Epoch 122/200\n",
      "119/119 [==============================] - 2s 14ms/step - loss: 111880560640.0000 - mae: 208578.6875 - val_loss: 122702028800.0000 - val_mae: 244212.0156\n",
      "Epoch 123/200\n",
      "119/119 [==============================] - 2s 14ms/step - loss: 117203509248.0000 - mae: 209874.7969 - val_loss: 99054403584.0000 - val_mae: 187578.0312\n",
      "Epoch 124/200\n",
      "119/119 [==============================] - 2s 15ms/step - loss: 114367414272.0000 - mae: 208066.9844 - val_loss: 92469493760.0000 - val_mae: 184302.8906\n",
      "Epoch 125/200\n",
      "119/119 [==============================] - 2s 14ms/step - loss: 116660142080.0000 - mae: 209215.5312 - val_loss: 163061858304.0000 - val_mae: 212319.2656\n",
      "Epoch 126/200\n",
      "119/119 [==============================] - 2s 14ms/step - loss: 113664352256.0000 - mae: 210311.9375 - val_loss: 146516312064.0000 - val_mae: 207963.5000\n",
      "Epoch 127/200\n",
      "119/119 [==============================] - 2s 14ms/step - loss: 114625699840.0000 - mae: 210047.2812 - val_loss: 84985634816.0000 - val_mae: 190320.8438\n",
      "Epoch 128/200\n",
      "119/119 [==============================] - 2s 14ms/step - loss: 112830873600.0000 - mae: 205733.6719 - val_loss: 89850912768.0000 - val_mae: 189396.2656\n",
      "Epoch 129/200\n",
      "119/119 [==============================] - 2s 14ms/step - loss: 112453525504.0000 - mae: 208217.1875 - val_loss: 180209909760.0000 - val_mae: 302473.3125\n",
      "Epoch 130/200\n",
      "119/119 [==============================] - 2s 15ms/step - loss: 113679990784.0000 - mae: 207112.6094 - val_loss: 93578092544.0000 - val_mae: 191419.0469\n",
      "Epoch 131/200\n",
      "119/119 [==============================] - 2s 14ms/step - loss: 108165021696.0000 - mae: 206695.9062 - val_loss: 119214596096.0000 - val_mae: 199860.2188\n",
      "Epoch 132/200\n",
      "119/119 [==============================] - 2s 16ms/step - loss: 114346418176.0000 - mae: 207710.7500 - val_loss: 88736456704.0000 - val_mae: 194116.4844\n",
      "Epoch 133/200\n",
      "119/119 [==============================] - 2s 15ms/step - loss: 113312112640.0000 - mae: 209535.2656 - val_loss: 118826033152.0000 - val_mae: 195391.7188\n",
      "Epoch 134/200\n",
      "119/119 [==============================] - 2s 14ms/step - loss: 112741933056.0000 - mae: 205930.6250 - val_loss: 114395152384.0000 - val_mae: 228495.5312\n",
      "Epoch 135/200\n",
      "119/119 [==============================] - 2s 14ms/step - loss: 110260731904.0000 - mae: 208173.7031 - val_loss: 100896989184.0000 - val_mae: 210536.0469\n",
      "Epoch 136/200\n",
      "119/119 [==============================] - 2s 15ms/step - loss: 110543986688.0000 - mae: 207072.4375 - val_loss: 102749642752.0000 - val_mae: 217890.3438\n",
      "Epoch 137/200\n",
      "119/119 [==============================] - 2s 14ms/step - loss: 112866639872.0000 - mae: 207361.5781 - val_loss: 114780717056.0000 - val_mae: 199931.2812\n",
      "Epoch 138/200\n",
      "119/119 [==============================] - 2s 16ms/step - loss: 109063651328.0000 - mae: 204416.1562 - val_loss: 79767232512.0000 - val_mae: 180146.9844\n",
      "Epoch 139/200\n",
      "119/119 [==============================] - 2s 14ms/step - loss: 116329578496.0000 - mae: 208285.8125 - val_loss: 119994753024.0000 - val_mae: 196835.9219\n",
      "Epoch 140/200\n",
      "119/119 [==============================] - 2s 14ms/step - loss: 109422403584.0000 - mae: 204991.8125 - val_loss: 266922459136.0000 - val_mae: 285669.8438\n",
      "Epoch 141/200\n",
      "119/119 [==============================] - 2s 14ms/step - loss: 111080587264.0000 - mae: 204958.6094 - val_loss: 92627378176.0000 - val_mae: 194549.0312\n",
      "Epoch 142/200\n",
      "119/119 [==============================] - 2s 15ms/step - loss: 107477975040.0000 - mae: 206463.1719 - val_loss: 105430851584.0000 - val_mae: 188419.9531\n",
      "Epoch 143/200\n",
      "119/119 [==============================] - 2s 15ms/step - loss: 109376380928.0000 - mae: 205962.5938 - val_loss: 101777358848.0000 - val_mae: 184733.3125\n",
      "Epoch 144/200\n",
      "119/119 [==============================] - 2s 15ms/step - loss: 112385818624.0000 - mae: 206453.8594 - val_loss: 125425672192.0000 - val_mae: 204609.7969\n",
      "Epoch 145/200\n",
      "119/119 [==============================] - 2s 15ms/step - loss: 108727296000.0000 - mae: 204875.5000 - val_loss: 119687839744.0000 - val_mae: 223771.6094\n",
      "Epoch 146/200\n",
      "119/119 [==============================] - 2s 15ms/step - loss: 108640616448.0000 - mae: 206635.5625 - val_loss: 86985105408.0000 - val_mae: 179141.9062\n",
      "Epoch 147/200\n",
      "119/119 [==============================] - 2s 15ms/step - loss: 106195976192.0000 - mae: 201981.4062 - val_loss: 118840729600.0000 - val_mae: 256815.9688\n",
      "Epoch 148/200\n",
      "119/119 [==============================] - 2s 15ms/step - loss: 112631242752.0000 - mae: 204948.7656 - val_loss: 83732488192.0000 - val_mae: 192190.2656\n",
      "Epoch 149/200\n",
      "119/119 [==============================] - 2s 14ms/step - loss: 106608427008.0000 - mae: 203099.3438 - val_loss: 82987040768.0000 - val_mae: 198718.0781\n",
      "Epoch 150/200\n",
      "119/119 [==============================] - 2s 16ms/step - loss: 112917028864.0000 - mae: 204859.5156 - val_loss: 174678392832.0000 - val_mae: 223108.0938\n",
      "Epoch 151/200\n",
      "119/119 [==============================] - 2s 14ms/step - loss: 104683921408.0000 - mae: 202311.2656 - val_loss: 96422313984.0000 - val_mae: 192336.8125\n",
      "Epoch 152/200\n",
      "119/119 [==============================] - 2s 15ms/step - loss: 111088689152.0000 - mae: 208861.7031 - val_loss: 100880711680.0000 - val_mae: 183799.1562\n",
      "Epoch 153/200\n",
      "119/119 [==============================] - 2s 14ms/step - loss: 109084057600.0000 - mae: 202099.1562 - val_loss: 111445606400.0000 - val_mae: 198679.4062\n",
      "Epoch 154/200\n",
      "119/119 [==============================] - 2s 15ms/step - loss: 107556167680.0000 - mae: 203363.2188 - val_loss: 85209718784.0000 - val_mae: 193514.1875\n",
      "Epoch 155/200\n",
      "119/119 [==============================] - 2s 16ms/step - loss: 107998126080.0000 - mae: 205909.3594 - val_loss: 87561166848.0000 - val_mae: 197269.2344\n",
      "Epoch 156/200\n",
      "119/119 [==============================] - 2s 15ms/step - loss: 107154522112.0000 - mae: 203160.3594 - val_loss: 79991422976.0000 - val_mae: 181960.9531\n",
      "Epoch 157/200\n",
      "119/119 [==============================] - 2s 14ms/step - loss: 112489553920.0000 - mae: 205061.8906 - val_loss: 234750771200.0000 - val_mae: 373311.9688\n",
      "Epoch 158/200\n",
      "119/119 [==============================] - 2s 15ms/step - loss: 111458426880.0000 - mae: 205663.5469 - val_loss: 91402436608.0000 - val_mae: 177819.1562\n",
      "Epoch 159/200\n",
      "119/119 [==============================] - 2s 15ms/step - loss: 107147829248.0000 - mae: 201583.3594 - val_loss: 98986328064.0000 - val_mae: 217371.9375\n",
      "Epoch 160/200\n",
      "119/119 [==============================] - 2s 15ms/step - loss: 105731309568.0000 - mae: 203445.1562 - val_loss: 85629272064.0000 - val_mae: 202117.0625\n",
      "Epoch 161/200\n",
      "119/119 [==============================] - 2s 15ms/step - loss: 110918877184.0000 - mae: 201643.3438 - val_loss: 187103903744.0000 - val_mae: 334205.1250\n",
      "Epoch 162/200\n",
      "119/119 [==============================] - 2s 14ms/step - loss: 106584883200.0000 - mae: 201143.1562 - val_loss: 81431396352.0000 - val_mae: 190941.0469\n",
      "Epoch 163/200\n",
      "119/119 [==============================] - 2s 14ms/step - loss: 105963085824.0000 - mae: 203395.1719 - val_loss: 89297395712.0000 - val_mae: 182060.7969\n",
      "Epoch 164/200\n",
      "119/119 [==============================] - 2s 14ms/step - loss: 107551465472.0000 - mae: 204173.4219 - val_loss: 118581600256.0000 - val_mae: 233340.0938\n",
      "Epoch 165/200\n",
      "119/119 [==============================] - 2s 15ms/step - loss: 104898805760.0000 - mae: 202914.6094 - val_loss: 85241774080.0000 - val_mae: 179330.1562\n",
      "Epoch 166/200\n",
      "119/119 [==============================] - 2s 14ms/step - loss: 106065149952.0000 - mae: 201421.3594 - val_loss: 105883295744.0000 - val_mae: 186978.6094\n",
      "Epoch 167/200\n",
      "119/119 [==============================] - 2s 14ms/step - loss: 106649468928.0000 - mae: 201646.2188 - val_loss: 170687447040.0000 - val_mae: 218228.4844\n",
      "Epoch 168/200\n",
      "119/119 [==============================] - 2s 15ms/step - loss: 104760500224.0000 - mae: 201516.3594 - val_loss: 157008838656.0000 - val_mae: 209544.5625\n",
      "Epoch 169/200\n",
      "119/119 [==============================] - 2s 15ms/step - loss: 105637912576.0000 - mae: 200993.2188 - val_loss: 145307041792.0000 - val_mae: 250826.2188\n",
      "Epoch 170/200\n",
      "119/119 [==============================] - 2s 15ms/step - loss: 105879085056.0000 - mae: 200191.8438 - val_loss: 105643376640.0000 - val_mae: 184272.5000\n",
      "Epoch 171/200\n",
      "119/119 [==============================] - 2s 15ms/step - loss: 99328122880.0000 - mae: 198646.3750 - val_loss: 90091651072.0000 - val_mae: 184787.6250\n",
      "Epoch 172/200\n",
      "119/119 [==============================] - 2s 15ms/step - loss: 105353388032.0000 - mae: 202163.0312 - val_loss: 160337854464.0000 - val_mae: 215414.7188\n",
      "Epoch 173/200\n",
      "119/119 [==============================] - 2s 14ms/step - loss: 103666966528.0000 - mae: 201305.3750 - val_loss: 83950501888.0000 - val_mae: 188100.9219\n",
      "Epoch 174/200\n",
      "119/119 [==============================] - 2s 14ms/step - loss: 105226756096.0000 - mae: 201783.0469 - val_loss: 102369525760.0000 - val_mae: 219114.9531\n",
      "Epoch 175/200\n",
      "119/119 [==============================] - 2s 14ms/step - loss: 98545229824.0000 - mae: 198826.5469 - val_loss: 115360448512.0000 - val_mae: 253278.4531\n",
      "Epoch 176/200\n",
      "119/119 [==============================] - 2s 14ms/step - loss: 103738351616.0000 - mae: 199145.3906 - val_loss: 82691833856.0000 - val_mae: 179946.7344\n",
      "Epoch 177/200\n",
      "119/119 [==============================] - 2s 15ms/step - loss: 102524600320.0000 - mae: 199950.1250 - val_loss: 133127979008.0000 - val_mae: 235582.2188\n",
      "Epoch 178/200\n",
      "119/119 [==============================] - 2s 15ms/step - loss: 99452436480.0000 - mae: 199122.2812 - val_loss: 83165970432.0000 - val_mae: 193051.7500\n",
      "Epoch 179/200\n",
      "119/119 [==============================] - 2s 14ms/step - loss: 105522413568.0000 - mae: 200942.8750 - val_loss: 89275367424.0000 - val_mae: 182412.3438\n",
      "Epoch 180/200\n",
      "119/119 [==============================] - 2s 14ms/step - loss: 102476234752.0000 - mae: 199614.1719 - val_loss: 134501294080.0000 - val_mae: 198825.2656\n",
      "Epoch 181/200\n",
      "119/119 [==============================] - 2s 14ms/step - loss: 101674278912.0000 - mae: 200341.1719 - val_loss: 77135855616.0000 - val_mae: 186767.4062\n",
      "Epoch 182/200\n",
      "119/119 [==============================] - 2s 16ms/step - loss: 104047599616.0000 - mae: 199579.5938 - val_loss: 102772973568.0000 - val_mae: 201593.1875\n",
      "Epoch 183/200\n",
      "119/119 [==============================] - 2s 14ms/step - loss: 103801331712.0000 - mae: 199724.3438 - val_loss: 156565078016.0000 - val_mae: 239187.7812\n",
      "Epoch 184/200\n",
      "119/119 [==============================] - 2s 15ms/step - loss: 102756605952.0000 - mae: 199815.4531 - val_loss: 84774739968.0000 - val_mae: 177182.5625\n",
      "Epoch 185/200\n",
      "119/119 [==============================] - 2s 15ms/step - loss: 104517566464.0000 - mae: 199443.7812 - val_loss: 150500474880.0000 - val_mae: 224627.4062\n",
      "Epoch 186/200\n",
      "119/119 [==============================] - 2s 15ms/step - loss: 110910160896.0000 - mae: 202404.1562 - val_loss: 80274677760.0000 - val_mae: 186577.8594\n",
      "Epoch 187/200\n",
      "119/119 [==============================] - 2s 15ms/step - loss: 103329005568.0000 - mae: 198225.2656 - val_loss: 86913499136.0000 - val_mae: 184137.3906\n",
      "Epoch 188/200\n",
      "119/119 [==============================] - 2s 15ms/step - loss: 102685196288.0000 - mae: 198148.8750 - val_loss: 120281137152.0000 - val_mae: 193514.1250\n",
      "Epoch 189/200\n",
      "119/119 [==============================] - 2s 14ms/step - loss: 101096759296.0000 - mae: 197336.6875 - val_loss: 96651673600.0000 - val_mae: 178847.5312\n",
      "Epoch 190/200\n",
      "119/119 [==============================] - 2s 15ms/step - loss: 103265959936.0000 - mae: 199801.2656 - val_loss: 78720319488.0000 - val_mae: 193431.2812\n",
      "Epoch 191/200\n",
      "119/119 [==============================] - 2s 14ms/step - loss: 101187780608.0000 - mae: 196983.8125 - val_loss: 90136674304.0000 - val_mae: 201029.6094\n",
      "Epoch 192/200\n",
      "119/119 [==============================] - 2s 14ms/step - loss: 101433761792.0000 - mae: 198883.6562 - val_loss: 76710297600.0000 - val_mae: 180644.9062\n",
      "Epoch 193/200\n",
      "119/119 [==============================] - 2s 14ms/step - loss: 99313287168.0000 - mae: 196979.2031 - val_loss: 79684116480.0000 - val_mae: 170189.2656\n",
      "Epoch 194/200\n",
      "119/119 [==============================] - 2s 14ms/step - loss: 101467840512.0000 - mae: 197697.9688 - val_loss: 93955923968.0000 - val_mae: 190307.9688\n",
      "Epoch 195/200\n",
      "119/119 [==============================] - 2s 15ms/step - loss: 100360994816.0000 - mae: 198542.8281 - val_loss: 83999776768.0000 - val_mae: 175856.8594\n",
      "Epoch 196/200\n",
      "119/119 [==============================] - 2s 16ms/step - loss: 97065803776.0000 - mae: 195158.6406 - val_loss: 222680268800.0000 - val_mae: 272392.7500\n",
      "Epoch 197/200\n",
      "119/119 [==============================] - 2s 16ms/step - loss: 102571876352.0000 - mae: 198764.1875 - val_loss: 81940570112.0000 - val_mae: 198520.5469\n",
      "Epoch 198/200\n",
      "119/119 [==============================] - 2s 15ms/step - loss: 95944089600.0000 - mae: 194262.0781 - val_loss: 107078778880.0000 - val_mae: 184543.8125\n",
      "Epoch 199/200\n",
      "119/119 [==============================] - 2s 14ms/step - loss: 101373952000.0000 - mae: 197171.7031 - val_loss: 83390464000.0000 - val_mae: 196912.5938\n",
      "Epoch 200/200\n",
      "119/119 [==============================] - 2s 15ms/step - loss: 101434892288.0000 - mae: 196920.7500 - val_loss: 80290349056.0000 - val_mae: 185530.7031\n"
     ]
    }
   ],
   "source": [
    "model = Sequential()\n",
    "model.add(Dense(1000, input_shape=(X_train.shape[1],), activation='relu')) # (features,)\n",
    "model.add(Dense(500, activation='relu'))\n",
    "model.add(Dense(250, activation='relu'))\n",
    "model.add(Dense(1, activation='linear')) # output node\n",
    "model.summary() # see what your model looks like\n",
    "\n",
    "# compile the model\n",
    "model.compile(optimizer='rmsprop', loss='mse', metrics=['mae'])\n",
    "\n",
    "# early stopping callback\n",
    "es = EarlyStopping(monitor='val_loss',\n",
    "                   mode='min',\n",
    "                   patience=50,\n",
    "                   restore_best_weights = True)\n",
    "\n",
    "# fit the model!\n",
    "# attach it to a new variable called 'history' in case\n",
    "# to look at the learning curves\n",
    "history = model.fit(X_train, y_train,\n",
    "                    validation_data = (X_test, y_test),\n",
    "                    callbacks=[es],\n",
    "                    epochs=200,\n",
    "                    batch_size=50,\n",
    "                    verbose=1)"
   ]
  },
  {
   "cell_type": "code",
   "execution_count": null,
   "metadata": {
    "colab": {
     "base_uri": "https://localhost:8080/",
     "height": 295
    },
    "id": "OkTikV4V50tK",
    "outputId": "b9ce0a67-8e05-4508-ed80-da83e8d1c4a6"
   },
   "outputs": [
    {
     "data": {
      "image/png": "[encoded data removed]",
      "text/plain": [
       "<Figure size 432x288 with 1 Axes>"
      ]
     },
     "metadata": {
      "needs_background": "light"
     },
     "output_type": "display_data"
    }
   ],
   "source": [
    "# let's see the training and validation accuracy by epoch\n",
    "history_dict = history.history\n",
    "loss_values = history_dict['loss'] # you can change this\n",
    "val_loss_values = history_dict['val_loss'] # you can also change this\n",
    "epochs = range(1, len(loss_values) + 1) # range of X (no. of epochs)\n",
    "plt.plot(epochs, loss_values, 'bo', label='Training loss')\n",
    "plt.plot(epochs, val_loss_values, 'orange', label='Validation loss')\n",
    "plt.title('Training and validation loss')\n",
    "plt.xlabel('Epochs')\n",
    "plt.ylabel('Loss')\n",
    "plt.legend()\n",
    "plt.savefig(\"images/training_vs_validation_loss.png\")\n",
    "plt.show()"
   ]
  },
  {
   "cell_type": "code",
   "execution_count": null,
   "metadata": {
    "colab": {
     "base_uri": "https://localhost:8080/",
     "height": 332
    },
    "id": "I_-jNtLK562Q",
    "outputId": "dc95c134-2e99-45a3-b8e8-c07ed990adb9"
   },
   "outputs": [
    {
     "name": "stdout",
     "output_type": "stream",
     "text": [
      "186/186 [==============================] - 1s 3ms/step\n",
      "62/62 [==============================] - 0s 4ms/step\n"
     ]
    },
    {
     "data": {
      "image/png": "[encoded data removed]",
      "text/plain": [
       "<Figure size 432x288 with 2 Axes>"
      ]
     },
     "metadata": {
      "needs_background": "light"
     },
     "output_type": "display_data"
    }
   ],
   "source": [
    "# scatterplot of actual vs. pred\n",
    "# specify the dimensions \n",
    "fig, axes = plt.subplots(1,2) # 1 row, 2 columns\n",
    "\n",
    "# this makes the individual subplots\n",
    "# Training Results\n",
    "axes[0].scatter(x=y_train, y=model.predict(X_train)) #first row, first entry (left top)\n",
    "axes[0].set_xlabel(\"Actual\", fontsize=10)\n",
    "axes[0].set_ylabel(\"Predicted\",  fontsize=10)\n",
    "axes[0].set_title(\"Training\")\n",
    "# add 45 deg line\n",
    "x = np.linspace(*axes[0].get_xlim())\n",
    "axes[0].plot(x, x, color='red')\n",
    "plt.savefig(\"images/training_result_chart.png\")\n",
    "\n",
    "# Validation Results\n",
    "axes[1].scatter(x=y_test, y=model.predict(X_test)) # first row, second entry (right top)\n",
    "axes[1].set_xlabel(\"Actual\", fontsize=10)\n",
    "axes[1].set_ylabel(\"Predicted\",  fontsize=10)\n",
    "axes[1].set_title(\"Validation\")\n",
    "# add 45 deg line\n",
    "x = np.linspace(*axes[1].get_xlim())\n",
    "axes[1].plot(x, x, color='red')\n",
    "plt.savefig(\"images/validation_result_chart.png\")\n",
    "\n",
    "# tight layout\n",
    "fig.tight_layout()\n",
    "\n",
    "# show the plot\n",
    "plt.show()"
   ]
  },
  {
   "cell_type": "code",
   "execution_count": null,
   "metadata": {
    "colab": {
     "base_uri": "https://localhost:8080/"
    },
    "id": "obwyvQIZ6OAY",
    "outputId": "8dd2165a-13bb-4568-ff92-ed79fe6e391f"
   },
   "outputs": [
    {
     "name": "stdout",
     "output_type": "stream",
     "text": [
      "62/62 [==============================] - 0s 6ms/step\n",
      "186/186 [==============================] - 1s 5ms/step\n",
      "188871.31966025048\n",
      "185530.70080930702\n"
     ]
    }
   ],
   "source": [
    "\n",
    "# metrics\n",
    "pred = model.predict(X_test)\n",
    "pred\n",
    "\n",
    "trainpreds = model.predict(X_train)\n",
    "\n",
    "print(mean_absolute_error(y_train, trainpreds)) # train\n",
    "print(mean_absolute_error(y_test, pred)) # test"
   ]
  },
  {
   "cell_type": "code",
   "execution_count": null,
   "metadata": {
    "colab": {
     "base_uri": "https://localhost:8080/"
    },
    "id": "wzvmojgc6Uog",
    "outputId": "dac1ed0f-ae6a-4d6c-c7f9-c0503466cc21"
   },
   "outputs": [
    {
     "name": "stdout",
     "output_type": "stream",
     "text": [
      "Model: \"sequential_1\"\n",
      "_________________________________________________________________\n",
      " Layer (type)                Output Shape              Param #   \n",
      "=================================================================\n",
      " dense_4 (Dense)             (None, 1000)              42000     \n",
      "                                                                 \n",
      " dropout (Dropout)           (None, 1000)              0         \n",
      "                                                                 \n",
      " dense_5 (Dense)             (None, 500)               500500    \n",
      "                                                                 \n",
      " dropout_1 (Dropout)         (None, 500)               0         \n",
      "                                                                 \n",
      " dense_6 (Dense)             (None, 250)               125250    \n",
      "                                                                 \n",
      " dropout_2 (Dropout)         (None, 250)               0         \n",
      "                                                                 \n",
      " dense_7 (Dense)             (None, 1)                 251       \n",
      "                                                                 \n",
      "=================================================================\n",
      "Total params: 668,001\n",
      "Trainable params: 668,001\n",
      "Non-trainable params: 0\n",
      "_________________________________________________________________\n"
     ]
    }
   ],
   "source": [
    "\n",
    "\n",
    "# Insert the dropout layer\n",
    "model = Sequential()\n",
    "model.add(Dense(1000, input_shape=(X_train.shape[1],), activation='relu')) # (features,)\n",
    "model.add(Dropout(0.5)) # specify a percentage between 0 and 0.5, or larger\n",
    "model.add(Dense(500, activation='relu'))\n",
    "model.add(Dropout(0.5)) # specify a percentage between 0 and 0.5, or larger\n",
    "model.add(Dense(250, activation='relu'))\n",
    "model.add(Dropout(0.5)) # specify a percentage between 0 and 0.5, or larger\n",
    "model.add(Dense(1, activation='linear')) # output node\n",
    "model.summary() # see what your model looks like"
   ]
  },
  {
   "cell_type": "markdown",
   "metadata": {},
   "source": [
    "#### *Test seven with seat data added in seems to be almost as accurate as test five which does not have seat data.*"
   ]
  }
 ],
 "metadata": {
  "colab": {
   "include_colab_link": true,
   "provenance": []
  },
  "kernelspec": {
   "display_name": "Python 3 (ipykernel)",
   "language": "python",
   "name": "python3"
  },
  "language_info": {
   "codemirror_mode": {
    "name": "ipython",
    "version": 3
   },
   "file_extension": ".py",
   "mimetype": "text/x-python",
   "name": "python",
   "nbconvert_exporter": "python",
   "pygments_lexer": "ipython3",
   "version": "3.9.12"
  },
  "vscode": {
   "interpreter": {
    "hash": "3ad933181bd8a04b432d3370b9dc3b0662ad032c4dfaa4e4f1596c548f763858"
   }
  }
 },
 "nbformat": 4,
 "nbformat_minor": 1
}
