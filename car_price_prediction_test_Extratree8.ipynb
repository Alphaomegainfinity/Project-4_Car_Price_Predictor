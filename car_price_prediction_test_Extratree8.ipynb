{
  "cells": [
    {
      "cell_type": "markdown",
      "metadata": {
        "colab_type": "text",
        "id": "view-in-github"
      },
      "source": [
        "<a href=\"https://colab.research.google.com/github/Alphaomegainfinity/Project-4_Car_Price_Predictor/blob/main/car_price_prediction_test_Extratree8.ipynb\" target=\"_parent\"><img src=\"https://colab.research.google.com/assets/colab-badge.svg\" alt=\"Open In Colab\"/></a>"
      ]
    },
    {
      "cell_type": "markdown",
      "metadata": {
        "id": "Aj9rl3NI71qg"
      },
      "source": [
        "## **Import and Cleaning Data**"
      ]
    },
    {
      "cell_type": "code",
      "execution_count": 1,
      "metadata": {
        "colab": {
          "base_uri": "https://localhost:8080/"
        },
        "id": "JZ3jhZ-odx1S",
        "outputId": "ada24691-3ba5-40f3-bcac-51ff1ed0e7fe"
      },
      "outputs": [
        {
          "name": "stdout",
          "output_type": "stream",
          "text": [
            "Looking in indexes: https://pypi.org/simple, https://us-python.pkg.dev/colab-wheels/public/simple/\n",
            "Requirement already satisfied: tensorflow in /usr/local/lib/python3.8/dist-packages (2.9.2)\n",
            "Requirement already satisfied: libclang>=13.0.0 in /usr/local/lib/python3.8/dist-packages (from tensorflow) (15.0.6.1)\n",
            "Requirement already satisfied: termcolor>=1.1.0 in /usr/local/lib/python3.8/dist-packages (from tensorflow) (2.2.0)\n",
            "Requirement already satisfied: tensorflow-estimator<2.10.0,>=2.9.0rc0 in /usr/local/lib/python3.8/dist-packages (from tensorflow) (2.9.0)\n",
            "Requirement already satisfied: setuptools in /usr/local/lib/python3.8/dist-packages (from tensorflow) (57.4.0)\n",
            "Requirement already satisfied: flatbuffers<2,>=1.12 in /usr/local/lib/python3.8/dist-packages (from tensorflow) (1.12)\n",
            "Requirement already satisfied: packaging in /usr/local/lib/python3.8/dist-packages (from tensorflow) (21.3)\n",
            "Requirement already satisfied: astunparse>=1.6.0 in /usr/local/lib/python3.8/dist-packages (from tensorflow) (1.6.3)\n",
            "Requirement already satisfied: keras-preprocessing>=1.1.1 in /usr/local/lib/python3.8/dist-packages (from tensorflow) (1.1.2)\n",
            "Requirement already satisfied: protobuf<3.20,>=3.9.2 in /usr/local/lib/python3.8/dist-packages (from tensorflow) (3.19.6)\n",
            "Requirement already satisfied: numpy>=1.20 in /usr/local/lib/python3.8/dist-packages (from tensorflow) (1.21.6)\n",
            "Requirement already satisfied: google-pasta>=0.1.1 in /usr/local/lib/python3.8/dist-packages (from tensorflow) (0.2.0)\n",
            "Requirement already satisfied: tensorflow-io-gcs-filesystem>=0.23.1 in /usr/local/lib/python3.8/dist-packages (from tensorflow) (0.29.0)\n",
            "Requirement already satisfied: six>=1.12.0 in /usr/local/lib/python3.8/dist-packages (from tensorflow) (1.15.0)\n",
            "Requirement already satisfied: opt-einsum>=2.3.2 in /usr/local/lib/python3.8/dist-packages (from tensorflow) (3.3.0)\n",
            "Requirement already satisfied: typing-extensions>=3.6.6 in /usr/local/lib/python3.8/dist-packages (from tensorflow) (4.4.0)\n",
            "Requirement already satisfied: keras<2.10.0,>=2.9.0rc0 in /usr/local/lib/python3.8/dist-packages (from tensorflow) (2.9.0)\n",
            "Requirement already satisfied: absl-py>=1.0.0 in /usr/local/lib/python3.8/dist-packages (from tensorflow) (1.3.0)\n",
            "Requirement already satisfied: gast<=0.4.0,>=0.2.1 in /usr/local/lib/python3.8/dist-packages (from tensorflow) (0.4.0)\n",
            "Requirement already satisfied: tensorboard<2.10,>=2.9 in /usr/local/lib/python3.8/dist-packages (from tensorflow) (2.9.1)\n",
            "Requirement already satisfied: h5py>=2.9.0 in /usr/local/lib/python3.8/dist-packages (from tensorflow) (3.1.0)\n",
            "Requirement already satisfied: grpcio<2.0,>=1.24.3 in /usr/local/lib/python3.8/dist-packages (from tensorflow) (1.51.1)\n",
            "Requirement already satisfied: wrapt>=1.11.0 in /usr/local/lib/python3.8/dist-packages (from tensorflow) (1.14.1)\n",
            "Requirement already satisfied: wheel<1.0,>=0.23.0 in /usr/local/lib/python3.8/dist-packages (from astunparse>=1.6.0->tensorflow) (0.38.4)\n",
            "Requirement already satisfied: werkzeug>=1.0.1 in /usr/local/lib/python3.8/dist-packages (from tensorboard<2.10,>=2.9->tensorflow) (1.0.1)\n",
            "Requirement already satisfied: markdown>=2.6.8 in /usr/local/lib/python3.8/dist-packages (from tensorboard<2.10,>=2.9->tensorflow) (3.4.1)\n",
            "Requirement already satisfied: requests<3,>=2.21.0 in /usr/local/lib/python3.8/dist-packages (from tensorboard<2.10,>=2.9->tensorflow) (2.25.1)\n",
            "Requirement already satisfied: google-auth-oauthlib<0.5,>=0.4.1 in /usr/local/lib/python3.8/dist-packages (from tensorboard<2.10,>=2.9->tensorflow) (0.4.6)\n",
            "Requirement already satisfied: google-auth<3,>=1.6.3 in /usr/local/lib/python3.8/dist-packages (from tensorboard<2.10,>=2.9->tensorflow) (2.16.0)\n",
            "Requirement already satisfied: tensorboard-data-server<0.7.0,>=0.6.0 in /usr/local/lib/python3.8/dist-packages (from tensorboard<2.10,>=2.9->tensorflow) (0.6.1)\n",
            "Requirement already satisfied: tensorboard-plugin-wit>=1.6.0 in /usr/local/lib/python3.8/dist-packages (from tensorboard<2.10,>=2.9->tensorflow) (1.8.1)\n",
            "Requirement already satisfied: pyparsing!=3.0.5,>=2.0.2 in /usr/local/lib/python3.8/dist-packages (from packaging->tensorflow) (3.0.9)\n",
            "Requirement already satisfied: rsa<5,>=3.1.4 in /usr/local/lib/python3.8/dist-packages (from google-auth<3,>=1.6.3->tensorboard<2.10,>=2.9->tensorflow) (4.9)\n",
            "Requirement already satisfied: pyasn1-modules>=0.2.1 in /usr/local/lib/python3.8/dist-packages (from google-auth<3,>=1.6.3->tensorboard<2.10,>=2.9->tensorflow) (0.2.8)\n",
            "Requirement already satisfied: cachetools<6.0,>=2.0.0 in /usr/local/lib/python3.8/dist-packages (from google-auth<3,>=1.6.3->tensorboard<2.10,>=2.9->tensorflow) (5.2.1)\n",
            "Requirement already satisfied: requests-oauthlib>=0.7.0 in /usr/local/lib/python3.8/dist-packages (from google-auth-oauthlib<0.5,>=0.4.1->tensorboard<2.10,>=2.9->tensorflow) (1.3.1)\n",
            "Requirement already satisfied: importlib-metadata>=4.4 in /usr/local/lib/python3.8/dist-packages (from markdown>=2.6.8->tensorboard<2.10,>=2.9->tensorflow) (6.0.0)\n",
            "Requirement already satisfied: urllib3<1.27,>=1.21.1 in /usr/local/lib/python3.8/dist-packages (from requests<3,>=2.21.0->tensorboard<2.10,>=2.9->tensorflow) (1.24.3)\n",
            "Requirement already satisfied: chardet<5,>=3.0.2 in /usr/local/lib/python3.8/dist-packages (from requests<3,>=2.21.0->tensorboard<2.10,>=2.9->tensorflow) (4.0.0)\n",
            "Requirement already satisfied: idna<3,>=2.5 in /usr/local/lib/python3.8/dist-packages (from requests<3,>=2.21.0->tensorboard<2.10,>=2.9->tensorflow) (2.10)\n",
            "Requirement already satisfied: certifi>=2017.4.17 in /usr/local/lib/python3.8/dist-packages (from requests<3,>=2.21.0->tensorboard<2.10,>=2.9->tensorflow) (2022.12.7)\n",
            "Requirement already satisfied: zipp>=0.5 in /usr/local/lib/python3.8/dist-packages (from importlib-metadata>=4.4->markdown>=2.6.8->tensorboard<2.10,>=2.9->tensorflow) (3.11.0)\n",
            "Requirement already satisfied: pyasn1<0.5.0,>=0.4.6 in /usr/local/lib/python3.8/dist-packages (from pyasn1-modules>=0.2.1->google-auth<3,>=1.6.3->tensorboard<2.10,>=2.9->tensorflow) (0.4.8)\n",
            "Requirement already satisfied: oauthlib>=3.0.0 in /usr/local/lib/python3.8/dist-packages (from requests-oauthlib>=0.7.0->google-auth-oauthlib<0.5,>=0.4.1->tensorboard<2.10,>=2.9->tensorflow) (3.2.2)\n"
          ]
        }
      ],
      "source": [
        "!pip install tensorflow"
      ]
    },
    {
      "cell_type": "code",
      "execution_count": 1,
      "metadata": {
        "id": "HeftUoZhK0XH"
      },
      "outputs": [],
      "source": [
        "# Import our dependencies\n",
        "from sklearn.model_selection import train_test_split\n",
        "from sklearn.preprocessing import StandardScaler\n",
        "from sklearn.metrics import accuracy_score\n",
        "from sklearn.ensemble import ExtraTreesClassifier\n",
        "import matplotlib.pyplot as plt\n",
        "import sklearn as skl\n",
        "import pandas as pd\n",
        "import tensorflow as tf\n",
        "import json\n",
        "import seaborn as sns\n",
        "import matplotlib.pyplot as plt\n",
        "\n",
        "# Data preprocessing\n",
        "from sklearn.linear_model import LinearRegression\n",
        "from sklearn.neighbors import KNeighborsRegressor\n",
        "from sklearn.ensemble import RandomForestRegressor, ExtraTreesRegressor, AdaBoostRegressor\n",
        "from sklearn.svm import SVR\n",
        "\n",
        "\n",
        "from sklearn.metrics import mean_absolute_error\n",
        "from sklearn.metrics import mean_squared_error\n",
        "from sklearn.metrics import r2_score\n",
        "\n",
        "from sklearn.preprocessing import MinMaxScaler\n",
        "\n",
        "# Neural Net modules\n",
        "from keras.models import Sequential\n",
        "from keras.layers import Dense, Dropout\n",
        "from keras.callbacks import EarlyStopping\n",
        "import numpy as np"
      ]
    },
    {
      "cell_type": "code",
      "execution_count": 2,
      "metadata": {
        "colab": {
          "base_uri": "https://localhost:8080/",
          "height": 389
        },
        "id": "x9z2xRo50UpY",
        "outputId": "a5b9356e-440c-438f-acd1-a5e1a88fbad9"
      },
      "outputs": [
        {
          "data": {
            "text/html": [
              "<div>\n",
              "<style scoped>\n",
              "    .dataframe tbody tr th:only-of-type {\n",
              "        vertical-align: middle;\n",
              "    }\n",
              "\n",
              "    .dataframe tbody tr th {\n",
              "        vertical-align: top;\n",
              "    }\n",
              "\n",
              "    .dataframe thead th {\n",
              "        text-align: right;\n",
              "    }\n",
              "</style>\n",
              "<table border=\"1\" class=\"dataframe\">\n",
              "  <thead>\n",
              "    <tr style=\"text-align: right;\">\n",
              "      <th></th>\n",
              "      <th>name</th>\n",
              "      <th>year</th>\n",
              "      <th>selling_price</th>\n",
              "      <th>km_driven</th>\n",
              "      <th>fuel</th>\n",
              "      <th>seller_type</th>\n",
              "      <th>transmission</th>\n",
              "      <th>owner</th>\n",
              "      <th>mileage</th>\n",
              "      <th>engine</th>\n",
              "      <th>max_power</th>\n",
              "      <th>torque</th>\n",
              "      <th>seats</th>\n",
              "    </tr>\n",
              "  </thead>\n",
              "  <tbody>\n",
              "    <tr>\n",
              "      <th>0</th>\n",
              "      <td>Maruti Swift Dzire VDI</td>\n",
              "      <td>2014</td>\n",
              "      <td>450000</td>\n",
              "      <td>145500</td>\n",
              "      <td>Diesel</td>\n",
              "      <td>Individual</td>\n",
              "      <td>Manual</td>\n",
              "      <td>First Owner</td>\n",
              "      <td>23.4 kmpl</td>\n",
              "      <td>1248 CC</td>\n",
              "      <td>74 bhp</td>\n",
              "      <td>190Nm@ 2000rpm</td>\n",
              "      <td>5.0</td>\n",
              "    </tr>\n",
              "    <tr>\n",
              "      <th>1</th>\n",
              "      <td>Skoda Rapid 1.5 TDI Ambition</td>\n",
              "      <td>2014</td>\n",
              "      <td>370000</td>\n",
              "      <td>120000</td>\n",
              "      <td>Diesel</td>\n",
              "      <td>Individual</td>\n",
              "      <td>Manual</td>\n",
              "      <td>Second Owner</td>\n",
              "      <td>21.14 kmpl</td>\n",
              "      <td>1498 CC</td>\n",
              "      <td>103.52 bhp</td>\n",
              "      <td>250Nm@ 1500-2500rpm</td>\n",
              "      <td>5.0</td>\n",
              "    </tr>\n",
              "    <tr>\n",
              "      <th>2</th>\n",
              "      <td>Honda City 2017-2020 EXi</td>\n",
              "      <td>2006</td>\n",
              "      <td>158000</td>\n",
              "      <td>140000</td>\n",
              "      <td>Petrol</td>\n",
              "      <td>Individual</td>\n",
              "      <td>Manual</td>\n",
              "      <td>Third Owner</td>\n",
              "      <td>17.7 kmpl</td>\n",
              "      <td>1497 CC</td>\n",
              "      <td>78 bhp</td>\n",
              "      <td>12.7@ 2,700(kgm@ rpm)</td>\n",
              "      <td>5.0</td>\n",
              "    </tr>\n",
              "    <tr>\n",
              "      <th>3</th>\n",
              "      <td>Hyundai i20 Sportz Diesel</td>\n",
              "      <td>2010</td>\n",
              "      <td>225000</td>\n",
              "      <td>127000</td>\n",
              "      <td>Diesel</td>\n",
              "      <td>Individual</td>\n",
              "      <td>Manual</td>\n",
              "      <td>First Owner</td>\n",
              "      <td>23.0 kmpl</td>\n",
              "      <td>1396 CC</td>\n",
              "      <td>90 bhp</td>\n",
              "      <td>22.4 kgm at 1750-2750rpm</td>\n",
              "      <td>5.0</td>\n",
              "    </tr>\n",
              "    <tr>\n",
              "      <th>4</th>\n",
              "      <td>Maruti Swift VXI BSIII</td>\n",
              "      <td>2007</td>\n",
              "      <td>130000</td>\n",
              "      <td>120000</td>\n",
              "      <td>Petrol</td>\n",
              "      <td>Individual</td>\n",
              "      <td>Manual</td>\n",
              "      <td>First Owner</td>\n",
              "      <td>16.1 kmpl</td>\n",
              "      <td>1298 CC</td>\n",
              "      <td>88.2 bhp</td>\n",
              "      <td>11.5@ 4,500(kgm@ rpm)</td>\n",
              "      <td>5.0</td>\n",
              "    </tr>\n",
              "  </tbody>\n",
              "</table>\n",
              "</div>"
            ],
            "text/plain": [
              "                           name  year  selling_price  km_driven    fuel  \\\n",
              "0        Maruti Swift Dzire VDI  2014         450000     145500  Diesel   \n",
              "1  Skoda Rapid 1.5 TDI Ambition  2014         370000     120000  Diesel   \n",
              "2      Honda City 2017-2020 EXi  2006         158000     140000  Petrol   \n",
              "3     Hyundai i20 Sportz Diesel  2010         225000     127000  Diesel   \n",
              "4        Maruti Swift VXI BSIII  2007         130000     120000  Petrol   \n",
              "\n",
              "  seller_type transmission         owner     mileage   engine   max_power  \\\n",
              "0  Individual       Manual   First Owner   23.4 kmpl  1248 CC      74 bhp   \n",
              "1  Individual       Manual  Second Owner  21.14 kmpl  1498 CC  103.52 bhp   \n",
              "2  Individual       Manual   Third Owner   17.7 kmpl  1497 CC      78 bhp   \n",
              "3  Individual       Manual   First Owner   23.0 kmpl  1396 CC      90 bhp   \n",
              "4  Individual       Manual   First Owner   16.1 kmpl  1298 CC    88.2 bhp   \n",
              "\n",
              "                     torque  seats  \n",
              "0            190Nm@ 2000rpm    5.0  \n",
              "1       250Nm@ 1500-2500rpm    5.0  \n",
              "2     12.7@ 2,700(kgm@ rpm)    5.0  \n",
              "3  22.4 kgm at 1750-2750rpm    5.0  \n",
              "4     11.5@ 4,500(kgm@ rpm)    5.0  "
            ]
          },
          "execution_count": 2,
          "metadata": {},
          "output_type": "execute_result"
        }
      ],
      "source": [
        "# Import our input dataset\n",
        "car_df = pd.read_csv('https://raw.githubusercontent.com/Alphaomegainfinity/Project-4_Car_Price_Predictor/main/Resources/Car%20details%20v3.csv')\n",
        "car_df.head()\n",
        "\n"
      ]
    },
    {
      "cell_type": "code",
      "execution_count": 3,
      "metadata": {
        "colab": {
          "base_uri": "https://localhost:8080/"
        },
        "id": "jQ2u5HIO2LPT",
        "outputId": "900f2752-a213-461c-ec52-a6a69b269c7e"
      },
      "outputs": [
        {
          "data": {
            "text/plain": [
              "(8128, 13)"
            ]
          },
          "execution_count": 3,
          "metadata": {},
          "output_type": "execute_result"
        }
      ],
      "source": [
        "# Check shape of dataframe\n",
        "car_df.shape"
      ]
    },
    {
      "cell_type": "code",
      "execution_count": 4,
      "metadata": {
        "colab": {
          "base_uri": "https://localhost:8080/"
        },
        "id": "fkdxUe413hBK",
        "outputId": "23f48a60-1d48-4a28-ba7c-5f4598426de0"
      },
      "outputs": [
        {
          "name": "stdout",
          "output_type": "stream",
          "text": [
            "<class 'pandas.core.frame.DataFrame'>\n",
            "RangeIndex: 8128 entries, 0 to 8127\n",
            "Data columns (total 13 columns):\n",
            " #   Column         Non-Null Count  Dtype  \n",
            "---  ------         --------------  -----  \n",
            " 0   name           8128 non-null   object \n",
            " 1   year           8128 non-null   int64  \n",
            " 2   selling_price  8128 non-null   int64  \n",
            " 3   km_driven      8128 non-null   int64  \n",
            " 4   fuel           8128 non-null   object \n",
            " 5   seller_type    8128 non-null   object \n",
            " 6   transmission   8128 non-null   object \n",
            " 7   owner          8128 non-null   object \n",
            " 8   mileage        7907 non-null   object \n",
            " 9   engine         7907 non-null   object \n",
            " 10  max_power      7913 non-null   object \n",
            " 11  torque         7906 non-null   object \n",
            " 12  seats          7907 non-null   float64\n",
            "dtypes: float64(1), int64(3), object(9)\n",
            "memory usage: 825.6+ KB\n"
          ]
        }
      ],
      "source": [
        "# Check info of dataframe\n",
        "car_df.info()"
      ]
    },
    {
      "cell_type": "code",
      "execution_count": 5,
      "metadata": {
        "colab": {
          "base_uri": "https://localhost:8080/",
          "height": 423
        },
        "id": "8_4QH7MX3-16",
        "outputId": "8e6d73ae-3601-4c6b-918e-f6a7b105e2d5"
      },
      "outputs": [
        {
          "data": {
            "text/html": [
              "<div>\n",
              "<style scoped>\n",
              "    .dataframe tbody tr th:only-of-type {\n",
              "        vertical-align: middle;\n",
              "    }\n",
              "\n",
              "    .dataframe tbody tr th {\n",
              "        vertical-align: top;\n",
              "    }\n",
              "\n",
              "    .dataframe thead th {\n",
              "        text-align: right;\n",
              "    }\n",
              "</style>\n",
              "<table border=\"1\" class=\"dataframe\">\n",
              "  <thead>\n",
              "    <tr style=\"text-align: right;\">\n",
              "      <th></th>\n",
              "      <th>year</th>\n",
              "      <th>selling_price</th>\n",
              "      <th>km_driven</th>\n",
              "      <th>fuel</th>\n",
              "      <th>seller_type</th>\n",
              "      <th>transmission</th>\n",
              "      <th>owner</th>\n",
              "      <th>mileage</th>\n",
              "      <th>engine</th>\n",
              "      <th>max_power</th>\n",
              "      <th>seats</th>\n",
              "    </tr>\n",
              "  </thead>\n",
              "  <tbody>\n",
              "    <tr>\n",
              "      <th>0</th>\n",
              "      <td>2014</td>\n",
              "      <td>450000</td>\n",
              "      <td>145500</td>\n",
              "      <td>Diesel</td>\n",
              "      <td>Individual</td>\n",
              "      <td>Manual</td>\n",
              "      <td>First Owner</td>\n",
              "      <td>23.4 kmpl</td>\n",
              "      <td>1248 CC</td>\n",
              "      <td>74 bhp</td>\n",
              "      <td>5.0</td>\n",
              "    </tr>\n",
              "    <tr>\n",
              "      <th>1</th>\n",
              "      <td>2014</td>\n",
              "      <td>370000</td>\n",
              "      <td>120000</td>\n",
              "      <td>Diesel</td>\n",
              "      <td>Individual</td>\n",
              "      <td>Manual</td>\n",
              "      <td>Second Owner</td>\n",
              "      <td>21.14 kmpl</td>\n",
              "      <td>1498 CC</td>\n",
              "      <td>103.52 bhp</td>\n",
              "      <td>5.0</td>\n",
              "    </tr>\n",
              "    <tr>\n",
              "      <th>2</th>\n",
              "      <td>2006</td>\n",
              "      <td>158000</td>\n",
              "      <td>140000</td>\n",
              "      <td>Petrol</td>\n",
              "      <td>Individual</td>\n",
              "      <td>Manual</td>\n",
              "      <td>Third Owner</td>\n",
              "      <td>17.7 kmpl</td>\n",
              "      <td>1497 CC</td>\n",
              "      <td>78 bhp</td>\n",
              "      <td>5.0</td>\n",
              "    </tr>\n",
              "    <tr>\n",
              "      <th>3</th>\n",
              "      <td>2010</td>\n",
              "      <td>225000</td>\n",
              "      <td>127000</td>\n",
              "      <td>Diesel</td>\n",
              "      <td>Individual</td>\n",
              "      <td>Manual</td>\n",
              "      <td>First Owner</td>\n",
              "      <td>23.0 kmpl</td>\n",
              "      <td>1396 CC</td>\n",
              "      <td>90 bhp</td>\n",
              "      <td>5.0</td>\n",
              "    </tr>\n",
              "    <tr>\n",
              "      <th>4</th>\n",
              "      <td>2007</td>\n",
              "      <td>130000</td>\n",
              "      <td>120000</td>\n",
              "      <td>Petrol</td>\n",
              "      <td>Individual</td>\n",
              "      <td>Manual</td>\n",
              "      <td>First Owner</td>\n",
              "      <td>16.1 kmpl</td>\n",
              "      <td>1298 CC</td>\n",
              "      <td>88.2 bhp</td>\n",
              "      <td>5.0</td>\n",
              "    </tr>\n",
              "    <tr>\n",
              "      <th>...</th>\n",
              "      <td>...</td>\n",
              "      <td>...</td>\n",
              "      <td>...</td>\n",
              "      <td>...</td>\n",
              "      <td>...</td>\n",
              "      <td>...</td>\n",
              "      <td>...</td>\n",
              "      <td>...</td>\n",
              "      <td>...</td>\n",
              "      <td>...</td>\n",
              "      <td>...</td>\n",
              "    </tr>\n",
              "    <tr>\n",
              "      <th>8123</th>\n",
              "      <td>2013</td>\n",
              "      <td>320000</td>\n",
              "      <td>110000</td>\n",
              "      <td>Petrol</td>\n",
              "      <td>Individual</td>\n",
              "      <td>Manual</td>\n",
              "      <td>First Owner</td>\n",
              "      <td>18.5 kmpl</td>\n",
              "      <td>1197 CC</td>\n",
              "      <td>82.85 bhp</td>\n",
              "      <td>5.0</td>\n",
              "    </tr>\n",
              "    <tr>\n",
              "      <th>8124</th>\n",
              "      <td>2007</td>\n",
              "      <td>135000</td>\n",
              "      <td>119000</td>\n",
              "      <td>Diesel</td>\n",
              "      <td>Individual</td>\n",
              "      <td>Manual</td>\n",
              "      <td>Fourth &amp; Above Owner</td>\n",
              "      <td>16.8 kmpl</td>\n",
              "      <td>1493 CC</td>\n",
              "      <td>110 bhp</td>\n",
              "      <td>5.0</td>\n",
              "    </tr>\n",
              "    <tr>\n",
              "      <th>8125</th>\n",
              "      <td>2009</td>\n",
              "      <td>382000</td>\n",
              "      <td>120000</td>\n",
              "      <td>Diesel</td>\n",
              "      <td>Individual</td>\n",
              "      <td>Manual</td>\n",
              "      <td>First Owner</td>\n",
              "      <td>19.3 kmpl</td>\n",
              "      <td>1248 CC</td>\n",
              "      <td>73.9 bhp</td>\n",
              "      <td>5.0</td>\n",
              "    </tr>\n",
              "    <tr>\n",
              "      <th>8126</th>\n",
              "      <td>2013</td>\n",
              "      <td>290000</td>\n",
              "      <td>25000</td>\n",
              "      <td>Diesel</td>\n",
              "      <td>Individual</td>\n",
              "      <td>Manual</td>\n",
              "      <td>First Owner</td>\n",
              "      <td>23.57 kmpl</td>\n",
              "      <td>1396 CC</td>\n",
              "      <td>70 bhp</td>\n",
              "      <td>5.0</td>\n",
              "    </tr>\n",
              "    <tr>\n",
              "      <th>8127</th>\n",
              "      <td>2013</td>\n",
              "      <td>290000</td>\n",
              "      <td>25000</td>\n",
              "      <td>Diesel</td>\n",
              "      <td>Individual</td>\n",
              "      <td>Manual</td>\n",
              "      <td>First Owner</td>\n",
              "      <td>23.57 kmpl</td>\n",
              "      <td>1396 CC</td>\n",
              "      <td>70 bhp</td>\n",
              "      <td>5.0</td>\n",
              "    </tr>\n",
              "  </tbody>\n",
              "</table>\n",
              "<p>8128 rows × 11 columns</p>\n",
              "</div>"
            ],
            "text/plain": [
              "      year  selling_price  km_driven    fuel seller_type transmission  \\\n",
              "0     2014         450000     145500  Diesel  Individual       Manual   \n",
              "1     2014         370000     120000  Diesel  Individual       Manual   \n",
              "2     2006         158000     140000  Petrol  Individual       Manual   \n",
              "3     2010         225000     127000  Diesel  Individual       Manual   \n",
              "4     2007         130000     120000  Petrol  Individual       Manual   \n",
              "...    ...            ...        ...     ...         ...          ...   \n",
              "8123  2013         320000     110000  Petrol  Individual       Manual   \n",
              "8124  2007         135000     119000  Diesel  Individual       Manual   \n",
              "8125  2009         382000     120000  Diesel  Individual       Manual   \n",
              "8126  2013         290000      25000  Diesel  Individual       Manual   \n",
              "8127  2013         290000      25000  Diesel  Individual       Manual   \n",
              "\n",
              "                     owner     mileage   engine   max_power  seats  \n",
              "0              First Owner   23.4 kmpl  1248 CC      74 bhp    5.0  \n",
              "1             Second Owner  21.14 kmpl  1498 CC  103.52 bhp    5.0  \n",
              "2              Third Owner   17.7 kmpl  1497 CC      78 bhp    5.0  \n",
              "3              First Owner   23.0 kmpl  1396 CC      90 bhp    5.0  \n",
              "4              First Owner   16.1 kmpl  1298 CC    88.2 bhp    5.0  \n",
              "...                    ...         ...      ...         ...    ...  \n",
              "8123           First Owner   18.5 kmpl  1197 CC   82.85 bhp    5.0  \n",
              "8124  Fourth & Above Owner   16.8 kmpl  1493 CC     110 bhp    5.0  \n",
              "8125           First Owner   19.3 kmpl  1248 CC    73.9 bhp    5.0  \n",
              "8126           First Owner  23.57 kmpl  1396 CC      70 bhp    5.0  \n",
              "8127           First Owner  23.57 kmpl  1396 CC      70 bhp    5.0  \n",
              "\n",
              "[8128 rows x 11 columns]"
            ]
          },
          "execution_count": 5,
          "metadata": {},
          "output_type": "execute_result"
        }
      ],
      "source": [
        "# Drop unwanted columns \n",
        "car_df.drop(['name', 'torque'], axis=1, inplace=True)\n",
        "car_df"
      ]
    },
    {
      "cell_type": "code",
      "execution_count": 6,
      "metadata": {
        "id": "ilQPipxV_Ewp"
      },
      "outputs": [],
      "source": [
        "# cleaning engine column\n",
        "\n",
        "car_df['engine'] = car_df['engine'].str.rsplit(' ', n=1).str.get(0)\n",
        "car_df.rename(columns={'engine':'engine(CC)'}, inplace=True)\n",
        "car_df['engine(CC)'] = car_df['engine(CC)'].astype(float)"
      ]
    },
    {
      "cell_type": "code",
      "execution_count": 7,
      "metadata": {
        "id": "J_t8DAk18Gcx"
      },
      "outputs": [],
      "source": [
        "# converting mileage column to numeric\n",
        "\n",
        "car_df['mileage'] = car_df['mileage'].str.rsplit(' ', n=1).str.get(0)\n",
        "car_df.rename(columns={'mileage':'mileage_kmpl'}, inplace=True)\n",
        "car_df['mileage_kmpl'] = car_df['mileage_kmpl'].astype(float)\n"
      ]
    },
    {
      "cell_type": "code",
      "execution_count": 8,
      "metadata": {
        "id": "l0WH2IdJ9I-Z"
      },
      "outputs": [],
      "source": [
        "# converting max_power column to numeric\n",
        "\n",
        "car_df['max_power'] = car_df['max_power'].str.rsplit(' ', n=1).str.get(0)\n",
        "car_df.rename(columns={'max_power':'maxpower_bhp'}, inplace=True)\n",
        "car_df['maxpower_bhp'] = pd.to_numeric(car_df['maxpower_bhp'], errors='coerce')"
      ]
    },
    {
      "cell_type": "code",
      "execution_count": 9,
      "metadata": {
        "colab": {
          "base_uri": "https://localhost:8080/"
        },
        "id": "MOHDKXQZ9oxR",
        "outputId": "1dd0be84-8a81-429f-8545-fc6c4be86e42"
      },
      "outputs": [
        {
          "name": "stdout",
          "output_type": "stream",
          "text": [
            "<class 'pandas.core.frame.DataFrame'>\n",
            "RangeIndex: 8128 entries, 0 to 8127\n",
            "Data columns (total 11 columns):\n",
            " #   Column         Non-Null Count  Dtype  \n",
            "---  ------         --------------  -----  \n",
            " 0   year           8128 non-null   int64  \n",
            " 1   selling_price  8128 non-null   int64  \n",
            " 2   km_driven      8128 non-null   int64  \n",
            " 3   fuel           8128 non-null   object \n",
            " 4   seller_type    8128 non-null   object \n",
            " 5   transmission   8128 non-null   object \n",
            " 6   owner          8128 non-null   object \n",
            " 7   mileage_kmpl   7907 non-null   float64\n",
            " 8   engine(CC)     7907 non-null   float64\n",
            " 9   maxpower_bhp   7912 non-null   float64\n",
            " 10  seats          7907 non-null   float64\n",
            "dtypes: float64(4), int64(3), object(4)\n",
            "memory usage: 698.6+ KB\n"
          ]
        }
      ],
      "source": [
        "car_df.info()"
      ]
    },
    {
      "cell_type": "code",
      "execution_count": 10,
      "metadata": {
        "colab": {
          "base_uri": "https://localhost:8080/",
          "height": 206
        },
        "id": "v0Z6cMhj_2ix",
        "outputId": "8d1865b9-3656-4d83-8a03-b3d0b5d65379"
      },
      "outputs": [
        {
          "data": {
            "text/html": [
              "<div>\n",
              "<style scoped>\n",
              "    .dataframe tbody tr th:only-of-type {\n",
              "        vertical-align: middle;\n",
              "    }\n",
              "\n",
              "    .dataframe tbody tr th {\n",
              "        vertical-align: top;\n",
              "    }\n",
              "\n",
              "    .dataframe thead th {\n",
              "        text-align: right;\n",
              "    }\n",
              "</style>\n",
              "<table border=\"1\" class=\"dataframe\">\n",
              "  <thead>\n",
              "    <tr style=\"text-align: right;\">\n",
              "      <th></th>\n",
              "      <th>year</th>\n",
              "      <th>selling_price</th>\n",
              "      <th>km_driven</th>\n",
              "      <th>fuel</th>\n",
              "      <th>seller_type</th>\n",
              "      <th>transmission</th>\n",
              "      <th>owner</th>\n",
              "      <th>mileage_kmpl</th>\n",
              "      <th>engine(CC)</th>\n",
              "      <th>maxpower_bhp</th>\n",
              "      <th>seats</th>\n",
              "    </tr>\n",
              "  </thead>\n",
              "  <tbody>\n",
              "    <tr>\n",
              "      <th>0</th>\n",
              "      <td>2014</td>\n",
              "      <td>450000</td>\n",
              "      <td>145500</td>\n",
              "      <td>Diesel</td>\n",
              "      <td>Individual</td>\n",
              "      <td>Manual</td>\n",
              "      <td>First Owner</td>\n",
              "      <td>23.40</td>\n",
              "      <td>1248.0</td>\n",
              "      <td>74.00</td>\n",
              "      <td>5.0</td>\n",
              "    </tr>\n",
              "    <tr>\n",
              "      <th>1</th>\n",
              "      <td>2014</td>\n",
              "      <td>370000</td>\n",
              "      <td>120000</td>\n",
              "      <td>Diesel</td>\n",
              "      <td>Individual</td>\n",
              "      <td>Manual</td>\n",
              "      <td>Second Owner</td>\n",
              "      <td>21.14</td>\n",
              "      <td>1498.0</td>\n",
              "      <td>103.52</td>\n",
              "      <td>5.0</td>\n",
              "    </tr>\n",
              "    <tr>\n",
              "      <th>2</th>\n",
              "      <td>2006</td>\n",
              "      <td>158000</td>\n",
              "      <td>140000</td>\n",
              "      <td>Petrol</td>\n",
              "      <td>Individual</td>\n",
              "      <td>Manual</td>\n",
              "      <td>Third Owner</td>\n",
              "      <td>17.70</td>\n",
              "      <td>1497.0</td>\n",
              "      <td>78.00</td>\n",
              "      <td>5.0</td>\n",
              "    </tr>\n",
              "    <tr>\n",
              "      <th>3</th>\n",
              "      <td>2010</td>\n",
              "      <td>225000</td>\n",
              "      <td>127000</td>\n",
              "      <td>Diesel</td>\n",
              "      <td>Individual</td>\n",
              "      <td>Manual</td>\n",
              "      <td>First Owner</td>\n",
              "      <td>23.00</td>\n",
              "      <td>1396.0</td>\n",
              "      <td>90.00</td>\n",
              "      <td>5.0</td>\n",
              "    </tr>\n",
              "    <tr>\n",
              "      <th>4</th>\n",
              "      <td>2007</td>\n",
              "      <td>130000</td>\n",
              "      <td>120000</td>\n",
              "      <td>Petrol</td>\n",
              "      <td>Individual</td>\n",
              "      <td>Manual</td>\n",
              "      <td>First Owner</td>\n",
              "      <td>16.10</td>\n",
              "      <td>1298.0</td>\n",
              "      <td>88.20</td>\n",
              "      <td>5.0</td>\n",
              "    </tr>\n",
              "  </tbody>\n",
              "</table>\n",
              "</div>"
            ],
            "text/plain": [
              "   year  selling_price  km_driven    fuel seller_type transmission  \\\n",
              "0  2014         450000     145500  Diesel  Individual       Manual   \n",
              "1  2014         370000     120000  Diesel  Individual       Manual   \n",
              "2  2006         158000     140000  Petrol  Individual       Manual   \n",
              "3  2010         225000     127000  Diesel  Individual       Manual   \n",
              "4  2007         130000     120000  Petrol  Individual       Manual   \n",
              "\n",
              "          owner  mileage_kmpl  engine(CC)  maxpower_bhp  seats  \n",
              "0   First Owner         23.40      1248.0         74.00    5.0  \n",
              "1  Second Owner         21.14      1498.0        103.52    5.0  \n",
              "2   Third Owner         17.70      1497.0         78.00    5.0  \n",
              "3   First Owner         23.00      1396.0         90.00    5.0  \n",
              "4   First Owner         16.10      1298.0         88.20    5.0  "
            ]
          },
          "execution_count": 10,
          "metadata": {},
          "output_type": "execute_result"
        }
      ],
      "source": [
        "car_df.head()"
      ]
    },
    {
      "cell_type": "code",
      "execution_count": 11,
      "metadata": {
        "colab": {
          "base_uri": "https://localhost:8080/",
          "height": 447
        },
        "id": "oLfK1bqkAz56",
        "outputId": "dc9ab900-4717-496a-b3af-3af8d2952ee5"
      },
      "outputs": [
        {
          "data": {
            "text/plain": [
              "[Text(0.5, 0, 'Owner Type'), Text(0, 0.5, 'Frequency')]"
            ]
          },
          "execution_count": 11,
          "metadata": {},
          "output_type": "execute_result"
        },
        {
          "data": {
            "image/png": "[encoded data removed]",
            "text/plain": [
              "<Figure size 1440x360 with 4 Axes>"
            ]
          },
          "metadata": {
            "needs_background": "light"
          },
          "output_type": "display_data"
        }
      ],
      "source": [
        "# Visualisation categorical data\n",
        "%matplotlib inline\n",
        "plt.figure (figsize = (20, 5))\n",
        "\n",
        "plt.subplot(1,4,1)\n",
        "plt1 = car_df.fuel.value_counts().plot (kind ='bar')\n",
        "plt.title (\"Fuel type Frequency\")\n",
        "plt1.set(xlabel = \"Fuel type\", ylabel = \"Frequency\")\n",
        "\n",
        "plt.subplot(1,4,2)\n",
        "plt2 = car_df.seller_type.value_counts().plot (kind ='bar')\n",
        "plt.title (\"Seller Type Histogram\")\n",
        "plt2.set(xlabel = \"Seller Type\", ylabel = \"Frequency\")\n",
        "\n",
        "plt.subplot(1,4,3)\n",
        "plt3 = car_df.transmission.value_counts().plot (kind='bar')\n",
        "plt.title (\"Transmission Type Histogram\")\n",
        "plt3.set (xlabel = \"Transmission\", ylabel = \"Frequency\")\n",
        "\n",
        "plt.subplot(1,4,4)\n",
        "plt4 = car_df.owner.value_counts().plot (kind='bar')\n",
        "plt.title ('Owner Type Histogram')\n",
        "plt4.set (xlabel = 'Owner Type', ylabel = 'Frequency')\n"
      ]
    },
    {
      "cell_type": "code",
      "execution_count": 12,
      "metadata": {
        "colab": {
          "base_uri": "https://localhost:8080/",
          "height": 328
        },
        "id": "FThjhDAbJCKy",
        "outputId": "8900eb6b-0a91-49a0-84fe-c64613b4a5b9"
      },
      "outputs": [
        {
          "data": {
            "text/plain": [
              "[Text(0.5, 0, 'Year'), Text(0, 0.5, 'Frequency')]"
            ]
          },
          "execution_count": 12,
          "metadata": {},
          "output_type": "execute_result"
        },
        {
          "data": {
            "image/png": "[encoded data removed]",
            "text/plain": [
              "<Figure size 432x288 with 1 Axes>"
            ]
          },
          "metadata": {
            "needs_background": "light"
          },
          "output_type": "display_data"
        }
      ],
      "source": [
        "plt5 = car_df.year.value_counts().plot (kind='bar')\n",
        "plt.title ('Year Histogram')\n",
        "plt5.set (xlabel = 'Year', ylabel = 'Frequency')"
      ]
    },
    {
      "cell_type": "code",
      "execution_count": 14,
      "metadata": {
        "colab": {
          "base_uri": "https://localhost:8080/",
          "height": 1000
        },
        "id": "o-cW6IiMMwLp",
        "outputId": "376f2458-0d15-440d-e754-f69608c11fb0"
      },
      "outputs": [
        {
          "data": {
            "text/plain": [
              "[Text(0, 0.5, 'Average Price')]"
            ]
          },
          "execution_count": 14,
          "metadata": {},
          "output_type": "execute_result"
        },
        {
          "data": {
            "image/png": "[encoded data removed]",
            "text/plain": [
              "<Figure size 432x288 with 1 Axes>"
            ]
          },
          "metadata": {
            "needs_background": "light"
          },
          "output_type": "display_data"
        },
        {
          "data": {
            "image/png": "[encoded data removed]",
            "text/plain": [
              "<Figure size 432x288 with 1 Axes>"
            ]
          },
          "metadata": {
            "needs_background": "light"
          },
          "output_type": "display_data"
        },
        {
          "data": {
            "image/png": "[encoded data removed]",
            "text/plain": [
              "<Figure size 432x288 with 1 Axes>"
            ]
          },
          "metadata": {
            "needs_background": "light"
          },
          "output_type": "display_data"
        },
        {
          "data": {
            "image/png": "[encoded data removed]",
            "text/plain": [
              "<Figure size 432x288 with 1 Axes>"
            ]
          },
          "metadata": {
            "needs_background": "light"
          },
          "output_type": "display_data"
        },
        {
          "data": {
            "image/png": "[encoded data removed]",
            "text/plain": [
              "<Figure size 432x288 with 1 Axes>"
            ]
          },
          "metadata": {
            "needs_background": "light"
          },
          "output_type": "display_data"
        }
      ],
      "source": [
        "# Visualisation using groupby against average price\n",
        "\n",
        "\n",
        "fuel_df = pd.DataFrame(car_df.groupby(['fuel'])['selling_price'].mean()).plot (kind = 'bar')\n",
        "plt.title (\"Fuel Type vs Average Price\")\n",
        "fuel_df.set (ylabel = 'Average Price')\n",
        "\n",
        "seller_type_df = pd.DataFrame(car_df.groupby(['seller_type'])['selling_price'].mean()).plot (kind = 'bar')\n",
        "plt.title (\"Seller Type vs Average Price\")\n",
        "seller_type_df.set (ylabel = 'Average Price')\n",
        "\n",
        "transmission_df = pd.DataFrame(car_df.groupby(['transmission'])['selling_price'].mean()).plot (kind = 'bar')\n",
        "plt.title (\"Transmission Type vs Average Price\")\n",
        "transmission_df.set (ylabel = 'Average Price')\n",
        "\n",
        "owner_df = pd.DataFrame(car_df.groupby(['owner'])['selling_price'].mean()).plot (kind = 'bar')\n",
        "plt.title (\"Owner vs Average Price\")\n",
        "owner_df.set (ylabel = 'Average Price')\n",
        "\n",
        "year_df = pd.DataFrame(car_df.groupby(['year'])['selling_price'].mean()).plot (kind = 'bar')\n",
        "plt.title (\"Manufacturing year vs Average Price\")\n",
        "year_df.set (ylabel = 'Average Price')"
      ]
    },
    {
      "cell_type": "code",
      "execution_count": 15,
      "metadata": {
        "colab": {
          "base_uri": "https://localhost:8080/",
          "height": 1000
        },
        "id": "hYebssEwJY7R",
        "outputId": "1cc4bcb9-5341-41bd-bdd5-d26af1996c49"
      },
      "outputs": [
        {
          "data": {
            "image/png": "[encoded data removed]",
            "text/plain": [
              "<Figure size 432x288 with 1 Axes>"
            ]
          },
          "metadata": {
            "needs_background": "light"
          },
          "output_type": "display_data"
        },
        {
          "data": {
            "image/png": "[encoded data removed]",
            "text/plain": [
              "<Figure size 432x288 with 1 Axes>"
            ]
          },
          "metadata": {
            "needs_background": "light"
          },
          "output_type": "display_data"
        },
        {
          "data": {
            "image/png": "[encoded data removed]",
            "text/plain": [
              "<Figure size 432x288 with 1 Axes>"
            ]
          },
          "metadata": {
            "needs_background": "light"
          },
          "output_type": "display_data"
        },
        {
          "data": {
            "image/png": "[encoded data removed]",
            "text/plain": [
              "<Figure size 432x288 with 1 Axes>"
            ]
          },
          "metadata": {
            "needs_background": "light"
          },
          "output_type": "display_data"
        },
        {
          "data": {
            "image/png": "[encoded data removed]",
            "text/plain": [
              "<Figure size 432x288 with 1 Axes>"
            ]
          },
          "metadata": {
            "needs_background": "light"
          },
          "output_type": "display_data"
        }
      ],
      "source": [
        "# Visualisation numerical data\n",
        "\n",
        "names = ['km_driven', 'mileage_kmpl',\t'engine(CC)',\t'maxpower_bhp',\t'seats']\n",
        "\n",
        "for i in names:\n",
        "  plt.scatter(car_df[i], car_df['selling_price'])\n",
        "  plt.title (i + ' vs selling price')\n",
        "  plt.ylabel (\"Selling Price\")\n",
        "  plt.xlabel (i)\n",
        "  plt.show()"
      ]
    },
    {
      "cell_type": "code",
      "execution_count": 16,
      "metadata": {
        "colab": {
          "base_uri": "https://localhost:8080/",
          "height": 1000
        },
        "id": "H9Gec_tJ7MWa",
        "outputId": "d8c00174-da6d-47c2-beeb-2a12f81438e3"
      },
      "outputs": [
        {
          "data": {
            "text/plain": [
              "<seaborn.axisgrid.PairGrid at 0x1f51cb0fdc0>"
            ]
          },
          "execution_count": 16,
          "metadata": {},
          "output_type": "execute_result"
        },
        {
          "data": {
            "image/png": "[encoded data removed]",
            "text/plain": [
              "<Figure size 1260x1260 with 49 Axes>"
            ]
          },
          "metadata": {
            "needs_background": "light"
          },
          "output_type": "display_data"
        }
      ],
      "source": [
        "# Correlation Matrix to make all scatter plots at once\n",
        "# Create a grid of column pairs with scatter plots for non-diagonal(upper portion)\n",
        "sns.PairGrid(car_df).map_upper(plt.scatter)"
      ]
    },
    {
      "cell_type": "markdown",
      "metadata": {
        "id": "W-DXjUpnmeep"
      },
      "source": [
        "#### Mileage kmpl and km driven seem to have no relationship with the selling price"
      ]
    },
    {
      "cell_type": "code",
      "execution_count": 17,
      "metadata": {
        "id": "mQw05TS3m6-Z"
      },
      "outputs": [],
      "source": [
        "# Choose a cutoff value and create a list of classifications to be replaced\n",
        "# use the variable name `classifications_to_replace`\n",
        "\n",
        "classifications_to_replace = car_df[car_df['year'].isin(car_df['year'].value_counts()[car_df['year'].value_counts()<150].index)]['year']\n",
        "\n",
        "# Replace in dataframe\n",
        "for cls in classifications_to_replace:\n",
        "    car_df['year'] = car_df['year'].replace(cls,\"Other\")\n",
        "    \n",
        "# Check to make sure binning was successful\n",
        "car_df['year'].value_counts()\n",
        "\n",
        "car_df ['year'] = car_df ['year'].astype(str)"
      ]
    },
    {
      "cell_type": "code",
      "execution_count": 18,
      "metadata": {
        "colab": {
          "base_uri": "https://localhost:8080/",
          "height": 641
        },
        "id": "XJoQlf5ityHn",
        "outputId": "4d6e40fd-8710-41ea-f81f-cc0d0d49482c"
      },
      "outputs": [
        {
          "data": {
            "text/html": [
              "<div>\n",
              "<style scoped>\n",
              "    .dataframe tbody tr th:only-of-type {\n",
              "        vertical-align: middle;\n",
              "    }\n",
              "\n",
              "    .dataframe tbody tr th {\n",
              "        vertical-align: top;\n",
              "    }\n",
              "\n",
              "    .dataframe thead th {\n",
              "        text-align: right;\n",
              "    }\n",
              "</style>\n",
              "<table border=\"1\" class=\"dataframe\">\n",
              "  <thead>\n",
              "    <tr style=\"text-align: right;\">\n",
              "      <th></th>\n",
              "      <th>year</th>\n",
              "      <th>selling_price</th>\n",
              "      <th>km_driven</th>\n",
              "      <th>fuel</th>\n",
              "      <th>seller_type</th>\n",
              "      <th>transmission</th>\n",
              "      <th>owner</th>\n",
              "      <th>mileage_kmpl</th>\n",
              "      <th>engine(CC)</th>\n",
              "      <th>maxpower_bhp</th>\n",
              "      <th>seats</th>\n",
              "      <th>engine(CC)_binning</th>\n",
              "    </tr>\n",
              "  </thead>\n",
              "  <tbody>\n",
              "    <tr>\n",
              "      <th>0</th>\n",
              "      <td>2014</td>\n",
              "      <td>450000</td>\n",
              "      <td>145500</td>\n",
              "      <td>Diesel</td>\n",
              "      <td>Individual</td>\n",
              "      <td>Manual</td>\n",
              "      <td>First Owner</td>\n",
              "      <td>23.40</td>\n",
              "      <td>1248.0</td>\n",
              "      <td>74.00</td>\n",
              "      <td>5.0</td>\n",
              "      <td>1</td>\n",
              "    </tr>\n",
              "    <tr>\n",
              "      <th>1</th>\n",
              "      <td>2014</td>\n",
              "      <td>370000</td>\n",
              "      <td>120000</td>\n",
              "      <td>Diesel</td>\n",
              "      <td>Individual</td>\n",
              "      <td>Manual</td>\n",
              "      <td>Second Owner</td>\n",
              "      <td>21.14</td>\n",
              "      <td>1498.0</td>\n",
              "      <td>103.52</td>\n",
              "      <td>5.0</td>\n",
              "      <td>1</td>\n",
              "    </tr>\n",
              "    <tr>\n",
              "      <th>2</th>\n",
              "      <td>Other</td>\n",
              "      <td>158000</td>\n",
              "      <td>140000</td>\n",
              "      <td>Petrol</td>\n",
              "      <td>Individual</td>\n",
              "      <td>Manual</td>\n",
              "      <td>Third Owner</td>\n",
              "      <td>17.70</td>\n",
              "      <td>1497.0</td>\n",
              "      <td>78.00</td>\n",
              "      <td>5.0</td>\n",
              "      <td>1</td>\n",
              "    </tr>\n",
              "    <tr>\n",
              "      <th>3</th>\n",
              "      <td>2010</td>\n",
              "      <td>225000</td>\n",
              "      <td>127000</td>\n",
              "      <td>Diesel</td>\n",
              "      <td>Individual</td>\n",
              "      <td>Manual</td>\n",
              "      <td>First Owner</td>\n",
              "      <td>23.00</td>\n",
              "      <td>1396.0</td>\n",
              "      <td>90.00</td>\n",
              "      <td>5.0</td>\n",
              "      <td>1</td>\n",
              "    </tr>\n",
              "    <tr>\n",
              "      <th>4</th>\n",
              "      <td>2007</td>\n",
              "      <td>130000</td>\n",
              "      <td>120000</td>\n",
              "      <td>Petrol</td>\n",
              "      <td>Individual</td>\n",
              "      <td>Manual</td>\n",
              "      <td>First Owner</td>\n",
              "      <td>16.10</td>\n",
              "      <td>1298.0</td>\n",
              "      <td>88.20</td>\n",
              "      <td>5.0</td>\n",
              "      <td>1</td>\n",
              "    </tr>\n",
              "    <tr>\n",
              "      <th>...</th>\n",
              "      <td>...</td>\n",
              "      <td>...</td>\n",
              "      <td>...</td>\n",
              "      <td>...</td>\n",
              "      <td>...</td>\n",
              "      <td>...</td>\n",
              "      <td>...</td>\n",
              "      <td>...</td>\n",
              "      <td>...</td>\n",
              "      <td>...</td>\n",
              "      <td>...</td>\n",
              "      <td>...</td>\n",
              "    </tr>\n",
              "    <tr>\n",
              "      <th>195</th>\n",
              "      <td>Other</td>\n",
              "      <td>65000</td>\n",
              "      <td>86000</td>\n",
              "      <td>Petrol</td>\n",
              "      <td>Individual</td>\n",
              "      <td>Manual</td>\n",
              "      <td>First Owner</td>\n",
              "      <td>15.30</td>\n",
              "      <td>1341.0</td>\n",
              "      <td>83.00</td>\n",
              "      <td>5.0</td>\n",
              "      <td>1</td>\n",
              "    </tr>\n",
              "    <tr>\n",
              "      <th>196</th>\n",
              "      <td>Other</td>\n",
              "      <td>720000</td>\n",
              "      <td>5000</td>\n",
              "      <td>Petrol</td>\n",
              "      <td>Individual</td>\n",
              "      <td>Manual</td>\n",
              "      <td>First Owner</td>\n",
              "      <td>18.60</td>\n",
              "      <td>1197.0</td>\n",
              "      <td>81.86</td>\n",
              "      <td>5.0</td>\n",
              "      <td>1</td>\n",
              "    </tr>\n",
              "    <tr>\n",
              "      <th>197</th>\n",
              "      <td>2017</td>\n",
              "      <td>800000</td>\n",
              "      <td>37000</td>\n",
              "      <td>Diesel</td>\n",
              "      <td>Individual</td>\n",
              "      <td>Manual</td>\n",
              "      <td>First Owner</td>\n",
              "      <td>28.09</td>\n",
              "      <td>1248.0</td>\n",
              "      <td>88.50</td>\n",
              "      <td>5.0</td>\n",
              "      <td>1</td>\n",
              "    </tr>\n",
              "    <tr>\n",
              "      <th>198</th>\n",
              "      <td>2019</td>\n",
              "      <td>520000</td>\n",
              "      <td>14000</td>\n",
              "      <td>Petrol</td>\n",
              "      <td>Individual</td>\n",
              "      <td>Manual</td>\n",
              "      <td>First Owner</td>\n",
              "      <td>20.30</td>\n",
              "      <td>1199.0</td>\n",
              "      <td>84.00</td>\n",
              "      <td>5.0</td>\n",
              "      <td>1</td>\n",
              "    </tr>\n",
              "    <tr>\n",
              "      <th>199</th>\n",
              "      <td>2015</td>\n",
              "      <td>580000</td>\n",
              "      <td>70000</td>\n",
              "      <td>Diesel</td>\n",
              "      <td>Individual</td>\n",
              "      <td>Manual</td>\n",
              "      <td>First Owner</td>\n",
              "      <td>20.77</td>\n",
              "      <td>1248.0</td>\n",
              "      <td>88.76</td>\n",
              "      <td>7.0</td>\n",
              "      <td>1</td>\n",
              "    </tr>\n",
              "  </tbody>\n",
              "</table>\n",
              "<p>200 rows × 12 columns</p>\n",
              "</div>"
            ],
            "text/plain": [
              "      year  selling_price  km_driven    fuel seller_type transmission  \\\n",
              "0     2014         450000     145500  Diesel  Individual       Manual   \n",
              "1     2014         370000     120000  Diesel  Individual       Manual   \n",
              "2    Other         158000     140000  Petrol  Individual       Manual   \n",
              "3     2010         225000     127000  Diesel  Individual       Manual   \n",
              "4     2007         130000     120000  Petrol  Individual       Manual   \n",
              "..     ...            ...        ...     ...         ...          ...   \n",
              "195  Other          65000      86000  Petrol  Individual       Manual   \n",
              "196  Other         720000       5000  Petrol  Individual       Manual   \n",
              "197   2017         800000      37000  Diesel  Individual       Manual   \n",
              "198   2019         520000      14000  Petrol  Individual       Manual   \n",
              "199   2015         580000      70000  Diesel  Individual       Manual   \n",
              "\n",
              "            owner  mileage_kmpl  engine(CC)  maxpower_bhp  seats  \\\n",
              "0     First Owner         23.40      1248.0         74.00    5.0   \n",
              "1    Second Owner         21.14      1498.0        103.52    5.0   \n",
              "2     Third Owner         17.70      1497.0         78.00    5.0   \n",
              "3     First Owner         23.00      1396.0         90.00    5.0   \n",
              "4     First Owner         16.10      1298.0         88.20    5.0   \n",
              "..            ...           ...         ...           ...    ...   \n",
              "195   First Owner         15.30      1341.0         83.00    5.0   \n",
              "196   First Owner         18.60      1197.0         81.86    5.0   \n",
              "197   First Owner         28.09      1248.0         88.50    5.0   \n",
              "198   First Owner         20.30      1199.0         84.00    5.0   \n",
              "199   First Owner         20.77      1248.0         88.76    7.0   \n",
              "\n",
              "    engine(CC)_binning  \n",
              "0                    1  \n",
              "1                    1  \n",
              "2                    1  \n",
              "3                    1  \n",
              "4                    1  \n",
              "..                 ...  \n",
              "195                  1  \n",
              "196                  1  \n",
              "197                  1  \n",
              "198                  1  \n",
              "199                  1  \n",
              "\n",
              "[200 rows x 12 columns]"
            ]
          },
          "execution_count": 18,
          "metadata": {},
          "output_type": "execute_result"
        }
      ],
      "source": [
        "engine_bin = [1,2,3,4]\n",
        "car_df['engine(CC)_binning'] = pd.cut(car_df['engine(CC)'], [1000, 1999, 2999, 3999, 4000], labels = engine_bin)\n",
        "car_df.head(200)"
      ]
    },
    {
      "cell_type": "code",
      "execution_count": 19,
      "metadata": {
        "id": "_WGSf9lJRbs4"
      },
      "outputs": [],
      "source": [
        "car_df['seats'] = car_df['seats'].astype(str)\n",
        "car_df['engine(CC)_binning'] = car_df['engine(CC)_binning'].astype(str)"
      ]
    },
    {
      "cell_type": "code",
      "execution_count": 20,
      "metadata": {
        "id": "I6Nr7_0GRphk"
      },
      "outputs": [],
      "source": [
        "car_df.dropna(inplace=True)"
      ]
    },
    {
      "cell_type": "code",
      "execution_count": 21,
      "metadata": {
        "colab": {
          "base_uri": "https://localhost:8080/",
          "height": 299
        },
        "id": "alQFUX-GQwxP",
        "outputId": "3e6b65d9-df57-4625-fbc6-02f330da0786"
      },
      "outputs": [
        {
          "data": {
            "text/html": [
              "<div>\n",
              "<style scoped>\n",
              "    .dataframe tbody tr th:only-of-type {\n",
              "        vertical-align: middle;\n",
              "    }\n",
              "\n",
              "    .dataframe tbody tr th {\n",
              "        vertical-align: top;\n",
              "    }\n",
              "\n",
              "    .dataframe thead th {\n",
              "        text-align: right;\n",
              "    }\n",
              "</style>\n",
              "<table border=\"1\" class=\"dataframe\">\n",
              "  <thead>\n",
              "    <tr style=\"text-align: right;\">\n",
              "      <th></th>\n",
              "      <th>selling_price</th>\n",
              "      <th>km_driven</th>\n",
              "      <th>mileage_kmpl</th>\n",
              "      <th>engine(CC)</th>\n",
              "      <th>maxpower_bhp</th>\n",
              "      <th>year_2007</th>\n",
              "      <th>year_2008</th>\n",
              "      <th>year_2009</th>\n",
              "      <th>year_2010</th>\n",
              "      <th>year_2011</th>\n",
              "      <th>...</th>\n",
              "      <th>seats_4.0</th>\n",
              "      <th>seats_5.0</th>\n",
              "      <th>seats_6.0</th>\n",
              "      <th>seats_7.0</th>\n",
              "      <th>seats_8.0</th>\n",
              "      <th>seats_9.0</th>\n",
              "      <th>engine(CC)_binning_1</th>\n",
              "      <th>engine(CC)_binning_2</th>\n",
              "      <th>engine(CC)_binning_3</th>\n",
              "      <th>engine(CC)_binning_nan</th>\n",
              "    </tr>\n",
              "  </thead>\n",
              "  <tbody>\n",
              "    <tr>\n",
              "      <th>0</th>\n",
              "      <td>450000</td>\n",
              "      <td>145500</td>\n",
              "      <td>23.40</td>\n",
              "      <td>1248.0</td>\n",
              "      <td>74.00</td>\n",
              "      <td>0</td>\n",
              "      <td>0</td>\n",
              "      <td>0</td>\n",
              "      <td>0</td>\n",
              "      <td>0</td>\n",
              "      <td>...</td>\n",
              "      <td>0</td>\n",
              "      <td>1</td>\n",
              "      <td>0</td>\n",
              "      <td>0</td>\n",
              "      <td>0</td>\n",
              "      <td>0</td>\n",
              "      <td>1</td>\n",
              "      <td>0</td>\n",
              "      <td>0</td>\n",
              "      <td>0</td>\n",
              "    </tr>\n",
              "    <tr>\n",
              "      <th>1</th>\n",
              "      <td>370000</td>\n",
              "      <td>120000</td>\n",
              "      <td>21.14</td>\n",
              "      <td>1498.0</td>\n",
              "      <td>103.52</td>\n",
              "      <td>0</td>\n",
              "      <td>0</td>\n",
              "      <td>0</td>\n",
              "      <td>0</td>\n",
              "      <td>0</td>\n",
              "      <td>...</td>\n",
              "      <td>0</td>\n",
              "      <td>1</td>\n",
              "      <td>0</td>\n",
              "      <td>0</td>\n",
              "      <td>0</td>\n",
              "      <td>0</td>\n",
              "      <td>1</td>\n",
              "      <td>0</td>\n",
              "      <td>0</td>\n",
              "      <td>0</td>\n",
              "    </tr>\n",
              "    <tr>\n",
              "      <th>2</th>\n",
              "      <td>158000</td>\n",
              "      <td>140000</td>\n",
              "      <td>17.70</td>\n",
              "      <td>1497.0</td>\n",
              "      <td>78.00</td>\n",
              "      <td>0</td>\n",
              "      <td>0</td>\n",
              "      <td>0</td>\n",
              "      <td>0</td>\n",
              "      <td>0</td>\n",
              "      <td>...</td>\n",
              "      <td>0</td>\n",
              "      <td>1</td>\n",
              "      <td>0</td>\n",
              "      <td>0</td>\n",
              "      <td>0</td>\n",
              "      <td>0</td>\n",
              "      <td>1</td>\n",
              "      <td>0</td>\n",
              "      <td>0</td>\n",
              "      <td>0</td>\n",
              "    </tr>\n",
              "    <tr>\n",
              "      <th>3</th>\n",
              "      <td>225000</td>\n",
              "      <td>127000</td>\n",
              "      <td>23.00</td>\n",
              "      <td>1396.0</td>\n",
              "      <td>90.00</td>\n",
              "      <td>0</td>\n",
              "      <td>0</td>\n",
              "      <td>0</td>\n",
              "      <td>1</td>\n",
              "      <td>0</td>\n",
              "      <td>...</td>\n",
              "      <td>0</td>\n",
              "      <td>1</td>\n",
              "      <td>0</td>\n",
              "      <td>0</td>\n",
              "      <td>0</td>\n",
              "      <td>0</td>\n",
              "      <td>1</td>\n",
              "      <td>0</td>\n",
              "      <td>0</td>\n",
              "      <td>0</td>\n",
              "    </tr>\n",
              "    <tr>\n",
              "      <th>4</th>\n",
              "      <td>130000</td>\n",
              "      <td>120000</td>\n",
              "      <td>16.10</td>\n",
              "      <td>1298.0</td>\n",
              "      <td>88.20</td>\n",
              "      <td>1</td>\n",
              "      <td>0</td>\n",
              "      <td>0</td>\n",
              "      <td>0</td>\n",
              "      <td>0</td>\n",
              "      <td>...</td>\n",
              "      <td>0</td>\n",
              "      <td>1</td>\n",
              "      <td>0</td>\n",
              "      <td>0</td>\n",
              "      <td>0</td>\n",
              "      <td>0</td>\n",
              "      <td>1</td>\n",
              "      <td>0</td>\n",
              "      <td>0</td>\n",
              "      <td>0</td>\n",
              "    </tr>\n",
              "  </tbody>\n",
              "</table>\n",
              "<p>5 rows × 46 columns</p>\n",
              "</div>"
            ],
            "text/plain": [
              "   selling_price  km_driven  mileage_kmpl  engine(CC)  maxpower_bhp  \\\n",
              "0         450000     145500         23.40      1248.0         74.00   \n",
              "1         370000     120000         21.14      1498.0        103.52   \n",
              "2         158000     140000         17.70      1497.0         78.00   \n",
              "3         225000     127000         23.00      1396.0         90.00   \n",
              "4         130000     120000         16.10      1298.0         88.20   \n",
              "\n",
              "   year_2007  year_2008  year_2009  year_2010  year_2011  ...  seats_4.0  \\\n",
              "0          0          0          0          0          0  ...          0   \n",
              "1          0          0          0          0          0  ...          0   \n",
              "2          0          0          0          0          0  ...          0   \n",
              "3          0          0          0          1          0  ...          0   \n",
              "4          1          0          0          0          0  ...          0   \n",
              "\n",
              "   seats_5.0  seats_6.0  seats_7.0  seats_8.0  seats_9.0  \\\n",
              "0          1          0          0          0          0   \n",
              "1          1          0          0          0          0   \n",
              "2          1          0          0          0          0   \n",
              "3          1          0          0          0          0   \n",
              "4          1          0          0          0          0   \n",
              "\n",
              "   engine(CC)_binning_1  engine(CC)_binning_2  engine(CC)_binning_3  \\\n",
              "0                     1                     0                     0   \n",
              "1                     1                     0                     0   \n",
              "2                     1                     0                     0   \n",
              "3                     1                     0                     0   \n",
              "4                     1                     0                     0   \n",
              "\n",
              "   engine(CC)_binning_nan  \n",
              "0                       0  \n",
              "1                       0  \n",
              "2                       0  \n",
              "3                       0  \n",
              "4                       0  \n",
              "\n",
              "[5 rows x 46 columns]"
            ]
          },
          "execution_count": 21,
          "metadata": {},
          "output_type": "execute_result"
        }
      ],
      "source": [
        "car_df = pd.get_dummies(car_df)\n",
        "car_df.head()"
      ]
    },
    {
      "cell_type": "code",
      "execution_count": 22,
      "metadata": {
        "colab": {
          "base_uri": "https://localhost:8080/"
        },
        "id": "Df9tWFFrDWG9",
        "outputId": "27a95ec7-9f85-441c-b75d-f20371a1f33e"
      },
      "outputs": [
        {
          "data": {
            "text/plain": [
              "['selling_price',\n",
              " 'km_driven',\n",
              " 'mileage_kmpl',\n",
              " 'engine(CC)',\n",
              " 'maxpower_bhp',\n",
              " 'year_2007',\n",
              " 'year_2008',\n",
              " 'year_2009',\n",
              " 'year_2010',\n",
              " 'year_2011',\n",
              " 'year_2012',\n",
              " 'year_2013',\n",
              " 'year_2014',\n",
              " 'year_2015',\n",
              " 'year_2016',\n",
              " 'year_2017',\n",
              " 'year_2018',\n",
              " 'year_2019',\n",
              " 'year_Other',\n",
              " 'fuel_CNG',\n",
              " 'fuel_Diesel',\n",
              " 'fuel_LPG',\n",
              " 'fuel_Petrol',\n",
              " 'seller_type_Dealer',\n",
              " 'seller_type_Individual',\n",
              " 'seller_type_Trustmark Dealer',\n",
              " 'transmission_Automatic',\n",
              " 'transmission_Manual',\n",
              " 'owner_First Owner',\n",
              " 'owner_Fourth & Above Owner',\n",
              " 'owner_Second Owner',\n",
              " 'owner_Test Drive Car',\n",
              " 'owner_Third Owner',\n",
              " 'seats_10.0',\n",
              " 'seats_14.0',\n",
              " 'seats_2.0',\n",
              " 'seats_4.0',\n",
              " 'seats_5.0',\n",
              " 'seats_6.0',\n",
              " 'seats_7.0',\n",
              " 'seats_8.0',\n",
              " 'seats_9.0',\n",
              " 'engine(CC)_binning_1',\n",
              " 'engine(CC)_binning_2',\n",
              " 'engine(CC)_binning_3',\n",
              " 'engine(CC)_binning_nan']"
            ]
          },
          "execution_count": 22,
          "metadata": {},
          "output_type": "execute_result"
        }
      ],
      "source": [
        "list(car_df.columns.values)"
      ]
    },
    {
      "cell_type": "code",
      "execution_count": 23,
      "metadata": {
        "id": "rF2A4q_qEb-Y"
      },
      "outputs": [],
      "source": [
        "#'mileage_kmpl', 'engine(CC)', 'maxpower_bhp', 'year_2007', 'year_2008', 'year_2009', 'year_2010', 'year_2011', 'year_2012', 'year_2013', 'year_2014', \n",
        "             #'year_2015', 'year_2016', 'year_2017', 'year_2018', 'year_2019', 'year_Other',  'owner_First Owner', 'owner_Fourth & Above Owner', \n",
        "             # 'owner_Second Owner', 'owner_Test Drive Car', 'owner_Third Owner', 'seller_type_Dealer',\n",
        "             # 'seller_type_Individual', 'seller_type_Trustmark Dealer', 'fuel_CNG', 'fuel_Diesel', 'fuel_LPG', 'fuel_Petrol', 'transmission_Automatic', 'transmission_Manual',"
      ]
    },
    {
      "cell_type": "code",
      "execution_count": 23,
      "metadata": {
        "id": "Zvww35wdCLT9"
      },
      "outputs": [],
      "source": [
        "# Drop further unwanted columns\n",
        "car_df.drop(['seats_10.0', 'seats_14.0', 'seats_2.0', 'seats_4.0', 'seats_5.0', 'seats_6.0', 'seats_7.0',\n",
        "              'seats_8.0', 'seats_9.0', 'engine(CC)_binning_1', 'engine(CC)_binning_2', 'engine(CC)_binning_3', 'engine(CC)_binning_nan'], axis=1, inplace=True)"
      ]
    },
    {
      "cell_type": "markdown",
      "metadata": {
        "id": "Zm1ZAgZo1cy-"
      },
      "source": [
        "## **Compile, Train and Evaluate the Model**"
      ]
    },
    {
      "cell_type": "code",
      "execution_count": 24,
      "metadata": {
        "id": "da9iSRp8RNUu"
      },
      "outputs": [],
      "source": [
        "# Split our preprocessed data into our features and target arrays\n",
        "\n",
        "y = car_df[\"selling_price\"]\n",
        "X = car_df.drop([\"selling_price\"], axis=1)"
      ]
    },
    {
      "cell_type": "markdown",
      "metadata": {
        "id": "RTylL6Mj_UIK"
      },
      "source": [
        "### *Which Model will be used*\n",
        "\n",
        "We can't use the Logistic Regresssion Model because our target value is price and it is not a binary valueable data"
      ]
    },
    {
      "cell_type": "code",
      "execution_count": 25,
      "metadata": {
        "colab": {
          "base_uri": "https://localhost:8080/",
          "height": 404
        },
        "id": "xb91Y-bddx1W",
        "outputId": "606756a3-47b8-4da7-d24d-302bcc20363d"
      },
      "outputs": [
        {
          "name": "stdout",
          "output_type": "stream",
          "text": [
            "[4.17611531e-01 1.69104931e-01 1.07643036e-01 1.54160116e-01\n",
            " 3.00048637e-03 3.56252304e-03 3.54259420e-03 4.09921082e-03\n",
            " 5.53185550e-03 5.84079203e-03 7.62774270e-03 5.95163631e-03\n",
            " 6.29399670e-03 9.22941852e-03 7.56474736e-03 7.32066893e-03\n",
            " 7.25608769e-03 3.97253823e-03 1.32579773e-03 5.97243919e-03\n",
            " 1.09574364e-03 6.32521935e-03 5.92228975e-03 6.22050942e-03\n",
            " 6.12371084e-03 3.94630167e-03 4.30528581e-03 9.06336967e-03\n",
            " 3.80060506e-03 1.01835268e-02 1.58600030e-04 6.24268907e-03]\n"
          ]
        },
        {
          "data": {
            "image/png": "[encoded data removed]",
            "text/plain": [
              "<Figure size 432x288 with 1 Axes>"
            ]
          },
          "metadata": {
            "needs_background": "light"
          },
          "output_type": "display_data"
        }
      ],
      "source": [
        "# Checking which feature is important to the target:\n",
        "important_feature = ExtraTreesClassifier()\n",
        "important_feature.fit(X,y)\n",
        "print(important_feature.feature_importances_)\n",
        "\n",
        "#plot graph of feature importances for better visualization\n",
        "feat_importances = pd.Series(important_feature.feature_importances_, index=X.columns)\n",
        "feat_importances.nlargest(20).plot(kind='barh')\n",
        "plt.show()"
      ]
    },
    {
      "cell_type": "code",
      "execution_count": 26,
      "metadata": {
        "id": "RQzGpjj8dx1W"
      },
      "outputs": [],
      "source": [
        "# Split the preprocessed data into a training and testing dataset\n",
        "\n",
        "X_train, X_test, y_train, y_test = train_test_split(X, y, random_state = 42) "
      ]
    },
    {
      "cell_type": "code",
      "execution_count": 27,
      "metadata": {
        "id": "sdnkjtNr1KiW"
      },
      "outputs": [],
      "source": [
        "# Create a StandardScaler instances\n",
        "scaler = skl.preprocessing.StandardScaler()\n",
        "\n",
        "# Fit the StandardScaler\n",
        "X_scaler = scaler.fit(X_train)\n",
        "\n",
        "# Scale the data\n",
        "X_train_scaled = X_scaler.transform(X_train)\n",
        "X_test_scaled = X_scaler.transform(X_test)"
      ]
    },
    {
      "cell_type": "code",
      "execution_count": 28,
      "metadata": {
        "colab": {
          "base_uri": "https://localhost:8080/"
        },
        "id": "4wi1o_f01eLe",
        "outputId": "3ab2b8b5-3d1d-4203-e3e1-680a3ffc7152"
      },
      "outputs": [
        {
          "data": {
            "text/plain": [
              "32"
            ]
          },
          "execution_count": 28,
          "metadata": {},
          "output_type": "execute_result"
        }
      ],
      "source": [
        "# Checking the number of feature:\n",
        "\n",
        "number_input_feature = X_train.shape[1]\n",
        "number_input_feature"
      ]
    },
    {
      "cell_type": "code",
      "execution_count": 29,
      "metadata": {
        "id": "gmq-qiieyXrk"
      },
      "outputs": [],
      "source": [
        "def test_model(model, data):\n",
        "    X_train_scaled, X_test_scaled, y_train, y_test = data\n",
        "    reg = model.fit(X_train_scaled, y_train)\n",
        "    print(f'Model: {type(reg).__name__}')\n",
        "    print(f'Train score: {reg.score(X_train_scaled, y_train)}')\n",
        "    print(f'Test Score: {reg.score(X_test_scaled, y_test)}\\n')\n",
        "    plt.show()    "
      ]
    },
    {
      "cell_type": "code",
      "execution_count": 30,
      "metadata": {
        "colab": {
          "base_uri": "https://localhost:8080/"
        },
        "id": "xnh_8RzDxQMJ",
        "outputId": "50a2cc62-d094-4248-b961-82169d339c3c"
      },
      "outputs": [
        {
          "name": "stdout",
          "output_type": "stream",
          "text": [
            "Model: LinearRegression\n",
            "Train score: 0.7116121356857634\n",
            "Test Score: 0.7255819349317296\n",
            "\n",
            "Model: KNeighborsRegressor\n",
            "Train score: 0.9363129440295597\n",
            "Test Score: 0.9306185785289415\n",
            "\n",
            "Model: RandomForestRegressor\n",
            "Train score: 0.9930364598361133\n",
            "Test Score: 0.9746900263945816\n",
            "\n",
            "Model: ExtraTreesRegressor\n",
            "Train score: 0.9995983140886733\n",
            "Test Score: 0.9770770000557969\n",
            "\n",
            "Model: AdaBoostRegressor\n",
            "Train score: 0.7694302515566113\n",
            "Test Score: 0.7955294226749751\n",
            "\n",
            "Model: SVR\n",
            "Train score: -0.058166339695991054\n",
            "Test Score: -0.05485594345026934\n",
            "\n"
          ]
        }
      ],
      "source": [
        "\n",
        "data = [X_train_scaled, X_test_scaled, y_train, y_test]\n",
        "\n",
        "test_model(LinearRegression(), data)\n",
        "test_model(KNeighborsRegressor(), data)\n",
        "test_model(RandomForestRegressor(), data)\n",
        "test_model(ExtraTreesRegressor(), data)\n",
        "test_model(AdaBoostRegressor(), data)\n",
        "test_model(SVR(C=1.0, epsilon=0.2), data)"
      ]
    },
    {
      "cell_type": "code",
      "execution_count": 31,
      "metadata": {
        "id": "MCCL9pgqcQcU"
      },
      "outputs": [],
      "source": [
        "from sklearn.model_selection import RandomizedSearchCV\n",
        "#Randomized search on hyper parameters.\n",
        "#used to select the best parameter for the model"
      ]
    },
    {
      "cell_type": "code",
      "execution_count": 32,
      "metadata": {
        "colab": {
          "base_uri": "https://localhost:8080/"
        },
        "id": "BCy95DJjexzs",
        "outputId": "60af6b94-6fe8-4590-817d-35a2771a0b85"
      },
      "outputs": [
        {
          "name": "stdout",
          "output_type": "stream",
          "text": [
            "[100, 200, 300, 400, 500, 600, 700, 800, 900, 1000, 1100, 1200]\n"
          ]
        }
      ],
      "source": [
        "n_estimators = [int(x) for x in np.linspace(start = 100, stop = 1200, num = 12)]\n",
        "#n_estimators is a parameter of the extra tree regressor which is used to control no of trees in the forest\n",
        "#so we use 100 200 ....1200 trees for the model\n",
        "print(n_estimators)"
      ]
    },
    {
      "cell_type": "code",
      "execution_count": 33,
      "metadata": {
        "id": "acoSUDJle5SZ"
      },
      "outputs": [],
      "source": [
        "#Randomized Search CV\n",
        "# Number of features to consider at every split\n",
        "max_features = ['auto', 'sqrt'] # we first consider all the featurees and \n",
        "#then sqare root number of features to train the model\n",
        "\n",
        "# Maximum number of levels in tree\n",
        "max_depth = [int(x) for x in np.linspace(5, 30, num = 6)]\n",
        "#we create trees with 5 10 15 for each model...and train it\n",
        "\n",
        "# Minimum number of samples required to split a node\n",
        "min_samples_split = [2, 5, 10, 15, 100]\n",
        "# we split as 2 nodes forst then 5 then 10 like that till 100 from the list\n",
        "\n",
        "# Minimum number of samples required at each leaf node\n",
        "min_samples_leaf = [1, 2, 5, 10]"
      ]
    },
    {
      "cell_type": "code",
      "execution_count": 34,
      "metadata": {
        "colab": {
          "base_uri": "https://localhost:8080/"
        },
        "id": "0YZkIz8re84G",
        "outputId": "cf7434d9-df19-4784-c6a9-20a51241b35c"
      },
      "outputs": [
        {
          "data": {
            "text/plain": [
              "[5, 10, 15, 20, 25, 30]"
            ]
          },
          "execution_count": 34,
          "metadata": {},
          "output_type": "execute_result"
        }
      ],
      "source": [
        "max_depth"
      ]
    },
    {
      "cell_type": "code",
      "execution_count": 35,
      "metadata": {
        "colab": {
          "base_uri": "https://localhost:8080/"
        },
        "id": "9XgBDzpRcdvd",
        "outputId": "2e8e0402-1002-43d5-8742-1e8db15be572"
      },
      "outputs": [
        {
          "name": "stdout",
          "output_type": "stream",
          "text": [
            "{'n_estimators': [100, 200, 300, 400, 500, 600, 700, 800, 900, 1000, 1100, 1200], 'max_features': ['auto', 'sqrt'], 'max_depth': [5, 10, 15, 20, 25, 30], 'min_samples_split': [2, 5, 10, 15, 100], 'min_samples_leaf': [1, 2, 5, 10]}\n"
          ]
        }
      ],
      "source": [
        "random_grid = {'n_estimators': n_estimators,\n",
        "               'max_features': max_features,\n",
        "               'max_depth': max_depth,\n",
        "               'min_samples_split': min_samples_split,\n",
        "               'min_samples_leaf': min_samples_leaf}\n",
        "\n",
        "print(random_grid)"
      ]
    },
    {
      "cell_type": "code",
      "execution_count": 36,
      "metadata": {
        "id": "9FwtuZp3b2WT"
      },
      "outputs": [],
      "source": [
        "rf = ExtraTreesRegressor()\n",
        "#rf = object of the regressor \n",
        "\n",
        "# Random search of parameters, using 3 fold cross validation, \n",
        "# search across 100 different combinations\n",
        "\n",
        "#param_distributions = Dictionary with parameters names as keys and parameters as vlaues \n",
        "#scoring = metric that we used to evaluate the performance of the cross-validated model on the test set. \n",
        "#we used negative mean squared error.\n",
        "#cv = 5 fold cross validation\n",
        "#n_jobs = no of cores to use\n",
        "rf_random = RandomizedSearchCV(estimator = rf, param_distributions = random_grid,scoring='neg_mean_squared_error', n_iter = 10, cv = 5, verbose=2, random_state=None)\n"
      ]
    },
    {
      "cell_type": "code",
      "execution_count": 37,
      "metadata": {
        "colab": {
          "base_uri": "https://localhost:8080/"
        },
        "id": "9IL_S9hxdEG1",
        "outputId": "26f23e2f-d2fa-4b65-8ea0-46ca30c4e0e6"
      },
      "outputs": [
        {
          "name": "stdout",
          "output_type": "stream",
          "text": [
            "Fitting 5 folds for each of 10 candidates, totalling 50 fits\n",
            "[CV] END max_depth=15, max_features=auto, min_samples_leaf=10, min_samples_split=2, n_estimators=400; total time=   2.2s\n",
            "[CV] END max_depth=15, max_features=auto, min_samples_leaf=10, min_samples_split=2, n_estimators=400; total time=   2.5s\n",
            "[CV] END max_depth=15, max_features=auto, min_samples_leaf=10, min_samples_split=2, n_estimators=400; total time=   2.5s\n",
            "[CV] END max_depth=15, max_features=auto, min_samples_leaf=10, min_samples_split=2, n_estimators=400; total time=   2.5s\n",
            "[CV] END max_depth=15, max_features=auto, min_samples_leaf=10, min_samples_split=2, n_estimators=400; total time=   2.4s\n",
            "[CV] END max_depth=5, max_features=auto, min_samples_leaf=5, min_samples_split=5, n_estimators=600; total time=   2.1s\n",
            "[CV] END max_depth=5, max_features=auto, min_samples_leaf=5, min_samples_split=5, n_estimators=600; total time=   1.9s\n",
            "[CV] END max_depth=5, max_features=auto, min_samples_leaf=5, min_samples_split=5, n_estimators=600; total time=   1.9s\n",
            "[CV] END max_depth=5, max_features=auto, min_samples_leaf=5, min_samples_split=5, n_estimators=600; total time=   1.9s\n",
            "[CV] END max_depth=5, max_features=auto, min_samples_leaf=5, min_samples_split=5, n_estimators=600; total time=   2.1s\n",
            "[CV] END max_depth=5, max_features=auto, min_samples_leaf=10, min_samples_split=100, n_estimators=1100; total time=   3.4s\n",
            "[CV] END max_depth=5, max_features=auto, min_samples_leaf=10, min_samples_split=100, n_estimators=1100; total time=   3.5s\n",
            "[CV] END max_depth=5, max_features=auto, min_samples_leaf=10, min_samples_split=100, n_estimators=1100; total time=   3.4s\n",
            "[CV] END max_depth=5, max_features=auto, min_samples_leaf=10, min_samples_split=100, n_estimators=1100; total time=   3.4s\n",
            "[CV] END max_depth=5, max_features=auto, min_samples_leaf=10, min_samples_split=100, n_estimators=1100; total time=   3.4s\n",
            "[CV] END max_depth=10, max_features=auto, min_samples_leaf=5, min_samples_split=2, n_estimators=900; total time=   4.8s\n",
            "[CV] END max_depth=10, max_features=auto, min_samples_leaf=5, min_samples_split=2, n_estimators=900; total time=   4.9s\n",
            "[CV] END max_depth=10, max_features=auto, min_samples_leaf=5, min_samples_split=2, n_estimators=900; total time=   4.8s\n",
            "[CV] END max_depth=10, max_features=auto, min_samples_leaf=5, min_samples_split=2, n_estimators=900; total time=   4.8s\n",
            "[CV] END max_depth=10, max_features=auto, min_samples_leaf=5, min_samples_split=2, n_estimators=900; total time=   5.0s\n",
            "[CV] END max_depth=5, max_features=auto, min_samples_leaf=10, min_samples_split=2, n_estimators=200; total time=   0.6s\n",
            "[CV] END max_depth=5, max_features=auto, min_samples_leaf=10, min_samples_split=2, n_estimators=200; total time=   0.6s\n",
            "[CV] END max_depth=5, max_features=auto, min_samples_leaf=10, min_samples_split=2, n_estimators=200; total time=   0.6s\n",
            "[CV] END max_depth=5, max_features=auto, min_samples_leaf=10, min_samples_split=2, n_estimators=200; total time=   0.6s\n",
            "[CV] END max_depth=5, max_features=auto, min_samples_leaf=10, min_samples_split=2, n_estimators=200; total time=   0.6s\n",
            "[CV] END max_depth=10, max_features=auto, min_samples_leaf=1, min_samples_split=15, n_estimators=500; total time=   2.6s\n",
            "[CV] END max_depth=10, max_features=auto, min_samples_leaf=1, min_samples_split=15, n_estimators=500; total time=   2.6s\n",
            "[CV] END max_depth=10, max_features=auto, min_samples_leaf=1, min_samples_split=15, n_estimators=500; total time=   2.7s\n",
            "[CV] END max_depth=10, max_features=auto, min_samples_leaf=1, min_samples_split=15, n_estimators=500; total time=   2.7s\n",
            "[CV] END max_depth=10, max_features=auto, min_samples_leaf=1, min_samples_split=15, n_estimators=500; total time=   2.7s\n",
            "[CV] END max_depth=10, max_features=auto, min_samples_leaf=10, min_samples_split=15, n_estimators=400; total time=   2.0s\n",
            "[CV] END max_depth=10, max_features=auto, min_samples_leaf=10, min_samples_split=15, n_estimators=400; total time=   2.0s\n",
            "[CV] END max_depth=10, max_features=auto, min_samples_leaf=10, min_samples_split=15, n_estimators=400; total time=   2.0s\n",
            "[CV] END max_depth=10, max_features=auto, min_samples_leaf=10, min_samples_split=15, n_estimators=400; total time=   2.0s\n",
            "[CV] END max_depth=10, max_features=auto, min_samples_leaf=10, min_samples_split=15, n_estimators=400; total time=   2.0s\n",
            "[CV] END max_depth=25, max_features=sqrt, min_samples_leaf=1, min_samples_split=10, n_estimators=1100; total time=   2.9s\n",
            "[CV] END max_depth=25, max_features=sqrt, min_samples_leaf=1, min_samples_split=10, n_estimators=1100; total time=   3.0s\n",
            "[CV] END max_depth=25, max_features=sqrt, min_samples_leaf=1, min_samples_split=10, n_estimators=1100; total time=   3.0s\n",
            "[CV] END max_depth=25, max_features=sqrt, min_samples_leaf=1, min_samples_split=10, n_estimators=1100; total time=   3.0s\n",
            "[CV] END max_depth=25, max_features=sqrt, min_samples_leaf=1, min_samples_split=10, n_estimators=1100; total time=   2.9s\n",
            "[CV] END max_depth=5, max_features=auto, min_samples_leaf=1, min_samples_split=15, n_estimators=1200; total time=   3.7s\n",
            "[CV] END max_depth=5, max_features=auto, min_samples_leaf=1, min_samples_split=15, n_estimators=1200; total time=   4.0s\n",
            "[CV] END max_depth=5, max_features=auto, min_samples_leaf=1, min_samples_split=15, n_estimators=1200; total time=   3.9s\n",
            "[CV] END max_depth=5, max_features=auto, min_samples_leaf=1, min_samples_split=15, n_estimators=1200; total time=   3.8s\n",
            "[CV] END max_depth=5, max_features=auto, min_samples_leaf=1, min_samples_split=15, n_estimators=1200; total time=   3.9s\n",
            "[CV] END max_depth=15, max_features=auto, min_samples_leaf=10, min_samples_split=5, n_estimators=700; total time=   4.2s\n",
            "[CV] END max_depth=15, max_features=auto, min_samples_leaf=10, min_samples_split=5, n_estimators=700; total time=   4.2s\n",
            "[CV] END max_depth=15, max_features=auto, min_samples_leaf=10, min_samples_split=5, n_estimators=700; total time=   4.2s\n",
            "[CV] END max_depth=15, max_features=auto, min_samples_leaf=10, min_samples_split=5, n_estimators=700; total time=   4.1s\n",
            "[CV] END max_depth=15, max_features=auto, min_samples_leaf=10, min_samples_split=5, n_estimators=700; total time=   4.2s\n"
          ]
        },
        {
          "data": {
            "text/plain": [
              "RandomizedSearchCV(cv=5, estimator=ExtraTreesRegressor(),\n",
              "                   param_distributions={'max_depth': [5, 10, 15, 20, 25, 30],\n",
              "                                        'max_features': ['auto', 'sqrt'],\n",
              "                                        'min_samples_leaf': [1, 2, 5, 10],\n",
              "                                        'min_samples_split': [2, 5, 10, 15,\n",
              "                                                              100],\n",
              "                                        'n_estimators': [100, 200, 300, 400,\n",
              "                                                         500, 600, 700, 800,\n",
              "                                                         900, 1000, 1100,\n",
              "                                                         1200]},\n",
              "                   scoring='neg_mean_squared_error', verbose=2)"
            ]
          },
          "execution_count": 37,
          "metadata": {},
          "output_type": "execute_result"
        }
      ],
      "source": [
        "rf_random.fit(X_train,y_train)"
      ]
    },
    {
      "cell_type": "code",
      "execution_count": 39,
      "metadata": {
        "id": "UELMjJj2dH5B"
      },
      "outputs": [],
      "source": [
        "predictions=rf_random.predict(X_test)"
      ]
    },
    {
      "cell_type": "code",
      "execution_count": 40,
      "metadata": {
        "colab": {
          "base_uri": "https://localhost:8080/",
          "height": 351
        },
        "id": "Opt9YwfkdQ2X",
        "outputId": "7ec0da1b-d12d-46c6-bcac-fbb2dfc8d97c"
      },
      "outputs": [
        {
          "data": {
            "image/png": "[encoded data removed]",
            "text/plain": [
              "<Figure size 720x360 with 1 Axes>"
            ]
          },
          "metadata": {
            "needs_background": "light"
          },
          "output_type": "display_data"
        }
      ],
      "source": [
        "df_check = pd.DataFrame({'Actual': y_test, 'Predicted': predictions})\n",
        "df_check = df_check.head(25)\n",
        "#round(df_check,2)\n",
        "df_check.plot(kind='bar',figsize=(10,5))\n",
        "plt.grid(which='major', linestyle='-', linewidth='0.5', color='green')\n",
        "plt.title('Performance of ExtraTree')\n",
        "plt.ylabel('Price')\n",
        "plt.show()"
      ]
    },
    {
      "cell_type": "code",
      "execution_count": 41,
      "metadata": {},
      "outputs": [
        {
          "name": "stdout",
          "output_type": "stream",
          "text": [
            "R2 score : 0.9591225242181654\n"
          ]
        }
      ],
      "source": [
        "\n",
        "r = r2_score(y_test, predictions)\n",
        "print(\"R2 score : {}\" . format(r))\n",
        "\n"
      ]
    },
    {
      "cell_type": "code",
      "execution_count": 41,
      "metadata": {
        "colab": {
          "base_uri": "https://localhost:8080/"
        },
        "id": "-VEEmn56_Of0",
        "outputId": "6df893c3-61ed-423b-be6a-0f98fafdc838"
      },
      "outputs": [
        {
          "name": "stdout",
          "output_type": "stream",
          "text": [
            "<class 'pandas.core.frame.DataFrame'>\n",
            "Int64Index: 7906 entries, 0 to 8127\n",
            "Data columns (total 33 columns):\n",
            " #   Column                        Non-Null Count  Dtype  \n",
            "---  ------                        --------------  -----  \n",
            " 0   selling_price                 7906 non-null   int64  \n",
            " 1   km_driven                     7906 non-null   int64  \n",
            " 2   mileage_kmpl                  7906 non-null   float64\n",
            " 3   engine(CC)                    7906 non-null   float64\n",
            " 4   maxpower_bhp                  7906 non-null   float64\n",
            " 5   year_2007                     7906 non-null   uint8  \n",
            " 6   year_2008                     7906 non-null   uint8  \n",
            " 7   year_2009                     7906 non-null   uint8  \n",
            " 8   year_2010                     7906 non-null   uint8  \n",
            " 9   year_2011                     7906 non-null   uint8  \n",
            " 10  year_2012                     7906 non-null   uint8  \n",
            " 11  year_2013                     7906 non-null   uint8  \n",
            " 12  year_2014                     7906 non-null   uint8  \n",
            " 13  year_2015                     7906 non-null   uint8  \n",
            " 14  year_2016                     7906 non-null   uint8  \n",
            " 15  year_2017                     7906 non-null   uint8  \n",
            " 16  year_2018                     7906 non-null   uint8  \n",
            " 17  year_2019                     7906 non-null   uint8  \n",
            " 18  year_Other                    7906 non-null   uint8  \n",
            " 19  fuel_CNG                      7906 non-null   uint8  \n",
            " 20  fuel_Diesel                   7906 non-null   uint8  \n",
            " 21  fuel_LPG                      7906 non-null   uint8  \n",
            " 22  fuel_Petrol                   7906 non-null   uint8  \n",
            " 23  seller_type_Dealer            7906 non-null   uint8  \n",
            " 24  seller_type_Individual        7906 non-null   uint8  \n",
            " 25  seller_type_Trustmark Dealer  7906 non-null   uint8  \n",
            " 26  transmission_Automatic        7906 non-null   uint8  \n",
            " 27  transmission_Manual           7906 non-null   uint8  \n",
            " 28  owner_First Owner             7906 non-null   uint8  \n",
            " 29  owner_Fourth & Above Owner    7906 non-null   uint8  \n",
            " 30  owner_Second Owner            7906 non-null   uint8  \n",
            " 31  owner_Test Drive Car          7906 non-null   uint8  \n",
            " 32  owner_Third Owner             7906 non-null   uint8  \n",
            "dtypes: float64(3), int64(2), uint8(28)\n",
            "memory usage: 586.8 KB\n"
          ]
        }
      ],
      "source": [
        "car_df.info()"
      ]
    },
    {
      "cell_type": "code",
      "execution_count": 42,
      "metadata": {
        "colab": {
          "base_uri": "https://localhost:8080/"
        },
        "id": "IOtYPXSg5ETG",
        "outputId": "33ae327a-e6b9-4add-cff6-31c4f2062326"
      },
      "outputs": [
        {
          "name": "stdout",
          "output_type": "stream",
          "text": [
            "Model: \"sequential\"\n",
            "_________________________________________________________________\n",
            " Layer (type)                Output Shape              Param #   \n",
            "=================================================================\n",
            " dense (Dense)               (None, 40)                1320      \n",
            "                                                                 \n",
            " dense_1 (Dense)             (None, 20)                820       \n",
            "                                                                 \n",
            " dense_2 (Dense)             (None, 10)                210       \n",
            "                                                                 \n",
            " dense_3 (Dense)             (None, 1)                 11        \n",
            "                                                                 \n",
            "=================================================================\n",
            "Total params: 2,361\n",
            "Trainable params: 2,361\n",
            "Non-trainable params: 0\n",
            "_________________________________________________________________\n",
            "Epoch 1/1000\n",
            "60/60 [==============================] - 1s 6ms/step - loss: 1040970678272.0000 - mae: 628126.3125 - val_loss: 1112786993152.0000 - val_mae: 609040.1250\n",
            "Epoch 2/1000\n",
            "60/60 [==============================] - 0s 3ms/step - loss: 983980638208.0000 - mae: 569082.3750 - val_loss: 1052456648704.0000 - val_mae: 539590.5625\n",
            "Epoch 3/1000\n",
            "60/60 [==============================] - 0s 3ms/step - loss: 916282081280.0000 - mae: 510253.0312 - val_loss: 1031952924672.0000 - val_mae: 511033.9375\n",
            "Epoch 4/1000\n",
            "60/60 [==============================] - 0s 3ms/step - loss: 892853420032.0000 - mae: 497894.8750 - val_loss: 1037032816640.0000 - val_mae: 513987.6875\n",
            "Epoch 5/1000\n",
            "60/60 [==============================] - 0s 4ms/step - loss: 891103870976.0000 - mae: 498996.7188 - val_loss: 1037510246400.0000 - val_mae: 514906.0625\n",
            "Epoch 6/1000\n",
            "60/60 [==============================] - 0s 3ms/step - loss: 888018698240.0000 - mae: 497716.1250 - val_loss: 1032805613568.0000 - val_mae: 512784.4062\n",
            "Epoch 7/1000\n",
            "60/60 [==============================] - 0s 3ms/step - loss: 885707898880.0000 - mae: 496749.9688 - val_loss: 1031233863680.0000 - val_mae: 512659.8125\n",
            "Epoch 8/1000\n",
            "60/60 [==============================] - 0s 3ms/step - loss: 882610077696.0000 - mae: 496213.0938 - val_loss: 1023679856640.0000 - val_mae: 509050.9375\n",
            "Epoch 9/1000\n",
            "60/60 [==============================] - 0s 3ms/step - loss: 878726545408.0000 - mae: 492980.4688 - val_loss: 1022860132352.0000 - val_mae: 509840.8125\n",
            "Epoch 10/1000\n",
            "60/60 [==============================] - 0s 4ms/step - loss: 874249846784.0000 - mae: 490975.2812 - val_loss: 1022827364352.0000 - val_mae: 511441.7500\n",
            "Epoch 11/1000\n",
            "60/60 [==============================] - 0s 3ms/step - loss: 869931417600.0000 - mae: 490669.8750 - val_loss: 1015930552320.0000 - val_mae: 508932.5312\n",
            "Epoch 12/1000\n",
            "60/60 [==============================] - 0s 3ms/step - loss: 862977720320.0000 - mae: 487861.7812 - val_loss: 1001709043712.0000 - val_mae: 502270.5938\n",
            "Epoch 13/1000\n",
            "60/60 [==============================] - 0s 3ms/step - loss: 854777266176.0000 - mae: 483644.6250 - val_loss: 993145454592.0000 - val_mae: 499963.0625\n",
            "Epoch 14/1000\n",
            "60/60 [==============================] - 0s 3ms/step - loss: 845452804096.0000 - mae: 480260.1875 - val_loss: 979396329472.0000 - val_mae: 493384.4688\n",
            "Epoch 15/1000\n",
            "60/60 [==============================] - 0s 4ms/step - loss: 834120646656.0000 - mae: 474369.4375 - val_loss: 968862400512.0000 - val_mae: 491773.5938\n",
            "Epoch 16/1000\n",
            "60/60 [==============================] - 0s 3ms/step - loss: 815935062016.0000 - mae: 467169.1250 - val_loss: 935604191232.0000 - val_mae: 476028.0000\n",
            "Epoch 17/1000\n",
            "60/60 [==============================] - 0s 4ms/step - loss: 793355288576.0000 - mae: 455174.9062 - val_loss: 906240589824.0000 - val_mae: 461781.6250\n",
            "Epoch 18/1000\n",
            "60/60 [==============================] - 0s 3ms/step - loss: 766478450688.0000 - mae: 441393.0938 - val_loss: 871602520064.0000 - val_mae: 450912.2812\n",
            "Epoch 19/1000\n",
            "60/60 [==============================] - 0s 3ms/step - loss: 733866819584.0000 - mae: 425115.0938 - val_loss: 823615356928.0000 - val_mae: 431888.2188\n",
            "Epoch 20/1000\n",
            "60/60 [==============================] - 0s 4ms/step - loss: 685760053248.0000 - mae: 401047.9375 - val_loss: 762460372992.0000 - val_mae: 400072.8438\n",
            "Epoch 21/1000\n",
            "60/60 [==============================] - 0s 3ms/step - loss: 632118706176.0000 - mae: 373201.5000 - val_loss: 695845978112.0000 - val_mae: 373537.7188\n",
            "Epoch 22/1000\n",
            "60/60 [==============================] - 0s 3ms/step - loss: 570426458112.0000 - mae: 343657.9062 - val_loss: 621815136256.0000 - val_mae: 338232.4688\n",
            "Epoch 23/1000\n",
            "60/60 [==============================] - 0s 3ms/step - loss: 513278705664.0000 - mae: 316848.1562 - val_loss: 559543091200.0000 - val_mae: 321426.7812\n",
            "Epoch 24/1000\n",
            "60/60 [==============================] - 0s 3ms/step - loss: 461031211008.0000 - mae: 302410.8750 - val_loss: 503266410496.0000 - val_mae: 309974.0625\n",
            "Epoch 25/1000\n",
            "60/60 [==============================] - 0s 3ms/step - loss: 416473317376.0000 - mae: 295605.2500 - val_loss: 458868916224.0000 - val_mae: 303498.7812\n",
            "Epoch 26/1000\n",
            "60/60 [==============================] - 0s 3ms/step - loss: 380327002112.0000 - mae: 295611.2500 - val_loss: 425918595072.0000 - val_mae: 304433.0625\n",
            "Epoch 27/1000\n",
            "60/60 [==============================] - 0s 3ms/step - loss: 352515194880.0000 - mae: 298070.1562 - val_loss: 392020295680.0000 - val_mae: 315737.5625\n",
            "Epoch 28/1000\n",
            "60/60 [==============================] - 0s 3ms/step - loss: 332454002688.0000 - mae: 301452.9688 - val_loss: 372952662016.0000 - val_mae: 327016.3750\n",
            "Epoch 29/1000\n",
            "60/60 [==============================] - 0s 3ms/step - loss: 320535429120.0000 - mae: 305919.2188 - val_loss: 358603096064.0000 - val_mae: 323751.7188\n",
            "Epoch 30/1000\n",
            "60/60 [==============================] - 0s 4ms/step - loss: 311906140160.0000 - mae: 308642.9375 - val_loss: 359399260160.0000 - val_mae: 320955.0625\n",
            "Epoch 31/1000\n",
            "60/60 [==============================] - 0s 3ms/step - loss: 308450754560.0000 - mae: 309647.5312 - val_loss: 348085944320.0000 - val_mae: 320767.8438\n",
            "Epoch 32/1000\n",
            "60/60 [==============================] - 0s 3ms/step - loss: 305449271296.0000 - mae: 308793.6562 - val_loss: 349079306240.0000 - val_mae: 320766.2500\n",
            "Epoch 33/1000\n",
            "60/60 [==============================] - 0s 3ms/step - loss: 302868594688.0000 - mae: 309059.2500 - val_loss: 345617498112.0000 - val_mae: 318274.1562\n",
            "Epoch 34/1000\n",
            "60/60 [==============================] - 0s 3ms/step - loss: 301722959872.0000 - mae: 309779.1562 - val_loss: 349981474816.0000 - val_mae: 316833.1562\n",
            "Epoch 35/1000\n",
            "60/60 [==============================] - 0s 4ms/step - loss: 300661964800.0000 - mae: 306332.5000 - val_loss: 341060747264.0000 - val_mae: 321125.5625\n",
            "Epoch 36/1000\n",
            "60/60 [==============================] - 0s 3ms/step - loss: 298837737472.0000 - mae: 307521.2812 - val_loss: 338633588736.0000 - val_mae: 330217.5938\n",
            "Epoch 37/1000\n",
            "60/60 [==============================] - 0s 3ms/step - loss: 298020667392.0000 - mae: 307034.3125 - val_loss: 339512885248.0000 - val_mae: 323467.6250\n",
            "Epoch 38/1000\n",
            "60/60 [==============================] - 0s 4ms/step - loss: 297585770496.0000 - mae: 309343.7188 - val_loss: 338854903808.0000 - val_mae: 318863.5938\n",
            "Epoch 39/1000\n",
            "60/60 [==============================] - 0s 3ms/step - loss: 297005809664.0000 - mae: 308342.4062 - val_loss: 338204524544.0000 - val_mae: 319724.7188\n",
            "Epoch 40/1000\n",
            "60/60 [==============================] - 0s 3ms/step - loss: 296840855552.0000 - mae: 308794.5938 - val_loss: 336685400064.0000 - val_mae: 321958.6875\n",
            "Epoch 41/1000\n",
            "60/60 [==============================] - 0s 3ms/step - loss: 296267972608.0000 - mae: 308359.6250 - val_loss: 339898204160.0000 - val_mae: 316917.1250\n",
            "Epoch 42/1000\n",
            "60/60 [==============================] - 0s 4ms/step - loss: 296202305536.0000 - mae: 308016.7188 - val_loss: 336481058816.0000 - val_mae: 320353.7812\n",
            "Epoch 43/1000\n",
            "60/60 [==============================] - 0s 3ms/step - loss: 295863779328.0000 - mae: 307707.0625 - val_loss: 335473836032.0000 - val_mae: 321593.1562\n",
            "Epoch 44/1000\n",
            "60/60 [==============================] - 0s 3ms/step - loss: 295815217152.0000 - mae: 307728.1875 - val_loss: 336572612608.0000 - val_mae: 320471.1250\n",
            "Epoch 45/1000\n",
            "60/60 [==============================] - 0s 3ms/step - loss: 295257014272.0000 - mae: 308408.5625 - val_loss: 333718126592.0000 - val_mae: 324655.5625\n",
            "Epoch 46/1000\n",
            "60/60 [==============================] - 0s 3ms/step - loss: 294941622272.0000 - mae: 307820.4688 - val_loss: 341760507904.0000 - val_mae: 352870.8750\n",
            "Epoch 47/1000\n",
            "60/60 [==============================] - 0s 3ms/step - loss: 295122567168.0000 - mae: 309479.7500 - val_loss: 338318655488.0000 - val_mae: 318143.3438\n",
            "Epoch 48/1000\n",
            "60/60 [==============================] - 0s 3ms/step - loss: 294202933248.0000 - mae: 309021.0938 - val_loss: 334942208000.0000 - val_mae: 317700.9062\n",
            "Epoch 49/1000\n",
            "60/60 [==============================] - 0s 3ms/step - loss: 294106136576.0000 - mae: 306919.4375 - val_loss: 332947062784.0000 - val_mae: 329767.1875\n",
            "Epoch 50/1000\n",
            "60/60 [==============================] - 0s 3ms/step - loss: 293419057152.0000 - mae: 306296.2500 - val_loss: 334079852544.0000 - val_mae: 318794.8750\n",
            "Epoch 51/1000\n",
            "60/60 [==============================] - 0s 4ms/step - loss: 292927111168.0000 - mae: 304775.9375 - val_loss: 332960694272.0000 - val_mae: 332843.5938\n",
            "Epoch 52/1000\n",
            "60/60 [==============================] - 0s 3ms/step - loss: 292526817280.0000 - mae: 304886.5938 - val_loss: 331178082304.0000 - val_mae: 325349.6250\n",
            "Epoch 53/1000\n",
            "60/60 [==============================] - 0s 3ms/step - loss: 291917037568.0000 - mae: 305833.0938 - val_loss: 334088863744.0000 - val_mae: 320560.7188\n",
            "Epoch 54/1000\n",
            "60/60 [==============================] - 0s 3ms/step - loss: 291949150208.0000 - mae: 305727.0625 - val_loss: 330335977472.0000 - val_mae: 327998.0000\n",
            "Epoch 55/1000\n",
            "60/60 [==============================] - 0s 3ms/step - loss: 291328032768.0000 - mae: 306686.9688 - val_loss: 330438737920.0000 - val_mae: 318786.8125\n",
            "Epoch 56/1000\n",
            "60/60 [==============================] - 0s 3ms/step - loss: 290839920640.0000 - mae: 307277.2500 - val_loss: 330415964160.0000 - val_mae: 318735.8750\n",
            "Epoch 57/1000\n",
            "60/60 [==============================] - 0s 3ms/step - loss: 290636333056.0000 - mae: 305369.8125 - val_loss: 333605339136.0000 - val_mae: 317050.8125\n",
            "Epoch 58/1000\n",
            "60/60 [==============================] - 0s 3ms/step - loss: 290312257536.0000 - mae: 304538.6562 - val_loss: 337285414912.0000 - val_mae: 315290.2812\n",
            "Epoch 59/1000\n",
            "60/60 [==============================] - 0s 3ms/step - loss: 289693433856.0000 - mae: 304398.0625 - val_loss: 328801288192.0000 - val_mae: 319966.2500\n",
            "Epoch 60/1000\n",
            "60/60 [==============================] - 0s 3ms/step - loss: 289482571776.0000 - mae: 306507.3438 - val_loss: 329982181376.0000 - val_mae: 316170.3125\n",
            "Epoch 61/1000\n",
            "60/60 [==============================] - 0s 3ms/step - loss: 289612103680.0000 - mae: 304596.9375 - val_loss: 329417981952.0000 - val_mae: 318812.0938\n",
            "Epoch 62/1000\n",
            "60/60 [==============================] - 0s 3ms/step - loss: 289309949952.0000 - mae: 304718.6562 - val_loss: 327002783744.0000 - val_mae: 322580.0312\n",
            "Epoch 63/1000\n",
            "60/60 [==============================] - 0s 3ms/step - loss: 288592527360.0000 - mae: 305552.7188 - val_loss: 326842056704.0000 - val_mae: 326200.6250\n",
            "Epoch 64/1000\n",
            "60/60 [==============================] - 0s 3ms/step - loss: 288345423872.0000 - mae: 305353.1875 - val_loss: 327047217152.0000 - val_mae: 319744.8750\n",
            "Epoch 65/1000\n",
            "60/60 [==============================] - 0s 3ms/step - loss: 288349519872.0000 - mae: 303985.8125 - val_loss: 327001636864.0000 - val_mae: 316138.7188\n",
            "Epoch 66/1000\n",
            "60/60 [==============================] - 0s 3ms/step - loss: 287741476864.0000 - mae: 303397.5000 - val_loss: 326503792640.0000 - val_mae: 316909.5000\n",
            "Epoch 67/1000\n",
            "60/60 [==============================] - 0s 3ms/step - loss: 287597592576.0000 - mae: 303722.7188 - val_loss: 326597017600.0000 - val_mae: 317314.0625\n",
            "Epoch 68/1000\n",
            "60/60 [==============================] - 0s 3ms/step - loss: 287200116736.0000 - mae: 304400.5625 - val_loss: 324809392128.0000 - val_mae: 321834.0625\n",
            "Epoch 69/1000\n",
            "60/60 [==============================] - 0s 3ms/step - loss: 286694440960.0000 - mae: 304586.0000 - val_loss: 326198525952.0000 - val_mae: 332166.2500\n",
            "Epoch 70/1000\n",
            "60/60 [==============================] - 0s 3ms/step - loss: 286629396480.0000 - mae: 303735.1562 - val_loss: 328592293888.0000 - val_mae: 340934.2188\n",
            "Epoch 71/1000\n",
            "60/60 [==============================] - 0s 3ms/step - loss: 286541348864.0000 - mae: 304524.2812 - val_loss: 324955013120.0000 - val_mae: 317303.5312\n",
            "Epoch 72/1000\n",
            "60/60 [==============================] - 0s 3ms/step - loss: 285089792000.0000 - mae: 303747.0938 - val_loss: 324386160640.0000 - val_mae: 327592.7500\n",
            "Epoch 73/1000\n",
            "60/60 [==============================] - 0s 3ms/step - loss: 286143774720.0000 - mae: 303429.2812 - val_loss: 323303178240.0000 - val_mae: 316989.3438\n",
            "Epoch 74/1000\n",
            "60/60 [==============================] - 0s 3ms/step - loss: 285304815616.0000 - mae: 303013.3438 - val_loss: 324995907584.0000 - val_mae: 336622.2188\n",
            "Epoch 75/1000\n",
            "60/60 [==============================] - 0s 3ms/step - loss: 284669640704.0000 - mae: 304678.9375 - val_loss: 323085664256.0000 - val_mae: 313642.5625\n",
            "Epoch 76/1000\n",
            "60/60 [==============================] - 0s 3ms/step - loss: 284745465856.0000 - mae: 303359.5000 - val_loss: 321166999552.0000 - val_mae: 317053.8125\n",
            "Epoch 77/1000\n",
            "60/60 [==============================] - 0s 3ms/step - loss: 284124053504.0000 - mae: 302508.4062 - val_loss: 321291452416.0000 - val_mae: 316071.6250\n",
            "Epoch 78/1000\n",
            "60/60 [==============================] - 0s 3ms/step - loss: 283676409856.0000 - mae: 304358.9062 - val_loss: 323591405568.0000 - val_mae: 312336.8750\n",
            "Epoch 79/1000\n",
            "60/60 [==============================] - 0s 3ms/step - loss: 283314061312.0000 - mae: 302633.1875 - val_loss: 325100863488.0000 - val_mae: 310026.0312\n",
            "Epoch 80/1000\n",
            "60/60 [==============================] - 0s 4ms/step - loss: 283883175936.0000 - mae: 301820.2188 - val_loss: 320818577408.0000 - val_mae: 312673.8750\n",
            "Epoch 81/1000\n",
            "60/60 [==============================] - 0s 3ms/step - loss: 282995785728.0000 - mae: 300708.1875 - val_loss: 319808995328.0000 - val_mae: 314992.9688\n",
            "Epoch 82/1000\n",
            "60/60 [==============================] - 0s 3ms/step - loss: 282449379328.0000 - mae: 302249.3438 - val_loss: 324112941056.0000 - val_mae: 314989.3438\n",
            "Epoch 83/1000\n",
            "60/60 [==============================] - 0s 3ms/step - loss: 282437517312.0000 - mae: 302089.8125 - val_loss: 319988432896.0000 - val_mae: 316575.3750\n",
            "Epoch 84/1000\n",
            "60/60 [==============================] - 0s 3ms/step - loss: 281402081280.0000 - mae: 302410.0000 - val_loss: 326121619456.0000 - val_mae: 311805.0000\n",
            "Epoch 85/1000\n",
            "60/60 [==============================] - 0s 3ms/step - loss: 281533775872.0000 - mae: 301546.5625 - val_loss: 316938125312.0000 - val_mae: 317452.5625\n",
            "Epoch 86/1000\n",
            "60/60 [==============================] - 0s 3ms/step - loss: 281047007232.0000 - mae: 301603.0938 - val_loss: 316473966592.0000 - val_mae: 317314.2188\n",
            "Epoch 87/1000\n",
            "60/60 [==============================] - 0s 3ms/step - loss: 280350490624.0000 - mae: 300272.5938 - val_loss: 317827022848.0000 - val_mae: 331469.2188\n",
            "Epoch 88/1000\n",
            "60/60 [==============================] - 0s 4ms/step - loss: 280691998720.0000 - mae: 303101.8438 - val_loss: 315397472256.0000 - val_mae: 320355.3750\n",
            "Epoch 89/1000\n",
            "60/60 [==============================] - 0s 3ms/step - loss: 280174395392.0000 - mae: 301101.0625 - val_loss: 314995900416.0000 - val_mae: 319269.1250\n",
            "Epoch 90/1000\n",
            "60/60 [==============================] - 0s 3ms/step - loss: 280030150656.0000 - mae: 301959.0938 - val_loss: 320590151680.0000 - val_mae: 336668.9062\n",
            "Epoch 91/1000\n",
            "60/60 [==============================] - 0s 3ms/step - loss: 279188602880.0000 - mae: 300730.5312 - val_loss: 313946177536.0000 - val_mae: 318087.1562\n",
            "Epoch 92/1000\n",
            "60/60 [==============================] - 0s 3ms/step - loss: 278472032256.0000 - mae: 301562.0625 - val_loss: 322854453248.0000 - val_mae: 309614.1250\n",
            "Epoch 93/1000\n",
            "60/60 [==============================] - 0s 3ms/step - loss: 278617358336.0000 - mae: 300059.1250 - val_loss: 313251397632.0000 - val_mae: 320061.3750\n",
            "Epoch 94/1000\n",
            "60/60 [==============================] - 0s 4ms/step - loss: 278028419072.0000 - mae: 300223.8750 - val_loss: 313168723968.0000 - val_mae: 312775.8750\n",
            "Epoch 95/1000\n",
            "60/60 [==============================] - 0s 4ms/step - loss: 278146285568.0000 - mae: 300298.3125 - val_loss: 312512970752.0000 - val_mae: 321181.6875\n",
            "Epoch 96/1000\n",
            "60/60 [==============================] - 0s 3ms/step - loss: 277264859136.0000 - mae: 300492.5938 - val_loss: 312800116736.0000 - val_mae: 309632.8438\n",
            "Epoch 97/1000\n",
            "60/60 [==============================] - 0s 4ms/step - loss: 276825440256.0000 - mae: 298845.7812 - val_loss: 313651429376.0000 - val_mae: 309720.3750\n",
            "Epoch 98/1000\n",
            "60/60 [==============================] - 0s 3ms/step - loss: 276760592384.0000 - mae: 299246.2188 - val_loss: 310284845056.0000 - val_mae: 316124.5938\n",
            "Epoch 99/1000\n",
            "60/60 [==============================] - 0s 3ms/step - loss: 276158906368.0000 - mae: 300266.7500 - val_loss: 316715139072.0000 - val_mae: 307178.9062\n",
            "Epoch 100/1000\n",
            "60/60 [==============================] - 0s 3ms/step - loss: 275915276288.0000 - mae: 298258.9375 - val_loss: 314580008960.0000 - val_mae: 306551.2188\n",
            "Epoch 101/1000\n",
            "60/60 [==============================] - 0s 3ms/step - loss: 275486703616.0000 - mae: 298543.6562 - val_loss: 309255962624.0000 - val_mae: 320796.6562\n",
            "Epoch 102/1000\n",
            "60/60 [==============================] - 0s 4ms/step - loss: 274987253760.0000 - mae: 300283.7188 - val_loss: 320856064000.0000 - val_mae: 310067.4688\n",
            "Epoch 103/1000\n",
            "60/60 [==============================] - 0s 3ms/step - loss: 275248316416.0000 - mae: 298643.5625 - val_loss: 307928530944.0000 - val_mae: 314417.1562\n",
            "Epoch 104/1000\n",
            "60/60 [==============================] - 0s 3ms/step - loss: 273343610880.0000 - mae: 297566.3438 - val_loss: 307247579136.0000 - val_mae: 323003.7812\n",
            "Epoch 105/1000\n",
            "60/60 [==============================] - 0s 3ms/step - loss: 274005655552.0000 - mae: 299136.1875 - val_loss: 307856211968.0000 - val_mae: 313197.9375\n",
            "Epoch 106/1000\n",
            "60/60 [==============================] - 0s 3ms/step - loss: 273528487936.0000 - mae: 300282.8750 - val_loss: 307446906880.0000 - val_mae: 307431.8125\n",
            "Epoch 107/1000\n",
            "60/60 [==============================] - 0s 3ms/step - loss: 273479958528.0000 - mae: 298397.6562 - val_loss: 309177221120.0000 - val_mae: 306152.7500\n",
            "Epoch 108/1000\n",
            "60/60 [==============================] - 0s 4ms/step - loss: 272823287808.0000 - mae: 297829.2188 - val_loss: 304905125888.0000 - val_mae: 311380.9688\n",
            "Epoch 109/1000\n",
            "60/60 [==============================] - 0s 3ms/step - loss: 272917446656.0000 - mae: 298338.0000 - val_loss: 308265123840.0000 - val_mae: 328580.5312\n",
            "Epoch 110/1000\n",
            "60/60 [==============================] - 0s 3ms/step - loss: 271756247040.0000 - mae: 298309.2500 - val_loss: 316651667456.0000 - val_mae: 308341.3125\n",
            "Epoch 111/1000\n",
            "60/60 [==============================] - 0s 3ms/step - loss: 271756558336.0000 - mae: 295556.4688 - val_loss: 305934598144.0000 - val_mae: 314072.8750\n",
            "Epoch 112/1000\n",
            "60/60 [==============================] - 0s 3ms/step - loss: 271442264064.0000 - mae: 298908.8750 - val_loss: 305325441024.0000 - val_mae: 306691.4062\n",
            "Epoch 113/1000\n",
            "60/60 [==============================] - 0s 3ms/step - loss: 271054323712.0000 - mae: 296565.6250 - val_loss: 305021583360.0000 - val_mae: 308166.3750\n",
            "Epoch 114/1000\n",
            "60/60 [==============================] - 0s 3ms/step - loss: 270757625856.0000 - mae: 297860.7188 - val_loss: 301931888640.0000 - val_mae: 311658.9688\n",
            "Epoch 115/1000\n",
            "60/60 [==============================] - 0s 4ms/step - loss: 270013906944.0000 - mae: 297746.3438 - val_loss: 303968780288.0000 - val_mae: 304514.6875\n",
            "Epoch 116/1000\n",
            "60/60 [==============================] - 0s 4ms/step - loss: 270395523072.0000 - mae: 295939.0312 - val_loss: 301205323776.0000 - val_mae: 308586.2812\n",
            "Epoch 117/1000\n",
            "60/60 [==============================] - 0s 3ms/step - loss: 269331611648.0000 - mae: 295699.8125 - val_loss: 309936816128.0000 - val_mae: 308718.2500\n",
            "Epoch 118/1000\n",
            "60/60 [==============================] - 0s 3ms/step - loss: 268833521664.0000 - mae: 297363.4375 - val_loss: 307228540928.0000 - val_mae: 302247.7500\n",
            "Epoch 119/1000\n",
            "60/60 [==============================] - 0s 3ms/step - loss: 268752650240.0000 - mae: 296677.5000 - val_loss: 306062557184.0000 - val_mae: 301207.9375\n",
            "Epoch 120/1000\n",
            "60/60 [==============================] - 0s 3ms/step - loss: 268763774976.0000 - mae: 295545.7500 - val_loss: 301513932800.0000 - val_mae: 308378.0938\n",
            "Epoch 121/1000\n",
            "60/60 [==============================] - 0s 3ms/step - loss: 267977359360.0000 - mae: 296143.1562 - val_loss: 298187816960.0000 - val_mae: 313209.0312\n",
            "Epoch 122/1000\n",
            "60/60 [==============================] - 0s 3ms/step - loss: 266947215360.0000 - mae: 298200.7188 - val_loss: 300562251776.0000 - val_mae: 301805.0312\n",
            "Epoch 123/1000\n",
            "60/60 [==============================] - 0s 3ms/step - loss: 267192844288.0000 - mae: 294564.5938 - val_loss: 298133913600.0000 - val_mae: 305567.7188\n",
            "Epoch 124/1000\n",
            "60/60 [==============================] - 0s 3ms/step - loss: 266682073088.0000 - mae: 296611.3125 - val_loss: 298591649792.0000 - val_mae: 320652.8438\n",
            "Epoch 125/1000\n",
            "60/60 [==============================] - 0s 3ms/step - loss: 266068475904.0000 - mae: 295969.5625 - val_loss: 295958282240.0000 - val_mae: 314943.5312\n",
            "Epoch 126/1000\n",
            "60/60 [==============================] - 0s 3ms/step - loss: 265853829120.0000 - mae: 295476.4375 - val_loss: 296409595904.0000 - val_mae: 320264.5312\n",
            "Epoch 127/1000\n",
            "60/60 [==============================] - 0s 2ms/step - loss: 265668165632.0000 - mae: 296890.3438 - val_loss: 299006361600.0000 - val_mae: 301883.4062\n",
            "Epoch 128/1000\n",
            "60/60 [==============================] - 0s 3ms/step - loss: 264990097408.0000 - mae: 295809.5625 - val_loss: 296621735936.0000 - val_mae: 302214.9688\n",
            "Epoch 129/1000\n",
            "60/60 [==============================] - 0s 4ms/step - loss: 265076342784.0000 - mae: 295063.7188 - val_loss: 303076737024.0000 - val_mae: 303002.5000\n",
            "Epoch 130/1000\n",
            "60/60 [==============================] - 0s 3ms/step - loss: 264572141568.0000 - mae: 296036.8750 - val_loss: 295387594752.0000 - val_mae: 301839.7188\n",
            "Epoch 131/1000\n",
            "60/60 [==============================] - 0s 3ms/step - loss: 264137424896.0000 - mae: 294071.8750 - val_loss: 296885583872.0000 - val_mae: 325734.4688\n",
            "Epoch 132/1000\n",
            "60/60 [==============================] - 0s 3ms/step - loss: 263414775808.0000 - mae: 295835.2500 - val_loss: 294629900288.0000 - val_mae: 302169.3750\n",
            "Epoch 133/1000\n",
            "60/60 [==============================] - 0s 3ms/step - loss: 263111475200.0000 - mae: 294306.0312 - val_loss: 291809984512.0000 - val_mae: 308591.4375\n",
            "Epoch 134/1000\n",
            "60/60 [==============================] - 0s 3ms/step - loss: 262137348096.0000 - mae: 295311.6562 - val_loss: 291357786112.0000 - val_mae: 316130.2812\n",
            "Epoch 135/1000\n",
            "60/60 [==============================] - 0s 3ms/step - loss: 262502416384.0000 - mae: 295459.2500 - val_loss: 295583023104.0000 - val_mae: 299466.0625\n",
            "Epoch 136/1000\n",
            "60/60 [==============================] - 0s 3ms/step - loss: 262106660864.0000 - mae: 295017.2500 - val_loss: 291930472448.0000 - val_mae: 301912.6250\n",
            "Epoch 137/1000\n",
            "60/60 [==============================] - 0s 3ms/step - loss: 261552996352.0000 - mae: 295443.1250 - val_loss: 292544479232.0000 - val_mae: 321933.1250\n",
            "Epoch 138/1000\n",
            "60/60 [==============================] - 0s 3ms/step - loss: 260758896640.0000 - mae: 294468.4688 - val_loss: 289089748992.0000 - val_mae: 303214.0938\n",
            "Epoch 139/1000\n",
            "60/60 [==============================] - 0s 4ms/step - loss: 260238819328.0000 - mae: 292345.1875 - val_loss: 287967477760.0000 - val_mae: 306844.4688\n",
            "Epoch 140/1000\n",
            "60/60 [==============================] - 0s 3ms/step - loss: 259816521728.0000 - mae: 295261.2812 - val_loss: 289219149824.0000 - val_mae: 301398.4375\n",
            "Epoch 141/1000\n",
            "60/60 [==============================] - 0s 3ms/step - loss: 258784788480.0000 - mae: 294687.2812 - val_loss: 292023795712.0000 - val_mae: 299349.1250\n",
            "Epoch 142/1000\n",
            "60/60 [==============================] - 0s 3ms/step - loss: 258575925248.0000 - mae: 293439.8750 - val_loss: 294287081472.0000 - val_mae: 297860.5000\n",
            "Epoch 143/1000\n",
            "60/60 [==============================] - 0s 3ms/step - loss: 258497609728.0000 - mae: 291885.0000 - val_loss: 285612933120.0000 - val_mae: 311722.7812\n",
            "Epoch 144/1000\n",
            "60/60 [==============================] - 0s 3ms/step - loss: 257136148480.0000 - mae: 293307.9688 - val_loss: 287631212544.0000 - val_mae: 299688.2188\n",
            "Epoch 145/1000\n",
            "60/60 [==============================] - 0s 3ms/step - loss: 257645019136.0000 - mae: 293190.5312 - val_loss: 287776899072.0000 - val_mae: 321634.4688\n",
            "Epoch 146/1000\n",
            "60/60 [==============================] - 0s 3ms/step - loss: 256720748544.0000 - mae: 294275.5938 - val_loss: 283644166144.0000 - val_mae: 302136.2188\n",
            "Epoch 147/1000\n",
            "60/60 [==============================] - 0s 3ms/step - loss: 255857491968.0000 - mae: 293311.1250 - val_loss: 288728809472.0000 - val_mae: 296335.6875\n",
            "Epoch 148/1000\n",
            "60/60 [==============================] - 0s 3ms/step - loss: 256029196288.0000 - mae: 291794.2812 - val_loss: 281087246336.0000 - val_mae: 308054.6250\n",
            "Epoch 149/1000\n",
            "60/60 [==============================] - 0s 3ms/step - loss: 254491885568.0000 - mae: 291069.5625 - val_loss: 282738491392.0000 - val_mae: 304895.0000\n",
            "Epoch 150/1000\n",
            "60/60 [==============================] - 0s 3ms/step - loss: 254902550528.0000 - mae: 293659.3750 - val_loss: 281399099392.0000 - val_mae: 297400.3125\n",
            "Epoch 151/1000\n",
            "60/60 [==============================] - 0s 3ms/step - loss: 254411046912.0000 - mae: 290778.5312 - val_loss: 279111958528.0000 - val_mae: 306086.1562\n",
            "Epoch 152/1000\n",
            "60/60 [==============================] - 0s 4ms/step - loss: 253990354944.0000 - mae: 292042.4688 - val_loss: 279128014848.0000 - val_mae: 299705.6875\n",
            "Epoch 153/1000\n",
            "60/60 [==============================] - 0s 4ms/step - loss: 252978167808.0000 - mae: 291636.8125 - val_loss: 282897448960.0000 - val_mae: 295107.4688\n",
            "Epoch 154/1000\n",
            "60/60 [==============================] - 0s 4ms/step - loss: 252704178176.0000 - mae: 289745.1875 - val_loss: 283722940416.0000 - val_mae: 295577.9062\n",
            "Epoch 155/1000\n",
            "60/60 [==============================] - 0s 3ms/step - loss: 252304588800.0000 - mae: 290575.1250 - val_loss: 278837133312.0000 - val_mae: 300182.6250\n",
            "Epoch 156/1000\n",
            "60/60 [==============================] - 0s 3ms/step - loss: 251901329408.0000 - mae: 290264.2812 - val_loss: 280247992320.0000 - val_mae: 295884.8750\n",
            "Epoch 157/1000\n",
            "60/60 [==============================] - 0s 3ms/step - loss: 251227848704.0000 - mae: 290228.3750 - val_loss: 278815277056.0000 - val_mae: 294129.9688\n",
            "Epoch 158/1000\n",
            "60/60 [==============================] - 0s 3ms/step - loss: 250457292800.0000 - mae: 288445.8438 - val_loss: 282705756160.0000 - val_mae: 328378.6562\n",
            "Epoch 159/1000\n",
            "60/60 [==============================] - 0s 4ms/step - loss: 250298138624.0000 - mae: 291153.7500 - val_loss: 277001666560.0000 - val_mae: 298326.8750\n",
            "Epoch 160/1000\n",
            "60/60 [==============================] - 0s 3ms/step - loss: 249796919296.0000 - mae: 290491.2500 - val_loss: 275917078528.0000 - val_mae: 312379.0000\n",
            "Epoch 161/1000\n",
            "60/60 [==============================] - 0s 3ms/step - loss: 249687982080.0000 - mae: 289772.6875 - val_loss: 272218619904.0000 - val_mae: 303871.4062\n",
            "Epoch 162/1000\n",
            "60/60 [==============================] - 0s 3ms/step - loss: 249018892288.0000 - mae: 289509.1250 - val_loss: 273264001024.0000 - val_mae: 297852.9688\n",
            "Epoch 163/1000\n",
            "60/60 [==============================] - 0s 4ms/step - loss: 248132026368.0000 - mae: 289754.8750 - val_loss: 276287062016.0000 - val_mae: 293060.8750\n",
            "Epoch 164/1000\n",
            "60/60 [==============================] - 0s 4ms/step - loss: 247465803776.0000 - mae: 289397.0625 - val_loss: 272402300928.0000 - val_mae: 292642.6562\n",
            "Epoch 165/1000\n",
            "60/60 [==============================] - 0s 4ms/step - loss: 246735880192.0000 - mae: 287754.5000 - val_loss: 270411825152.0000 - val_mae: 303290.3438\n",
            "Epoch 166/1000\n",
            "60/60 [==============================] - 0s 4ms/step - loss: 245553381376.0000 - mae: 288328.1875 - val_loss: 271898853376.0000 - val_mae: 301445.9688\n",
            "Epoch 167/1000\n",
            "60/60 [==============================] - 0s 4ms/step - loss: 245745532928.0000 - mae: 287886.9688 - val_loss: 269561004032.0000 - val_mae: 296515.2500\n",
            "Epoch 168/1000\n",
            "60/60 [==============================] - 0s 4ms/step - loss: 245949153280.0000 - mae: 287289.7500 - val_loss: 268380438528.0000 - val_mae: 305558.5312\n",
            "Epoch 169/1000\n",
            "60/60 [==============================] - 0s 4ms/step - loss: 243974782976.0000 - mae: 289118.3125 - val_loss: 271549890560.0000 - val_mae: 290071.4688\n",
            "Epoch 170/1000\n",
            "60/60 [==============================] - 0s 4ms/step - loss: 244440596480.0000 - mae: 285516.5625 - val_loss: 273861001216.0000 - val_mae: 297915.1875\n",
            "Epoch 171/1000\n",
            "60/60 [==============================] - 0s 3ms/step - loss: 243382468608.0000 - mae: 287153.3438 - val_loss: 269228752896.0000 - val_mae: 293972.4688\n",
            "Epoch 172/1000\n",
            "60/60 [==============================] - 0s 4ms/step - loss: 242877071360.0000 - mae: 286725.6875 - val_loss: 264756969472.0000 - val_mae: 296141.5000\n",
            "Epoch 173/1000\n",
            "60/60 [==============================] - 0s 3ms/step - loss: 242447384576.0000 - mae: 285518.9062 - val_loss: 265678061568.0000 - val_mae: 307761.7500\n",
            "Epoch 174/1000\n",
            "60/60 [==============================] - 0s 3ms/step - loss: 241840586752.0000 - mae: 287638.3125 - val_loss: 265433792512.0000 - val_mae: 299355.8750\n",
            "Epoch 175/1000\n",
            "60/60 [==============================] - 0s 4ms/step - loss: 241423335424.0000 - mae: 285158.8125 - val_loss: 266479239168.0000 - val_mae: 292745.3438\n",
            "Epoch 176/1000\n",
            "60/60 [==============================] - 0s 3ms/step - loss: 240903127040.0000 - mae: 285783.6250 - val_loss: 263208878080.0000 - val_mae: 290063.4062\n",
            "Epoch 177/1000\n",
            "60/60 [==============================] - 0s 4ms/step - loss: 239560359936.0000 - mae: 283822.0625 - val_loss: 262545833984.0000 - val_mae: 306427.4375\n",
            "Epoch 178/1000\n",
            "60/60 [==============================] - 0s 4ms/step - loss: 239308734464.0000 - mae: 285355.5312 - val_loss: 259779411968.0000 - val_mae: 293692.3438\n",
            "Epoch 179/1000\n",
            "60/60 [==============================] - 0s 3ms/step - loss: 238230601728.0000 - mae: 284007.0938 - val_loss: 260364468224.0000 - val_mae: 304109.5625\n",
            "Epoch 180/1000\n",
            "60/60 [==============================] - 0s 3ms/step - loss: 237818265600.0000 - mae: 284114.7812 - val_loss: 259210035200.0000 - val_mae: 305304.5312\n",
            "Epoch 181/1000\n",
            "60/60 [==============================] - 0s 3ms/step - loss: 237361889280.0000 - mae: 284377.1875 - val_loss: 262852722688.0000 - val_mae: 286700.0312\n",
            "Epoch 182/1000\n",
            "60/60 [==============================] - 0s 3ms/step - loss: 235986550784.0000 - mae: 283111.0312 - val_loss: 266464346112.0000 - val_mae: 320643.9062\n",
            "Epoch 183/1000\n",
            "60/60 [==============================] - 0s 3ms/step - loss: 236626575360.0000 - mae: 283130.4062 - val_loss: 267615715328.0000 - val_mae: 290344.1562\n",
            "Epoch 184/1000\n",
            "60/60 [==============================] - 0s 3ms/step - loss: 235924586496.0000 - mae: 282359.9375 - val_loss: 256430194688.0000 - val_mae: 298102.9062\n",
            "Epoch 185/1000\n",
            "60/60 [==============================] - 0s 3ms/step - loss: 234660020224.0000 - mae: 282220.7500 - val_loss: 254677581824.0000 - val_mae: 300767.3438\n",
            "Epoch 186/1000\n",
            "60/60 [==============================] - 0s 3ms/step - loss: 233284059136.0000 - mae: 281817.8750 - val_loss: 253216096256.0000 - val_mae: 295031.5938\n",
            "Epoch 187/1000\n",
            "60/60 [==============================] - 0s 3ms/step - loss: 232927019008.0000 - mae: 280994.4062 - val_loss: 252799844352.0000 - val_mae: 288592.8125\n",
            "Epoch 188/1000\n",
            "60/60 [==============================] - 0s 3ms/step - loss: 232093237248.0000 - mae: 281203.1875 - val_loss: 255778553856.0000 - val_mae: 309745.8438\n",
            "Epoch 189/1000\n",
            "60/60 [==============================] - 0s 4ms/step - loss: 231502331904.0000 - mae: 281955.4688 - val_loss: 250090881024.0000 - val_mae: 293235.5000\n",
            "Epoch 190/1000\n",
            "60/60 [==============================] - 0s 3ms/step - loss: 230423199744.0000 - mae: 280715.4062 - val_loss: 254189666304.0000 - val_mae: 284635.0625\n",
            "Epoch 191/1000\n",
            "60/60 [==============================] - 0s 3ms/step - loss: 229756125184.0000 - mae: 280466.8750 - val_loss: 249814024192.0000 - val_mae: 290627.5625\n",
            "Epoch 192/1000\n",
            "60/60 [==============================] - 0s 3ms/step - loss: 229649924096.0000 - mae: 280038.2812 - val_loss: 256721584128.0000 - val_mae: 282764.4062\n",
            "Epoch 193/1000\n",
            "60/60 [==============================] - 0s 3ms/step - loss: 229189156864.0000 - mae: 278005.9062 - val_loss: 247865311232.0000 - val_mae: 284663.5625\n",
            "Epoch 194/1000\n",
            "60/60 [==============================] - 0s 4ms/step - loss: 227882434560.0000 - mae: 278183.8750 - val_loss: 246267756544.0000 - val_mae: 289296.2812\n",
            "Epoch 195/1000\n",
            "60/60 [==============================] - 0s 3ms/step - loss: 226978316288.0000 - mae: 277371.5000 - val_loss: 246333685760.0000 - val_mae: 282220.0938\n",
            "Epoch 196/1000\n",
            "60/60 [==============================] - 0s 3ms/step - loss: 225601503232.0000 - mae: 276561.3750 - val_loss: 245923856384.0000 - val_mae: 287094.9688\n",
            "Epoch 197/1000\n",
            "60/60 [==============================] - 0s 3ms/step - loss: 226269675520.0000 - mae: 280181.6250 - val_loss: 243503579136.0000 - val_mae: 281805.4688\n",
            "Epoch 198/1000\n",
            "60/60 [==============================] - 0s 3ms/step - loss: 224492388352.0000 - mae: 276335.1875 - val_loss: 243256492032.0000 - val_mae: 295681.8438\n",
            "Epoch 199/1000\n",
            "60/60 [==============================] - 0s 3ms/step - loss: 223790465024.0000 - mae: 276791.9375 - val_loss: 241567956992.0000 - val_mae: 292561.3750\n",
            "Epoch 200/1000\n",
            "60/60 [==============================] - 0s 3ms/step - loss: 222651187200.0000 - mae: 276394.0000 - val_loss: 255359959040.0000 - val_mae: 323730.2188\n",
            "Epoch 201/1000\n",
            "60/60 [==============================] - 0s 3ms/step - loss: 221911367680.0000 - mae: 277106.9688 - val_loss: 241685266432.0000 - val_mae: 288149.6562\n",
            "Epoch 202/1000\n",
            "60/60 [==============================] - 0s 4ms/step - loss: 221193191424.0000 - mae: 275647.7500 - val_loss: 265028894720.0000 - val_mae: 331312.3125\n",
            "Epoch 203/1000\n",
            "60/60 [==============================] - 0s 4ms/step - loss: 220808740864.0000 - mae: 275393.2500 - val_loss: 255909036032.0000 - val_mae: 293269.2188\n",
            "Epoch 204/1000\n",
            "60/60 [==============================] - 0s 6ms/step - loss: 219692580864.0000 - mae: 273628.9688 - val_loss: 235239424000.0000 - val_mae: 283235.0312\n",
            "Epoch 205/1000\n",
            "60/60 [==============================] - 0s 5ms/step - loss: 219323990016.0000 - mae: 274853.1250 - val_loss: 240798744576.0000 - val_mae: 280420.0625\n",
            "Epoch 206/1000\n",
            "60/60 [==============================] - 1s 9ms/step - loss: 218008616960.0000 - mae: 273363.4062 - val_loss: 240571596800.0000 - val_mae: 300749.2188\n",
            "Epoch 207/1000\n",
            "60/60 [==============================] - 0s 6ms/step - loss: 217345228800.0000 - mae: 273889.5312 - val_loss: 234676944896.0000 - val_mae: 274845.8125\n",
            "Epoch 208/1000\n",
            "60/60 [==============================] - 0s 6ms/step - loss: 216235147264.0000 - mae: 272324.4062 - val_loss: 234373480448.0000 - val_mae: 279308.5312\n",
            "Epoch 209/1000\n",
            "60/60 [==============================] - 0s 7ms/step - loss: 215345856512.0000 - mae: 272425.5938 - val_loss: 229962268672.0000 - val_mae: 280450.3750\n",
            "Epoch 210/1000\n",
            "60/60 [==============================] - 0s 6ms/step - loss: 214110306304.0000 - mae: 271320.0312 - val_loss: 236516507648.0000 - val_mae: 283475.5938\n",
            "Epoch 211/1000\n",
            "60/60 [==============================] - 0s 7ms/step - loss: 214207709184.0000 - mae: 271002.6250 - val_loss: 228304011264.0000 - val_mae: 283043.1250\n",
            "Epoch 212/1000\n",
            "60/60 [==============================] - 0s 5ms/step - loss: 212884078592.0000 - mae: 272434.8750 - val_loss: 229039079424.0000 - val_mae: 276183.3438\n",
            "Epoch 213/1000\n",
            "60/60 [==============================] - 0s 7ms/step - loss: 211169738752.0000 - mae: 270579.3125 - val_loss: 245775466496.0000 - val_mae: 286860.4062\n",
            "Epoch 214/1000\n",
            "60/60 [==============================] - 0s 5ms/step - loss: 210418466816.0000 - mae: 269022.7812 - val_loss: 236791152640.0000 - val_mae: 301360.0938\n",
            "Epoch 215/1000\n",
            "60/60 [==============================] - 1s 9ms/step - loss: 209385111552.0000 - mae: 269151.5000 - val_loss: 223856164864.0000 - val_mae: 274883.9062\n",
            "Epoch 216/1000\n",
            "60/60 [==============================] - 0s 6ms/step - loss: 208651616256.0000 - mae: 268415.9062 - val_loss: 233193603072.0000 - val_mae: 289347.3438\n",
            "Epoch 217/1000\n",
            "60/60 [==============================] - 0s 6ms/step - loss: 208183508992.0000 - mae: 269207.1250 - val_loss: 219945631744.0000 - val_mae: 274094.0000\n",
            "Epoch 218/1000\n",
            "60/60 [==============================] - 0s 8ms/step - loss: 206837235712.0000 - mae: 268744.4375 - val_loss: 219862548480.0000 - val_mae: 271010.4375\n",
            "Epoch 219/1000\n",
            "60/60 [==============================] - 0s 8ms/step - loss: 206533492736.0000 - mae: 267764.2188 - val_loss: 219156561920.0000 - val_mae: 271160.3125\n",
            "Epoch 220/1000\n",
            "60/60 [==============================] - 0s 6ms/step - loss: 204437749760.0000 - mae: 268376.5625 - val_loss: 224603799552.0000 - val_mae: 280878.4688\n",
            "Epoch 221/1000\n",
            "60/60 [==============================] - 1s 9ms/step - loss: 204673957888.0000 - mae: 267433.2812 - val_loss: 223688359936.0000 - val_mae: 267441.8438\n",
            "Epoch 222/1000\n",
            "60/60 [==============================] - 0s 7ms/step - loss: 203386175488.0000 - mae: 265996.1875 - val_loss: 216382341120.0000 - val_mae: 266041.2188\n",
            "Epoch 223/1000\n",
            "60/60 [==============================] - 0s 8ms/step - loss: 202611638272.0000 - mae: 266489.2812 - val_loss: 226505359360.0000 - val_mae: 275800.7188\n",
            "Epoch 224/1000\n",
            "60/60 [==============================] - 0s 8ms/step - loss: 201116581888.0000 - mae: 263319.4375 - val_loss: 214847029248.0000 - val_mae: 282554.1875\n",
            "Epoch 225/1000\n",
            "60/60 [==============================] - 1s 9ms/step - loss: 201238675456.0000 - mae: 267304.9062 - val_loss: 212936720384.0000 - val_mae: 268119.8438\n",
            "Epoch 226/1000\n",
            "60/60 [==============================] - 1s 10ms/step - loss: 199641415680.0000 - mae: 264987.4688 - val_loss: 214415196160.0000 - val_mae: 271588.4062\n",
            "Epoch 227/1000\n",
            "60/60 [==============================] - 0s 5ms/step - loss: 198705053696.0000 - mae: 266605.3750 - val_loss: 212946665472.0000 - val_mae: 261506.0000\n",
            "Epoch 228/1000\n",
            "60/60 [==============================] - 0s 8ms/step - loss: 198328270848.0000 - mae: 263496.4062 - val_loss: 209069637632.0000 - val_mae: 264432.7188\n",
            "Epoch 229/1000\n",
            "60/60 [==============================] - 1s 12ms/step - loss: 196734828544.0000 - mae: 263885.8125 - val_loss: 208958783488.0000 - val_mae: 262241.5625\n",
            "Epoch 230/1000\n",
            "60/60 [==============================] - 0s 8ms/step - loss: 196681777152.0000 - mae: 263358.1875 - val_loss: 224863059968.0000 - val_mae: 306659.9688\n",
            "Epoch 231/1000\n",
            "60/60 [==============================] - 0s 6ms/step - loss: 197136941056.0000 - mae: 264483.3125 - val_loss: 209692688384.0000 - val_mae: 267103.5938\n",
            "Epoch 232/1000\n",
            "60/60 [==============================] - 0s 6ms/step - loss: 193420197888.0000 - mae: 261228.8750 - val_loss: 210475728896.0000 - val_mae: 270087.8750\n",
            "Epoch 233/1000\n",
            "60/60 [==============================] - 0s 6ms/step - loss: 193879212032.0000 - mae: 261523.9062 - val_loss: 217847595008.0000 - val_mae: 296935.2812\n",
            "Epoch 234/1000\n",
            "60/60 [==============================] - 0s 8ms/step - loss: 192090488832.0000 - mae: 259747.6406 - val_loss: 205464928256.0000 - val_mae: 263224.8125\n",
            "Epoch 235/1000\n",
            "60/60 [==============================] - 0s 8ms/step - loss: 191314395136.0000 - mae: 260284.1719 - val_loss: 232564965376.0000 - val_mae: 322783.0312\n",
            "Epoch 236/1000\n",
            "60/60 [==============================] - 0s 8ms/step - loss: 191110021120.0000 - mae: 261972.9375 - val_loss: 201900523520.0000 - val_mae: 256861.1094\n",
            "Epoch 237/1000\n",
            "60/60 [==============================] - 0s 5ms/step - loss: 189273473024.0000 - mae: 258009.8750 - val_loss: 207416459264.0000 - val_mae: 272026.0000\n",
            "Epoch 238/1000\n",
            "60/60 [==============================] - 0s 6ms/step - loss: 187396521984.0000 - mae: 258421.9688 - val_loss: 203009572864.0000 - val_mae: 253324.9219\n",
            "Epoch 239/1000\n",
            "60/60 [==============================] - 0s 7ms/step - loss: 184183390208.0000 - mae: 254886.4219 - val_loss: 208956866560.0000 - val_mae: 269823.6562\n",
            "Epoch 240/1000\n",
            "60/60 [==============================] - 0s 6ms/step - loss: 181330952192.0000 - mae: 255753.2656 - val_loss: 192707067904.0000 - val_mae: 248967.4844\n",
            "Epoch 241/1000\n",
            "60/60 [==============================] - 1s 8ms/step - loss: 178788040704.0000 - mae: 252240.0781 - val_loss: 188715302912.0000 - val_mae: 254829.7031\n",
            "Epoch 242/1000\n",
            "60/60 [==============================] - 0s 7ms/step - loss: 176973463552.0000 - mae: 251947.0000 - val_loss: 225432059904.0000 - val_mae: 326184.5000\n",
            "Epoch 243/1000\n",
            "60/60 [==============================] - 1s 11ms/step - loss: 176237363200.0000 - mae: 252502.4688 - val_loss: 230781616128.0000 - val_mae: 340319.0312\n",
            "Epoch 244/1000\n",
            "60/60 [==============================] - 1s 9ms/step - loss: 174199144448.0000 - mae: 251310.4531 - val_loss: 179262701568.0000 - val_mae: 255659.0938\n",
            "Epoch 245/1000\n",
            "60/60 [==============================] - 1s 13ms/step - loss: 172713230336.0000 - mae: 249903.1094 - val_loss: 177669177344.0000 - val_mae: 253362.7656\n",
            "Epoch 246/1000\n",
            "60/60 [==============================] - 1s 18ms/step - loss: 170668507136.0000 - mae: 249889.1406 - val_loss: 180408008704.0000 - val_mae: 242711.6250\n",
            "Epoch 247/1000\n",
            "60/60 [==============================] - 1s 21ms/step - loss: 169880403968.0000 - mae: 246897.9531 - val_loss: 179732873216.0000 - val_mae: 266090.5625\n",
            "Epoch 248/1000\n",
            "60/60 [==============================] - 1s 12ms/step - loss: 170217717760.0000 - mae: 249254.3125 - val_loss: 180021002240.0000 - val_mae: 242416.1250\n",
            "Epoch 249/1000\n",
            "60/60 [==============================] - 1s 12ms/step - loss: 168614330368.0000 - mae: 247316.6250 - val_loss: 172251168768.0000 - val_mae: 243185.4375\n",
            "Epoch 250/1000\n",
            "60/60 [==============================] - 1s 14ms/step - loss: 166895812608.0000 - mae: 246265.3281 - val_loss: 169905487872.0000 - val_mae: 245221.5469\n",
            "Epoch 251/1000\n",
            "60/60 [==============================] - 1s 12ms/step - loss: 165654593536.0000 - mae: 246544.1406 - val_loss: 174285160448.0000 - val_mae: 250244.1406\n",
            "Epoch 252/1000\n",
            "60/60 [==============================] - 1s 11ms/step - loss: 163865083904.0000 - mae: 245439.6719 - val_loss: 187019526144.0000 - val_mae: 284187.7188\n",
            "Epoch 253/1000\n",
            "60/60 [==============================] - 1s 12ms/step - loss: 162821849088.0000 - mae: 246464.0938 - val_loss: 192137396224.0000 - val_mae: 263060.6250\n",
            "Epoch 254/1000\n",
            "60/60 [==============================] - 0s 6ms/step - loss: 162614558720.0000 - mae: 244361.4062 - val_loss: 163506814976.0000 - val_mae: 244089.1406\n",
            "Epoch 255/1000\n",
            "60/60 [==============================] - 0s 6ms/step - loss: 160567230464.0000 - mae: 243913.9062 - val_loss: 163016949760.0000 - val_mae: 241910.4375\n",
            "Epoch 256/1000\n",
            "60/60 [==============================] - 0s 7ms/step - loss: 160424837120.0000 - mae: 244718.4531 - val_loss: 163570876416.0000 - val_mae: 238635.3906\n",
            "Epoch 257/1000\n",
            "60/60 [==============================] - 0s 6ms/step - loss: 158523932672.0000 - mae: 242593.5000 - val_loss: 175361064960.0000 - val_mae: 261015.3750\n",
            "Epoch 258/1000\n",
            "60/60 [==============================] - 0s 8ms/step - loss: 158556602368.0000 - mae: 242429.0781 - val_loss: 160566591488.0000 - val_mae: 235833.0938\n",
            "Epoch 259/1000\n",
            "60/60 [==============================] - 0s 8ms/step - loss: 157999153152.0000 - mae: 242099.8281 - val_loss: 159774916608.0000 - val_mae: 239252.0312\n",
            "Epoch 260/1000\n",
            "60/60 [==============================] - 0s 7ms/step - loss: 155657093120.0000 - mae: 240241.1719 - val_loss: 164020617216.0000 - val_mae: 235550.6875\n",
            "Epoch 261/1000\n",
            "60/60 [==============================] - 0s 5ms/step - loss: 153335382016.0000 - mae: 238807.0625 - val_loss: 160117587968.0000 - val_mae: 243397.5781\n",
            "Epoch 262/1000\n",
            "60/60 [==============================] - 0s 6ms/step - loss: 154399277056.0000 - mae: 241562.5156 - val_loss: 158455840768.0000 - val_mae: 232220.7344\n",
            "Epoch 263/1000\n",
            "60/60 [==============================] - 0s 6ms/step - loss: 153333006336.0000 - mae: 238586.6875 - val_loss: 165185978368.0000 - val_mae: 265038.9375\n",
            "Epoch 264/1000\n",
            "60/60 [==============================] - 1s 9ms/step - loss: 151506944000.0000 - mae: 239286.6562 - val_loss: 185690865664.0000 - val_mae: 297294.7812\n",
            "Epoch 265/1000\n",
            "60/60 [==============================] - 0s 6ms/step - loss: 149029289984.0000 - mae: 237520.8750 - val_loss: 155751841792.0000 - val_mae: 237147.4219\n",
            "Epoch 266/1000\n",
            "60/60 [==============================] - 0s 6ms/step - loss: 145918967808.0000 - mae: 234646.9688 - val_loss: 154083590144.0000 - val_mae: 234694.3750\n",
            "Epoch 267/1000\n",
            "60/60 [==============================] - 0s 7ms/step - loss: 144483647488.0000 - mae: 234232.9219 - val_loss: 165578719232.0000 - val_mae: 242884.0469\n",
            "Epoch 268/1000\n",
            "60/60 [==============================] - 0s 4ms/step - loss: 143666610176.0000 - mae: 232783.8594 - val_loss: 148148781056.0000 - val_mae: 250475.0000\n",
            "Epoch 269/1000\n",
            "60/60 [==============================] - 0s 3ms/step - loss: 143371976704.0000 - mae: 235071.7656 - val_loss: 140377407488.0000 - val_mae: 225825.7969\n",
            "Epoch 270/1000\n",
            "60/60 [==============================] - 0s 8ms/step - loss: 141889290240.0000 - mae: 232310.8906 - val_loss: 139576639488.0000 - val_mae: 230653.4219\n",
            "Epoch 271/1000\n",
            "60/60 [==============================] - 0s 6ms/step - loss: 141279936512.0000 - mae: 233137.0938 - val_loss: 142265253888.0000 - val_mae: 242683.0312\n",
            "Epoch 272/1000\n",
            "60/60 [==============================] - 0s 6ms/step - loss: 140171100160.0000 - mae: 232093.1250 - val_loss: 136683347968.0000 - val_mae: 231358.8594\n",
            "Epoch 273/1000\n",
            "60/60 [==============================] - 0s 7ms/step - loss: 139686592512.0000 - mae: 231881.6562 - val_loss: 134379511808.0000 - val_mae: 227248.7031\n",
            "Epoch 274/1000\n",
            "60/60 [==============================] - 1s 9ms/step - loss: 137739075584.0000 - mae: 231580.1875 - val_loss: 139485593600.0000 - val_mae: 223300.3438\n",
            "Epoch 275/1000\n",
            "60/60 [==============================] - 0s 7ms/step - loss: 138655301632.0000 - mae: 231449.0625 - val_loss: 139847696384.0000 - val_mae: 236584.0156\n",
            "Epoch 276/1000\n",
            "60/60 [==============================] - 1s 10ms/step - loss: 136836136960.0000 - mae: 229287.7031 - val_loss: 135284097024.0000 - val_mae: 228951.5625\n",
            "Epoch 277/1000\n",
            "60/60 [==============================] - 1s 11ms/step - loss: 137139470336.0000 - mae: 229110.6562 - val_loss: 133557977088.0000 - val_mae: 221011.5469\n",
            "Epoch 278/1000\n",
            "60/60 [==============================] - 1s 9ms/step - loss: 134526140416.0000 - mae: 227019.1094 - val_loss: 131982901248.0000 - val_mae: 219850.7656\n",
            "Epoch 279/1000\n",
            "60/60 [==============================] - 1s 9ms/step - loss: 134123102208.0000 - mae: 226931.7344 - val_loss: 141958103040.0000 - val_mae: 245649.2656\n",
            "Epoch 280/1000\n",
            "60/60 [==============================] - 1s 8ms/step - loss: 133765144576.0000 - mae: 227413.8750 - val_loss: 130834153472.0000 - val_mae: 225518.4688\n",
            "Epoch 281/1000\n",
            "60/60 [==============================] - 0s 5ms/step - loss: 132501258240.0000 - mae: 225475.0312 - val_loss: 133672738816.0000 - val_mae: 224322.3594\n",
            "Epoch 282/1000\n",
            "60/60 [==============================] - 0s 7ms/step - loss: 131466452992.0000 - mae: 224829.1875 - val_loss: 135864868864.0000 - val_mae: 228883.3125\n",
            "Epoch 283/1000\n",
            "60/60 [==============================] - 0s 8ms/step - loss: 130486378496.0000 - mae: 225239.6875 - val_loss: 156882010112.0000 - val_mae: 236620.2344\n",
            "Epoch 284/1000\n",
            "60/60 [==============================] - 1s 13ms/step - loss: 130259943424.0000 - mae: 223127.9219 - val_loss: 124282421248.0000 - val_mae: 218198.3594\n",
            "Epoch 285/1000\n",
            "60/60 [==============================] - 0s 5ms/step - loss: 129698717696.0000 - mae: 224307.9844 - val_loss: 128439787520.0000 - val_mae: 230619.7031\n",
            "Epoch 286/1000\n",
            "60/60 [==============================] - 0s 4ms/step - loss: 129283571712.0000 - mae: 221396.2969 - val_loss: 130574688256.0000 - val_mae: 241725.2188\n",
            "Epoch 287/1000\n",
            "60/60 [==============================] - 0s 4ms/step - loss: 126829674496.0000 - mae: 219712.0938 - val_loss: 123753725952.0000 - val_mae: 215174.4844\n",
            "Epoch 288/1000\n",
            "60/60 [==============================] - 0s 3ms/step - loss: 126129881088.0000 - mae: 218534.4531 - val_loss: 142864760832.0000 - val_mae: 259166.3594\n",
            "Epoch 289/1000\n",
            "60/60 [==============================] - 0s 4ms/step - loss: 125788405760.0000 - mae: 218734.9844 - val_loss: 135644487680.0000 - val_mae: 224067.8750\n",
            "Epoch 290/1000\n",
            "60/60 [==============================] - 0s 3ms/step - loss: 124570869760.0000 - mae: 217226.9688 - val_loss: 120306778112.0000 - val_mae: 214513.0625\n",
            "Epoch 291/1000\n",
            "60/60 [==============================] - 0s 4ms/step - loss: 124568649728.0000 - mae: 217029.9844 - val_loss: 125176741888.0000 - val_mae: 229725.5000\n",
            "Epoch 292/1000\n",
            "60/60 [==============================] - 0s 4ms/step - loss: 122889003008.0000 - mae: 216010.0000 - val_loss: 120271101952.0000 - val_mae: 221129.8438\n",
            "Epoch 293/1000\n",
            "60/60 [==============================] - 0s 3ms/step - loss: 124096954368.0000 - mae: 216703.6562 - val_loss: 125201244160.0000 - val_mae: 213592.5312\n",
            "Epoch 294/1000\n",
            "60/60 [==============================] - 0s 3ms/step - loss: 122523238400.0000 - mae: 215843.7500 - val_loss: 119613276160.0000 - val_mae: 212131.2500\n",
            "Epoch 295/1000\n",
            "60/60 [==============================] - 0s 4ms/step - loss: 121743163392.0000 - mae: 215157.4688 - val_loss: 120923586560.0000 - val_mae: 210321.8750\n",
            "Epoch 296/1000\n",
            "60/60 [==============================] - 0s 4ms/step - loss: 121371443200.0000 - mae: 214164.7031 - val_loss: 126528798720.0000 - val_mae: 236405.3125\n",
            "Epoch 297/1000\n",
            "60/60 [==============================] - 0s 3ms/step - loss: 119516389376.0000 - mae: 213309.7031 - val_loss: 113687642112.0000 - val_mae: 212344.5312\n",
            "Epoch 298/1000\n",
            "60/60 [==============================] - 0s 4ms/step - loss: 120872681472.0000 - mae: 215098.3750 - val_loss: 113837457408.0000 - val_mae: 208505.1094\n",
            "Epoch 299/1000\n",
            "60/60 [==============================] - 0s 3ms/step - loss: 120230731776.0000 - mae: 212854.9375 - val_loss: 152593727488.0000 - val_mae: 236544.6250\n",
            "Epoch 300/1000\n",
            "60/60 [==============================] - 0s 3ms/step - loss: 118264561664.0000 - mae: 212571.0625 - val_loss: 134035881984.0000 - val_mae: 212634.0000\n",
            "Epoch 301/1000\n",
            "60/60 [==============================] - 0s 3ms/step - loss: 118041411584.0000 - mae: 211917.7344 - val_loss: 129083973632.0000 - val_mae: 212360.4375\n",
            "Epoch 302/1000\n",
            "60/60 [==============================] - 0s 3ms/step - loss: 117537300480.0000 - mae: 212000.5781 - val_loss: 111676456960.0000 - val_mae: 207507.7812\n",
            "Epoch 303/1000\n",
            "60/60 [==============================] - 0s 4ms/step - loss: 117441339392.0000 - mae: 212398.4531 - val_loss: 130879234048.0000 - val_mae: 249150.3750\n",
            "Epoch 304/1000\n",
            "60/60 [==============================] - 0s 4ms/step - loss: 117473869824.0000 - mae: 211512.8594 - val_loss: 121019924480.0000 - val_mae: 210857.5156\n",
            "Epoch 305/1000\n",
            "60/60 [==============================] - 0s 4ms/step - loss: 117726732288.0000 - mae: 210899.5625 - val_loss: 112166010880.0000 - val_mae: 216290.4688\n",
            "Epoch 306/1000\n",
            "60/60 [==============================] - 0s 4ms/step - loss: 116627136512.0000 - mae: 210281.0156 - val_loss: 114214543360.0000 - val_mae: 207877.9688\n",
            "Epoch 307/1000\n",
            "60/60 [==============================] - 0s 3ms/step - loss: 116143374336.0000 - mae: 209517.3906 - val_loss: 117841674240.0000 - val_mae: 216621.9688\n",
            "Epoch 308/1000\n",
            "60/60 [==============================] - 0s 4ms/step - loss: 115466608640.0000 - mae: 209623.8438 - val_loss: 122693410816.0000 - val_mae: 222519.9688\n",
            "Epoch 309/1000\n",
            "60/60 [==============================] - 0s 4ms/step - loss: 115278594048.0000 - mae: 210111.7656 - val_loss: 129710809088.0000 - val_mae: 249385.9062\n",
            "Epoch 310/1000\n",
            "60/60 [==============================] - 0s 4ms/step - loss: 114987147264.0000 - mae: 210321.3594 - val_loss: 115144122368.0000 - val_mae: 203893.3906\n",
            "Epoch 311/1000\n",
            "60/60 [==============================] - 0s 3ms/step - loss: 114685468672.0000 - mae: 207782.5781 - val_loss: 112834469888.0000 - val_mae: 221057.8438\n",
            "Epoch 312/1000\n",
            "60/60 [==============================] - 0s 3ms/step - loss: 114529869824.0000 - mae: 208919.3438 - val_loss: 121004769280.0000 - val_mae: 229269.0625\n",
            "Epoch 313/1000\n",
            "60/60 [==============================] - 0s 3ms/step - loss: 115774152704.0000 - mae: 209527.6406 - val_loss: 105144958976.0000 - val_mae: 203941.1406\n",
            "Epoch 314/1000\n",
            "60/60 [==============================] - 0s 4ms/step - loss: 113947508736.0000 - mae: 207379.8594 - val_loss: 116740628480.0000 - val_mae: 210337.2344\n",
            "Epoch 315/1000\n",
            "60/60 [==============================] - 0s 3ms/step - loss: 114239414272.0000 - mae: 208682.0938 - val_loss: 122257719296.0000 - val_mae: 210603.7031\n",
            "Epoch 316/1000\n",
            "60/60 [==============================] - 0s 3ms/step - loss: 114487910400.0000 - mae: 207290.1094 - val_loss: 109054058496.0000 - val_mae: 201927.0625\n",
            "Epoch 317/1000\n",
            "60/60 [==============================] - 0s 3ms/step - loss: 114532851712.0000 - mae: 208232.3750 - val_loss: 116193394688.0000 - val_mae: 227625.5781\n",
            "Epoch 318/1000\n",
            "60/60 [==============================] - 0s 3ms/step - loss: 113575010304.0000 - mae: 208722.3125 - val_loss: 109433356288.0000 - val_mae: 212643.0625\n",
            "Epoch 319/1000\n",
            "60/60 [==============================] - 0s 3ms/step - loss: 113956790272.0000 - mae: 207363.1719 - val_loss: 118952869888.0000 - val_mae: 203567.9375\n",
            "Epoch 320/1000\n",
            "60/60 [==============================] - 0s 3ms/step - loss: 114093973504.0000 - mae: 206893.4844 - val_loss: 128852762624.0000 - val_mae: 254173.7188\n",
            "Epoch 321/1000\n",
            "60/60 [==============================] - 0s 4ms/step - loss: 112665264128.0000 - mae: 207029.1719 - val_loss: 103422361600.0000 - val_mae: 201931.7656\n",
            "Epoch 322/1000\n",
            "60/60 [==============================] - 0s 3ms/step - loss: 112912171008.0000 - mae: 205651.0469 - val_loss: 107785805824.0000 - val_mae: 209491.3125\n",
            "Epoch 323/1000\n",
            "60/60 [==============================] - 0s 3ms/step - loss: 111331213312.0000 - mae: 206818.6875 - val_loss: 107276517376.0000 - val_mae: 214536.5156\n",
            "Epoch 324/1000\n",
            "60/60 [==============================] - 0s 4ms/step - loss: 112224444416.0000 - mae: 206187.0625 - val_loss: 116947820544.0000 - val_mae: 204745.0938\n",
            "Epoch 325/1000\n",
            "60/60 [==============================] - 0s 3ms/step - loss: 111726641152.0000 - mae: 207674.7500 - val_loss: 105337348096.0000 - val_mae: 206563.9062\n",
            "Epoch 326/1000\n",
            "60/60 [==============================] - 0s 3ms/step - loss: 111761547264.0000 - mae: 206159.8281 - val_loss: 102249496576.0000 - val_mae: 200067.0469\n",
            "Epoch 327/1000\n",
            "60/60 [==============================] - 0s 4ms/step - loss: 112182910976.0000 - mae: 206268.6875 - val_loss: 113925079040.0000 - val_mae: 204238.7656\n",
            "Epoch 328/1000\n",
            "60/60 [==============================] - 0s 3ms/step - loss: 112865730560.0000 - mae: 206879.6250 - val_loss: 102230556672.0000 - val_mae: 198111.2344\n",
            "Epoch 329/1000\n",
            "60/60 [==============================] - 0s 4ms/step - loss: 112327852032.0000 - mae: 205287.7812 - val_loss: 117735890944.0000 - val_mae: 202476.9688\n",
            "Epoch 330/1000\n",
            "60/60 [==============================] - 0s 3ms/step - loss: 111583232000.0000 - mae: 206402.7500 - val_loss: 126363918336.0000 - val_mae: 249167.2656\n",
            "Epoch 331/1000\n",
            "60/60 [==============================] - 0s 4ms/step - loss: 111382732800.0000 - mae: 205012.8281 - val_loss: 105243877376.0000 - val_mae: 199898.4844\n",
            "Epoch 332/1000\n",
            "60/60 [==============================] - 0s 3ms/step - loss: 112391520256.0000 - mae: 205681.2500 - val_loss: 120777613312.0000 - val_mae: 231901.9219\n",
            "Epoch 333/1000\n",
            "60/60 [==============================] - 0s 3ms/step - loss: 111602327552.0000 - mae: 205528.1250 - val_loss: 124739493888.0000 - val_mae: 205546.9375\n",
            "Epoch 334/1000\n",
            "60/60 [==============================] - 0s 3ms/step - loss: 112408322048.0000 - mae: 206640.2344 - val_loss: 104470110208.0000 - val_mae: 198923.2031\n",
            "Epoch 335/1000\n",
            "60/60 [==============================] - 0s 4ms/step - loss: 110547402752.0000 - mae: 203935.6875 - val_loss: 171135188992.0000 - val_mae: 260942.8906\n",
            "Epoch 336/1000\n",
            "60/60 [==============================] - 0s 4ms/step - loss: 112053288960.0000 - mae: 205811.3125 - val_loss: 106453073920.0000 - val_mae: 212429.8281\n",
            "Epoch 337/1000\n",
            "60/60 [==============================] - 0s 3ms/step - loss: 112023396352.0000 - mae: 206385.4219 - val_loss: 105466003456.0000 - val_mae: 198372.1094\n",
            "Epoch 338/1000\n",
            "60/60 [==============================] - 0s 3ms/step - loss: 110437433344.0000 - mae: 203929.6719 - val_loss: 111351054336.0000 - val_mae: 204971.7812\n",
            "Epoch 339/1000\n",
            "60/60 [==============================] - 0s 4ms/step - loss: 110754979840.0000 - mae: 203966.8438 - val_loss: 111403237376.0000 - val_mae: 218793.1562\n",
            "Epoch 340/1000\n",
            "60/60 [==============================] - 0s 3ms/step - loss: 110861656064.0000 - mae: 204924.9375 - val_loss: 101114167296.0000 - val_mae: 202083.2344\n",
            "Epoch 341/1000\n",
            "60/60 [==============================] - 0s 4ms/step - loss: 109846159360.0000 - mae: 204091.4375 - val_loss: 109282574336.0000 - val_mae: 206316.2656\n",
            "Epoch 342/1000\n",
            "60/60 [==============================] - 0s 4ms/step - loss: 109978714112.0000 - mae: 203262.4062 - val_loss: 119652417536.0000 - val_mae: 238237.5469\n",
            "Epoch 343/1000\n",
            "60/60 [==============================] - 0s 4ms/step - loss: 111195947008.0000 - mae: 204746.2031 - val_loss: 102873407488.0000 - val_mae: 198877.4531\n",
            "Epoch 344/1000\n",
            "60/60 [==============================] - 0s 4ms/step - loss: 109836533760.0000 - mae: 203663.1562 - val_loss: 109579386880.0000 - val_mae: 200816.0938\n",
            "Epoch 345/1000\n",
            "60/60 [==============================] - 0s 4ms/step - loss: 109471727616.0000 - mae: 203709.5312 - val_loss: 108498337792.0000 - val_mae: 211238.4531\n",
            "Epoch 346/1000\n",
            "60/60 [==============================] - 0s 4ms/step - loss: 110481326080.0000 - mae: 203847.9531 - val_loss: 100784889856.0000 - val_mae: 199233.6250\n",
            "Epoch 347/1000\n",
            "60/60 [==============================] - 0s 3ms/step - loss: 111203024896.0000 - mae: 204069.6719 - val_loss: 100185481216.0000 - val_mae: 197028.1875\n",
            "Epoch 348/1000\n",
            "60/60 [==============================] - 0s 4ms/step - loss: 109812760576.0000 - mae: 203737.4219 - val_loss: 103301980160.0000 - val_mae: 196181.6875\n",
            "Epoch 349/1000\n",
            "60/60 [==============================] - 0s 3ms/step - loss: 109877297152.0000 - mae: 203291.9844 - val_loss: 105897091072.0000 - val_mae: 198821.8594\n",
            "Epoch 350/1000\n",
            "60/60 [==============================] - 0s 3ms/step - loss: 107838930944.0000 - mae: 202918.6406 - val_loss: 101743730688.0000 - val_mae: 206728.4844\n",
            "Epoch 351/1000\n",
            "60/60 [==============================] - 0s 3ms/step - loss: 108790931456.0000 - mae: 204370.5625 - val_loss: 101936660480.0000 - val_mae: 198328.0000\n",
            "Epoch 352/1000\n",
            "60/60 [==============================] - 0s 4ms/step - loss: 109349453824.0000 - mae: 204556.8594 - val_loss: 100159807488.0000 - val_mae: 202230.9375\n",
            "Epoch 353/1000\n",
            "60/60 [==============================] - 0s 4ms/step - loss: 108186959872.0000 - mae: 202557.3594 - val_loss: 138402512896.0000 - val_mae: 268481.9688\n",
            "Epoch 354/1000\n",
            "60/60 [==============================] - 0s 4ms/step - loss: 109851271168.0000 - mae: 204380.9219 - val_loss: 104648990720.0000 - val_mae: 210498.1562\n",
            "Epoch 355/1000\n",
            "60/60 [==============================] - 0s 3ms/step - loss: 108388622336.0000 - mae: 202116.8281 - val_loss: 105184763904.0000 - val_mae: 210879.4531\n",
            "Epoch 356/1000\n",
            "60/60 [==============================] - 0s 3ms/step - loss: 107504336896.0000 - mae: 203522.6406 - val_loss: 133716246528.0000 - val_mae: 218064.8438\n",
            "Epoch 357/1000\n",
            "60/60 [==============================] - 0s 3ms/step - loss: 110377779200.0000 - mae: 204215.8438 - val_loss: 109001613312.0000 - val_mae: 219014.0156\n",
            "Epoch 358/1000\n",
            "60/60 [==============================] - 0s 4ms/step - loss: 109206134784.0000 - mae: 204609.5469 - val_loss: 118583549952.0000 - val_mae: 202457.8125\n",
            "Epoch 359/1000\n",
            "60/60 [==============================] - 0s 4ms/step - loss: 108956442624.0000 - mae: 203625.5469 - val_loss: 107047919616.0000 - val_mae: 198086.9062\n",
            "Epoch 360/1000\n",
            "60/60 [==============================] - 0s 3ms/step - loss: 108602761216.0000 - mae: 202933.0938 - val_loss: 101173075968.0000 - val_mae: 195650.1406\n",
            "Epoch 361/1000\n",
            "60/60 [==============================] - 0s 3ms/step - loss: 108163203072.0000 - mae: 201786.6094 - val_loss: 131862241280.0000 - val_mae: 229670.9688\n",
            "Epoch 362/1000\n",
            "60/60 [==============================] - 0s 3ms/step - loss: 109501235200.0000 - mae: 203107.0938 - val_loss: 107413331968.0000 - val_mae: 217565.8281\n",
            "Epoch 363/1000\n",
            "60/60 [==============================] - 0s 3ms/step - loss: 107748253696.0000 - mae: 202962.7031 - val_loss: 112553074688.0000 - val_mae: 199558.3906\n",
            "Epoch 364/1000\n",
            "60/60 [==============================] - 0s 4ms/step - loss: 108669648896.0000 - mae: 201962.3906 - val_loss: 110807941120.0000 - val_mae: 225540.9375\n",
            "Epoch 365/1000\n",
            "60/60 [==============================] - 0s 4ms/step - loss: 108298575872.0000 - mae: 202145.4375 - val_loss: 107052310528.0000 - val_mae: 197363.4062\n",
            "Epoch 366/1000\n",
            "60/60 [==============================] - 0s 3ms/step - loss: 107943165952.0000 - mae: 201239.4062 - val_loss: 108770926592.0000 - val_mae: 200081.5938\n",
            "Epoch 367/1000\n",
            "60/60 [==============================] - 0s 4ms/step - loss: 107363991552.0000 - mae: 203029.2500 - val_loss: 108340838400.0000 - val_mae: 215173.8438\n",
            "Epoch 368/1000\n",
            "60/60 [==============================] - 0s 4ms/step - loss: 108494061568.0000 - mae: 203372.2188 - val_loss: 104556429312.0000 - val_mae: 197983.0625\n",
            "Epoch 369/1000\n",
            "60/60 [==============================] - 0s 4ms/step - loss: 108642492416.0000 - mae: 203376.6719 - val_loss: 104108965888.0000 - val_mae: 194706.7500\n",
            "Epoch 370/1000\n",
            "60/60 [==============================] - 0s 4ms/step - loss: 107599478784.0000 - mae: 202555.9375 - val_loss: 140678463488.0000 - val_mae: 232372.8906\n",
            "Epoch 371/1000\n",
            "60/60 [==============================] - 0s 3ms/step - loss: 108748570624.0000 - mae: 203225.5781 - val_loss: 101538979840.0000 - val_mae: 208716.7188\n",
            "Epoch 372/1000\n",
            "60/60 [==============================] - 0s 3ms/step - loss: 108932775936.0000 - mae: 204031.1406 - val_loss: 97522130944.0000 - val_mae: 196719.1562\n",
            "Epoch 373/1000\n",
            "60/60 [==============================] - 0s 4ms/step - loss: 106397343744.0000 - mae: 201591.1875 - val_loss: 120845885440.0000 - val_mae: 204488.1250\n",
            "Epoch 374/1000\n",
            "60/60 [==============================] - 0s 4ms/step - loss: 107480580096.0000 - mae: 201479.8438 - val_loss: 107997593600.0000 - val_mae: 212458.1719\n",
            "Epoch 375/1000\n",
            "60/60 [==============================] - 0s 3ms/step - loss: 107467153408.0000 - mae: 202385.2344 - val_loss: 115345088512.0000 - val_mae: 236786.2344\n",
            "Epoch 376/1000\n",
            "60/60 [==============================] - 0s 4ms/step - loss: 107318509568.0000 - mae: 203109.1406 - val_loss: 105307389952.0000 - val_mae: 196183.4531\n",
            "Epoch 377/1000\n",
            "60/60 [==============================] - 0s 4ms/step - loss: 107930681344.0000 - mae: 200631.3281 - val_loss: 108344950784.0000 - val_mae: 204845.9062\n",
            "Epoch 378/1000\n",
            "60/60 [==============================] - 0s 3ms/step - loss: 106549895168.0000 - mae: 201883.5938 - val_loss: 115351601152.0000 - val_mae: 236216.5312\n",
            "Epoch 379/1000\n",
            "60/60 [==============================] - 0s 5ms/step - loss: 106918887424.0000 - mae: 202283.5938 - val_loss: 99494797312.0000 - val_mae: 197738.5312\n",
            "Epoch 380/1000\n",
            "60/60 [==============================] - 0s 3ms/step - loss: 107470561280.0000 - mae: 201410.4062 - val_loss: 107674771456.0000 - val_mae: 215002.3750\n",
            "Epoch 381/1000\n",
            "60/60 [==============================] - 0s 3ms/step - loss: 105858826240.0000 - mae: 200627.9688 - val_loss: 102376169472.0000 - val_mae: 195957.4375\n",
            "Epoch 382/1000\n",
            "60/60 [==============================] - 0s 4ms/step - loss: 107760402432.0000 - mae: 201331.8438 - val_loss: 103895638016.0000 - val_mae: 196773.0156\n",
            "Epoch 383/1000\n",
            "60/60 [==============================] - 0s 3ms/step - loss: 107406041088.0000 - mae: 201239.6250 - val_loss: 98544820224.0000 - val_mae: 203476.6094\n",
            "Epoch 384/1000\n",
            "60/60 [==============================] - 0s 3ms/step - loss: 106814767104.0000 - mae: 200646.1250 - val_loss: 135775027200.0000 - val_mae: 267434.9688\n",
            "Epoch 385/1000\n",
            "60/60 [==============================] - 0s 3ms/step - loss: 107348983808.0000 - mae: 202546.5156 - val_loss: 100879335424.0000 - val_mae: 205829.2344\n",
            "Epoch 386/1000\n",
            "60/60 [==============================] - 0s 4ms/step - loss: 107233763328.0000 - mae: 202015.8594 - val_loss: 98080956416.0000 - val_mae: 194075.7031\n",
            "Epoch 387/1000\n",
            "60/60 [==============================] - 0s 4ms/step - loss: 105972924416.0000 - mae: 200709.5000 - val_loss: 99364265984.0000 - val_mae: 196471.4219\n",
            "Epoch 388/1000\n",
            "60/60 [==============================] - 0s 4ms/step - loss: 107165614080.0000 - mae: 200618.3125 - val_loss: 112996327424.0000 - val_mae: 225437.5781\n",
            "Epoch 389/1000\n",
            "60/60 [==============================] - 0s 4ms/step - loss: 106587226112.0000 - mae: 201084.2812 - val_loss: 99823116288.0000 - val_mae: 194347.7188\n",
            "Epoch 390/1000\n",
            "60/60 [==============================] - 0s 3ms/step - loss: 105027887104.0000 - mae: 199919.5312 - val_loss: 98236514304.0000 - val_mae: 194820.0156\n",
            "Epoch 391/1000\n",
            "60/60 [==============================] - 0s 3ms/step - loss: 104939520000.0000 - mae: 198927.6875 - val_loss: 99125854208.0000 - val_mae: 198768.4688\n",
            "Epoch 392/1000\n",
            "60/60 [==============================] - 0s 3ms/step - loss: 106002505728.0000 - mae: 199833.9531 - val_loss: 100729495552.0000 - val_mae: 195432.1094\n",
            "Epoch 393/1000\n",
            "60/60 [==============================] - 0s 3ms/step - loss: 104070995968.0000 - mae: 200203.0781 - val_loss: 118855696384.0000 - val_mae: 205485.5312\n",
            "Epoch 394/1000\n",
            "60/60 [==============================] - 0s 3ms/step - loss: 106543611904.0000 - mae: 200527.5625 - val_loss: 131931398144.0000 - val_mae: 222083.9688\n",
            "Epoch 395/1000\n",
            "60/60 [==============================] - 0s 4ms/step - loss: 104793464832.0000 - mae: 199313.2969 - val_loss: 110278074368.0000 - val_mae: 211860.1562\n",
            "Epoch 396/1000\n",
            "60/60 [==============================] - 0s 3ms/step - loss: 104401641472.0000 - mae: 199903.1562 - val_loss: 107040366592.0000 - val_mae: 200083.0938\n",
            "Epoch 397/1000\n",
            "60/60 [==============================] - 0s 4ms/step - loss: 106317103104.0000 - mae: 199597.2031 - val_loss: 114973458432.0000 - val_mae: 203288.7344\n",
            "Epoch 398/1000\n",
            "60/60 [==============================] - 0s 3ms/step - loss: 104998141952.0000 - mae: 199776.1719 - val_loss: 98638168064.0000 - val_mae: 196814.5469\n",
            "Epoch 399/1000\n",
            "60/60 [==============================] - 0s 4ms/step - loss: 105967927296.0000 - mae: 200808.2344 - val_loss: 113497333760.0000 - val_mae: 222078.5312\n",
            "Epoch 400/1000\n",
            "60/60 [==============================] - 0s 4ms/step - loss: 104900042752.0000 - mae: 198266.7344 - val_loss: 99824189440.0000 - val_mae: 201964.7031\n",
            "Epoch 401/1000\n",
            "60/60 [==============================] - 0s 3ms/step - loss: 105450954752.0000 - mae: 199960.3750 - val_loss: 99992756224.0000 - val_mae: 193004.4844\n",
            "Epoch 402/1000\n",
            "60/60 [==============================] - 0s 4ms/step - loss: 105033744384.0000 - mae: 199894.9219 - val_loss: 109784178688.0000 - val_mae: 199786.3438\n",
            "Epoch 403/1000\n",
            "60/60 [==============================] - 0s 4ms/step - loss: 106131611648.0000 - mae: 199904.4219 - val_loss: 112800538624.0000 - val_mae: 204852.7031\n",
            "Epoch 404/1000\n",
            "60/60 [==============================] - 0s 4ms/step - loss: 105023143936.0000 - mae: 200713.7344 - val_loss: 104934580224.0000 - val_mae: 193641.5000\n",
            "Epoch 405/1000\n",
            "60/60 [==============================] - 0s 3ms/step - loss: 104839143424.0000 - mae: 198591.2969 - val_loss: 115041591296.0000 - val_mae: 233529.4531\n",
            "Epoch 406/1000\n",
            "60/60 [==============================] - 0s 4ms/step - loss: 103828357120.0000 - mae: 198804.3750 - val_loss: 106053033984.0000 - val_mae: 196966.3281\n",
            "Epoch 407/1000\n",
            "60/60 [==============================] - 0s 3ms/step - loss: 105155477504.0000 - mae: 199237.4531 - val_loss: 102128697344.0000 - val_mae: 193699.8906\n",
            "Epoch 408/1000\n",
            "60/60 [==============================] - 0s 4ms/step - loss: 103553400832.0000 - mae: 197521.8594 - val_loss: 102934781952.0000 - val_mae: 198630.0156\n",
            "Epoch 409/1000\n",
            "60/60 [==============================] - 0s 4ms/step - loss: 104643633152.0000 - mae: 198786.1406 - val_loss: 122206625792.0000 - val_mae: 210432.2344\n",
            "Epoch 410/1000\n",
            "60/60 [==============================] - 0s 4ms/step - loss: 106949959680.0000 - mae: 200552.7031 - val_loss: 102398943232.0000 - val_mae: 206845.1719\n",
            "Epoch 411/1000\n",
            "60/60 [==============================] - 0s 3ms/step - loss: 103920394240.0000 - mae: 198778.0781 - val_loss: 102203572224.0000 - val_mae: 192998.6406\n",
            "Epoch 412/1000\n",
            "60/60 [==============================] - 0s 4ms/step - loss: 105114673152.0000 - mae: 199067.7812 - val_loss: 103299907584.0000 - val_mae: 193373.2500\n",
            "Epoch 413/1000\n",
            "60/60 [==============================] - 0s 4ms/step - loss: 105198026752.0000 - mae: 198360.0781 - val_loss: 111042306048.0000 - val_mae: 203103.4844\n",
            "Epoch 414/1000\n",
            "60/60 [==============================] - 0s 4ms/step - loss: 104457158656.0000 - mae: 198704.5156 - val_loss: 100827889664.0000 - val_mae: 192630.1562\n",
            "Epoch 415/1000\n",
            "60/60 [==============================] - 0s 4ms/step - loss: 104388263936.0000 - mae: 198741.0312 - val_loss: 99155910656.0000 - val_mae: 193090.3125\n",
            "Epoch 416/1000\n",
            "60/60 [==============================] - 0s 3ms/step - loss: 103383851008.0000 - mae: 197123.8906 - val_loss: 112886030336.0000 - val_mae: 195181.7031\n",
            "Epoch 417/1000\n",
            "60/60 [==============================] - 0s 4ms/step - loss: 105502498816.0000 - mae: 198515.9531 - val_loss: 107979382784.0000 - val_mae: 195188.8281\n",
            "Epoch 418/1000\n",
            "60/60 [==============================] - 0s 4ms/step - loss: 104683724800.0000 - mae: 198476.0938 - val_loss: 97811177472.0000 - val_mae: 194722.5000\n",
            "Epoch 419/1000\n",
            "60/60 [==============================] - 0s 3ms/step - loss: 105234972672.0000 - mae: 198800.8594 - val_loss: 108144779264.0000 - val_mae: 196131.6719\n",
            "Epoch 420/1000\n",
            "60/60 [==============================] - 0s 4ms/step - loss: 102946922496.0000 - mae: 197754.8438 - val_loss: 99509911552.0000 - val_mae: 196081.3438\n",
            "Epoch 421/1000\n",
            "60/60 [==============================] - 0s 3ms/step - loss: 105173262336.0000 - mae: 198912.8594 - val_loss: 99005464576.0000 - val_mae: 204491.5781\n",
            "Epoch 422/1000\n",
            "60/60 [==============================] - 0s 4ms/step - loss: 104060231680.0000 - mae: 197378.7656 - val_loss: 118508675072.0000 - val_mae: 219518.0000\n"
          ]
        }
      ],
      "source": [
        "model = Sequential()\n",
        "model.add(Dense(40, input_shape=(X_train.shape[1],), activation='relu')) # (features,)\n",
        "model.add(Dense(20, activation='relu'))\n",
        "model.add(Dense(10, activation='relu'))\n",
        "model.add(Dense(1, activation='linear')) # output node\n",
        "model.summary() # see what your model looks like\n",
        "\n",
        "# compile the model\n",
        "model.compile(optimizer='rmsprop', loss='mse', metrics=['mae'])\n",
        "\n",
        "# early stopping callback\n",
        "es = EarlyStopping(monitor='val_loss',\n",
        "                   mode='min',\n",
        "                   patience=50,\n",
        "                   restore_best_weights = True)\n",
        "\n",
        "# fit the model!\n",
        "# attach it to a new variable called 'history' in case\n",
        "# to look at the learning curves\n",
        "history = model.fit(X_train, y_train,\n",
        "                    validation_data = (X_test, y_test),\n",
        "                    callbacks=[es],\n",
        "                    epochs=1000,\n",
        "                    batch_size=100,\n",
        "                    verbose=1)"
      ]
    },
    {
      "cell_type": "code",
      "execution_count": null,
      "metadata": {
        "id": "XgKJLtKcbMQo"
      },
      "outputs": [],
      "source": [
        "model.save(\"Model.h5\")"
      ]
    },
    {
      "cell_type": "code",
      "execution_count": 43,
      "metadata": {
        "colab": {
          "base_uri": "https://localhost:8080/",
          "height": 295
        },
        "id": "OkTikV4V50tK",
        "outputId": "32764ee8-88b5-4339-c406-a8d0380ef41a"
      },
      "outputs": [
        {
          "data": {
            "image/png": "[encoded data removed]",
            "text/plain": [
              "<Figure size 432x288 with 1 Axes>"
            ]
          },
          "metadata": {
            "needs_background": "light"
          },
          "output_type": "display_data"
        }
      ],
      "source": [
        "# let's see the training and validation accuracy by epoch\n",
        "history_dict = history.history\n",
        "loss_values = history_dict['loss'] # you can change this\n",
        "val_loss_values = history_dict['val_loss'] # you can also change this\n",
        "epochs = range(1, len(loss_values) + 1) # range of X (no. of epochs)\n",
        "plt.plot(epochs, loss_values, 'bo', label='Training loss')\n",
        "plt.plot(epochs, val_loss_values, 'orange', label='Validation loss')\n",
        "plt.title('Training and validation loss')\n",
        "plt.xlabel('Epochs')\n",
        "plt.ylabel('Loss')\n",
        "plt.legend()\n",
        "plt.show()"
      ]
    },
    {
      "cell_type": "code",
      "execution_count": 44,
      "metadata": {
        "colab": {
          "base_uri": "https://localhost:8080/",
          "height": 332
        },
        "id": "I_-jNtLK562Q",
        "outputId": "004f477e-b02f-474c-db39-64e7c7cd5ccd"
      },
      "outputs": [
        {
          "name": "stdout",
          "output_type": "stream",
          "text": [
            "186/186 [==============================] - 0s 1ms/step\n",
            "62/62 [==============================] - 0s 2ms/step\n"
          ]
        },
        {
          "data": {
            "image/png": "[encoded data removed]",
            "text/plain": [
              "<Figure size 432x288 with 2 Axes>"
            ]
          },
          "metadata": {
            "needs_background": "light"
          },
          "output_type": "display_data"
        }
      ],
      "source": [
        "# scatterplot of actual vs. pred\n",
        "# specify the dimensions \n",
        "fig, axes = plt.subplots(1,2) # 1 row, 2 columns\n",
        "\n",
        "# this makes the individual subplots\n",
        "# Training Results\n",
        "axes[0].scatter(x=y_train, y=model.predict(X_train)) #first row, first entry (left top)\n",
        "axes[0].set_xlabel(\"Actual\", fontsize=10)\n",
        "axes[0].set_ylabel(\"Predicted\",  fontsize=10)\n",
        "axes[0].set_title(\"Training\")\n",
        "# add 45 deg line\n",
        "x = np.linspace(*axes[0].get_xlim())\n",
        "axes[0].plot(x, x, color='red')\n",
        "# Validation Results\n",
        "axes[1].scatter(x=y_test, y=model.predict(X_test)) # first row, second entry (right top)\n",
        "axes[1].set_xlabel(\"Actual\", fontsize=10)\n",
        "axes[1].set_ylabel(\"Predicted\",  fontsize=10)\n",
        "axes[1].set_title(\"Validation\")\n",
        "# add 45 deg line\n",
        "x = np.linspace(*axes[1].get_xlim())\n",
        "axes[1].plot(x, x, color='red')\n",
        "\n",
        "# tight layout\n",
        "fig.tight_layout()\n",
        "\n",
        "# show the plot\n",
        "plt.show()"
      ]
    },
    {
      "cell_type": "code",
      "execution_count": 45,
      "metadata": {
        "colab": {
          "base_uri": "https://localhost:8080/"
        },
        "id": "obwyvQIZ6OAY",
        "outputId": "a9699e62-9f2d-470c-8c7f-301840c90f12"
      },
      "outputs": [
        {
          "name": "stdout",
          "output_type": "stream",
          "text": [
            "62/62 [==============================] - 0s 1ms/step\n",
            "186/186 [==============================] - 0s 2ms/step\n",
            "200217.05318189066\n",
            "196719.15896481412\n"
          ]
        }
      ],
      "source": [
        "\n",
        "# metrics\n",
        "pred = model.predict(X_test)\n",
        "pred\n",
        "\n",
        "trainpreds = model.predict(X_train)\n",
        "\n",
        "print(mean_absolute_error(y_train, trainpreds)) # train\n",
        "print(mean_absolute_error(y_test, pred)) # test"
      ]
    },
    {
      "cell_type": "code",
      "execution_count": 48,
      "metadata": {
        "colab": {
          "base_uri": "https://localhost:8080/"
        },
        "id": "wzvmojgc6Uog",
        "outputId": "3ab93f33-91bc-4c9b-e893-061aa9faccf9"
      },
      "outputs": [
        {
          "name": "stdout",
          "output_type": "stream",
          "text": [
            "Model: \"sequential_2\"\n",
            "_________________________________________________________________\n",
            " Layer (type)                Output Shape              Param #   \n",
            "=================================================================\n",
            " dense_8 (Dense)             (None, 40)                1320      \n",
            "                                                                 \n",
            " dropout_3 (Dropout)         (None, 40)                0         \n",
            "                                                                 \n",
            " dense_9 (Dense)             (None, 20)                820       \n",
            "                                                                 \n",
            " dropout_4 (Dropout)         (None, 20)                0         \n",
            "                                                                 \n",
            " dense_10 (Dense)            (None, 10)                210       \n",
            "                                                                 \n",
            " dropout_5 (Dropout)         (None, 10)                0         \n",
            "                                                                 \n",
            " dense_11 (Dense)            (None, 1)                 11        \n",
            "                                                                 \n",
            "=================================================================\n",
            "Total params: 2,361\n",
            "Trainable params: 2,361\n",
            "Non-trainable params: 0\n",
            "_________________________________________________________________\n"
          ]
        }
      ],
      "source": [
        "\n",
        "\n",
        "# Insert the dropout layer\n",
        "model = Sequential()\n",
        "model.add(Dense(40, input_shape=(X_train.shape[1],), activation='relu')) # (features,)\n",
        "model.add(Dropout(0.5)) # specify a percentage between 0 and 0.5, or larger\n",
        "model.add(Dense(20, activation='relu'))\n",
        "model.add(Dropout(0.5)) # specify a percentage between 0 and 0.5, or larger\n",
        "model.add(Dense(10, activation='relu'))\n",
        "model.add(Dropout(0.5)) # specify a percentage between 0 and 0.5, or larger\n",
        "model.add(Dense(1, activation='linear')) # output node\n",
        "model.summary() # see what your model looks like"
      ]
    },
    {
      "cell_type": "code",
      "execution_count": 47,
      "metadata": {
        "id": "R1CNtIFzIw4_"
      },
      "outputs": [],
      "source": [
        "# Test five seems to be the most accurate so far - it would seem that with our model the more information we give it the better it is at predicting the selling price."
      ]
    }
  ],
  "metadata": {
    "colab": {
      "include_colab_link": true,
      "provenance": []
    },
    "kernelspec": {
      "display_name": "base",
      "language": "python",
      "name": "python3"
    },
    "language_info": {
      "codemirror_mode": {
        "name": "ipython",
        "version": 3
      },
      "file_extension": ".py",
      "mimetype": "text/x-python",
      "name": "python",
      "nbconvert_exporter": "python",
      "pygments_lexer": "ipython3",
      "version": "3.9.12"
    },
    "vscode": {
      "interpreter": {
        "hash": "7b236e09f31850ca43e109ba58a242ff5e7612cb69f00e0b1b4cdc321a45ccb4"
      }
    }
  },
  "nbformat": 4,
  "nbformat_minor": 0
}
