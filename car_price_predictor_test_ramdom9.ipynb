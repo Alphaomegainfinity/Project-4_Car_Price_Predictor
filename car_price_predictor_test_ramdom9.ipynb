{
  "cells": [
    {
      "cell_type": "markdown",
      "metadata": {
        "id": "view-in-github",
        "colab_type": "text"
      },
      "source": [
        "<a href=\"https://colab.research.google.com/github/Alphaomegainfinity/Project-4_Car_Price_Predictor/blob/main/car_price_predictor_test_ramdom9.ipynb\" target=\"_parent\"><img src=\"https://colab.research.google.com/assets/colab-badge.svg\" alt=\"Open In Colab\"/></a>"
      ]
    },
    {
      "cell_type": "markdown",
      "metadata": {
        "id": "Aj9rl3NI71qg"
      },
      "source": [
        "## **Import and Cleaning Data**"
      ]
    },
    {
      "cell_type": "code",
      "execution_count": null,
      "metadata": {
        "id": "JZ3jhZ-odx1S",
        "outputId": "19749fe6-4fda-4ab4-857c-ccf48e72911f",
        "colab": {
          "base_uri": "https://localhost:8080/"
        }
      },
      "outputs": [
        {
          "output_type": "stream",
          "name": "stdout",
          "text": [
            "Looking in indexes: https://pypi.org/simple, https://us-python.pkg.dev/colab-wheels/public/simple/\n",
            "Requirement already satisfied: tensorflow in /usr/local/lib/python3.8/dist-packages (2.9.2)\n",
            "Requirement already satisfied: termcolor>=1.1.0 in /usr/local/lib/python3.8/dist-packages (from tensorflow) (2.2.0)\n",
            "Requirement already satisfied: setuptools in /usr/local/lib/python3.8/dist-packages (from tensorflow) (57.4.0)\n",
            "Requirement already satisfied: astunparse>=1.6.0 in /usr/local/lib/python3.8/dist-packages (from tensorflow) (1.6.3)\n",
            "Requirement already satisfied: keras-preprocessing>=1.1.1 in /usr/local/lib/python3.8/dist-packages (from tensorflow) (1.1.2)\n",
            "Requirement already satisfied: opt-einsum>=2.3.2 in /usr/local/lib/python3.8/dist-packages (from tensorflow) (3.3.0)\n",
            "Requirement already satisfied: google-pasta>=0.1.1 in /usr/local/lib/python3.8/dist-packages (from tensorflow) (0.2.0)\n",
            "Requirement already satisfied: protobuf<3.20,>=3.9.2 in /usr/local/lib/python3.8/dist-packages (from tensorflow) (3.19.6)\n",
            "Requirement already satisfied: keras<2.10.0,>=2.9.0rc0 in /usr/local/lib/python3.8/dist-packages (from tensorflow) (2.9.0)\n",
            "Requirement already satisfied: flatbuffers<2,>=1.12 in /usr/local/lib/python3.8/dist-packages (from tensorflow) (1.12)\n",
            "Requirement already satisfied: numpy>=1.20 in /usr/local/lib/python3.8/dist-packages (from tensorflow) (1.21.6)\n",
            "Requirement already satisfied: libclang>=13.0.0 in /usr/local/lib/python3.8/dist-packages (from tensorflow) (15.0.6.1)\n",
            "Requirement already satisfied: tensorboard<2.10,>=2.9 in /usr/local/lib/python3.8/dist-packages (from tensorflow) (2.9.1)\n",
            "Requirement already satisfied: h5py>=2.9.0 in /usr/local/lib/python3.8/dist-packages (from tensorflow) (3.1.0)\n",
            "Requirement already satisfied: six>=1.12.0 in /usr/local/lib/python3.8/dist-packages (from tensorflow) (1.15.0)\n",
            "Requirement already satisfied: packaging in /usr/local/lib/python3.8/dist-packages (from tensorflow) (21.3)\n",
            "Requirement already satisfied: gast<=0.4.0,>=0.2.1 in /usr/local/lib/python3.8/dist-packages (from tensorflow) (0.4.0)\n",
            "Requirement already satisfied: typing-extensions>=3.6.6 in /usr/local/lib/python3.8/dist-packages (from tensorflow) (4.4.0)\n",
            "Requirement already satisfied: tensorflow-io-gcs-filesystem>=0.23.1 in /usr/local/lib/python3.8/dist-packages (from tensorflow) (0.29.0)\n",
            "Requirement already satisfied: tensorflow-estimator<2.10.0,>=2.9.0rc0 in /usr/local/lib/python3.8/dist-packages (from tensorflow) (2.9.0)\n",
            "Requirement already satisfied: wrapt>=1.11.0 in /usr/local/lib/python3.8/dist-packages (from tensorflow) (1.14.1)\n",
            "Requirement already satisfied: absl-py>=1.0.0 in /usr/local/lib/python3.8/dist-packages (from tensorflow) (1.3.0)\n",
            "Requirement already satisfied: grpcio<2.0,>=1.24.3 in /usr/local/lib/python3.8/dist-packages (from tensorflow) (1.51.1)\n",
            "Requirement already satisfied: wheel<1.0,>=0.23.0 in /usr/local/lib/python3.8/dist-packages (from astunparse>=1.6.0->tensorflow) (0.38.4)\n",
            "Requirement already satisfied: tensorboard-data-server<0.7.0,>=0.6.0 in /usr/local/lib/python3.8/dist-packages (from tensorboard<2.10,>=2.9->tensorflow) (0.6.1)\n",
            "Requirement already satisfied: tensorboard-plugin-wit>=1.6.0 in /usr/local/lib/python3.8/dist-packages (from tensorboard<2.10,>=2.9->tensorflow) (1.8.1)\n",
            "Requirement already satisfied: google-auth<3,>=1.6.3 in /usr/local/lib/python3.8/dist-packages (from tensorboard<2.10,>=2.9->tensorflow) (2.16.0)\n",
            "Requirement already satisfied: requests<3,>=2.21.0 in /usr/local/lib/python3.8/dist-packages (from tensorboard<2.10,>=2.9->tensorflow) (2.25.1)\n",
            "Requirement already satisfied: werkzeug>=1.0.1 in /usr/local/lib/python3.8/dist-packages (from tensorboard<2.10,>=2.9->tensorflow) (1.0.1)\n",
            "Requirement already satisfied: google-auth-oauthlib<0.5,>=0.4.1 in /usr/local/lib/python3.8/dist-packages (from tensorboard<2.10,>=2.9->tensorflow) (0.4.6)\n",
            "Requirement already satisfied: markdown>=2.6.8 in /usr/local/lib/python3.8/dist-packages (from tensorboard<2.10,>=2.9->tensorflow) (3.4.1)\n",
            "Requirement already satisfied: pyparsing!=3.0.5,>=2.0.2 in /usr/local/lib/python3.8/dist-packages (from packaging->tensorflow) (3.0.9)\n",
            "Requirement already satisfied: cachetools<6.0,>=2.0.0 in /usr/local/lib/python3.8/dist-packages (from google-auth<3,>=1.6.3->tensorboard<2.10,>=2.9->tensorflow) (5.2.1)\n",
            "Requirement already satisfied: rsa<5,>=3.1.4 in /usr/local/lib/python3.8/dist-packages (from google-auth<3,>=1.6.3->tensorboard<2.10,>=2.9->tensorflow) (4.9)\n",
            "Requirement already satisfied: pyasn1-modules>=0.2.1 in /usr/local/lib/python3.8/dist-packages (from google-auth<3,>=1.6.3->tensorboard<2.10,>=2.9->tensorflow) (0.2.8)\n",
            "Requirement already satisfied: requests-oauthlib>=0.7.0 in /usr/local/lib/python3.8/dist-packages (from google-auth-oauthlib<0.5,>=0.4.1->tensorboard<2.10,>=2.9->tensorflow) (1.3.1)\n",
            "Requirement already satisfied: importlib-metadata>=4.4 in /usr/local/lib/python3.8/dist-packages (from markdown>=2.6.8->tensorboard<2.10,>=2.9->tensorflow) (6.0.0)\n",
            "Requirement already satisfied: certifi>=2017.4.17 in /usr/local/lib/python3.8/dist-packages (from requests<3,>=2.21.0->tensorboard<2.10,>=2.9->tensorflow) (2022.12.7)\n",
            "Requirement already satisfied: idna<3,>=2.5 in /usr/local/lib/python3.8/dist-packages (from requests<3,>=2.21.0->tensorboard<2.10,>=2.9->tensorflow) (2.10)\n",
            "Requirement already satisfied: chardet<5,>=3.0.2 in /usr/local/lib/python3.8/dist-packages (from requests<3,>=2.21.0->tensorboard<2.10,>=2.9->tensorflow) (4.0.0)\n",
            "Requirement already satisfied: urllib3<1.27,>=1.21.1 in /usr/local/lib/python3.8/dist-packages (from requests<3,>=2.21.0->tensorboard<2.10,>=2.9->tensorflow) (1.24.3)\n",
            "Requirement already satisfied: zipp>=0.5 in /usr/local/lib/python3.8/dist-packages (from importlib-metadata>=4.4->markdown>=2.6.8->tensorboard<2.10,>=2.9->tensorflow) (3.11.0)\n",
            "Requirement already satisfied: pyasn1<0.5.0,>=0.4.6 in /usr/local/lib/python3.8/dist-packages (from pyasn1-modules>=0.2.1->google-auth<3,>=1.6.3->tensorboard<2.10,>=2.9->tensorflow) (0.4.8)\n",
            "Requirement already satisfied: oauthlib>=3.0.0 in /usr/local/lib/python3.8/dist-packages (from requests-oauthlib>=0.7.0->google-auth-oauthlib<0.5,>=0.4.1->tensorboard<2.10,>=2.9->tensorflow) (3.2.2)\n"
          ]
        }
      ],
      "source": [
        "!pip install tensorflow"
      ]
    },
    {
      "cell_type": "code",
      "execution_count": null,
      "metadata": {
        "id": "HeftUoZhK0XH"
      },
      "outputs": [],
      "source": [
        "# Import our dependencies\n",
        "from sklearn.model_selection import train_test_split\n",
        "from sklearn.preprocessing import StandardScaler\n",
        "from sklearn.metrics import accuracy_score\n",
        "from sklearn.ensemble import ExtraTreesClassifier\n",
        "import matplotlib.pyplot as plt\n",
        "import sklearn as skl\n",
        "import pandas as pd\n",
        "import tensorflow as tf\n",
        "import json\n",
        "import seaborn as sns\n",
        "import matplotlib.pyplot as plt\n",
        "\n",
        "# Data preprocessing\n",
        "from sklearn.linear_model import LinearRegression\n",
        "from sklearn.neighbors import KNeighborsRegressor\n",
        "from sklearn.ensemble import RandomForestRegressor, ExtraTreesRegressor, AdaBoostRegressor\n",
        "from sklearn.svm import SVR\n",
        "\n",
        "from sklearn.metrics import mean_absolute_error\n",
        "\n",
        "from sklearn.preprocessing import MinMaxScaler\n",
        "\n",
        "# Neural Net modules\n",
        "from keras.models import Sequential\n",
        "from keras.layers import Dense, Dropout\n",
        "from keras.callbacks import EarlyStopping\n",
        "import numpy as np"
      ]
    },
    {
      "cell_type": "code",
      "execution_count": null,
      "metadata": {
        "colab": {
          "base_uri": "https://localhost:8080/",
          "height": 206
        },
        "id": "x9z2xRo50UpY",
        "outputId": "73aca762-22a5-4822-d25f-ffae4bc53e72"
      },
      "outputs": [
        {
          "output_type": "execute_result",
          "data": {
            "text/plain": [
              "                           name  year  selling_price  km_driven    fuel  \\\n",
              "0        Maruti Swift Dzire VDI  2014         450000     145500  Diesel   \n",
              "1  Skoda Rapid 1.5 TDI Ambition  2014         370000     120000  Diesel   \n",
              "2      Honda City 2017-2020 EXi  2006         158000     140000  Petrol   \n",
              "3     Hyundai i20 Sportz Diesel  2010         225000     127000  Diesel   \n",
              "4        Maruti Swift VXI BSIII  2007         130000     120000  Petrol   \n",
              "\n",
              "  seller_type transmission         owner     mileage   engine   max_power  \\\n",
              "0  Individual       Manual   First Owner   23.4 kmpl  1248 CC      74 bhp   \n",
              "1  Individual       Manual  Second Owner  21.14 kmpl  1498 CC  103.52 bhp   \n",
              "2  Individual       Manual   Third Owner   17.7 kmpl  1497 CC      78 bhp   \n",
              "3  Individual       Manual   First Owner   23.0 kmpl  1396 CC      90 bhp   \n",
              "4  Individual       Manual   First Owner   16.1 kmpl  1298 CC    88.2 bhp   \n",
              "\n",
              "                     torque  seats  \n",
              "0            190Nm@ 2000rpm    5.0  \n",
              "1       250Nm@ 1500-2500rpm    5.0  \n",
              "2     12.7@ 2,700(kgm@ rpm)    5.0  \n",
              "3  22.4 kgm at 1750-2750rpm    5.0  \n",
              "4     11.5@ 4,500(kgm@ rpm)    5.0  "
            ],
            "text/html": [
              "\n",
              "  <div id=\"df-9fe5d006-5aa7-47f4-9265-3a9fc2685941\">\n",
              "    <div class=\"colab-df-container\">\n",
              "      <div>\n",
              "<style scoped>\n",
              "    .dataframe tbody tr th:only-of-type {\n",
              "        vertical-align: middle;\n",
              "    }\n",
              "\n",
              "    .dataframe tbody tr th {\n",
              "        vertical-align: top;\n",
              "    }\n",
              "\n",
              "    .dataframe thead th {\n",
              "        text-align: right;\n",
              "    }\n",
              "</style>\n",
              "<table border=\"1\" class=\"dataframe\">\n",
              "  <thead>\n",
              "    <tr style=\"text-align: right;\">\n",
              "      <th></th>\n",
              "      <th>name</th>\n",
              "      <th>year</th>\n",
              "      <th>selling_price</th>\n",
              "      <th>km_driven</th>\n",
              "      <th>fuel</th>\n",
              "      <th>seller_type</th>\n",
              "      <th>transmission</th>\n",
              "      <th>owner</th>\n",
              "      <th>mileage</th>\n",
              "      <th>engine</th>\n",
              "      <th>max_power</th>\n",
              "      <th>torque</th>\n",
              "      <th>seats</th>\n",
              "    </tr>\n",
              "  </thead>\n",
              "  <tbody>\n",
              "    <tr>\n",
              "      <th>0</th>\n",
              "      <td>Maruti Swift Dzire VDI</td>\n",
              "      <td>2014</td>\n",
              "      <td>450000</td>\n",
              "      <td>145500</td>\n",
              "      <td>Diesel</td>\n",
              "      <td>Individual</td>\n",
              "      <td>Manual</td>\n",
              "      <td>First Owner</td>\n",
              "      <td>23.4 kmpl</td>\n",
              "      <td>1248 CC</td>\n",
              "      <td>74 bhp</td>\n",
              "      <td>190Nm@ 2000rpm</td>\n",
              "      <td>5.0</td>\n",
              "    </tr>\n",
              "    <tr>\n",
              "      <th>1</th>\n",
              "      <td>Skoda Rapid 1.5 TDI Ambition</td>\n",
              "      <td>2014</td>\n",
              "      <td>370000</td>\n",
              "      <td>120000</td>\n",
              "      <td>Diesel</td>\n",
              "      <td>Individual</td>\n",
              "      <td>Manual</td>\n",
              "      <td>Second Owner</td>\n",
              "      <td>21.14 kmpl</td>\n",
              "      <td>1498 CC</td>\n",
              "      <td>103.52 bhp</td>\n",
              "      <td>250Nm@ 1500-2500rpm</td>\n",
              "      <td>5.0</td>\n",
              "    </tr>\n",
              "    <tr>\n",
              "      <th>2</th>\n",
              "      <td>Honda City 2017-2020 EXi</td>\n",
              "      <td>2006</td>\n",
              "      <td>158000</td>\n",
              "      <td>140000</td>\n",
              "      <td>Petrol</td>\n",
              "      <td>Individual</td>\n",
              "      <td>Manual</td>\n",
              "      <td>Third Owner</td>\n",
              "      <td>17.7 kmpl</td>\n",
              "      <td>1497 CC</td>\n",
              "      <td>78 bhp</td>\n",
              "      <td>12.7@ 2,700(kgm@ rpm)</td>\n",
              "      <td>5.0</td>\n",
              "    </tr>\n",
              "    <tr>\n",
              "      <th>3</th>\n",
              "      <td>Hyundai i20 Sportz Diesel</td>\n",
              "      <td>2010</td>\n",
              "      <td>225000</td>\n",
              "      <td>127000</td>\n",
              "      <td>Diesel</td>\n",
              "      <td>Individual</td>\n",
              "      <td>Manual</td>\n",
              "      <td>First Owner</td>\n",
              "      <td>23.0 kmpl</td>\n",
              "      <td>1396 CC</td>\n",
              "      <td>90 bhp</td>\n",
              "      <td>22.4 kgm at 1750-2750rpm</td>\n",
              "      <td>5.0</td>\n",
              "    </tr>\n",
              "    <tr>\n",
              "      <th>4</th>\n",
              "      <td>Maruti Swift VXI BSIII</td>\n",
              "      <td>2007</td>\n",
              "      <td>130000</td>\n",
              "      <td>120000</td>\n",
              "      <td>Petrol</td>\n",
              "      <td>Individual</td>\n",
              "      <td>Manual</td>\n",
              "      <td>First Owner</td>\n",
              "      <td>16.1 kmpl</td>\n",
              "      <td>1298 CC</td>\n",
              "      <td>88.2 bhp</td>\n",
              "      <td>11.5@ 4,500(kgm@ rpm)</td>\n",
              "      <td>5.0</td>\n",
              "    </tr>\n",
              "  </tbody>\n",
              "</table>\n",
              "</div>\n",
              "      <button class=\"colab-df-convert\" onclick=\"convertToInteractive('df-9fe5d006-5aa7-47f4-9265-3a9fc2685941')\"\n",
              "              title=\"Convert this dataframe to an interactive table.\"\n",
              "              style=\"display:none;\">\n",
              "        \n",
              "  <svg xmlns=\"http://www.w3.org/2000/svg\" height=\"24px\"viewBox=\"0 0 24 24\"\n",
              "       width=\"24px\">\n",
              "    <path d=\"M0 0h24v24H0V0z\" fill=\"none\"/>\n",
              "    <path d=\"M18.56 5.44l.94 2.06.94-2.06 2.06-.94-2.06-.94-.94-2.06-.94 2.06-2.06.94zm-11 1L8.5 8.5l.94-2.06 2.06-.94-2.06-.94L8.5 2.5l-.94 2.06-2.06.94zm10 10l.94 2.06.94-2.06 2.06-.94-2.06-.94-.94-2.06-.94 2.06-2.06.94z\"/><path d=\"M17.41 7.96l-1.37-1.37c-.4-.4-.92-.59-1.43-.59-.52 0-1.04.2-1.43.59L10.3 9.45l-7.72 7.72c-.78.78-.78 2.05 0 2.83L4 21.41c.39.39.9.59 1.41.59.51 0 1.02-.2 1.41-.59l7.78-7.78 2.81-2.81c.8-.78.8-2.07 0-2.86zM5.41 20L4 18.59l7.72-7.72 1.47 1.35L5.41 20z\"/>\n",
              "  </svg>\n",
              "      </button>\n",
              "      \n",
              "  <style>\n",
              "    .colab-df-container {\n",
              "      display:flex;\n",
              "      flex-wrap:wrap;\n",
              "      gap: 12px;\n",
              "    }\n",
              "\n",
              "    .colab-df-convert {\n",
              "      background-color: #E8F0FE;\n",
              "      border: none;\n",
              "      border-radius: 50%;\n",
              "      cursor: pointer;\n",
              "      display: none;\n",
              "      fill: #1967D2;\n",
              "      height: 32px;\n",
              "      padding: 0 0 0 0;\n",
              "      width: 32px;\n",
              "    }\n",
              "\n",
              "    .colab-df-convert:hover {\n",
              "      background-color: #E2EBFA;\n",
              "      box-shadow: 0px 1px 2px rgba(60, 64, 67, 0.3), 0px 1px 3px 1px rgba(60, 64, 67, 0.15);\n",
              "      fill: #174EA6;\n",
              "    }\n",
              "\n",
              "    [theme=dark] .colab-df-convert {\n",
              "      background-color: #3B4455;\n",
              "      fill: #D2E3FC;\n",
              "    }\n",
              "\n",
              "    [theme=dark] .colab-df-convert:hover {\n",
              "      background-color: #434B5C;\n",
              "      box-shadow: 0px 1px 3px 1px rgba(0, 0, 0, 0.15);\n",
              "      filter: drop-shadow(0px 1px 2px rgba(0, 0, 0, 0.3));\n",
              "      fill: #FFFFFF;\n",
              "    }\n",
              "  </style>\n",
              "\n",
              "      <script>\n",
              "        const buttonEl =\n",
              "          document.querySelector('#df-9fe5d006-5aa7-47f4-9265-3a9fc2685941 button.colab-df-convert');\n",
              "        buttonEl.style.display =\n",
              "          google.colab.kernel.accessAllowed ? 'block' : 'none';\n",
              "\n",
              "        async function convertToInteractive(key) {\n",
              "          const element = document.querySelector('#df-9fe5d006-5aa7-47f4-9265-3a9fc2685941');\n",
              "          const dataTable =\n",
              "            await google.colab.kernel.invokeFunction('convertToInteractive',\n",
              "                                                     [key], {});\n",
              "          if (!dataTable) return;\n",
              "\n",
              "          const docLinkHtml = 'Like what you see? Visit the ' +\n",
              "            '<a target=\"_blank\" href=https://colab.research.google.com/notebooks/data_table.ipynb>data table notebook</a>'\n",
              "            + ' to learn more about interactive tables.';\n",
              "          element.innerHTML = '';\n",
              "          dataTable['output_type'] = 'display_data';\n",
              "          await google.colab.output.renderOutput(dataTable, element);\n",
              "          const docLink = document.createElement('div');\n",
              "          docLink.innerHTML = docLinkHtml;\n",
              "          element.appendChild(docLink);\n",
              "        }\n",
              "      </script>\n",
              "    </div>\n",
              "  </div>\n",
              "  "
            ]
          },
          "metadata": {},
          "execution_count": 3
        }
      ],
      "source": [
        "# Import our input dataset\n",
        "car_df = pd.read_csv('https://raw.githubusercontent.com/Alphaomegainfinity/Project-4_Car_Price_Predictor/main/Resources/Car%20details%20v3.csv')\n",
        "car_df.head()\n",
        "\n"
      ]
    },
    {
      "cell_type": "code",
      "execution_count": null,
      "metadata": {
        "colab": {
          "base_uri": "https://localhost:8080/"
        },
        "id": "jQ2u5HIO2LPT",
        "outputId": "18023275-1a06-470a-ca4c-5615c1beddae"
      },
      "outputs": [
        {
          "output_type": "execute_result",
          "data": {
            "text/plain": [
              "(8128, 13)"
            ]
          },
          "metadata": {},
          "execution_count": 4
        }
      ],
      "source": [
        "# Check shape of dataframe\n",
        "car_df.shape"
      ]
    },
    {
      "cell_type": "code",
      "execution_count": null,
      "metadata": {
        "colab": {
          "base_uri": "https://localhost:8080/"
        },
        "id": "fkdxUe413hBK",
        "outputId": "0912b1fb-681e-43fd-ac8d-3073acefce8b"
      },
      "outputs": [
        {
          "output_type": "stream",
          "name": "stdout",
          "text": [
            "<class 'pandas.core.frame.DataFrame'>\n",
            "RangeIndex: 8128 entries, 0 to 8127\n",
            "Data columns (total 13 columns):\n",
            " #   Column         Non-Null Count  Dtype  \n",
            "---  ------         --------------  -----  \n",
            " 0   name           8128 non-null   object \n",
            " 1   year           8128 non-null   int64  \n",
            " 2   selling_price  8128 non-null   int64  \n",
            " 3   km_driven      8128 non-null   int64  \n",
            " 4   fuel           8128 non-null   object \n",
            " 5   seller_type    8128 non-null   object \n",
            " 6   transmission   8128 non-null   object \n",
            " 7   owner          8128 non-null   object \n",
            " 8   mileage        7907 non-null   object \n",
            " 9   engine         7907 non-null   object \n",
            " 10  max_power      7913 non-null   object \n",
            " 11  torque         7906 non-null   object \n",
            " 12  seats          7907 non-null   float64\n",
            "dtypes: float64(1), int64(3), object(9)\n",
            "memory usage: 825.6+ KB\n"
          ]
        }
      ],
      "source": [
        "# Check info of dataframe\n",
        "car_df.info()"
      ]
    },
    {
      "cell_type": "code",
      "execution_count": null,
      "metadata": {
        "id": "8_4QH7MX3-16",
        "outputId": "ba5f58d2-2b68-4bb0-9778-bee15f8f355d",
        "colab": {
          "base_uri": "https://localhost:8080/",
          "height": 423
        }
      },
      "outputs": [
        {
          "output_type": "execute_result",
          "data": {
            "text/plain": [
              "      year  selling_price  km_driven    fuel seller_type transmission  \\\n",
              "0     2014         450000     145500  Diesel  Individual       Manual   \n",
              "1     2014         370000     120000  Diesel  Individual       Manual   \n",
              "2     2006         158000     140000  Petrol  Individual       Manual   \n",
              "3     2010         225000     127000  Diesel  Individual       Manual   \n",
              "4     2007         130000     120000  Petrol  Individual       Manual   \n",
              "...    ...            ...        ...     ...         ...          ...   \n",
              "8123  2013         320000     110000  Petrol  Individual       Manual   \n",
              "8124  2007         135000     119000  Diesel  Individual       Manual   \n",
              "8125  2009         382000     120000  Diesel  Individual       Manual   \n",
              "8126  2013         290000      25000  Diesel  Individual       Manual   \n",
              "8127  2013         290000      25000  Diesel  Individual       Manual   \n",
              "\n",
              "                     owner     mileage   engine   max_power  seats  \n",
              "0              First Owner   23.4 kmpl  1248 CC      74 bhp    5.0  \n",
              "1             Second Owner  21.14 kmpl  1498 CC  103.52 bhp    5.0  \n",
              "2              Third Owner   17.7 kmpl  1497 CC      78 bhp    5.0  \n",
              "3              First Owner   23.0 kmpl  1396 CC      90 bhp    5.0  \n",
              "4              First Owner   16.1 kmpl  1298 CC    88.2 bhp    5.0  \n",
              "...                    ...         ...      ...         ...    ...  \n",
              "8123           First Owner   18.5 kmpl  1197 CC   82.85 bhp    5.0  \n",
              "8124  Fourth & Above Owner   16.8 kmpl  1493 CC     110 bhp    5.0  \n",
              "8125           First Owner   19.3 kmpl  1248 CC    73.9 bhp    5.0  \n",
              "8126           First Owner  23.57 kmpl  1396 CC      70 bhp    5.0  \n",
              "8127           First Owner  23.57 kmpl  1396 CC      70 bhp    5.0  \n",
              "\n",
              "[8128 rows x 11 columns]"
            ],
            "text/html": [
              "\n",
              "  <div id=\"df-1365419e-6ba0-4908-a6e3-e5cc6d4c45d1\">\n",
              "    <div class=\"colab-df-container\">\n",
              "      <div>\n",
              "<style scoped>\n",
              "    .dataframe tbody tr th:only-of-type {\n",
              "        vertical-align: middle;\n",
              "    }\n",
              "\n",
              "    .dataframe tbody tr th {\n",
              "        vertical-align: top;\n",
              "    }\n",
              "\n",
              "    .dataframe thead th {\n",
              "        text-align: right;\n",
              "    }\n",
              "</style>\n",
              "<table border=\"1\" class=\"dataframe\">\n",
              "  <thead>\n",
              "    <tr style=\"text-align: right;\">\n",
              "      <th></th>\n",
              "      <th>year</th>\n",
              "      <th>selling_price</th>\n",
              "      <th>km_driven</th>\n",
              "      <th>fuel</th>\n",
              "      <th>seller_type</th>\n",
              "      <th>transmission</th>\n",
              "      <th>owner</th>\n",
              "      <th>mileage</th>\n",
              "      <th>engine</th>\n",
              "      <th>max_power</th>\n",
              "      <th>seats</th>\n",
              "    </tr>\n",
              "  </thead>\n",
              "  <tbody>\n",
              "    <tr>\n",
              "      <th>0</th>\n",
              "      <td>2014</td>\n",
              "      <td>450000</td>\n",
              "      <td>145500</td>\n",
              "      <td>Diesel</td>\n",
              "      <td>Individual</td>\n",
              "      <td>Manual</td>\n",
              "      <td>First Owner</td>\n",
              "      <td>23.4 kmpl</td>\n",
              "      <td>1248 CC</td>\n",
              "      <td>74 bhp</td>\n",
              "      <td>5.0</td>\n",
              "    </tr>\n",
              "    <tr>\n",
              "      <th>1</th>\n",
              "      <td>2014</td>\n",
              "      <td>370000</td>\n",
              "      <td>120000</td>\n",
              "      <td>Diesel</td>\n",
              "      <td>Individual</td>\n",
              "      <td>Manual</td>\n",
              "      <td>Second Owner</td>\n",
              "      <td>21.14 kmpl</td>\n",
              "      <td>1498 CC</td>\n",
              "      <td>103.52 bhp</td>\n",
              "      <td>5.0</td>\n",
              "    </tr>\n",
              "    <tr>\n",
              "      <th>2</th>\n",
              "      <td>2006</td>\n",
              "      <td>158000</td>\n",
              "      <td>140000</td>\n",
              "      <td>Petrol</td>\n",
              "      <td>Individual</td>\n",
              "      <td>Manual</td>\n",
              "      <td>Third Owner</td>\n",
              "      <td>17.7 kmpl</td>\n",
              "      <td>1497 CC</td>\n",
              "      <td>78 bhp</td>\n",
              "      <td>5.0</td>\n",
              "    </tr>\n",
              "    <tr>\n",
              "      <th>3</th>\n",
              "      <td>2010</td>\n",
              "      <td>225000</td>\n",
              "      <td>127000</td>\n",
              "      <td>Diesel</td>\n",
              "      <td>Individual</td>\n",
              "      <td>Manual</td>\n",
              "      <td>First Owner</td>\n",
              "      <td>23.0 kmpl</td>\n",
              "      <td>1396 CC</td>\n",
              "      <td>90 bhp</td>\n",
              "      <td>5.0</td>\n",
              "    </tr>\n",
              "    <tr>\n",
              "      <th>4</th>\n",
              "      <td>2007</td>\n",
              "      <td>130000</td>\n",
              "      <td>120000</td>\n",
              "      <td>Petrol</td>\n",
              "      <td>Individual</td>\n",
              "      <td>Manual</td>\n",
              "      <td>First Owner</td>\n",
              "      <td>16.1 kmpl</td>\n",
              "      <td>1298 CC</td>\n",
              "      <td>88.2 bhp</td>\n",
              "      <td>5.0</td>\n",
              "    </tr>\n",
              "    <tr>\n",
              "      <th>...</th>\n",
              "      <td>...</td>\n",
              "      <td>...</td>\n",
              "      <td>...</td>\n",
              "      <td>...</td>\n",
              "      <td>...</td>\n",
              "      <td>...</td>\n",
              "      <td>...</td>\n",
              "      <td>...</td>\n",
              "      <td>...</td>\n",
              "      <td>...</td>\n",
              "      <td>...</td>\n",
              "    </tr>\n",
              "    <tr>\n",
              "      <th>8123</th>\n",
              "      <td>2013</td>\n",
              "      <td>320000</td>\n",
              "      <td>110000</td>\n",
              "      <td>Petrol</td>\n",
              "      <td>Individual</td>\n",
              "      <td>Manual</td>\n",
              "      <td>First Owner</td>\n",
              "      <td>18.5 kmpl</td>\n",
              "      <td>1197 CC</td>\n",
              "      <td>82.85 bhp</td>\n",
              "      <td>5.0</td>\n",
              "    </tr>\n",
              "    <tr>\n",
              "      <th>8124</th>\n",
              "      <td>2007</td>\n",
              "      <td>135000</td>\n",
              "      <td>119000</td>\n",
              "      <td>Diesel</td>\n",
              "      <td>Individual</td>\n",
              "      <td>Manual</td>\n",
              "      <td>Fourth &amp; Above Owner</td>\n",
              "      <td>16.8 kmpl</td>\n",
              "      <td>1493 CC</td>\n",
              "      <td>110 bhp</td>\n",
              "      <td>5.0</td>\n",
              "    </tr>\n",
              "    <tr>\n",
              "      <th>8125</th>\n",
              "      <td>2009</td>\n",
              "      <td>382000</td>\n",
              "      <td>120000</td>\n",
              "      <td>Diesel</td>\n",
              "      <td>Individual</td>\n",
              "      <td>Manual</td>\n",
              "      <td>First Owner</td>\n",
              "      <td>19.3 kmpl</td>\n",
              "      <td>1248 CC</td>\n",
              "      <td>73.9 bhp</td>\n",
              "      <td>5.0</td>\n",
              "    </tr>\n",
              "    <tr>\n",
              "      <th>8126</th>\n",
              "      <td>2013</td>\n",
              "      <td>290000</td>\n",
              "      <td>25000</td>\n",
              "      <td>Diesel</td>\n",
              "      <td>Individual</td>\n",
              "      <td>Manual</td>\n",
              "      <td>First Owner</td>\n",
              "      <td>23.57 kmpl</td>\n",
              "      <td>1396 CC</td>\n",
              "      <td>70 bhp</td>\n",
              "      <td>5.0</td>\n",
              "    </tr>\n",
              "    <tr>\n",
              "      <th>8127</th>\n",
              "      <td>2013</td>\n",
              "      <td>290000</td>\n",
              "      <td>25000</td>\n",
              "      <td>Diesel</td>\n",
              "      <td>Individual</td>\n",
              "      <td>Manual</td>\n",
              "      <td>First Owner</td>\n",
              "      <td>23.57 kmpl</td>\n",
              "      <td>1396 CC</td>\n",
              "      <td>70 bhp</td>\n",
              "      <td>5.0</td>\n",
              "    </tr>\n",
              "  </tbody>\n",
              "</table>\n",
              "<p>8128 rows × 11 columns</p>\n",
              "</div>\n",
              "      <button class=\"colab-df-convert\" onclick=\"convertToInteractive('df-1365419e-6ba0-4908-a6e3-e5cc6d4c45d1')\"\n",
              "              title=\"Convert this dataframe to an interactive table.\"\n",
              "              style=\"display:none;\">\n",
              "        \n",
              "  <svg xmlns=\"http://www.w3.org/2000/svg\" height=\"24px\"viewBox=\"0 0 24 24\"\n",
              "       width=\"24px\">\n",
              "    <path d=\"M0 0h24v24H0V0z\" fill=\"none\"/>\n",
              "    <path d=\"M18.56 5.44l.94 2.06.94-2.06 2.06-.94-2.06-.94-.94-2.06-.94 2.06-2.06.94zm-11 1L8.5 8.5l.94-2.06 2.06-.94-2.06-.94L8.5 2.5l-.94 2.06-2.06.94zm10 10l.94 2.06.94-2.06 2.06-.94-2.06-.94-.94-2.06-.94 2.06-2.06.94z\"/><path d=\"M17.41 7.96l-1.37-1.37c-.4-.4-.92-.59-1.43-.59-.52 0-1.04.2-1.43.59L10.3 9.45l-7.72 7.72c-.78.78-.78 2.05 0 2.83L4 21.41c.39.39.9.59 1.41.59.51 0 1.02-.2 1.41-.59l7.78-7.78 2.81-2.81c.8-.78.8-2.07 0-2.86zM5.41 20L4 18.59l7.72-7.72 1.47 1.35L5.41 20z\"/>\n",
              "  </svg>\n",
              "      </button>\n",
              "      \n",
              "  <style>\n",
              "    .colab-df-container {\n",
              "      display:flex;\n",
              "      flex-wrap:wrap;\n",
              "      gap: 12px;\n",
              "    }\n",
              "\n",
              "    .colab-df-convert {\n",
              "      background-color: #E8F0FE;\n",
              "      border: none;\n",
              "      border-radius: 50%;\n",
              "      cursor: pointer;\n",
              "      display: none;\n",
              "      fill: #1967D2;\n",
              "      height: 32px;\n",
              "      padding: 0 0 0 0;\n",
              "      width: 32px;\n",
              "    }\n",
              "\n",
              "    .colab-df-convert:hover {\n",
              "      background-color: #E2EBFA;\n",
              "      box-shadow: 0px 1px 2px rgba(60, 64, 67, 0.3), 0px 1px 3px 1px rgba(60, 64, 67, 0.15);\n",
              "      fill: #174EA6;\n",
              "    }\n",
              "\n",
              "    [theme=dark] .colab-df-convert {\n",
              "      background-color: #3B4455;\n",
              "      fill: #D2E3FC;\n",
              "    }\n",
              "\n",
              "    [theme=dark] .colab-df-convert:hover {\n",
              "      background-color: #434B5C;\n",
              "      box-shadow: 0px 1px 3px 1px rgba(0, 0, 0, 0.15);\n",
              "      filter: drop-shadow(0px 1px 2px rgba(0, 0, 0, 0.3));\n",
              "      fill: #FFFFFF;\n",
              "    }\n",
              "  </style>\n",
              "\n",
              "      <script>\n",
              "        const buttonEl =\n",
              "          document.querySelector('#df-1365419e-6ba0-4908-a6e3-e5cc6d4c45d1 button.colab-df-convert');\n",
              "        buttonEl.style.display =\n",
              "          google.colab.kernel.accessAllowed ? 'block' : 'none';\n",
              "\n",
              "        async function convertToInteractive(key) {\n",
              "          const element = document.querySelector('#df-1365419e-6ba0-4908-a6e3-e5cc6d4c45d1');\n",
              "          const dataTable =\n",
              "            await google.colab.kernel.invokeFunction('convertToInteractive',\n",
              "                                                     [key], {});\n",
              "          if (!dataTable) return;\n",
              "\n",
              "          const docLinkHtml = 'Like what you see? Visit the ' +\n",
              "            '<a target=\"_blank\" href=https://colab.research.google.com/notebooks/data_table.ipynb>data table notebook</a>'\n",
              "            + ' to learn more about interactive tables.';\n",
              "          element.innerHTML = '';\n",
              "          dataTable['output_type'] = 'display_data';\n",
              "          await google.colab.output.renderOutput(dataTable, element);\n",
              "          const docLink = document.createElement('div');\n",
              "          docLink.innerHTML = docLinkHtml;\n",
              "          element.appendChild(docLink);\n",
              "        }\n",
              "      </script>\n",
              "    </div>\n",
              "  </div>\n",
              "  "
            ]
          },
          "metadata": {},
          "execution_count": 6
        }
      ],
      "source": [
        "# Drop unwanted columns \n",
        "car_df.drop(['name', 'torque'], axis=1, inplace=True)\n",
        "car_df"
      ]
    },
    {
      "cell_type": "code",
      "execution_count": null,
      "metadata": {
        "id": "ilQPipxV_Ewp"
      },
      "outputs": [],
      "source": [
        "# cleaning engine column\n",
        "\n",
        "car_df['engine'] = car_df['engine'].str.rsplit(' ', n=1).str.get(0)\n",
        "car_df.rename(columns={'engine':'engine(CC)'}, inplace=True)\n",
        "car_df['engine(CC)'] = car_df['engine(CC)'].astype(float)"
      ]
    },
    {
      "cell_type": "code",
      "source": [
        "# converting mileage column to numeric\n",
        "\n",
        "car_df['mileage'] = car_df['mileage'].str.rsplit(' ', n=1).str.get(0)\n",
        "car_df.rename(columns={'mileage':'mileage_kmpl'}, inplace=True)\n",
        "car_df['mileage_kmpl'] = car_df['mileage_kmpl'].astype(float)\n"
      ],
      "metadata": {
        "id": "J_t8DAk18Gcx"
      },
      "execution_count": null,
      "outputs": []
    },
    {
      "cell_type": "code",
      "source": [
        "# converting max_power column to numeric\n",
        "\n",
        "car_df['max_power'] = car_df['max_power'].str.rsplit(' ', n=1).str.get(0)\n",
        "car_df.rename(columns={'max_power':'maxpower_bhp'}, inplace=True)\n",
        "car_df['maxpower_bhp'] = pd.to_numeric(car_df['maxpower_bhp'], errors='coerce')"
      ],
      "metadata": {
        "id": "l0WH2IdJ9I-Z"
      },
      "execution_count": null,
      "outputs": []
    },
    {
      "cell_type": "code",
      "source": [
        "car_df.info()"
      ],
      "metadata": {
        "colab": {
          "base_uri": "https://localhost:8080/"
        },
        "id": "MOHDKXQZ9oxR",
        "outputId": "736e83f4-9b1e-4ba8-cb40-216e722e9076"
      },
      "execution_count": null,
      "outputs": [
        {
          "output_type": "stream",
          "name": "stdout",
          "text": [
            "<class 'pandas.core.frame.DataFrame'>\n",
            "RangeIndex: 8128 entries, 0 to 8127\n",
            "Data columns (total 11 columns):\n",
            " #   Column         Non-Null Count  Dtype  \n",
            "---  ------         --------------  -----  \n",
            " 0   year           8128 non-null   int64  \n",
            " 1   selling_price  8128 non-null   int64  \n",
            " 2   km_driven      8128 non-null   int64  \n",
            " 3   fuel           8128 non-null   object \n",
            " 4   seller_type    8128 non-null   object \n",
            " 5   transmission   8128 non-null   object \n",
            " 6   owner          8128 non-null   object \n",
            " 7   mileage_kmpl   7907 non-null   float64\n",
            " 8   engine(CC)     7907 non-null   float64\n",
            " 9   maxpower_bhp   7912 non-null   float64\n",
            " 10  seats          7907 non-null   float64\n",
            "dtypes: float64(4), int64(3), object(4)\n",
            "memory usage: 698.6+ KB\n"
          ]
        }
      ]
    },
    {
      "cell_type": "code",
      "source": [
        "car_df.head()"
      ],
      "metadata": {
        "colab": {
          "base_uri": "https://localhost:8080/",
          "height": 206
        },
        "id": "v0Z6cMhj_2ix",
        "outputId": "ff4ee3ec-8e8c-4c3b-f806-b19f4a479301"
      },
      "execution_count": null,
      "outputs": [
        {
          "output_type": "execute_result",
          "data": {
            "text/plain": [
              "   year  selling_price  km_driven    fuel seller_type transmission  \\\n",
              "0  2014         450000     145500  Diesel  Individual       Manual   \n",
              "1  2014         370000     120000  Diesel  Individual       Manual   \n",
              "2  2006         158000     140000  Petrol  Individual       Manual   \n",
              "3  2010         225000     127000  Diesel  Individual       Manual   \n",
              "4  2007         130000     120000  Petrol  Individual       Manual   \n",
              "\n",
              "          owner  mileage_kmpl  engine(CC)  maxpower_bhp  seats  \n",
              "0   First Owner         23.40      1248.0         74.00    5.0  \n",
              "1  Second Owner         21.14      1498.0        103.52    5.0  \n",
              "2   Third Owner         17.70      1497.0         78.00    5.0  \n",
              "3   First Owner         23.00      1396.0         90.00    5.0  \n",
              "4   First Owner         16.10      1298.0         88.20    5.0  "
            ],
            "text/html": [
              "\n",
              "  <div id=\"df-bc44c0aa-170e-49e7-a388-e8d24485ce7f\">\n",
              "    <div class=\"colab-df-container\">\n",
              "      <div>\n",
              "<style scoped>\n",
              "    .dataframe tbody tr th:only-of-type {\n",
              "        vertical-align: middle;\n",
              "    }\n",
              "\n",
              "    .dataframe tbody tr th {\n",
              "        vertical-align: top;\n",
              "    }\n",
              "\n",
              "    .dataframe thead th {\n",
              "        text-align: right;\n",
              "    }\n",
              "</style>\n",
              "<table border=\"1\" class=\"dataframe\">\n",
              "  <thead>\n",
              "    <tr style=\"text-align: right;\">\n",
              "      <th></th>\n",
              "      <th>year</th>\n",
              "      <th>selling_price</th>\n",
              "      <th>km_driven</th>\n",
              "      <th>fuel</th>\n",
              "      <th>seller_type</th>\n",
              "      <th>transmission</th>\n",
              "      <th>owner</th>\n",
              "      <th>mileage_kmpl</th>\n",
              "      <th>engine(CC)</th>\n",
              "      <th>maxpower_bhp</th>\n",
              "      <th>seats</th>\n",
              "    </tr>\n",
              "  </thead>\n",
              "  <tbody>\n",
              "    <tr>\n",
              "      <th>0</th>\n",
              "      <td>2014</td>\n",
              "      <td>450000</td>\n",
              "      <td>145500</td>\n",
              "      <td>Diesel</td>\n",
              "      <td>Individual</td>\n",
              "      <td>Manual</td>\n",
              "      <td>First Owner</td>\n",
              "      <td>23.40</td>\n",
              "      <td>1248.0</td>\n",
              "      <td>74.00</td>\n",
              "      <td>5.0</td>\n",
              "    </tr>\n",
              "    <tr>\n",
              "      <th>1</th>\n",
              "      <td>2014</td>\n",
              "      <td>370000</td>\n",
              "      <td>120000</td>\n",
              "      <td>Diesel</td>\n",
              "      <td>Individual</td>\n",
              "      <td>Manual</td>\n",
              "      <td>Second Owner</td>\n",
              "      <td>21.14</td>\n",
              "      <td>1498.0</td>\n",
              "      <td>103.52</td>\n",
              "      <td>5.0</td>\n",
              "    </tr>\n",
              "    <tr>\n",
              "      <th>2</th>\n",
              "      <td>2006</td>\n",
              "      <td>158000</td>\n",
              "      <td>140000</td>\n",
              "      <td>Petrol</td>\n",
              "      <td>Individual</td>\n",
              "      <td>Manual</td>\n",
              "      <td>Third Owner</td>\n",
              "      <td>17.70</td>\n",
              "      <td>1497.0</td>\n",
              "      <td>78.00</td>\n",
              "      <td>5.0</td>\n",
              "    </tr>\n",
              "    <tr>\n",
              "      <th>3</th>\n",
              "      <td>2010</td>\n",
              "      <td>225000</td>\n",
              "      <td>127000</td>\n",
              "      <td>Diesel</td>\n",
              "      <td>Individual</td>\n",
              "      <td>Manual</td>\n",
              "      <td>First Owner</td>\n",
              "      <td>23.00</td>\n",
              "      <td>1396.0</td>\n",
              "      <td>90.00</td>\n",
              "      <td>5.0</td>\n",
              "    </tr>\n",
              "    <tr>\n",
              "      <th>4</th>\n",
              "      <td>2007</td>\n",
              "      <td>130000</td>\n",
              "      <td>120000</td>\n",
              "      <td>Petrol</td>\n",
              "      <td>Individual</td>\n",
              "      <td>Manual</td>\n",
              "      <td>First Owner</td>\n",
              "      <td>16.10</td>\n",
              "      <td>1298.0</td>\n",
              "      <td>88.20</td>\n",
              "      <td>5.0</td>\n",
              "    </tr>\n",
              "  </tbody>\n",
              "</table>\n",
              "</div>\n",
              "      <button class=\"colab-df-convert\" onclick=\"convertToInteractive('df-bc44c0aa-170e-49e7-a388-e8d24485ce7f')\"\n",
              "              title=\"Convert this dataframe to an interactive table.\"\n",
              "              style=\"display:none;\">\n",
              "        \n",
              "  <svg xmlns=\"http://www.w3.org/2000/svg\" height=\"24px\"viewBox=\"0 0 24 24\"\n",
              "       width=\"24px\">\n",
              "    <path d=\"M0 0h24v24H0V0z\" fill=\"none\"/>\n",
              "    <path d=\"M18.56 5.44l.94 2.06.94-2.06 2.06-.94-2.06-.94-.94-2.06-.94 2.06-2.06.94zm-11 1L8.5 8.5l.94-2.06 2.06-.94-2.06-.94L8.5 2.5l-.94 2.06-2.06.94zm10 10l.94 2.06.94-2.06 2.06-.94-2.06-.94-.94-2.06-.94 2.06-2.06.94z\"/><path d=\"M17.41 7.96l-1.37-1.37c-.4-.4-.92-.59-1.43-.59-.52 0-1.04.2-1.43.59L10.3 9.45l-7.72 7.72c-.78.78-.78 2.05 0 2.83L4 21.41c.39.39.9.59 1.41.59.51 0 1.02-.2 1.41-.59l7.78-7.78 2.81-2.81c.8-.78.8-2.07 0-2.86zM5.41 20L4 18.59l7.72-7.72 1.47 1.35L5.41 20z\"/>\n",
              "  </svg>\n",
              "      </button>\n",
              "      \n",
              "  <style>\n",
              "    .colab-df-container {\n",
              "      display:flex;\n",
              "      flex-wrap:wrap;\n",
              "      gap: 12px;\n",
              "    }\n",
              "\n",
              "    .colab-df-convert {\n",
              "      background-color: #E8F0FE;\n",
              "      border: none;\n",
              "      border-radius: 50%;\n",
              "      cursor: pointer;\n",
              "      display: none;\n",
              "      fill: #1967D2;\n",
              "      height: 32px;\n",
              "      padding: 0 0 0 0;\n",
              "      width: 32px;\n",
              "    }\n",
              "\n",
              "    .colab-df-convert:hover {\n",
              "      background-color: #E2EBFA;\n",
              "      box-shadow: 0px 1px 2px rgba(60, 64, 67, 0.3), 0px 1px 3px 1px rgba(60, 64, 67, 0.15);\n",
              "      fill: #174EA6;\n",
              "    }\n",
              "\n",
              "    [theme=dark] .colab-df-convert {\n",
              "      background-color: #3B4455;\n",
              "      fill: #D2E3FC;\n",
              "    }\n",
              "\n",
              "    [theme=dark] .colab-df-convert:hover {\n",
              "      background-color: #434B5C;\n",
              "      box-shadow: 0px 1px 3px 1px rgba(0, 0, 0, 0.15);\n",
              "      filter: drop-shadow(0px 1px 2px rgba(0, 0, 0, 0.3));\n",
              "      fill: #FFFFFF;\n",
              "    }\n",
              "  </style>\n",
              "\n",
              "      <script>\n",
              "        const buttonEl =\n",
              "          document.querySelector('#df-bc44c0aa-170e-49e7-a388-e8d24485ce7f button.colab-df-convert');\n",
              "        buttonEl.style.display =\n",
              "          google.colab.kernel.accessAllowed ? 'block' : 'none';\n",
              "\n",
              "        async function convertToInteractive(key) {\n",
              "          const element = document.querySelector('#df-bc44c0aa-170e-49e7-a388-e8d24485ce7f');\n",
              "          const dataTable =\n",
              "            await google.colab.kernel.invokeFunction('convertToInteractive',\n",
              "                                                     [key], {});\n",
              "          if (!dataTable) return;\n",
              "\n",
              "          const docLinkHtml = 'Like what you see? Visit the ' +\n",
              "            '<a target=\"_blank\" href=https://colab.research.google.com/notebooks/data_table.ipynb>data table notebook</a>'\n",
              "            + ' to learn more about interactive tables.';\n",
              "          element.innerHTML = '';\n",
              "          dataTable['output_type'] = 'display_data';\n",
              "          await google.colab.output.renderOutput(dataTable, element);\n",
              "          const docLink = document.createElement('div');\n",
              "          docLink.innerHTML = docLinkHtml;\n",
              "          element.appendChild(docLink);\n",
              "        }\n",
              "      </script>\n",
              "    </div>\n",
              "  </div>\n",
              "  "
            ]
          },
          "metadata": {},
          "execution_count": 11
        }
      ]
    },
    {
      "cell_type": "code",
      "source": [
        "# Visualisation categorical data\n",
        "%matplotlib inline\n",
        "plt.figure (figsize = (20, 5))\n",
        "\n",
        "plt.subplot(1,4,1)\n",
        "plt1 = car_df.fuel.value_counts().plot (kind ='bar')\n",
        "plt.title (\"Fuel type Frequency\")\n",
        "plt1.set(xlabel = \"Fuel type\", ylabel = \"Frequency\")\n",
        "\n",
        "plt.subplot(1,4,2)\n",
        "plt2 = car_df.seller_type.value_counts().plot (kind ='bar')\n",
        "plt.title (\"Seller Type Histogram\")\n",
        "plt2.set(xlabel = \"Seller Type\", ylabel = \"Frequency\")\n",
        "\n",
        "plt.subplot(1,4,3)\n",
        "plt3 = car_df.transmission.value_counts().plot (kind='bar')\n",
        "plt.title (\"Transmission Type Histogram\")\n",
        "plt3.set (xlabel = \"Transmission\", ylabel = \"Frequency\")\n",
        "\n",
        "plt.subplot(1,4,4)\n",
        "plt4 = car_df.owner.value_counts().plot (kind='bar')\n",
        "plt.title ('Owner Type Histogram')\n",
        "plt4.set (xlabel = 'Owner Type', ylabel = 'Frequency')\n"
      ],
      "metadata": {
        "colab": {
          "base_uri": "https://localhost:8080/",
          "height": 470
        },
        "id": "oLfK1bqkAz56",
        "outputId": "bc42a2d1-1d02-48db-bfbe-016b58aeedc0"
      },
      "execution_count": null,
      "outputs": [
        {
          "output_type": "execute_result",
          "data": {
            "text/plain": [
              "[Text(0, 0.5, 'Frequency'), Text(0.5, 0, 'Owner Type')]"
            ]
          },
          "metadata": {},
          "execution_count": 12
        },
        {
          "output_type": "display_data",
          "data": {
            "text/plain": [
              "<Figure size 1440x360 with 4 Axes>"
            ],
            "image/png": "[encoded data removed]"
          },
          "metadata": {
            "needs_background": "light"
          }
        }
      ]
    },
    {
      "cell_type": "code",
      "source": [
        "plt5 = car_df.year.value_counts().plot (kind='bar')\n",
        "plt.title ('Year Histogram')\n",
        "plt5.set (xlabel = 'Year', ylabel = 'Frequency')"
      ],
      "metadata": {
        "colab": {
          "base_uri": "https://localhost:8080/",
          "height": 328
        },
        "id": "FThjhDAbJCKy",
        "outputId": "b93de718-338c-4f3d-c2b5-bce04de63449"
      },
      "execution_count": null,
      "outputs": [
        {
          "output_type": "execute_result",
          "data": {
            "text/plain": [
              "[Text(0, 0.5, 'Frequency'), Text(0.5, 0, 'Year')]"
            ]
          },
          "metadata": {},
          "execution_count": 13
        },
        {
          "output_type": "display_data",
          "data": {
            "text/plain": [
              "<Figure size 432x288 with 1 Axes>"
            ],
            "image/png": "[encoded data removed]"
          },
          "metadata": {
            "needs_background": "light"
          }
        }
      ]
    },
    {
      "cell_type": "code",
      "source": [
        "# Visualisation using groupby against average price\n",
        "\n",
        "\n",
        "fuel_df = pd.DataFrame(car_df.groupby(['fuel'])['selling_price'].mean()).plot (kind = 'bar')\n",
        "plt.title (\"Fuel Type vs Average Price\")\n",
        "fuel_df.set (ylabel = 'Average Price')\n",
        "\n",
        "seller_type_df = pd.DataFrame(car_df.groupby(['seller_type'])['selling_price'].mean()).plot (kind = 'bar')\n",
        "plt.title (\"Seller Type vs Average Price\")\n",
        "seller_type_df.set (ylabel = 'Average Price')\n",
        "\n",
        "transmission_df = pd.DataFrame(car_df.groupby(['transmission'])['selling_price'].mean()).plot (kind = 'bar')\n",
        "plt.title (\"Transmission Type vs Average Price\")\n",
        "transmission_df.set (ylabel = 'Average Price')\n",
        "\n",
        "owner_df = pd.DataFrame(car_df.groupby(['owner'])['selling_price'].mean()).plot (kind = 'bar')\n",
        "plt.title (\"Owner vs Average Price\")\n",
        "owner_df.set (ylabel = 'Average Price')\n",
        "\n",
        "year_df = pd.DataFrame(car_df.groupby(['year'])['selling_price'].mean()).plot (kind = 'bar')\n",
        "plt.title (\"Manufacturing year vs Average Price\")\n",
        "year_df.set (ylabel = 'Average Price')"
      ],
      "metadata": {
        "colab": {
          "base_uri": "https://localhost:8080/",
          "height": 1000
        },
        "id": "o-cW6IiMMwLp",
        "outputId": "4d4dca68-4cd0-4a4f-b346-c8a95235ef5f"
      },
      "execution_count": null,
      "outputs": [
        {
          "output_type": "execute_result",
          "data": {
            "text/plain": [
              "[Text(0, 0.5, 'Average Price')]"
            ]
          },
          "metadata": {},
          "execution_count": 14
        },
        {
          "output_type": "display_data",
          "data": {
            "text/plain": [
              "<Figure size 432x288 with 1 Axes>"
            ],
            "image/png": "[encoded data removed]"
          },
          "metadata": {
            "needs_background": "light"
          }
        },
        {
          "output_type": "display_data",
          "data": {
            "text/plain": [
              "<Figure size 432x288 with 1 Axes>"
            ],
            "image/png": "[encoded data removed]"
          },
          "metadata": {
            "needs_background": "light"
          }
        },
        {
          "output_type": "display_data",
          "data": {
            "text/plain": [
              "<Figure size 432x288 with 1 Axes>"
            ],
            "image/png": "[encoded data removed]"
          },
          "metadata": {
            "needs_background": "light"
          }
        },
        {
          "output_type": "display_data",
          "data": {
            "text/plain": [
              "<Figure size 432x288 with 1 Axes>"
            ],
            "image/png": "[encoded data removed]"
          },
          "metadata": {
            "needs_background": "light"
          }
        },
        {
          "output_type": "display_data",
          "data": {
            "text/plain": [
              "<Figure size 432x288 with 1 Axes>"
            ],
            "image/png": "[encoded data removed]"
          },
          "metadata": {
            "needs_background": "light"
          }
        }
      ]
    },
    {
      "cell_type": "code",
      "source": [
        "# Visualisation numerical data\n",
        "\n",
        "names = ['km_driven', 'mileage_kmpl',\t'engine(CC)',\t'maxpower_bhp',\t'seats']\n",
        "\n",
        "for i in names:\n",
        "  plt.scatter(car_df[i], car_df['selling_price'])\n",
        "  plt.title (i + ' vs selling price')\n",
        "  plt.ylabel (\"Selling Price\")\n",
        "  plt.xlabel (i)\n",
        "  plt.show()"
      ],
      "metadata": {
        "colab": {
          "base_uri": "https://localhost:8080/",
          "height": 1000
        },
        "id": "hYebssEwJY7R",
        "outputId": "a25b4b9a-55e0-43a4-c2e6-e9bd571fc65f"
      },
      "execution_count": null,
      "outputs": [
        {
          "output_type": "display_data",
          "data": {
            "text/plain": [
              "<Figure size 432x288 with 1 Axes>"
            ],
            "image/png": "[encoded data removed]"
          },
          "metadata": {
            "needs_background": "light"
          }
        },
        {
          "output_type": "display_data",
          "data": {
            "text/plain": [
              "<Figure size 432x288 with 1 Axes>"
            ],
            "image/png": "[encoded data removed]"
          },
          "metadata": {
            "needs_background": "light"
          }
        },
        {
          "output_type": "display_data",
          "data": {
            "text/plain": [
              "<Figure size 432x288 with 1 Axes>"
            ],
            "image/png": "[encoded data removed]"
          },
          "metadata": {
            "needs_background": "light"
          }
        },
        {
          "output_type": "display_data",
          "data": {
            "text/plain": [
              "<Figure size 432x288 with 1 Axes>"
            ],
            "image/png": "[encoded data removed]"
          },
          "metadata": {
            "needs_background": "light"
          }
        },
        {
          "output_type": "display_data",
          "data": {
            "text/plain": [
              "<Figure size 432x288 with 1 Axes>"
            ],
            "image/png": "[encoded data removed]"
          },
          "metadata": {
            "needs_background": "light"
          }
        }
      ]
    },
    {
      "cell_type": "code",
      "source": [
        "# Correlation Matrix to make all scatter plots at once\n",
        "# Create a grid of column pairs with scatter plots for non-diagonal(upper portion)\n",
        "sns.PairGrid(car_df).map_upper(plt.scatter)"
      ],
      "metadata": {
        "id": "H9Gec_tJ7MWa",
        "outputId": "78d0194c-4346-405d-c60d-91dad87fb45d",
        "colab": {
          "base_uri": "https://localhost:8080/",
          "height": 1000
        }
      },
      "execution_count": null,
      "outputs": [
        {
          "output_type": "execute_result",
          "data": {
            "text/plain": [
              "<seaborn.axisgrid.PairGrid at 0x7f7439d0a7c0>"
            ]
          },
          "metadata": {},
          "execution_count": 16
        },
        {
          "output_type": "display_data",
          "data": {
            "text/plain": [
              "<Figure size 1260x1260 with 49 Axes>"
            ],
            "image/png": "[encoded data removed]"
          },
          "metadata": {
            "needs_background": "light"
          }
        }
      ]
    },
    {
      "cell_type": "markdown",
      "source": [
        "#### Mileage kmpl and km driven seem to have no relationship with the selling price"
      ],
      "metadata": {
        "id": "W-DXjUpnmeep"
      }
    },
    {
      "cell_type": "code",
      "source": [
        "# Choose a cutoff value and create a list of classifications to be replaced\n",
        "# use the variable name `classifications_to_replace`\n",
        "\n",
        "classifications_to_replace = car_df[car_df['year'].isin(car_df['year'].value_counts()[car_df['year'].value_counts()<150].index)]['year']\n",
        "\n",
        "# Replace in dataframe\n",
        "for cls in classifications_to_replace:\n",
        "    car_df['year'] = car_df['year'].replace(cls,\"Other\")\n",
        "    \n",
        "# Check to make sure binning was successful\n",
        "car_df['year'].value_counts()\n",
        "\n",
        "car_df ['year'] = car_df ['year'].astype(str)"
      ],
      "metadata": {
        "id": "mQw05TS3m6-Z"
      },
      "execution_count": null,
      "outputs": []
    },
    {
      "cell_type": "code",
      "execution_count": null,
      "metadata": {
        "colab": {
          "base_uri": "https://localhost:8080/",
          "height": 423
        },
        "id": "XJoQlf5ityHn",
        "outputId": "c3ab6531-81a6-48da-c0d9-256e9086575e"
      },
      "outputs": [
        {
          "output_type": "execute_result",
          "data": {
            "text/plain": [
              "      year  selling_price  km_driven    fuel seller_type transmission  \\\n",
              "0     2014         450000     145500  Diesel  Individual       Manual   \n",
              "1     2014         370000     120000  Diesel  Individual       Manual   \n",
              "2    Other         158000     140000  Petrol  Individual       Manual   \n",
              "3     2010         225000     127000  Diesel  Individual       Manual   \n",
              "4     2007         130000     120000  Petrol  Individual       Manual   \n",
              "..     ...            ...        ...     ...         ...          ...   \n",
              "195  Other          65000      86000  Petrol  Individual       Manual   \n",
              "196  Other         720000       5000  Petrol  Individual       Manual   \n",
              "197   2017         800000      37000  Diesel  Individual       Manual   \n",
              "198   2019         520000      14000  Petrol  Individual       Manual   \n",
              "199   2015         580000      70000  Diesel  Individual       Manual   \n",
              "\n",
              "            owner  mileage_kmpl  engine(CC)  maxpower_bhp  seats  \\\n",
              "0     First Owner         23.40      1248.0         74.00    5.0   \n",
              "1    Second Owner         21.14      1498.0        103.52    5.0   \n",
              "2     Third Owner         17.70      1497.0         78.00    5.0   \n",
              "3     First Owner         23.00      1396.0         90.00    5.0   \n",
              "4     First Owner         16.10      1298.0         88.20    5.0   \n",
              "..            ...           ...         ...           ...    ...   \n",
              "195   First Owner         15.30      1341.0         83.00    5.0   \n",
              "196   First Owner         18.60      1197.0         81.86    5.0   \n",
              "197   First Owner         28.09      1248.0         88.50    5.0   \n",
              "198   First Owner         20.30      1199.0         84.00    5.0   \n",
              "199   First Owner         20.77      1248.0         88.76    7.0   \n",
              "\n",
              "    engine(CC)_binning  \n",
              "0                    1  \n",
              "1                    1  \n",
              "2                    1  \n",
              "3                    1  \n",
              "4                    1  \n",
              "..                 ...  \n",
              "195                  1  \n",
              "196                  1  \n",
              "197                  1  \n",
              "198                  1  \n",
              "199                  1  \n",
              "\n",
              "[200 rows x 12 columns]"
            ],
            "text/html": [
              "\n",
              "  <div id=\"df-1418c1ff-c6e4-4fb3-a6c5-14d8cb298627\">\n",
              "    <div class=\"colab-df-container\">\n",
              "      <div>\n",
              "<style scoped>\n",
              "    .dataframe tbody tr th:only-of-type {\n",
              "        vertical-align: middle;\n",
              "    }\n",
              "\n",
              "    .dataframe tbody tr th {\n",
              "        vertical-align: top;\n",
              "    }\n",
              "\n",
              "    .dataframe thead th {\n",
              "        text-align: right;\n",
              "    }\n",
              "</style>\n",
              "<table border=\"1\" class=\"dataframe\">\n",
              "  <thead>\n",
              "    <tr style=\"text-align: right;\">\n",
              "      <th></th>\n",
              "      <th>year</th>\n",
              "      <th>selling_price</th>\n",
              "      <th>km_driven</th>\n",
              "      <th>fuel</th>\n",
              "      <th>seller_type</th>\n",
              "      <th>transmission</th>\n",
              "      <th>owner</th>\n",
              "      <th>mileage_kmpl</th>\n",
              "      <th>engine(CC)</th>\n",
              "      <th>maxpower_bhp</th>\n",
              "      <th>seats</th>\n",
              "      <th>engine(CC)_binning</th>\n",
              "    </tr>\n",
              "  </thead>\n",
              "  <tbody>\n",
              "    <tr>\n",
              "      <th>0</th>\n",
              "      <td>2014</td>\n",
              "      <td>450000</td>\n",
              "      <td>145500</td>\n",
              "      <td>Diesel</td>\n",
              "      <td>Individual</td>\n",
              "      <td>Manual</td>\n",
              "      <td>First Owner</td>\n",
              "      <td>23.40</td>\n",
              "      <td>1248.0</td>\n",
              "      <td>74.00</td>\n",
              "      <td>5.0</td>\n",
              "      <td>1</td>\n",
              "    </tr>\n",
              "    <tr>\n",
              "      <th>1</th>\n",
              "      <td>2014</td>\n",
              "      <td>370000</td>\n",
              "      <td>120000</td>\n",
              "      <td>Diesel</td>\n",
              "      <td>Individual</td>\n",
              "      <td>Manual</td>\n",
              "      <td>Second Owner</td>\n",
              "      <td>21.14</td>\n",
              "      <td>1498.0</td>\n",
              "      <td>103.52</td>\n",
              "      <td>5.0</td>\n",
              "      <td>1</td>\n",
              "    </tr>\n",
              "    <tr>\n",
              "      <th>2</th>\n",
              "      <td>Other</td>\n",
              "      <td>158000</td>\n",
              "      <td>140000</td>\n",
              "      <td>Petrol</td>\n",
              "      <td>Individual</td>\n",
              "      <td>Manual</td>\n",
              "      <td>Third Owner</td>\n",
              "      <td>17.70</td>\n",
              "      <td>1497.0</td>\n",
              "      <td>78.00</td>\n",
              "      <td>5.0</td>\n",
              "      <td>1</td>\n",
              "    </tr>\n",
              "    <tr>\n",
              "      <th>3</th>\n",
              "      <td>2010</td>\n",
              "      <td>225000</td>\n",
              "      <td>127000</td>\n",
              "      <td>Diesel</td>\n",
              "      <td>Individual</td>\n",
              "      <td>Manual</td>\n",
              "      <td>First Owner</td>\n",
              "      <td>23.00</td>\n",
              "      <td>1396.0</td>\n",
              "      <td>90.00</td>\n",
              "      <td>5.0</td>\n",
              "      <td>1</td>\n",
              "    </tr>\n",
              "    <tr>\n",
              "      <th>4</th>\n",
              "      <td>2007</td>\n",
              "      <td>130000</td>\n",
              "      <td>120000</td>\n",
              "      <td>Petrol</td>\n",
              "      <td>Individual</td>\n",
              "      <td>Manual</td>\n",
              "      <td>First Owner</td>\n",
              "      <td>16.10</td>\n",
              "      <td>1298.0</td>\n",
              "      <td>88.20</td>\n",
              "      <td>5.0</td>\n",
              "      <td>1</td>\n",
              "    </tr>\n",
              "    <tr>\n",
              "      <th>...</th>\n",
              "      <td>...</td>\n",
              "      <td>...</td>\n",
              "      <td>...</td>\n",
              "      <td>...</td>\n",
              "      <td>...</td>\n",
              "      <td>...</td>\n",
              "      <td>...</td>\n",
              "      <td>...</td>\n",
              "      <td>...</td>\n",
              "      <td>...</td>\n",
              "      <td>...</td>\n",
              "      <td>...</td>\n",
              "    </tr>\n",
              "    <tr>\n",
              "      <th>195</th>\n",
              "      <td>Other</td>\n",
              "      <td>65000</td>\n",
              "      <td>86000</td>\n",
              "      <td>Petrol</td>\n",
              "      <td>Individual</td>\n",
              "      <td>Manual</td>\n",
              "      <td>First Owner</td>\n",
              "      <td>15.30</td>\n",
              "      <td>1341.0</td>\n",
              "      <td>83.00</td>\n",
              "      <td>5.0</td>\n",
              "      <td>1</td>\n",
              "    </tr>\n",
              "    <tr>\n",
              "      <th>196</th>\n",
              "      <td>Other</td>\n",
              "      <td>720000</td>\n",
              "      <td>5000</td>\n",
              "      <td>Petrol</td>\n",
              "      <td>Individual</td>\n",
              "      <td>Manual</td>\n",
              "      <td>First Owner</td>\n",
              "      <td>18.60</td>\n",
              "      <td>1197.0</td>\n",
              "      <td>81.86</td>\n",
              "      <td>5.0</td>\n",
              "      <td>1</td>\n",
              "    </tr>\n",
              "    <tr>\n",
              "      <th>197</th>\n",
              "      <td>2017</td>\n",
              "      <td>800000</td>\n",
              "      <td>37000</td>\n",
              "      <td>Diesel</td>\n",
              "      <td>Individual</td>\n",
              "      <td>Manual</td>\n",
              "      <td>First Owner</td>\n",
              "      <td>28.09</td>\n",
              "      <td>1248.0</td>\n",
              "      <td>88.50</td>\n",
              "      <td>5.0</td>\n",
              "      <td>1</td>\n",
              "    </tr>\n",
              "    <tr>\n",
              "      <th>198</th>\n",
              "      <td>2019</td>\n",
              "      <td>520000</td>\n",
              "      <td>14000</td>\n",
              "      <td>Petrol</td>\n",
              "      <td>Individual</td>\n",
              "      <td>Manual</td>\n",
              "      <td>First Owner</td>\n",
              "      <td>20.30</td>\n",
              "      <td>1199.0</td>\n",
              "      <td>84.00</td>\n",
              "      <td>5.0</td>\n",
              "      <td>1</td>\n",
              "    </tr>\n",
              "    <tr>\n",
              "      <th>199</th>\n",
              "      <td>2015</td>\n",
              "      <td>580000</td>\n",
              "      <td>70000</td>\n",
              "      <td>Diesel</td>\n",
              "      <td>Individual</td>\n",
              "      <td>Manual</td>\n",
              "      <td>First Owner</td>\n",
              "      <td>20.77</td>\n",
              "      <td>1248.0</td>\n",
              "      <td>88.76</td>\n",
              "      <td>7.0</td>\n",
              "      <td>1</td>\n",
              "    </tr>\n",
              "  </tbody>\n",
              "</table>\n",
              "<p>200 rows × 12 columns</p>\n",
              "</div>\n",
              "      <button class=\"colab-df-convert\" onclick=\"convertToInteractive('df-1418c1ff-c6e4-4fb3-a6c5-14d8cb298627')\"\n",
              "              title=\"Convert this dataframe to an interactive table.\"\n",
              "              style=\"display:none;\">\n",
              "        \n",
              "  <svg xmlns=\"http://www.w3.org/2000/svg\" height=\"24px\"viewBox=\"0 0 24 24\"\n",
              "       width=\"24px\">\n",
              "    <path d=\"M0 0h24v24H0V0z\" fill=\"none\"/>\n",
              "    <path d=\"M18.56 5.44l.94 2.06.94-2.06 2.06-.94-2.06-.94-.94-2.06-.94 2.06-2.06.94zm-11 1L8.5 8.5l.94-2.06 2.06-.94-2.06-.94L8.5 2.5l-.94 2.06-2.06.94zm10 10l.94 2.06.94-2.06 2.06-.94-2.06-.94-.94-2.06-.94 2.06-2.06.94z\"/><path d=\"M17.41 7.96l-1.37-1.37c-.4-.4-.92-.59-1.43-.59-.52 0-1.04.2-1.43.59L10.3 9.45l-7.72 7.72c-.78.78-.78 2.05 0 2.83L4 21.41c.39.39.9.59 1.41.59.51 0 1.02-.2 1.41-.59l7.78-7.78 2.81-2.81c.8-.78.8-2.07 0-2.86zM5.41 20L4 18.59l7.72-7.72 1.47 1.35L5.41 20z\"/>\n",
              "  </svg>\n",
              "      </button>\n",
              "      \n",
              "  <style>\n",
              "    .colab-df-container {\n",
              "      display:flex;\n",
              "      flex-wrap:wrap;\n",
              "      gap: 12px;\n",
              "    }\n",
              "\n",
              "    .colab-df-convert {\n",
              "      background-color: #E8F0FE;\n",
              "      border: none;\n",
              "      border-radius: 50%;\n",
              "      cursor: pointer;\n",
              "      display: none;\n",
              "      fill: #1967D2;\n",
              "      height: 32px;\n",
              "      padding: 0 0 0 0;\n",
              "      width: 32px;\n",
              "    }\n",
              "\n",
              "    .colab-df-convert:hover {\n",
              "      background-color: #E2EBFA;\n",
              "      box-shadow: 0px 1px 2px rgba(60, 64, 67, 0.3), 0px 1px 3px 1px rgba(60, 64, 67, 0.15);\n",
              "      fill: #174EA6;\n",
              "    }\n",
              "\n",
              "    [theme=dark] .colab-df-convert {\n",
              "      background-color: #3B4455;\n",
              "      fill: #D2E3FC;\n",
              "    }\n",
              "\n",
              "    [theme=dark] .colab-df-convert:hover {\n",
              "      background-color: #434B5C;\n",
              "      box-shadow: 0px 1px 3px 1px rgba(0, 0, 0, 0.15);\n",
              "      filter: drop-shadow(0px 1px 2px rgba(0, 0, 0, 0.3));\n",
              "      fill: #FFFFFF;\n",
              "    }\n",
              "  </style>\n",
              "\n",
              "      <script>\n",
              "        const buttonEl =\n",
              "          document.querySelector('#df-1418c1ff-c6e4-4fb3-a6c5-14d8cb298627 button.colab-df-convert');\n",
              "        buttonEl.style.display =\n",
              "          google.colab.kernel.accessAllowed ? 'block' : 'none';\n",
              "\n",
              "        async function convertToInteractive(key) {\n",
              "          const element = document.querySelector('#df-1418c1ff-c6e4-4fb3-a6c5-14d8cb298627');\n",
              "          const dataTable =\n",
              "            await google.colab.kernel.invokeFunction('convertToInteractive',\n",
              "                                                     [key], {});\n",
              "          if (!dataTable) return;\n",
              "\n",
              "          const docLinkHtml = 'Like what you see? Visit the ' +\n",
              "            '<a target=\"_blank\" href=https://colab.research.google.com/notebooks/data_table.ipynb>data table notebook</a>'\n",
              "            + ' to learn more about interactive tables.';\n",
              "          element.innerHTML = '';\n",
              "          dataTable['output_type'] = 'display_data';\n",
              "          await google.colab.output.renderOutput(dataTable, element);\n",
              "          const docLink = document.createElement('div');\n",
              "          docLink.innerHTML = docLinkHtml;\n",
              "          element.appendChild(docLink);\n",
              "        }\n",
              "      </script>\n",
              "    </div>\n",
              "  </div>\n",
              "  "
            ]
          },
          "metadata": {},
          "execution_count": 18
        }
      ],
      "source": [
        "engine_bin = [1,2,3,4]\n",
        "car_df['engine(CC)_binning'] = pd.cut(car_df['engine(CC)'], [1000, 1999, 2999, 3999, 4000], labels = engine_bin)\n",
        "car_df.head(200)"
      ]
    },
    {
      "cell_type": "code",
      "execution_count": null,
      "metadata": {
        "id": "_WGSf9lJRbs4"
      },
      "outputs": [],
      "source": [
        "car_df['seats'] = car_df['seats'].astype(str)\n",
        "car_df['engine(CC)_binning'] = car_df['engine(CC)_binning'].astype(str)"
      ]
    },
    {
      "cell_type": "code",
      "execution_count": null,
      "metadata": {
        "id": "I6Nr7_0GRphk"
      },
      "outputs": [],
      "source": [
        "car_df.dropna(inplace=True)"
      ]
    },
    {
      "cell_type": "code",
      "execution_count": null,
      "metadata": {
        "colab": {
          "base_uri": "https://localhost:8080/",
          "height": 299
        },
        "id": "alQFUX-GQwxP",
        "outputId": "5ca83724-aa37-4c1d-d56b-c203d188e6b5"
      },
      "outputs": [
        {
          "output_type": "execute_result",
          "data": {
            "text/plain": [
              "   selling_price  km_driven  mileage_kmpl  engine(CC)  maxpower_bhp  \\\n",
              "0         450000     145500         23.40      1248.0         74.00   \n",
              "1         370000     120000         21.14      1498.0        103.52   \n",
              "2         158000     140000         17.70      1497.0         78.00   \n",
              "3         225000     127000         23.00      1396.0         90.00   \n",
              "4         130000     120000         16.10      1298.0         88.20   \n",
              "\n",
              "   year_2007  year_2008  year_2009  year_2010  year_2011  ...  seats_4.0  \\\n",
              "0          0          0          0          0          0  ...          0   \n",
              "1          0          0          0          0          0  ...          0   \n",
              "2          0          0          0          0          0  ...          0   \n",
              "3          0          0          0          1          0  ...          0   \n",
              "4          1          0          0          0          0  ...          0   \n",
              "\n",
              "   seats_5.0  seats_6.0  seats_7.0  seats_8.0  seats_9.0  \\\n",
              "0          1          0          0          0          0   \n",
              "1          1          0          0          0          0   \n",
              "2          1          0          0          0          0   \n",
              "3          1          0          0          0          0   \n",
              "4          1          0          0          0          0   \n",
              "\n",
              "   engine(CC)_binning_1  engine(CC)_binning_2  engine(CC)_binning_3  \\\n",
              "0                     1                     0                     0   \n",
              "1                     1                     0                     0   \n",
              "2                     1                     0                     0   \n",
              "3                     1                     0                     0   \n",
              "4                     1                     0                     0   \n",
              "\n",
              "   engine(CC)_binning_nan  \n",
              "0                       0  \n",
              "1                       0  \n",
              "2                       0  \n",
              "3                       0  \n",
              "4                       0  \n",
              "\n",
              "[5 rows x 46 columns]"
            ],
            "text/html": [
              "\n",
              "  <div id=\"df-d27edf3c-31b6-4858-a772-004f6f7020b5\">\n",
              "    <div class=\"colab-df-container\">\n",
              "      <div>\n",
              "<style scoped>\n",
              "    .dataframe tbody tr th:only-of-type {\n",
              "        vertical-align: middle;\n",
              "    }\n",
              "\n",
              "    .dataframe tbody tr th {\n",
              "        vertical-align: top;\n",
              "    }\n",
              "\n",
              "    .dataframe thead th {\n",
              "        text-align: right;\n",
              "    }\n",
              "</style>\n",
              "<table border=\"1\" class=\"dataframe\">\n",
              "  <thead>\n",
              "    <tr style=\"text-align: right;\">\n",
              "      <th></th>\n",
              "      <th>selling_price</th>\n",
              "      <th>km_driven</th>\n",
              "      <th>mileage_kmpl</th>\n",
              "      <th>engine(CC)</th>\n",
              "      <th>maxpower_bhp</th>\n",
              "      <th>year_2007</th>\n",
              "      <th>year_2008</th>\n",
              "      <th>year_2009</th>\n",
              "      <th>year_2010</th>\n",
              "      <th>year_2011</th>\n",
              "      <th>...</th>\n",
              "      <th>seats_4.0</th>\n",
              "      <th>seats_5.0</th>\n",
              "      <th>seats_6.0</th>\n",
              "      <th>seats_7.0</th>\n",
              "      <th>seats_8.0</th>\n",
              "      <th>seats_9.0</th>\n",
              "      <th>engine(CC)_binning_1</th>\n",
              "      <th>engine(CC)_binning_2</th>\n",
              "      <th>engine(CC)_binning_3</th>\n",
              "      <th>engine(CC)_binning_nan</th>\n",
              "    </tr>\n",
              "  </thead>\n",
              "  <tbody>\n",
              "    <tr>\n",
              "      <th>0</th>\n",
              "      <td>450000</td>\n",
              "      <td>145500</td>\n",
              "      <td>23.40</td>\n",
              "      <td>1248.0</td>\n",
              "      <td>74.00</td>\n",
              "      <td>0</td>\n",
              "      <td>0</td>\n",
              "      <td>0</td>\n",
              "      <td>0</td>\n",
              "      <td>0</td>\n",
              "      <td>...</td>\n",
              "      <td>0</td>\n",
              "      <td>1</td>\n",
              "      <td>0</td>\n",
              "      <td>0</td>\n",
              "      <td>0</td>\n",
              "      <td>0</td>\n",
              "      <td>1</td>\n",
              "      <td>0</td>\n",
              "      <td>0</td>\n",
              "      <td>0</td>\n",
              "    </tr>\n",
              "    <tr>\n",
              "      <th>1</th>\n",
              "      <td>370000</td>\n",
              "      <td>120000</td>\n",
              "      <td>21.14</td>\n",
              "      <td>1498.0</td>\n",
              "      <td>103.52</td>\n",
              "      <td>0</td>\n",
              "      <td>0</td>\n",
              "      <td>0</td>\n",
              "      <td>0</td>\n",
              "      <td>0</td>\n",
              "      <td>...</td>\n",
              "      <td>0</td>\n",
              "      <td>1</td>\n",
              "      <td>0</td>\n",
              "      <td>0</td>\n",
              "      <td>0</td>\n",
              "      <td>0</td>\n",
              "      <td>1</td>\n",
              "      <td>0</td>\n",
              "      <td>0</td>\n",
              "      <td>0</td>\n",
              "    </tr>\n",
              "    <tr>\n",
              "      <th>2</th>\n",
              "      <td>158000</td>\n",
              "      <td>140000</td>\n",
              "      <td>17.70</td>\n",
              "      <td>1497.0</td>\n",
              "      <td>78.00</td>\n",
              "      <td>0</td>\n",
              "      <td>0</td>\n",
              "      <td>0</td>\n",
              "      <td>0</td>\n",
              "      <td>0</td>\n",
              "      <td>...</td>\n",
              "      <td>0</td>\n",
              "      <td>1</td>\n",
              "      <td>0</td>\n",
              "      <td>0</td>\n",
              "      <td>0</td>\n",
              "      <td>0</td>\n",
              "      <td>1</td>\n",
              "      <td>0</td>\n",
              "      <td>0</td>\n",
              "      <td>0</td>\n",
              "    </tr>\n",
              "    <tr>\n",
              "      <th>3</th>\n",
              "      <td>225000</td>\n",
              "      <td>127000</td>\n",
              "      <td>23.00</td>\n",
              "      <td>1396.0</td>\n",
              "      <td>90.00</td>\n",
              "      <td>0</td>\n",
              "      <td>0</td>\n",
              "      <td>0</td>\n",
              "      <td>1</td>\n",
              "      <td>0</td>\n",
              "      <td>...</td>\n",
              "      <td>0</td>\n",
              "      <td>1</td>\n",
              "      <td>0</td>\n",
              "      <td>0</td>\n",
              "      <td>0</td>\n",
              "      <td>0</td>\n",
              "      <td>1</td>\n",
              "      <td>0</td>\n",
              "      <td>0</td>\n",
              "      <td>0</td>\n",
              "    </tr>\n",
              "    <tr>\n",
              "      <th>4</th>\n",
              "      <td>130000</td>\n",
              "      <td>120000</td>\n",
              "      <td>16.10</td>\n",
              "      <td>1298.0</td>\n",
              "      <td>88.20</td>\n",
              "      <td>1</td>\n",
              "      <td>0</td>\n",
              "      <td>0</td>\n",
              "      <td>0</td>\n",
              "      <td>0</td>\n",
              "      <td>...</td>\n",
              "      <td>0</td>\n",
              "      <td>1</td>\n",
              "      <td>0</td>\n",
              "      <td>0</td>\n",
              "      <td>0</td>\n",
              "      <td>0</td>\n",
              "      <td>1</td>\n",
              "      <td>0</td>\n",
              "      <td>0</td>\n",
              "      <td>0</td>\n",
              "    </tr>\n",
              "  </tbody>\n",
              "</table>\n",
              "<p>5 rows × 46 columns</p>\n",
              "</div>\n",
              "      <button class=\"colab-df-convert\" onclick=\"convertToInteractive('df-d27edf3c-31b6-4858-a772-004f6f7020b5')\"\n",
              "              title=\"Convert this dataframe to an interactive table.\"\n",
              "              style=\"display:none;\">\n",
              "        \n",
              "  <svg xmlns=\"http://www.w3.org/2000/svg\" height=\"24px\"viewBox=\"0 0 24 24\"\n",
              "       width=\"24px\">\n",
              "    <path d=\"M0 0h24v24H0V0z\" fill=\"none\"/>\n",
              "    <path d=\"M18.56 5.44l.94 2.06.94-2.06 2.06-.94-2.06-.94-.94-2.06-.94 2.06-2.06.94zm-11 1L8.5 8.5l.94-2.06 2.06-.94-2.06-.94L8.5 2.5l-.94 2.06-2.06.94zm10 10l.94 2.06.94-2.06 2.06-.94-2.06-.94-.94-2.06-.94 2.06-2.06.94z\"/><path d=\"M17.41 7.96l-1.37-1.37c-.4-.4-.92-.59-1.43-.59-.52 0-1.04.2-1.43.59L10.3 9.45l-7.72 7.72c-.78.78-.78 2.05 0 2.83L4 21.41c.39.39.9.59 1.41.59.51 0 1.02-.2 1.41-.59l7.78-7.78 2.81-2.81c.8-.78.8-2.07 0-2.86zM5.41 20L4 18.59l7.72-7.72 1.47 1.35L5.41 20z\"/>\n",
              "  </svg>\n",
              "      </button>\n",
              "      \n",
              "  <style>\n",
              "    .colab-df-container {\n",
              "      display:flex;\n",
              "      flex-wrap:wrap;\n",
              "      gap: 12px;\n",
              "    }\n",
              "\n",
              "    .colab-df-convert {\n",
              "      background-color: #E8F0FE;\n",
              "      border: none;\n",
              "      border-radius: 50%;\n",
              "      cursor: pointer;\n",
              "      display: none;\n",
              "      fill: #1967D2;\n",
              "      height: 32px;\n",
              "      padding: 0 0 0 0;\n",
              "      width: 32px;\n",
              "    }\n",
              "\n",
              "    .colab-df-convert:hover {\n",
              "      background-color: #E2EBFA;\n",
              "      box-shadow: 0px 1px 2px rgba(60, 64, 67, 0.3), 0px 1px 3px 1px rgba(60, 64, 67, 0.15);\n",
              "      fill: #174EA6;\n",
              "    }\n",
              "\n",
              "    [theme=dark] .colab-df-convert {\n",
              "      background-color: #3B4455;\n",
              "      fill: #D2E3FC;\n",
              "    }\n",
              "\n",
              "    [theme=dark] .colab-df-convert:hover {\n",
              "      background-color: #434B5C;\n",
              "      box-shadow: 0px 1px 3px 1px rgba(0, 0, 0, 0.15);\n",
              "      filter: drop-shadow(0px 1px 2px rgba(0, 0, 0, 0.3));\n",
              "      fill: #FFFFFF;\n",
              "    }\n",
              "  </style>\n",
              "\n",
              "      <script>\n",
              "        const buttonEl =\n",
              "          document.querySelector('#df-d27edf3c-31b6-4858-a772-004f6f7020b5 button.colab-df-convert');\n",
              "        buttonEl.style.display =\n",
              "          google.colab.kernel.accessAllowed ? 'block' : 'none';\n",
              "\n",
              "        async function convertToInteractive(key) {\n",
              "          const element = document.querySelector('#df-d27edf3c-31b6-4858-a772-004f6f7020b5');\n",
              "          const dataTable =\n",
              "            await google.colab.kernel.invokeFunction('convertToInteractive',\n",
              "                                                     [key], {});\n",
              "          if (!dataTable) return;\n",
              "\n",
              "          const docLinkHtml = 'Like what you see? Visit the ' +\n",
              "            '<a target=\"_blank\" href=https://colab.research.google.com/notebooks/data_table.ipynb>data table notebook</a>'\n",
              "            + ' to learn more about interactive tables.';\n",
              "          element.innerHTML = '';\n",
              "          dataTable['output_type'] = 'display_data';\n",
              "          await google.colab.output.renderOutput(dataTable, element);\n",
              "          const docLink = document.createElement('div');\n",
              "          docLink.innerHTML = docLinkHtml;\n",
              "          element.appendChild(docLink);\n",
              "        }\n",
              "      </script>\n",
              "    </div>\n",
              "  </div>\n",
              "  "
            ]
          },
          "metadata": {},
          "execution_count": 21
        }
      ],
      "source": [
        "car_df = pd.get_dummies(car_df)\n",
        "car_df.head()"
      ]
    },
    {
      "cell_type": "code",
      "source": [
        "list(car_df.columns.values)"
      ],
      "metadata": {
        "colab": {
          "base_uri": "https://localhost:8080/"
        },
        "id": "Df9tWFFrDWG9",
        "outputId": "d7ee515d-5c84-43a8-bf90-c3b85b6b77eb"
      },
      "execution_count": null,
      "outputs": [
        {
          "output_type": "execute_result",
          "data": {
            "text/plain": [
              "['selling_price',\n",
              " 'km_driven',\n",
              " 'mileage_kmpl',\n",
              " 'engine(CC)',\n",
              " 'maxpower_bhp',\n",
              " 'year_2007',\n",
              " 'year_2008',\n",
              " 'year_2009',\n",
              " 'year_2010',\n",
              " 'year_2011',\n",
              " 'year_2012',\n",
              " 'year_2013',\n",
              " 'year_2014',\n",
              " 'year_2015',\n",
              " 'year_2016',\n",
              " 'year_2017',\n",
              " 'year_2018',\n",
              " 'year_2019',\n",
              " 'year_Other',\n",
              " 'fuel_CNG',\n",
              " 'fuel_Diesel',\n",
              " 'fuel_LPG',\n",
              " 'fuel_Petrol',\n",
              " 'seller_type_Dealer',\n",
              " 'seller_type_Individual',\n",
              " 'seller_type_Trustmark Dealer',\n",
              " 'transmission_Automatic',\n",
              " 'transmission_Manual',\n",
              " 'owner_First Owner',\n",
              " 'owner_Fourth & Above Owner',\n",
              " 'owner_Second Owner',\n",
              " 'owner_Test Drive Car',\n",
              " 'owner_Third Owner',\n",
              " 'seats_10.0',\n",
              " 'seats_14.0',\n",
              " 'seats_2.0',\n",
              " 'seats_4.0',\n",
              " 'seats_5.0',\n",
              " 'seats_6.0',\n",
              " 'seats_7.0',\n",
              " 'seats_8.0',\n",
              " 'seats_9.0',\n",
              " 'engine(CC)_binning_1',\n",
              " 'engine(CC)_binning_2',\n",
              " 'engine(CC)_binning_3',\n",
              " 'engine(CC)_binning_nan']"
            ]
          },
          "metadata": {},
          "execution_count": 22
        }
      ]
    },
    {
      "cell_type": "code",
      "source": [
        "#'mileage_kmpl', 'engine(CC)', 'maxpower_bhp', 'year_2007', 'year_2008', 'year_2009', 'year_2010', 'year_2011', 'year_2012', 'year_2013', 'year_2014', \n",
        "             #'year_2015', 'year_2016', 'year_2017', 'year_2018', 'year_2019', 'year_Other',  'owner_First Owner', 'owner_Fourth & Above Owner', \n",
        "             # 'owner_Second Owner', 'owner_Test Drive Car', 'owner_Third Owner', 'seller_type_Dealer',\n",
        "             # 'seller_type_Individual', 'seller_type_Trustmark Dealer', 'fuel_CNG', 'fuel_Diesel', 'fuel_LPG', 'fuel_Petrol', 'transmission_Automatic', 'transmission_Manual',"
      ],
      "metadata": {
        "id": "rF2A4q_qEb-Y"
      },
      "execution_count": null,
      "outputs": []
    },
    {
      "cell_type": "code",
      "source": [
        "# Drop further unwanted columns\n",
        "car_df.drop(['seats_10.0', 'seats_14.0', 'seats_2.0', 'seats_4.0', 'seats_5.0', 'seats_6.0', 'seats_7.0',\n",
        "              'seats_8.0', 'seats_9.0', 'engine(CC)_binning_1', 'engine(CC)_binning_2', 'engine(CC)_binning_3', 'engine(CC)_binning_nan'], axis=1, inplace=True)"
      ],
      "metadata": {
        "id": "Zvww35wdCLT9"
      },
      "execution_count": null,
      "outputs": []
    },
    {
      "cell_type": "markdown",
      "metadata": {
        "id": "Zm1ZAgZo1cy-"
      },
      "source": [
        "## **Compile, Train and Evaluate the Model**"
      ]
    },
    {
      "cell_type": "code",
      "execution_count": null,
      "metadata": {
        "id": "da9iSRp8RNUu"
      },
      "outputs": [],
      "source": [
        "# Split our preprocessed data into our features and target arrays\n",
        "\n",
        "y = car_df[\"selling_price\"]\n",
        "X = car_df.drop([\"selling_price\"], axis=1)"
      ]
    },
    {
      "cell_type": "markdown",
      "source": [
        "### *Which Model will be used*\n",
        "\n",
        "We can't use the Logistic Regresssion Model because our target value is price and it is not a binary valueable data"
      ],
      "metadata": {
        "id": "RTylL6Mj_UIK"
      }
    },
    {
      "cell_type": "code",
      "execution_count": null,
      "metadata": {
        "id": "xb91Y-bddx1W",
        "outputId": "3860816b-69c6-4aa2-d565-62a46bce93a8",
        "colab": {
          "base_uri": "https://localhost:8080/",
          "height": 404
        }
      },
      "outputs": [
        {
          "output_type": "stream",
          "name": "stdout",
          "text": [
            "[4.16886702e-01 1.68842387e-01 1.06503728e-01 1.54133320e-01\n",
            " 2.92661876e-03 3.51917139e-03 3.40828110e-03 4.11890929e-03\n",
            " 5.09884226e-03 5.74612831e-03 7.71051228e-03 5.47864855e-03\n",
            " 5.75442648e-03 8.86385008e-03 7.78380190e-03 6.86974222e-03\n",
            " 6.97379589e-03 3.82646204e-03 1.35924867e-03 6.22676637e-03\n",
            " 1.01889541e-03 6.74338403e-03 7.18954780e-03 7.05431358e-03\n",
            " 6.19589391e-03 4.29665157e-03 3.91843735e-03 9.63919646e-03\n",
            " 3.95825977e-03 1.10378224e-02 1.59744529e-04 6.75651131e-03]\n"
          ]
        },
        {
          "output_type": "display_data",
          "data": {
            "text/plain": [
              "<Figure size 432x288 with 1 Axes>"
            ],
            "image/png": "[encoded data removed]"
          },
          "metadata": {
            "needs_background": "light"
          }
        }
      ],
      "source": [
        "# Checking which feature is important to the target:\n",
        "important_feature = ExtraTreesClassifier()\n",
        "important_feature.fit(X,y)\n",
        "print(important_feature.feature_importances_)\n",
        "\n",
        "#plot graph of feature importances for better visualization\n",
        "feat_importances = pd.Series(important_feature.feature_importances_, index=X.columns)\n",
        "feat_importances.nlargest(20).plot(kind='barh')\n",
        "plt.show()"
      ]
    },
    {
      "cell_type": "code",
      "source": [],
      "metadata": {
        "id": "pm18kP7uCHx1"
      },
      "execution_count": null,
      "outputs": []
    },
    {
      "cell_type": "code",
      "execution_count": null,
      "metadata": {
        "id": "RQzGpjj8dx1W"
      },
      "outputs": [],
      "source": [
        "# Split the preprocessed data into a training and testing dataset\n",
        "\n",
        "X_train, X_test, y_train, y_test = train_test_split(X, y, random_state = 42) "
      ]
    },
    {
      "cell_type": "code",
      "execution_count": null,
      "metadata": {
        "id": "sdnkjtNr1KiW"
      },
      "outputs": [],
      "source": [
        "# Create a StandardScaler instances\n",
        "scaler = skl.preprocessing.StandardScaler()\n",
        "\n",
        "# Fit the StandardScaler\n",
        "X_scaler = scaler.fit(X_train)\n",
        "\n",
        "# Scale the data\n",
        "X_train_scaled = X_scaler.transform(X_train)\n",
        "X_test_scaled = X_scaler.transform(X_test)"
      ]
    },
    {
      "cell_type": "code",
      "execution_count": null,
      "metadata": {
        "colab": {
          "base_uri": "https://localhost:8080/"
        },
        "id": "4wi1o_f01eLe",
        "outputId": "dc7c144a-6360-4713-d6ae-fc4f1ad28d2c"
      },
      "outputs": [
        {
          "output_type": "execute_result",
          "data": {
            "text/plain": [
              "32"
            ]
          },
          "metadata": {},
          "execution_count": 29
        }
      ],
      "source": [
        "# Checking the number of feature:\n",
        "\n",
        "number_input_feature = X_train.shape[1]\n",
        "number_input_feature"
      ]
    },
    {
      "cell_type": "code",
      "source": [
        "def test_model(model, data):\n",
        "    X_train_scaled, X_test_scaled, y_train, y_test = data\n",
        "    reg = model.fit(X_train_scaled, y_train)\n",
        "    print(f'Model: {type(reg).__name__}')\n",
        "    print(f'Train score: {reg.score(X_train_scaled, y_train)}')\n",
        "    print(f'Test Score: {reg.score(X_test_scaled, y_test)}\\n')\n",
        "    plt.show()    "
      ],
      "metadata": {
        "id": "gmq-qiieyXrk"
      },
      "execution_count": null,
      "outputs": []
    },
    {
      "cell_type": "code",
      "source": [
        "\n",
        "data = [X_train_scaled, X_test_scaled, y_train, y_test]\n",
        "\n",
        "test_model(LinearRegression(), data)\n",
        "test_model(KNeighborsRegressor(), data)\n",
        "test_model(RandomForestRegressor(), data)\n",
        "test_model(ExtraTreesRegressor(), data)\n",
        "test_model(AdaBoostRegressor(), data)\n",
        "test_model(SVR(C=1.0, epsilon=0.2), data)"
      ],
      "metadata": {
        "colab": {
          "base_uri": "https://localhost:8080/"
        },
        "id": "xnh_8RzDxQMJ",
        "outputId": "47164bc2-f138-4b10-9cbe-23e1299341f8"
      },
      "execution_count": null,
      "outputs": [
        {
          "output_type": "stream",
          "name": "stdout",
          "text": [
            "Model: LinearRegression\n",
            "Train score: 0.7116112671693926\n",
            "Test Score: 0.7255940361726367\n",
            "\n",
            "Model: KNeighborsRegressor\n",
            "Train score: 0.9363129440295597\n",
            "Test Score: 0.9306185785289415\n",
            "\n",
            "Model: RandomForestRegressor\n",
            "Train score: 0.9915564487732881\n",
            "Test Score: 0.9731050908453814\n",
            "\n",
            "Model: ExtraTreesRegressor\n",
            "Train score: 0.9995982656618088\n",
            "Test Score: 0.9772271494021936\n",
            "\n",
            "Model: AdaBoostRegressor\n",
            "Train score: 0.7889712093675091\n",
            "Test Score: 0.8113328505035412\n",
            "\n",
            "Model: SVR\n",
            "Train score: -0.058166339695991054\n",
            "Test Score: -0.05485594345026934\n",
            "\n"
          ]
        }
      ]
    },
    {
      "cell_type": "code",
      "source": [
        "from sklearn.model_selection import RandomizedSearchCV\n",
        "#Randomized search on hyper parameters.\n",
        "#used to select the best parameter for the model"
      ],
      "metadata": {
        "id": "MCCL9pgqcQcU"
      },
      "execution_count": null,
      "outputs": []
    },
    {
      "cell_type": "code",
      "source": [
        "random_grid = {'n_estimators': n_estimators,\n",
        "               'max_features': max_features,\n",
        "               'max_depth': max_depth,\n",
        "               'min_samples_split': min_samples_split,\n",
        "               'min_samples_leaf': min_samples_leaf}\n",
        "\n",
        "print(random_grid)"
      ],
      "metadata": {
        "id": "9XgBDzpRcdvd"
      },
      "execution_count": null,
      "outputs": []
    },
    {
      "cell_type": "code",
      "source": [
        "rf = RandomForestRegressor()\n",
        "#rf = object of the regressor \n",
        "\n",
        "# Random search of parameters, using 3 fold cross validation, \n",
        "# search across 100 different combinations\n",
        "\n",
        "#param_distributions = Dictionary with parameters names as keys and parameters as vlaues \n",
        "#scoring = metric that we used to evaluate the performance of the cross-validated model on the test set. \n",
        "#we used negative mean squared error.\n",
        "#cv = 5 fold cross validation\n",
        "#n_jobs = no of cores to use\n",
        "rf_random = RandomizedSearchCV(estimator = rf, param_distributions = random_grid,scoring='neg_mean_squared_error', n_iter = 10, cv = 5, verbose=2, random_state=None, error_score=nan, return_train_score=False)[source]\n"
      ],
      "metadata": {
        "id": "9FwtuZp3b2WT"
      },
      "execution_count": null,
      "outputs": []
    },
    {
      "cell_type": "code",
      "source": [
        "rf_random.fit(X_train,y_train)"
      ],
      "metadata": {
        "id": "9IL_S9hxdEG1"
      },
      "execution_count": null,
      "outputs": []
    },
    {
      "cell_type": "code",
      "source": [
        "predictions=rf_random.predict(X_test)"
      ],
      "metadata": {
        "id": "UELMjJj2dH5B"
      },
      "execution_count": null,
      "outputs": []
    },
    {
      "cell_type": "code",
      "source": [
        "df_check = pd.DataFrame({'Actual': y_test, 'Predicted': predictions})\n",
        "df_check = df_check.head(25)\n",
        "#round(df_check,2)\n",
        "df_check.plot(kind='bar',figsize=(10,5))\n",
        "plt.grid(which='major', linestyle='-', linewidth='0.5', color='green')\n",
        "plt.title('Performance of Random Forest')\n",
        "plt.ylabel('Price')\n",
        "plt.show()"
      ],
      "metadata": {
        "id": "Opt9YwfkdQ2X"
      },
      "execution_count": null,
      "outputs": []
    },
    {
      "cell_type": "code",
      "source": [
        "car_df.info()"
      ],
      "metadata": {
        "colab": {
          "base_uri": "https://localhost:8080/"
        },
        "id": "-VEEmn56_Of0",
        "outputId": "ec6cd659-98b6-4e12-de95-7acfc0203afa"
      },
      "execution_count": null,
      "outputs": [
        {
          "output_type": "stream",
          "name": "stdout",
          "text": [
            "<class 'pandas.core.frame.DataFrame'>\n",
            "Int64Index: 7906 entries, 0 to 8127\n",
            "Data columns (total 33 columns):\n",
            " #   Column                        Non-Null Count  Dtype  \n",
            "---  ------                        --------------  -----  \n",
            " 0   selling_price                 7906 non-null   int64  \n",
            " 1   km_driven                     7906 non-null   int64  \n",
            " 2   mileage_kmpl                  7906 non-null   float64\n",
            " 3   engine(CC)                    7906 non-null   float64\n",
            " 4   maxpower_bhp                  7906 non-null   float64\n",
            " 5   year_2007                     7906 non-null   uint8  \n",
            " 6   year_2008                     7906 non-null   uint8  \n",
            " 7   year_2009                     7906 non-null   uint8  \n",
            " 8   year_2010                     7906 non-null   uint8  \n",
            " 9   year_2011                     7906 non-null   uint8  \n",
            " 10  year_2012                     7906 non-null   uint8  \n",
            " 11  year_2013                     7906 non-null   uint8  \n",
            " 12  year_2014                     7906 non-null   uint8  \n",
            " 13  year_2015                     7906 non-null   uint8  \n",
            " 14  year_2016                     7906 non-null   uint8  \n",
            " 15  year_2017                     7906 non-null   uint8  \n",
            " 16  year_2018                     7906 non-null   uint8  \n",
            " 17  year_2019                     7906 non-null   uint8  \n",
            " 18  year_Other                    7906 non-null   uint8  \n",
            " 19  fuel_CNG                      7906 non-null   uint8  \n",
            " 20  fuel_Diesel                   7906 non-null   uint8  \n",
            " 21  fuel_LPG                      7906 non-null   uint8  \n",
            " 22  fuel_Petrol                   7906 non-null   uint8  \n",
            " 23  seller_type_Dealer            7906 non-null   uint8  \n",
            " 24  seller_type_Individual        7906 non-null   uint8  \n",
            " 25  seller_type_Trustmark Dealer  7906 non-null   uint8  \n",
            " 26  transmission_Automatic        7906 non-null   uint8  \n",
            " 27  transmission_Manual           7906 non-null   uint8  \n",
            " 28  owner_First Owner             7906 non-null   uint8  \n",
            " 29  owner_Fourth & Above Owner    7906 non-null   uint8  \n",
            " 30  owner_Second Owner            7906 non-null   uint8  \n",
            " 31  owner_Test Drive Car          7906 non-null   uint8  \n",
            " 32  owner_Third Owner             7906 non-null   uint8  \n",
            "dtypes: float64(3), int64(2), uint8(28)\n",
            "memory usage: 586.8 KB\n"
          ]
        }
      ]
    },
    {
      "cell_type": "code",
      "source": [
        "model = Sequential()\n",
        "model.add(Dense(1000, input_shape=(X_train.shape[1],), activation='relu')) # (features,)\n",
        "model.add(Dense(500, activation='relu'))\n",
        "model.add(Dense(250, activation='relu'))\n",
        "model.add(Dense(1, activation='linear')) # output node\n",
        "model.summary() # see what your model looks like\n",
        "\n",
        "# compile the model\n",
        "model.compile(optimizer='rmsprop', loss='mse', metrics=['mae'])\n",
        "\n",
        "# early stopping callback\n",
        "es = EarlyStopping(monitor='val_loss',\n",
        "                   mode='min',\n",
        "                   patience=50,\n",
        "                   restore_best_weights = True)\n",
        "\n",
        "# fit the model!\n",
        "# attach it to a new variable called 'history' in case\n",
        "# to look at the learning curves\n",
        "history = model.fit(X_train, y_train,\n",
        "                    validation_data = (X_test, y_test),\n",
        "                    callbacks=[es],\n",
        "                    epochs=25,\n",
        "                    batch_size=50,\n",
        "                    verbose=1)"
      ],
      "metadata": {
        "colab": {
          "base_uri": "https://localhost:8080/"
        },
        "id": "IOtYPXSg5ETG",
        "outputId": "fd47c06f-dd5c-44aa-ce3d-52a525da949f"
      },
      "execution_count": null,
      "outputs": [
        {
          "output_type": "stream",
          "name": "stdout",
          "text": [
            "Model: \"sequential\"\n",
            "_________________________________________________________________\n",
            " Layer (type)                Output Shape              Param #   \n",
            "=================================================================\n",
            " dense (Dense)               (None, 1000)              33000     \n",
            "                                                                 \n",
            " dense_1 (Dense)             (None, 500)               500500    \n",
            "                                                                 \n",
            " dense_2 (Dense)             (None, 250)               125250    \n",
            "                                                                 \n",
            " dense_3 (Dense)             (None, 1)                 251       \n",
            "                                                                 \n",
            "=================================================================\n",
            "Total params: 659,001\n",
            "Trainable params: 659,001\n",
            "Non-trainable params: 0\n",
            "_________________________________________________________________\n",
            "Epoch 1/25\n",
            "119/119 [==============================] - 3s 15ms/step - loss: 834582872064.0000 - mae: 479181.2188 - val_loss: 702060429312.0000 - val_mae: 423146.4062\n",
            "Epoch 2/25\n",
            "119/119 [==============================] - 2s 13ms/step - loss: 382861180928.0000 - mae: 332886.4688 - val_loss: 385491501056.0000 - val_mae: 325731.6875\n",
            "Epoch 3/25\n",
            "119/119 [==============================] - 2s 13ms/step - loss: 323318644736.0000 - mae: 329884.9375 - val_loss: 345835110400.0000 - val_mae: 321374.8125\n",
            "Epoch 4/25\n",
            "119/119 [==============================] - 2s 13ms/step - loss: 312815288320.0000 - mae: 325814.6875 - val_loss: 650222895104.0000 - val_mae: 649848.0625\n",
            "Epoch 5/25\n",
            "119/119 [==============================] - 2s 13ms/step - loss: 308152958976.0000 - mae: 323948.8750 - val_loss: 352312426496.0000 - val_mae: 314516.7188\n",
            "Epoch 6/25\n",
            "119/119 [==============================] - 2s 14ms/step - loss: 305933189120.0000 - mae: 320177.4688 - val_loss: 324938366976.0000 - val_mae: 331578.6875\n",
            "Epoch 7/25\n",
            "119/119 [==============================] - 2s 13ms/step - loss: 302438285312.0000 - mae: 319427.9062 - val_loss: 317906026496.0000 - val_mae: 319387.3438\n",
            "Epoch 8/25\n",
            "119/119 [==============================] - 2s 13ms/step - loss: 297066430464.0000 - mae: 314517.0625 - val_loss: 323155001344.0000 - val_mae: 306791.9688\n",
            "Epoch 9/25\n",
            "119/119 [==============================] - 2s 13ms/step - loss: 290821046272.0000 - mae: 311234.8438 - val_loss: 315355365376.0000 - val_mae: 338778.4688\n",
            "Epoch 10/25\n",
            "119/119 [==============================] - 2s 13ms/step - loss: 290392047616.0000 - mae: 313672.6250 - val_loss: 329183985664.0000 - val_mae: 298184.0312\n",
            "Epoch 11/25\n",
            "119/119 [==============================] - 2s 13ms/step - loss: 286643224576.0000 - mae: 309755.1562 - val_loss: 296698806272.0000 - val_mae: 316357.9375\n",
            "Epoch 12/25\n",
            "119/119 [==============================] - 1s 12ms/step - loss: 279058251776.0000 - mae: 307825.9062 - val_loss: 288622903296.0000 - val_mae: 313687.9062\n",
            "Epoch 13/25\n",
            "119/119 [==============================] - 2s 13ms/step - loss: 270528692224.0000 - mae: 302209.7500 - val_loss: 279135518720.0000 - val_mae: 308571.0625\n",
            "Epoch 14/25\n",
            "119/119 [==============================] - 2s 13ms/step - loss: 267792596992.0000 - mae: 302522.0000 - val_loss: 289693827072.0000 - val_mae: 285962.5000\n",
            "Epoch 15/25\n",
            "119/119 [==============================] - 2s 13ms/step - loss: 264830550016.0000 - mae: 300630.0938 - val_loss: 269976207360.0000 - val_mae: 337525.4062\n",
            "Epoch 16/25\n",
            "119/119 [==============================] - 1s 12ms/step - loss: 248424546304.0000 - mae: 296466.4062 - val_loss: 263257882624.0000 - val_mae: 274448.6250\n",
            "Epoch 17/25\n",
            "119/119 [==============================] - 1s 13ms/step - loss: 243892781056.0000 - mae: 293213.2500 - val_loss: 238096400384.0000 - val_mae: 325527.4062\n",
            "Epoch 18/25\n",
            "119/119 [==============================] - 2s 13ms/step - loss: 229564809216.0000 - mae: 288282.3750 - val_loss: 202105962496.0000 - val_mae: 272796.0938\n",
            "Epoch 19/25\n",
            "119/119 [==============================] - 1s 12ms/step - loss: 216598839296.0000 - mae: 279623.0625 - val_loss: 219072905216.0000 - val_mae: 283501.7188\n",
            "Epoch 20/25\n",
            "119/119 [==============================] - 2s 13ms/step - loss: 206531919872.0000 - mae: 274651.8438 - val_loss: 179407077376.0000 - val_mae: 249983.0781\n",
            "Epoch 21/25\n",
            "119/119 [==============================] - 2s 13ms/step - loss: 192237289472.0000 - mae: 265122.5938 - val_loss: 167584186368.0000 - val_mae: 254169.3438\n",
            "Epoch 22/25\n",
            "119/119 [==============================] - 2s 13ms/step - loss: 188746792960.0000 - mae: 262548.7188 - val_loss: 174095548416.0000 - val_mae: 240475.6250\n",
            "Epoch 23/25\n",
            "119/119 [==============================] - 2s 13ms/step - loss: 171089051648.0000 - mae: 252736.0156 - val_loss: 139803033600.0000 - val_mae: 245893.5156\n",
            "Epoch 24/25\n",
            "119/119 [==============================] - 2s 13ms/step - loss: 170453172224.0000 - mae: 249736.2188 - val_loss: 150532554752.0000 - val_mae: 220713.6562\n",
            "Epoch 25/25\n",
            "119/119 [==============================] - 2s 13ms/step - loss: 166334709760.0000 - mae: 245760.8281 - val_loss: 149658189824.0000 - val_mae: 225198.6250\n"
          ]
        }
      ]
    },
    {
      "cell_type": "code",
      "source": [
        "# let's see the training and validation accuracy by epoch\n",
        "history_dict = history.history\n",
        "loss_values = history_dict['loss'] # you can change this\n",
        "val_loss_values = history_dict['val_loss'] # you can also change this\n",
        "epochs = range(1, len(loss_values) + 1) # range of X (no. of epochs)\n",
        "plt.plot(epochs, loss_values, 'bo', label='Training loss')\n",
        "plt.plot(epochs, val_loss_values, 'orange', label='Validation loss')\n",
        "plt.title('Training and validation loss')\n",
        "plt.xlabel('Epochs')\n",
        "plt.ylabel('Loss')\n",
        "plt.legend()\n",
        "plt.show()"
      ],
      "metadata": {
        "colab": {
          "base_uri": "https://localhost:8080/",
          "height": 295
        },
        "id": "OkTikV4V50tK",
        "outputId": "704abe62-9cc3-45fb-b54a-ec31e42533be"
      },
      "execution_count": null,
      "outputs": [
        {
          "output_type": "display_data",
          "data": {
            "text/plain": [
              "<Figure size 432x288 with 1 Axes>"
            ],
            "image/png": "[encoded data removed]"
          },
          "metadata": {
            "needs_background": "light"
          }
        }
      ]
    },
    {
      "cell_type": "code",
      "source": [
        "# scatterplot of actual vs. pred\n",
        "# specify the dimensions \n",
        "fig, axes = plt.subplots(1,2) # 1 row, 2 columns\n",
        "\n",
        "# this makes the individual subplots\n",
        "# Training Results\n",
        "axes[0].scatter(x=y_train, y=model.predict(X_train)) #first row, first entry (left top)\n",
        "axes[0].set_xlabel(\"Actual\", fontsize=10)\n",
        "axes[0].set_ylabel(\"Predicted\",  fontsize=10)\n",
        "axes[0].set_title(\"Training\")\n",
        "# add 45 deg line\n",
        "x = np.linspace(*axes[0].get_xlim())\n",
        "axes[0].plot(x, x, color='red')\n",
        "# Validation Results\n",
        "axes[1].scatter(x=y_test, y=model.predict(X_test)) # first row, second entry (right top)\n",
        "axes[1].set_xlabel(\"Actual\", fontsize=10)\n",
        "axes[1].set_ylabel(\"Predicted\",  fontsize=10)\n",
        "axes[1].set_title(\"Validation\")\n",
        "# add 45 deg line\n",
        "x = np.linspace(*axes[1].get_xlim())\n",
        "axes[1].plot(x, x, color='red')\n",
        "\n",
        "# tight layout\n",
        "fig.tight_layout()\n",
        "\n",
        "# show the plot\n",
        "plt.show()"
      ],
      "metadata": {
        "colab": {
          "base_uri": "https://localhost:8080/",
          "height": 332
        },
        "id": "I_-jNtLK562Q",
        "outputId": "99a15296-8dbe-4fb6-a7ef-c733ff3d22df"
      },
      "execution_count": null,
      "outputs": [
        {
          "output_type": "stream",
          "name": "stdout",
          "text": [
            "186/186 [==============================] - 1s 3ms/step\n",
            "62/62 [==============================] - 0s 3ms/step\n"
          ]
        },
        {
          "output_type": "display_data",
          "data": {
            "text/plain": [
              "<Figure size 432x288 with 2 Axes>"
            ],
            "image/png": "[encoded data removed]"
          },
          "metadata": {
            "needs_background": "light"
          }
        }
      ]
    },
    {
      "cell_type": "code",
      "source": [
        "\n",
        "# metrics\n",
        "pred = model.predict(X_test)\n",
        "pred\n",
        "\n",
        "trainpreds = model.predict(X_train)\n",
        "\n",
        "print(mean_absolute_error(y_train, trainpreds)) # train\n",
        "print(mean_absolute_error(y_test, pred)) # test"
      ],
      "metadata": {
        "colab": {
          "base_uri": "https://localhost:8080/"
        },
        "id": "obwyvQIZ6OAY",
        "outputId": "55168b9d-1c4b-4bf7-b89a-081b5152219a"
      },
      "execution_count": null,
      "outputs": [
        {
          "output_type": "stream",
          "name": "stdout",
          "text": [
            "62/62 [==============================] - 0s 3ms/step\n",
            "186/186 [==============================] - 1s 3ms/step\n",
            "221390.21600659893\n",
            "225198.64172357105\n"
          ]
        }
      ]
    },
    {
      "cell_type": "code",
      "source": [
        "\n",
        "\n",
        "# Insert the dropout layer\n",
        "model = Sequential()\n",
        "model.add(Dense(1000, input_shape=(X_train.shape[1],), activation='relu')) # (features,)\n",
        "model.add(Dropout(0.5)) # specify a percentage between 0 and 0.5, or larger\n",
        "model.add(Dense(500, activation='relu'))\n",
        "model.add(Dropout(0.5)) # specify a percentage between 0 and 0.5, or larger\n",
        "model.add(Dense(250, activation='relu'))\n",
        "model.add(Dropout(0.5)) # specify a percentage between 0 and 0.5, or larger\n",
        "model.add(Dense(1, activation='linear')) # output node\n",
        "model.summary() # see what your model looks like"
      ],
      "metadata": {
        "colab": {
          "base_uri": "https://localhost:8080/"
        },
        "id": "wzvmojgc6Uog",
        "outputId": "86872331-c994-4421-e6a3-3d7a0e14f1ad"
      },
      "execution_count": null,
      "outputs": [
        {
          "output_type": "stream",
          "name": "stdout",
          "text": [
            "Model: \"sequential_1\"\n",
            "_________________________________________________________________\n",
            " Layer (type)                Output Shape              Param #   \n",
            "=================================================================\n",
            " dense_4 (Dense)             (None, 1000)              33000     \n",
            "                                                                 \n",
            " dropout (Dropout)           (None, 1000)              0         \n",
            "                                                                 \n",
            " dense_5 (Dense)             (None, 500)               500500    \n",
            "                                                                 \n",
            " dropout_1 (Dropout)         (None, 500)               0         \n",
            "                                                                 \n",
            " dense_6 (Dense)             (None, 250)               125250    \n",
            "                                                                 \n",
            " dropout_2 (Dropout)         (None, 250)               0         \n",
            "                                                                 \n",
            " dense_7 (Dense)             (None, 1)                 251       \n",
            "                                                                 \n",
            "=================================================================\n",
            "Total params: 659,001\n",
            "Trainable params: 659,001\n",
            "Non-trainable params: 0\n",
            "_________________________________________________________________\n"
          ]
        }
      ]
    },
    {
      "cell_type": "code",
      "source": [
        "# Test five seems to be the most accurate so far - it would seem that with our model the more information we give it the better it is at predicting the selling price."
      ],
      "metadata": {
        "id": "R1CNtIFzIw4_"
      },
      "execution_count": null,
      "outputs": []
    }
  ],
  "metadata": {
    "colab": {
      "provenance": [],
      "include_colab_link": true
    },
    "kernelspec": {
      "display_name": "Python 3",
      "language": "python",
      "name": "python3"
    },
    "language_info": {
      "codemirror_mode": {
        "name": "ipython",
        "version": 3
      },
      "file_extension": ".py",
      "mimetype": "text/x-python",
      "name": "python",
      "nbconvert_exporter": "python",
      "pygments_lexer": "ipython3",
      "version": "3.10.4"
    },
    "vscode": {
      "interpreter": {
        "hash": "3ad933181bd8a04b432d3370b9dc3b0662ad032c4dfaa4e4f1596c548f763858"
      }
    }
  },
  "nbformat": 4,
  "nbformat_minor": 0
}